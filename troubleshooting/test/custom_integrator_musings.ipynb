{
 "cells": [
  {
   "cell_type": "markdown",
   "metadata": {},
   "source": [
    "## Here, I attempt to make an `openmm.CustomIntegrator` whilst respecting much of the `openmmtools.integrators` codebase."
   ]
  },
  {
   "cell_type": "code",
   "execution_count": 1,
   "metadata": {},
   "outputs": [
    {
     "name": "stderr",
     "output_type": "stream",
     "text": [
      "RDKit WARNING: [00:08:16] Enabling RDKit 2019.09.3 jupyter extensions\n"
     ]
    },
    {
     "name": "stdout",
     "output_type": "stream",
     "text": [
      "conducting subsequent work with the following platform: CPU\n",
      "conducting subsequent work with the following platform: CPU\n"
     ]
    }
   ],
   "source": [
    "from openmmtools import testsystems\n",
    "from openmmtools.alchemy import AbsoluteAlchemicalFactory, AlchemicalRegion\n",
    "\n",
    "from coddiwomple.openmm.propagators import *\n",
    "from coddiwomple.openmm.reporters import *\n",
    "from coddiwomple.openmm.utils import *\n",
    "from coddiwomple.openmm.states import *\n",
    "\n",
    "from simtk import unit\n",
    "import copy\n",
    "import numpy as np\n",
    "# from openmmtools.states import *\n",
    "# from openmmtools.alchemy import AlchemicalState\n",
    "# from openmmtools.integrators import *\n"
   ]
  },
  {
   "cell_type": "code",
   "execution_count": 2,
   "metadata": {},
   "outputs": [
    {
     "name": "stderr",
     "output_type": "stream",
     "text": [
      "DEBUG:openmm_propagators:initializing OpenMMIAAISLangevinIntegrator...\n",
      "DEBUG:openmm_propagators:OpenMMIAAISLangevinIntegrator: metropolization is False\n",
      "DEBUG:openmm_propagators:OpenMMIAAISLangevinIntegrator: measure_proposal_work is False\n",
      "DEBUG:openmm_propagators:OpenMMIAAISLangevinIntegrator: measure_shadow_work is False\n",
      "DEBUG:openmm_propagators:OpenMMIAAISLangevinIntegrator: successfully parsed splitting string\n",
      "DEBUG:openmm_propagators:OpenMMIAAISLangevinIntegrator: adding global variables...\n",
      "DEBUG:openmm_propagators:OpenMMIAAISLangevinIntegrator: adding integrator steps...\n",
      "DEBUG:openmm_propagators:OpenMMIAAISLangevinIntegrator: adding substep functions...\n"
     ]
    }
   ],
   "source": [
    "custom_functions = {'lambda_sterics': f\"fractional_iteration\",\n",
    "                    'lambda_electrostatics': f\"step(fractional_iteration - 0.5) * (fractional_iteration - 0.5) * 2.0\"}\n",
    "new_integrator = OpenMMIAAISLangevinIntegrator(custom_functions, 100)\n"
   ]
  },
  {
   "cell_type": "code",
   "execution_count": 3,
   "metadata": {},
   "outputs": [
    {
     "name": "stderr",
     "output_type": "stream",
     "text": [
      "DEBUG:openmmtools.alchemy:Dictionary of interacting alchemical regions: frozenset()\n",
      "DEBUG:openmmtools.alchemy:Using 1 alchemical regions\n",
      "DEBUG:openmmtools.alchemy:Adding steric interaction groups between  and the environment.\n",
      "DEBUG:openmmtools.alchemy:Adding a steric interaction group between group  and .\n",
      "DEBUG:openmmtools.alchemy:Adding electrostatic interaction groups between  and the environment.\n",
      "DEBUG:openmmtools.alchemy:Adding a electrostatic interaction group between group  and .\n",
      "DEBUG:openmmtools.utils:Create alchemically modified system took    0.043s\n"
     ]
    }
   ],
   "source": [
    "ala_vac_sys = testsystems.AlanineDipeptideVacuum().system\n",
    "factory = AbsoluteAlchemicalFactory(consistent_exceptions = False)\n",
    "alchemical_region = AlchemicalRegion(alchemical_atoms=range(22))\n",
    "alanine_alchemical_system = factory.create_alchemical_system(reference_system=ala_vac_sys,\n",
    "                                                            alchemical_regions = alchemical_region)"
   ]
  },
  {
   "cell_type": "code",
   "execution_count": 4,
   "metadata": {},
   "outputs": [
    {
     "name": "stderr",
     "output_type": "stream",
     "text": [
      "DEBUG:openmm_states:successfully instantiated OpenMMPDFState equipped with the following parameters: {'lambda_torsions': None, 'lambda_electrostatics': 1.0, 'lambda_angles': None, 'lambda_sterics': 1.0, 'lambda_bonds': None}\n",
      "DEBUG:openmm_propagators:successfully executed ABCMeta init.\n",
      "DEBUG:openmm_propagators:successfully equipped integrator: OpenMMIAAISLangevinIntegrator\n",
      "DEBUG:openmm_propagators:integrator printable: None\n"
     ]
    },
    {
     "name": "stdout",
     "output_type": "stream",
     "text": [
      "step      0 : allow forces to update the context state\n",
      "step      1 : if(has_kT_changed = 1):\n",
      "step      2 :    sigma <- sqrt(kT/m)\n",
      "step      3 :    has_kT_changed <- 0\n",
      "step      4 : end\n",
      "step      5 : Uold <- energy\n",
      "step      6 : iteration <- iteration + 1.0\n",
      "step      7 : fractional_iteration <- iteration / niterations\n",
      "step      8 : lambda_sterics <- fractional_iteration\n",
      "step      9 : lambda_electrostatics <- step(fractional_iteration - 0.5) * (fractional_iteration - 0.5) * 2.0\n",
      "step     10 : Unew <- energy\n",
      "step     11 : state_work <- state_work + (Unew - Uold)\n",
      "step     12 : v <- v + (dt / 2) * f / m\n",
      "step     13 : constrain velocities\n",
      "step     14 : x <- x + ((dt / 2) * v)\n",
      "step     15 : x1 <- x\n",
      "step     16 : constrain positions\n",
      "step     17 : v <- v + ((x - x1) / (dt / 2))\n",
      "step     18 : constrain velocities\n",
      "step     19 : v <- (a * v) + (b * sigma * gaussian)\n",
      "step     20 : constrain velocities\n",
      "step     21 : x <- x + ((dt / 2) * v)\n",
      "step     22 : x1 <- x\n",
      "step     23 : constrain positions\n",
      "step     24 : v <- v + ((x - x1) / (dt / 2))\n",
      "step     25 : constrain velocities\n",
      "step     26 : v <- v + (dt / 2) * f / m\n",
      "step     27 : constrain velocities\n"
     ]
    }
   ],
   "source": [
    "pdf_state = OpenMMPDFState(system = alanine_alchemical_system, pressure = None)\n",
    "propagator = OpenMMBaseIntegrationPropagator(openmm_pdf_state = pdf_state, integrator = new_integrator)\n"
   ]
  },
  {
   "cell_type": "code",
   "execution_count": 5,
   "metadata": {},
   "outputs": [],
   "source": [
    "sampler_state = OpenMMParticleState(testsystems.AlanineDipeptideVacuum().positions)\n"
   ]
  },
  {
   "cell_type": "code",
   "execution_count": 6,
   "metadata": {},
   "outputs": [
    {
     "name": "stdout",
     "output_type": "stream",
     "text": [
      "lambda_electrostatics 1.0\n",
      "lambda_sterics 1.0\n",
      "softcore_a 1.0\n",
      "softcore_alpha 0.5\n",
      "softcore_b 1.0\n",
      "softcore_beta 0.0\n",
      "softcore_c 6.0\n",
      "softcore_d 1.0\n",
      "softcore_e 1.0\n",
      "softcore_f 2.0\n",
      "_restorable__class_hash 2600602343.0\n",
      "kT 2.4943417413660645\n",
      "a 0.999000499833375\n",
      "b 0.044699008184376096\n",
      "proposal_work 0.0\n",
      "old_ke 0.0\n",
      "new_ke 0.0\n",
      "state_work 0.0\n",
      "Uold 0.0\n",
      "Unew 0.0\n",
      "niterations 100.0\n",
      "iteration 0.0\n",
      "fractional_iteration 0.0\n",
      "has_kT_changed 1.0\n"
     ]
    }
   ],
   "source": [
    "params = propagator.context.getParameters()\n",
    "for q in params:\n",
    "    print(q, params[q])\n",
    "    \n",
    "global_vars = propagator.integrator.getNumGlobalVariables()\n",
    "for i in range(global_vars):\n",
    "    print(propagator.integrator.getGlobalVariableName(i), propagator.integrator.getGlobalVariable(i))"
   ]
  },
  {
   "cell_type": "code",
   "execution_count": 7,
   "metadata": {},
   "outputs": [
    {
     "data": {
      "text/plain": [
       "(<coddiwomple.openmm.states.OpenMMParticleState at 0x7fb624f3f240>,\n",
       " (0.0, -0.635376073054278))"
      ]
     },
     "execution_count": 7,
     "metadata": {},
     "output_type": "execute_result"
    }
   ],
   "source": [
    "propagator.apply(sampler_state, n_steps = 100)"
   ]
  },
  {
   "cell_type": "code",
   "execution_count": 8,
   "metadata": {},
   "outputs": [
    {
     "name": "stdout",
     "output_type": "stream",
     "text": [
      "lambda_electrostatics 1.0\n",
      "lambda_sterics 1.0\n",
      "softcore_a 1.0\n",
      "softcore_alpha 0.5\n",
      "softcore_b 1.0\n",
      "softcore_beta 0.0\n",
      "softcore_c 6.0\n",
      "softcore_d 1.0\n",
      "softcore_e 1.0\n",
      "softcore_f 2.0\n",
      "_restorable__class_hash 2600602343.0\n",
      "kT 2.4943417413660645\n",
      "a 0.999000499833375\n",
      "b 0.044699008184376096\n",
      "proposal_work 0.0\n",
      "old_ke 0.0\n",
      "new_ke 0.0\n",
      "state_work -1.5848450604845397\n",
      "Uold -107.047257063261\n",
      "Unew -109.72281025561891\n",
      "niterations 100.0\n",
      "iteration 100.0\n",
      "fractional_iteration 1.0\n",
      "has_kT_changed 0.0\n"
     ]
    }
   ],
   "source": [
    "params = propagator.context.getParameters()\n",
    "for q in params:\n",
    "    print(q, params[q])\n",
    "    \n",
    "global_vars = propagator.integrator.getNumGlobalVariables()\n",
    "for i in range(global_vars):\n",
    "    print(propagator.integrator.getGlobalVariableName(i), propagator.integrator.getGlobalVariable(i))"
   ]
  },
  {
   "cell_type": "code",
   "execution_count": 9,
   "metadata": {},
   "outputs": [
    {
     "data": {
      "text/plain": [
       "(<coddiwomple.openmm.states.OpenMMParticleState at 0x7fb624f3f240>,\n",
       " (0.0, -111.89431140650005))"
      ]
     },
     "execution_count": 9,
     "metadata": {},
     "output_type": "execute_result"
    }
   ],
   "source": [
    "propagator.apply(sampler_state, n_steps = 99)"
   ]
  },
  {
   "cell_type": "code",
   "execution_count": 10,
   "metadata": {},
   "outputs": [
    {
     "name": "stdout",
     "output_type": "stream",
     "text": [
      "lambda_electrostatics 2.98\n",
      "lambda_sterics 1.99\n",
      "softcore_a 1.0\n",
      "softcore_alpha 0.5\n",
      "softcore_b 1.0\n",
      "softcore_beta 0.0\n",
      "softcore_c 6.0\n",
      "softcore_d 1.0\n",
      "softcore_e 1.0\n",
      "softcore_f 2.0\n",
      "_restorable__class_hash 2600602343.0\n",
      "kT 2.4943417413660645\n",
      "a 0.999000499833375\n",
      "b 0.044699008184376096\n",
      "proposal_work 0.0\n",
      "old_ke 0.0\n",
      "new_ke 0.0\n",
      "state_work -279.10265156264603\n",
      "Uold -372.00378751352633\n",
      "Unew -374.87358317936906\n",
      "niterations 100.0\n",
      "iteration 199.0\n",
      "fractional_iteration 1.99\n",
      "has_kT_changed 0.0\n"
     ]
    }
   ],
   "source": [
    "params = propagator.context.getParameters()\n",
    "for q in params:\n",
    "    print(q, params[q])\n",
    "    \n",
    "global_vars = propagator.integrator.getNumGlobalVariables()\n",
    "for i in range(global_vars):\n",
    "    print(propagator.integrator.getGlobalVariableName(i), propagator.integrator.getGlobalVariable(i))"
   ]
  },
  {
   "cell_type": "code",
   "execution_count": null,
   "metadata": {},
   "outputs": [],
   "source": [
    "print(integrator.global_variable_names)\n",
    "print(integrator.getTemperature())\n",
    "print(integrator.kT)\n",
    "q = context.getParameters()\n",
    "for x in q:\n",
    "    print(x, q[x])\n",
    "\n"
   ]
  },
  {
   "cell_type": "code",
   "execution_count": null,
   "metadata": {},
   "outputs": [],
   "source": [
    "#build a target/proposal factory\n",
    "propagator = OpenMMLangevinDynamicsSplittingMove(n_steps = 1)\n",
    "elecs = np.append(np.linspace(1.0, 0.0, 50), np.zeros(50))\n",
    "sterics = np.linspace(1.0, 0.0, 100)\n",
    "parameter_sequence = [{'lambda_electrostatics': i, 'lambda_sterics': j} for i,j in zip(elecs, sterics)]\n",
    "proposal_factory = OpenMMProposalFactory(proposal_pdf_state, parameter_sequence, propagator)"
   ]
  },
  {
   "cell_type": "code",
   "execution_count": null,
   "metadata": {},
   "outputs": [],
   "source": [
    "propagator.pretty_print()"
   ]
  },
  {
   "cell_type": "code",
   "execution_count": null,
   "metadata": {},
   "outputs": [],
   "source": []
  }
 ],
 "metadata": {
  "kernelspec": {
   "display_name": "Python 3",
   "language": "python",
   "name": "python3"
  },
  "language_info": {
   "codemirror_mode": {
    "name": "ipython",
    "version": 3
   },
   "file_extension": ".py",
   "mimetype": "text/x-python",
   "name": "python",
   "nbconvert_exporter": "python",
   "pygments_lexer": "ipython3",
   "version": "3.6.7"
  }
 },
 "nbformat": 4,
 "nbformat_minor": 4
}
