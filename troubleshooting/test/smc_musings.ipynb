{
 "cells": [
  {
   "cell_type": "markdown",
   "metadata": {},
   "source": [
    "# Some Sequential Monte Carlo musings for molecular mechanics"
   ]
  },
  {
   "cell_type": "markdown",
   "metadata": {},
   "source": [
    "This notebook is a compilation of notes that I am assembling...<br>\n",
    "In this first pass, I am going to omit the motivation for SMC and delve right into the mathematical underpinnings of the methodology and how it applies to molecular mechanics; specifically, I will start with Importance Sampling and proceed with a sequential approach of the method\n"
   ]
  },
  {
   "cell_type": "markdown",
   "metadata": {},
   "source": [
    "## Importance Sampling (IS) and Sequential Importance Sampling (SIS)\n",
    "We use IS to construct approximations on posterior distributions from a prior distribution.<br>\n",
    "Generally, we want to compute the expectation of some function, say $h_t$ on a target distribution $\\gamma_t$,\n",
    "\n",
    "\\begin{equation*}\n",
    "\\gamma_t(h_t) \\equiv \\mathbb{E}_{\\gamma_t}\\left[ {h_t(x_{1:t})} \\right]\n",
    "\\label{one} \\tag{1}\n",
    "\\end{equation*}\n",
    "\n",
    "Equation $\\eqref{one}$ can be rewritten in a Monte Carlo-friendly way with the common trick,\n",
    "\n",
    "\\begin{equation*}\n",
    "\\mathbb{E}_{\\gamma_t}\\left[ {h_t(x_{1:t})} \\right] = \\frac{1}{\\mathbb{Z}_t} \\mathbb{E}_{\\gamma_t}\\left[ \\frac{\\widetilde{\\gamma}_t(x_{1:t})}{q_t(x_{1:t})} h_t(x_{1:t}) \\right]\n",
    "\\label{two} \\tag{2}\n",
    "\\end{equation*}\n",
    "\n",
    "where \n",
    "\n",
    "\\begin{equation*}\n",
    "\\mathbb{Z}_t  = \\mathbb{E}_{\\gamma_t}\\left[ \\frac{\\widetilde{\\gamma}_t(x_{1:t})}{q_t(x_{1:t})} \\right]\n",
    "\\label{three} \\tag{3}\n",
    "\\end{equation*}\n",
    "\n",
    "and $q_t$ is a user-defined proposal distribution.\n",
    "\n",
    "\n"
   ]
  },
  {
   "cell_type": "markdown",
   "metadata": {},
   "source": []
  },
  {
   "cell_type": "code",
   "execution_count": null,
   "metadata": {},
   "outputs": [],
   "source": []
  },
  {
   "cell_type": "code",
   "execution_count": null,
   "metadata": {},
   "outputs": [],
   "source": []
  }
 ],
 "metadata": {
  "kernelspec": {
   "display_name": "Python 3",
   "language": "python",
   "name": "python3"
  },
  "language_info": {
   "codemirror_mode": {
    "name": "ipython",
    "version": 3
   },
   "file_extension": ".py",
   "mimetype": "text/x-python",
   "name": "python",
   "nbconvert_exporter": "python",
   "pygments_lexer": "ipython3",
   "version": "3.6.7"
  }
 },
 "nbformat": 4,
 "nbformat_minor": 4
}
