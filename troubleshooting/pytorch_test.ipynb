{
 "cells": [
  {
   "cell_type": "markdown",
   "metadata": {},
   "source": [
    "# My first introduction to pytorch\n"
   ]
  },
  {
   "cell_type": "markdown",
   "metadata": {},
   "source": [
    "i am starting with 'what is torch.nn really?' (see [here](https://pytorch.org/tutorials/beginner/nn_tutorial.html)) since it is the most concise example code that i can find."
   ]
  },
  {
   "cell_type": "code",
   "execution_count": 7,
   "metadata": {},
   "outputs": [],
   "source": [
    "%matplotlib inline\n",
    "\n",
    "import matplotlib\n",
    "import numpy as np\n",
    "import matplotlib.pyplot as plt\n",
    "import seaborn as sns"
   ]
  },
  {
   "cell_type": "markdown",
   "metadata": {},
   "source": [
    "## MNIST data setup"
   ]
  },
  {
   "cell_type": "code",
   "execution_count": 8,
   "metadata": {},
   "outputs": [],
   "source": [
    "#this is just creating a data folder for the MNIST dataset\n",
    "from pathlib import Path\n",
    "import requests\n",
    "\n",
    "DATA_PATH = Path(\"data\")\n",
    "PATH = DATA_PATH / \"mnist\"\n",
    "\n",
    "PATH.mkdir(parents=True, exist_ok=True)\n",
    "\n",
    "URL = \"http://deeplearning.net/data/mnist/\"\n",
    "FILENAME = \"mnist.pkl.gz\"\n",
    "\n",
    "if not (PATH / FILENAME).exists():\n",
    "        content = requests.get(URL + FILENAME).content\n",
    "        (PATH / FILENAME).open(\"wb\").write(content)\n"
   ]
  },
  {
   "cell_type": "markdown",
   "metadata": {},
   "source": [
    "let's open the appropriate gzip file in numpy array format (which is stored as a pickle)"
   ]
  },
  {
   "cell_type": "code",
   "execution_count": 9,
   "metadata": {},
   "outputs": [],
   "source": [
    "import pickle, gzip\n",
    "with gzip.open((PATH / FILENAME).as_posix(), \"rb\") as f:\n",
    "        ((x_train, y_train), (x_valid, y_valid), _) = pickle.load(f, encoding=\"latin-1\")"
   ]
  },
  {
   "cell_type": "code",
   "execution_count": 10,
   "metadata": {},
   "outputs": [
    {
     "name": "stdout",
     "output_type": "stream",
     "text": [
      "(50000, 784) (50000,)\n",
      "(10000, 784) (10000,)\n"
     ]
    }
   ],
   "source": [
    "print(x_train.shape, y_train.shape)\n",
    "print(x_valid.shape, y_valid.shape)"
   ]
  },
  {
   "cell_type": "markdown",
   "metadata": {},
   "source": [
    "so training data has 50000 28x28 images (stored as a flattened row) whereas validation has 10000 images. let's plot one of the images"
   ]
  },
  {
   "cell_type": "code",
   "execution_count": 11,
   "metadata": {},
   "outputs": [
    {
     "data": {
      "text/plain": [
       "<matplotlib.image.AxesImage at 0x7f8ab0ad8160>"
      ]
     },
     "execution_count": 11,
     "metadata": {},
     "output_type": "execute_result"
    },
    {
     "data": {
      "image/png": "[encoded data removed]",
      "text/plain": [
       "<Figure size 432x288 with 1 Axes>"
      ]
     },
     "metadata": {
      "needs_background": "light"
     },
     "output_type": "display_data"
    }
   ],
   "source": [
    "from matplotlib import pyplot\n",
    "import numpy as np\n",
    "\n",
    "pyplot.imshow(x_train[0].reshape((28, 28)), cmap='gray')"
   ]
  },
  {
   "cell_type": "markdown",
   "metadata": {},
   "source": [
    "convert to torch tensors..."
   ]
  },
  {
   "cell_type": "code",
   "execution_count": 12,
   "metadata": {},
   "outputs": [
    {
     "name": "stdout",
     "output_type": "stream",
     "text": [
      "tensor([[0., 0., 0.,  ..., 0., 0., 0.],\n",
      "        [0., 0., 0.,  ..., 0., 0., 0.],\n",
      "        [0., 0., 0.,  ..., 0., 0., 0.],\n",
      "        ...,\n",
      "        [0., 0., 0.,  ..., 0., 0., 0.],\n",
      "        [0., 0., 0.,  ..., 0., 0., 0.],\n",
      "        [0., 0., 0.,  ..., 0., 0., 0.]]) tensor([5, 0, 4,  ..., 8, 4, 8])\n",
      "torch.Size([50000, 784])\n",
      "tensor(0) tensor(9)\n"
     ]
    }
   ],
   "source": [
    "import torch\n",
    "\n",
    "x_train, y_train, x_valid, y_valid = map(\n",
    "    torch.tensor, (x_train, y_train, x_valid, y_valid)\n",
    ")\n",
    "n, c = x_train.shape\n",
    "x_train, x_train.shape, y_train.min(), y_train.max()\n",
    "print(x_train, y_train)\n",
    "print(x_train.shape)\n",
    "print(y_train.min(), y_train.max())"
   ]
  },
  {
   "cell_type": "code",
   "execution_count": 13,
   "metadata": {},
   "outputs": [
    {
     "data": {
      "text/plain": [
       "(50000, 784)"
      ]
     },
     "execution_count": 13,
     "metadata": {},
     "output_type": "execute_result"
    }
   ],
   "source": [
    "n, c"
   ]
  },
  {
   "cell_type": "markdown",
   "metadata": {},
   "source": [
    "ok so these data are pretty readable"
   ]
  },
  {
   "cell_type": "markdown",
   "metadata": {},
   "source": [
    "## Neural Network from scratch (no torch.nn)"
   ]
  },
  {
   "cell_type": "code",
   "execution_count": 14,
   "metadata": {},
   "outputs": [],
   "source": [
    "import math\n",
    "weights = torch.randn(784, 10) / math.sqrt(784) #normalizing a randomly initialized weight matrix\n",
    "weights.requires_grad_(True) #then making it gradable\n",
    "bias = torch.zeros(10, requires_grad=True) #making a linear bias term of zeros that is linear gradable"
   ]
  },
  {
   "cell_type": "code",
   "execution_count": 15,
   "metadata": {},
   "outputs": [],
   "source": [
    "def log_softmax(x): #take the exponential probability\n",
    "    return x - x.exp().sum(-1).log().unsqueeze(-1)\n",
    "\n",
    "def model(xb): #weird @ terma makes the batch train broadcast weights...\n",
    "    return log_softmax(xb @ weights + bias)"
   ]
  },
  {
   "cell_type": "code",
   "execution_count": 16,
   "metadata": {},
   "outputs": [
    {
     "data": {
      "text/plain": [
       "(tensor([-2.0556, -2.1799, -2.0864, -2.9918, -2.5170, -2.7939, -1.9698, -2.3290,\n",
       "         -2.6780, -1.9868], grad_fn=<SelectBackward>),\n",
       " torch.Size([64, 10]))"
      ]
     },
     "execution_count": 16,
     "metadata": {},
     "output_type": "execute_result"
    }
   ],
   "source": [
    "bs = 64\n",
    "xb = x_train[0:bs]\n",
    "preds = model(xb)\n",
    "preds[0], preds.shape"
   ]
  },
  {
   "cell_type": "code",
   "execution_count": 17,
   "metadata": {},
   "outputs": [],
   "source": [
    "def nll(input, target): #just take the input array \n",
    "    return -input[range(target.shape[0]), target].mean()"
   ]
  },
  {
   "cell_type": "code",
   "execution_count": 18,
   "metadata": {},
   "outputs": [],
   "source": [
    "loss_func = nll"
   ]
  },
  {
   "cell_type": "code",
   "execution_count": 19,
   "metadata": {},
   "outputs": [
    {
     "data": {
      "text/plain": [
       "tensor(2.3525, grad_fn=<NegBackward>)"
      ]
     },
     "execution_count": 19,
     "metadata": {},
     "output_type": "execute_result"
    }
   ],
   "source": [
    "yb = y_train[0:bs]\n",
    "loss_func(preds, yb)"
   ]
  },
  {
   "cell_type": "code",
   "execution_count": 20,
   "metadata": {},
   "outputs": [],
   "source": [
    "def accuracy(out, yb):\n",
    "    preds = torch.argmax(out, dim=1)\n",
    "    return (preds == yb).float().mean()"
   ]
  },
  {
   "cell_type": "code",
   "execution_count": 21,
   "metadata": {},
   "outputs": [
    {
     "name": "stdout",
     "output_type": "stream",
     "text": [
      "tensor(0.0781)\n"
     ]
    }
   ],
   "source": [
    "print(accuracy(preds, yb))"
   ]
  },
  {
   "cell_type": "markdown",
   "metadata": {},
   "source": [
    "that is quite shit. let's \n",
    "- select a mini-batch of data (of size bs)\n",
    "- use the model to make a prediction\n",
    "- calculate the loss\n",
    "- `loss.backward()` call to update the model gradient"
   ]
  },
  {
   "cell_type": "code",
   "execution_count": 22,
   "metadata": {},
   "outputs": [],
   "source": [
    "from IPython.core.debugger import set_trace\n",
    "\n",
    "lr = 0.5  # learning rate\n",
    "epochs = 2  # how many epochs to train for\n",
    "\n",
    "for epoch in range(epochs):\n",
    "    for i in range((n - 1) // bs + 1):\n",
    "        #         set_trace()\n",
    "        start_i = i * bs\n",
    "        end_i = start_i + bs\n",
    "        xb = x_train[start_i:end_i]\n",
    "        yb = y_train[start_i:end_i]\n",
    "        pred = model(xb)\n",
    "        loss = loss_func(pred, yb)\n",
    "\n",
    "        loss.backward()\n",
    "        with torch.no_grad():\n",
    "            weights -= weights.grad * lr\n",
    "            bias -= bias.grad * lr\n",
    "            weights.grad.zero_()\n",
    "            bias.grad.zero_()"
   ]
  },
  {
   "cell_type": "code",
   "execution_count": 23,
   "metadata": {},
   "outputs": [
    {
     "name": "stdout",
     "output_type": "stream",
     "text": [
      "tensor(0.0802, grad_fn=<NegBackward>) tensor(1.)\n"
     ]
    }
   ],
   "source": [
    "print(loss_func(model(xb), yb), accuracy(model(xb), yb))"
   ]
  },
  {
   "cell_type": "markdown",
   "metadata": {},
   "source": [
    "## now we can refactor with `torch.nn.functional`"
   ]
  },
  {
   "cell_type": "code",
   "execution_count": 24,
   "metadata": {},
   "outputs": [],
   "source": [
    "import torch.nn.functional as F\n",
    "loss_func = F.cross_entropy\n",
    "\n",
    "def model(xb):\n",
    "    return xb @ weights + bias\n",
    "\n"
   ]
  },
  {
   "cell_type": "markdown",
   "metadata": {},
   "source": [
    "## refactor with `nn.Module`"
   ]
  },
  {
   "cell_type": "code",
   "execution_count": 25,
   "metadata": {},
   "outputs": [],
   "source": [
    "from torch import nn\n",
    "\n",
    "class Mnist_Logistic(nn.Module):\n",
    "    def __init__(self):\n",
    "        super().__init__()\n",
    "        self.weights = nn.Parameter(torch.randn(784, 10) / math.sqrt(784))\n",
    "        self.bias = nn.Parameter(torch.zeros(10))\n",
    "        \n",
    "    def forward(self, xb):\n",
    "        return xb @ self.weights + self.bias"
   ]
  },
  {
   "cell_type": "code",
   "execution_count": 26,
   "metadata": {},
   "outputs": [],
   "source": [
    "model = Mnist_Logistic()\n"
   ]
  },
  {
   "cell_type": "code",
   "execution_count": 27,
   "metadata": {},
   "outputs": [
    {
     "data": {
      "text/plain": [
       "True"
      ]
     },
     "execution_count": 27,
     "metadata": {},
     "output_type": "execute_result"
    }
   ],
   "source": [
    "callable(model)"
   ]
  },
  {
   "cell_type": "code",
   "execution_count": 21,
   "metadata": {},
   "outputs": [
    {
     "data": {
      "text/plain": [
       "{'training': True,\n",
       " '_parameters': OrderedDict([('weights',\n",
       "               Parameter containing:\n",
       "               tensor([[-0.0253,  0.0062,  0.0290,  ...,  0.0151,  0.0147, -0.0144],\n",
       "                       [ 0.0410, -0.0468, -0.0202,  ..., -0.0052, -0.0381,  0.0441],\n",
       "                       [-0.0294, -0.0125, -0.0106,  ..., -0.0194,  0.0285,  0.0204],\n",
       "                       ...,\n",
       "                       [-0.0123, -0.0134,  0.0504,  ...,  0.0081, -0.0827,  0.0087],\n",
       "                       [-0.0111,  0.0147, -0.0150,  ..., -0.0386,  0.0660,  0.0346],\n",
       "                       [-0.0571,  0.0319,  0.0332,  ..., -0.0039,  0.0513, -0.0330]],\n",
       "                      requires_grad=True)),\n",
       "              ('bias',\n",
       "               Parameter containing:\n",
       "               tensor([0., 0., 0., 0., 0., 0., 0., 0., 0., 0.], requires_grad=True))]),\n",
       " '_buffers': OrderedDict(),\n",
       " '_backward_hooks': OrderedDict(),\n",
       " '_forward_hooks': OrderedDict(),\n",
       " '_forward_pre_hooks': OrderedDict(),\n",
       " '_state_dict_hooks': OrderedDict(),\n",
       " '_load_state_dict_pre_hooks': OrderedDict(),\n",
       " '_modules': OrderedDict()}"
      ]
     },
     "execution_count": 21,
     "metadata": {},
     "output_type": "execute_result"
    }
   ],
   "source": [
    "vars(model)"
   ]
  },
  {
   "cell_type": "code",
   "execution_count": 22,
   "metadata": {},
   "outputs": [],
   "source": [
    "linmodel = nn.Linear(2, 3)"
   ]
  },
  {
   "cell_type": "code",
   "execution_count": 23,
   "metadata": {},
   "outputs": [
    {
     "data": {
      "text/plain": [
       "OrderedDict([('weight',\n",
       "              Parameter containing:\n",
       "              tensor([[ 0.4335,  0.2855],\n",
       "                      [ 0.5475, -0.5615],\n",
       "                      [ 0.1932,  0.6852]], requires_grad=True)),\n",
       "             ('bias',\n",
       "              Parameter containing:\n",
       "              tensor([0.2949, 0.0808, 0.3318], requires_grad=True))])"
      ]
     },
     "execution_count": 23,
     "metadata": {},
     "output_type": "execute_result"
    }
   ],
   "source": [
    "linmodel._parameters"
   ]
  },
  {
   "cell_type": "code",
   "execution_count": 24,
   "metadata": {},
   "outputs": [],
   "source": [
    "with torch.no_grad():\n",
    "    linmodel._parameters['weight'].data = torch.ones(3,2)"
   ]
  },
  {
   "cell_type": "code",
   "execution_count": 25,
   "metadata": {},
   "outputs": [
    {
     "data": {
      "text/plain": [
       "OrderedDict([('weight',\n",
       "              Parameter containing:\n",
       "              tensor([[1., 1.],\n",
       "                      [1., 1.],\n",
       "                      [1., 1.]], requires_grad=True)),\n",
       "             ('bias',\n",
       "              Parameter containing:\n",
       "              tensor([0.2949, 0.0808, 0.3318], requires_grad=True))])"
      ]
     },
     "execution_count": 25,
     "metadata": {},
     "output_type": "execute_result"
    }
   ],
   "source": [
    "linmodel._parameters"
   ]
  },
  {
   "cell_type": "code",
   "execution_count": 26,
   "metadata": {},
   "outputs": [
    {
     "ename": "RuntimeError",
     "evalue": "The size of tensor a (2) must match the size of tensor b (3) at non-singleton dimension 1",
     "output_type": "error",
     "traceback": [
      "\u001b[0;31m---------------------------------------------------------------------------\u001b[0m",
      "\u001b[0;31mRuntimeError\u001b[0m                              Traceback (most recent call last)",
      "\u001b[0;32m<ipython-input-26-c04b883b74c2>\u001b[0m in \u001b[0;36m<module>\u001b[0;34m\u001b[0m\n\u001b[1;32m      1\u001b[0m \u001b[0;32mwith\u001b[0m \u001b[0mtorch\u001b[0m\u001b[0;34m.\u001b[0m\u001b[0mno_grad\u001b[0m\u001b[0;34m(\u001b[0m\u001b[0;34m)\u001b[0m\u001b[0;34m:\u001b[0m\u001b[0;34m\u001b[0m\u001b[0;34m\u001b[0m\u001b[0m\n\u001b[1;32m      2\u001b[0m     \u001b[0;32mfor\u001b[0m \u001b[0mparameter\u001b[0m \u001b[0;32min\u001b[0m \u001b[0mlinmodel\u001b[0m\u001b[0;34m.\u001b[0m\u001b[0mparameters\u001b[0m\u001b[0;34m(\u001b[0m\u001b[0;34m)\u001b[0m\u001b[0;34m:\u001b[0m\u001b[0;34m\u001b[0m\u001b[0;34m\u001b[0m\u001b[0m\n\u001b[0;32m----> 3\u001b[0;31m         \u001b[0mparameter\u001b[0m \u001b[0;34m+=\u001b[0m \u001b[0mtorch\u001b[0m\u001b[0;34m.\u001b[0m\u001b[0meye\u001b[0m\u001b[0;34m(\u001b[0m\u001b[0;36m3\u001b[0m\u001b[0;34m)\u001b[0m\u001b[0;34m\u001b[0m\u001b[0;34m\u001b[0m\u001b[0m\n\u001b[0m",
      "\u001b[0;31mRuntimeError\u001b[0m: The size of tensor a (2) must match the size of tensor b (3) at non-singleton dimension 1"
     ]
    }
   ],
   "source": [
    "with torch.no_grad():\n",
    "    for parameter in linmodel.parameters():\n",
    "        parameter += torch.eye(3)"
   ]
  },
  {
   "cell_type": "code",
   "execution_count": null,
   "metadata": {},
   "outputs": [],
   "source": [
    "linmodel._parameters['weight']"
   ]
  },
  {
   "cell_type": "code",
   "execution_count": 27,
   "metadata": {},
   "outputs": [
    {
     "ename": "RuntimeError",
     "evalue": "The size of tensor a (2) must match the size of tensor b (3) at non-singleton dimension 1",
     "output_type": "error",
     "traceback": [
      "\u001b[0;31m---------------------------------------------------------------------------\u001b[0m",
      "\u001b[0;31mRuntimeError\u001b[0m                              Traceback (most recent call last)",
      "\u001b[0;32m<ipython-input-27-b51244696f2e>\u001b[0m in \u001b[0;36m<module>\u001b[0;34m\u001b[0m\n\u001b[1;32m      2\u001b[0m \u001b[0;32mwith\u001b[0m \u001b[0mtorch\u001b[0m\u001b[0;34m.\u001b[0m\u001b[0mno_grad\u001b[0m\u001b[0;34m(\u001b[0m\u001b[0;34m)\u001b[0m\u001b[0;34m:\u001b[0m\u001b[0;34m\u001b[0m\u001b[0;34m\u001b[0m\u001b[0m\n\u001b[1;32m      3\u001b[0m \u001b[0;34m\u001b[0m\u001b[0m\n\u001b[0;32m----> 4\u001b[0;31m     \u001b[0mparams\u001b[0m\u001b[0;34m[\u001b[0m\u001b[0;36m0\u001b[0m\u001b[0;34m]\u001b[0m \u001b[0;34m+=\u001b[0m \u001b[0mtorch\u001b[0m\u001b[0;34m.\u001b[0m\u001b[0meye\u001b[0m\u001b[0;34m(\u001b[0m\u001b[0;36m3\u001b[0m\u001b[0;34m)\u001b[0m\u001b[0;34m\u001b[0m\u001b[0;34m\u001b[0m\u001b[0m\n\u001b[0m",
      "\u001b[0;31mRuntimeError\u001b[0m: The size of tensor a (2) must match the size of tensor b (3) at non-singleton dimension 1"
     ]
    }
   ],
   "source": [
    "params = [param  for param in linmodel.parameters()]\n",
    "with torch.no_grad():\n",
    "    \n",
    "    params[0] += torch.eye(3)"
   ]
  },
  {
   "cell_type": "code",
   "execution_count": 28,
   "metadata": {},
   "outputs": [
    {
     "ename": "RuntimeError",
     "evalue": "a leaf Variable that requires grad has been used in an in-place operation.",
     "output_type": "error",
     "traceback": [
      "\u001b[0;31m---------------------------------------------------------------------------\u001b[0m",
      "\u001b[0;31mRuntimeError\u001b[0m                              Traceback (most recent call last)",
      "\u001b[0;32m<ipython-input-28-9a992211ab18>\u001b[0m in \u001b[0;36m<module>\u001b[0;34m\u001b[0m\n\u001b[0;32m----> 1\u001b[0;31m \u001b[0mparams\u001b[0m\u001b[0;34m[\u001b[0m\u001b[0;36m0\u001b[0m\u001b[0;34m]\u001b[0m \u001b[0;34m+=\u001b[0m \u001b[0mtorch\u001b[0m\u001b[0;34m.\u001b[0m\u001b[0meye\u001b[0m\u001b[0;34m(\u001b[0m\u001b[0;36m3\u001b[0m\u001b[0;34m)\u001b[0m\u001b[0;34m\u001b[0m\u001b[0;34m\u001b[0m\u001b[0m\n\u001b[0m",
      "\u001b[0;31mRuntimeError\u001b[0m: a leaf Variable that requires grad has been used in an in-place operation."
     ]
    }
   ],
   "source": [
    "params[0] += torch.eye(3)"
   ]
  },
  {
   "cell_type": "code",
   "execution_count": 29,
   "metadata": {},
   "outputs": [],
   "source": [
    "a = torch.tensor([3.,4.,5.], requires_grad=True)\n",
    "b = (2.*a**2).sum()"
   ]
  },
  {
   "cell_type": "code",
   "execution_count": 30,
   "metadata": {},
   "outputs": [],
   "source": [
    "b.backward()"
   ]
  },
  {
   "cell_type": "code",
   "execution_count": 31,
   "metadata": {},
   "outputs": [
    {
     "data": {
      "text/plain": [
       "torch.Tensor"
      ]
     },
     "execution_count": 31,
     "metadata": {},
     "output_type": "execute_result"
    }
   ],
   "source": [
    "type(a.grad)"
   ]
  },
  {
   "cell_type": "code",
   "execution_count": 32,
   "metadata": {},
   "outputs": [],
   "source": [
    "seq = nn.Sequential(nn.Linear(2,3), nn.Tanh(), nn.Linear(2,3))"
   ]
  },
  {
   "cell_type": "code",
   "execution_count": 33,
   "metadata": {},
   "outputs": [
    {
     "name": "stdout",
     "output_type": "stream",
     "text": [
      "[Parameter containing:\n",
      "tensor([[ 0.5388, -0.2660],\n",
      "        [ 0.1873, -0.0792],\n",
      "        [ 0.6674, -0.6481]], requires_grad=True), Parameter containing:\n",
      "tensor([ 0.3123, -0.3795,  0.6036], requires_grad=True), Parameter containing:\n",
      "tensor([[-0.2998, -0.5869],\n",
      "        [ 0.3183, -0.4068],\n",
      "        [ 0.4088, -0.5266]], requires_grad=True), Parameter containing:\n",
      "tensor([-0.6193, -0.6013,  0.0169], requires_grad=True)]\n"
     ]
    }
   ],
   "source": [
    "print([param for param in seq.parameters()])"
   ]
  },
  {
   "cell_type": "markdown",
   "metadata": {},
   "source": [
    "## skipping the following refactoring steps:\n",
    "- refactoring using `nn.Linear` \n",
    "- refactor using `nn.optim`\n"
   ]
  },
  {
   "cell_type": "markdown",
   "metadata": {},
   "source": [
    "## refactor using dataset"
   ]
  },
  {
   "cell_type": "code",
   "execution_count": 34,
   "metadata": {},
   "outputs": [],
   "source": [
    "from torch.utils.data import TensorDataset"
   ]
  },
  {
   "cell_type": "markdown",
   "metadata": {},
   "source": [
    "we can iterate over and slice `x_train` and `y_train` more easily with a `TensorDataset`\n"
   ]
  },
  {
   "cell_type": "code",
   "execution_count": 35,
   "metadata": {},
   "outputs": [],
   "source": [
    "train_ds = TensorDataset(x_train, y_train)"
   ]
  },
  {
   "cell_type": "code",
   "execution_count": 36,
   "metadata": {},
   "outputs": [],
   "source": [
    "xb, yb = train_ds[bs : bs + bs]"
   ]
  },
  {
   "cell_type": "code",
   "execution_count": 37,
   "metadata": {},
   "outputs": [
    {
     "name": "stdout",
     "output_type": "stream",
     "text": [
      "torch.Size([64, 784]) torch.Size([64])\n"
     ]
    }
   ],
   "source": [
    "print(xb.shape, yb.shape)"
   ]
  },
  {
   "cell_type": "markdown",
   "metadata": {},
   "source": [
    "## refactor using DataLoader"
   ]
  },
  {
   "cell_type": "code",
   "execution_count": 38,
   "metadata": {},
   "outputs": [],
   "source": [
    "from torch.utils.data import DataLoader"
   ]
  },
  {
   "cell_type": "code",
   "execution_count": 39,
   "metadata": {},
   "outputs": [],
   "source": [
    "train_ds = TensorDataset(x_train, y_train)\n",
    "train_dl = DataLoader(train_ds, batch_size = bs)"
   ]
  },
  {
   "cell_type": "code",
   "execution_count": 40,
   "metadata": {},
   "outputs": [
    {
     "data": {
      "text/plain": [
       "64"
      ]
     },
     "execution_count": 40,
     "metadata": {},
     "output_type": "execute_result"
    }
   ],
   "source": [
    "bs"
   ]
  },
  {
   "cell_type": "markdown",
   "metadata": {},
   "source": [
    "looping over training data is a lot easier now..."
   ]
  },
  {
   "cell_type": "code",
   "execution_count": 41,
   "metadata": {},
   "outputs": [],
   "source": [
    "for xb, yb in train_dl:\n",
    "    pass"
   ]
  },
  {
   "cell_type": "markdown",
   "metadata": {},
   "source": [
    "## add validation"
   ]
  },
  {
   "cell_type": "code",
   "execution_count": 42,
   "metadata": {},
   "outputs": [],
   "source": [
    "train_ds = TensorDataset(x_train, y_train)\n",
    "train_dl = DataLoader(train_ds, batch_size = bs, shuffle=True) #shuffling prevents correlation between batches and overfitting"
   ]
  },
  {
   "cell_type": "code",
   "execution_count": 43,
   "metadata": {},
   "outputs": [],
   "source": [
    "valid_ds = TensorDataset(x_valid, y_valid)\n",
    "valid_dl = DataLoader(valid_ds, batch_size = bs * 2)"
   ]
  },
  {
   "cell_type": "markdown",
   "metadata": {},
   "source": [
    "i can track validation as a function of every training epoch..."
   ]
  },
  {
   "cell_type": "markdown",
   "metadata": {},
   "source": [
    "## skipping...\n",
    "- create `fit` and `get_data` functions\n",
    "- switch to `CNN`\n",
    "- `nn.Sequential`\n",
    "- wrapping `DataLoader`\n",
    "- using your `GPU`"
   ]
  },
  {
   "cell_type": "markdown",
   "metadata": {},
   "source": [
    "# 1. Dummy N-dimensional controlling modules"
   ]
  },
  {
   "cell_type": "markdown",
   "metadata": {},
   "source": [
    "here, i'll attempt to make parameterizable `nn.Module` subclasses in order to parameterize an n-dimensional twisted sequential monte carlo sampler. since i am twisting an ULA sampler, i need to parameterize $A_0$, $b_0$, $c_0$, as well as their $t$ sequence counterparts. the only difference is that $A_t$ and $b_t$ are functions of $x_{t-1}$"
   ]
  },
  {
   "cell_type": "markdown",
   "metadata": {},
   "source": [
    "since the twisted potentials at iterations $i>0$ are the _summation_ of previous twisting potentials, we need to make a function that aggregates twists...this should be easily implementable as a function that takes a class with a list of appropriate parameters, at which point, it adds the parameters and returns the output control, whether it is a matrix like $A$, a vector like $b$, or a scalar like $c$"
   ]
  },
  {
   "cell_type": "markdown",
   "metadata": {},
   "source": [
    "## making a dummy parameterization of a 1-dimensional function"
   ]
  },
  {
   "cell_type": "code",
   "execution_count": 146,
   "metadata": {},
   "outputs": [],
   "source": [
    "from torch import nn"
   ]
  },
  {
   "cell_type": "markdown",
   "metadata": {},
   "source": [
    "define a model..."
   ]
  },
  {
   "cell_type": "code",
   "execution_count": 147,
   "metadata": {},
   "outputs": [],
   "source": [
    "class quad_model(nn.Module):\n",
    "    \"\"\"\n",
    "    basic function to variationally perform regression on a 1d quadratic of the form y = a(x-b)**2 + c\n",
    "    \"\"\"\n",
    "    def __init__(self):\n",
    "        super().__init__()\n",
    "        self.a = nn.Parameter(torch.randn(1, dtype=torch.double))\n",
    "        self.b = nn.Parameter(torch.randn(1, dtype=torch.double))\n",
    "        self.c = nn.Parameter(torch.randn(1, dtype=torch.double))\n",
    "        \n",
    "        #do a test...\n",
    "        test_a = torch.randn(10, 1)\n",
    "        a = torch.randn(1)\n",
    "        test_a**2 @ a\n",
    "        \n",
    "    def forward(self, x):\n",
    "        summand = x-self.b\n",
    "        prod = summand**2\n",
    "#         print(prod)\n",
    "#         print(self.a)\n",
    "        mult = prod @ self.a\n",
    "        adder = mult + self.c\n",
    "        return adder\n",
    "        "
   ]
  },
  {
   "cell_type": "markdown",
   "metadata": {},
   "source": [
    "define a loss function (we'll do MSE since our data will have Gaussian noise)"
   ]
  },
  {
   "cell_type": "code",
   "execution_count": 148,
   "metadata": {},
   "outputs": [],
   "source": [
    "import torch.nn.functional as F\n",
    "loss_func = F.mse_loss\n"
   ]
  },
  {
   "cell_type": "markdown",
   "metadata": {},
   "source": [
    "i'll make some training, validation, and test data"
   ]
  },
  {
   "cell_type": "code",
   "execution_count": 149,
   "metadata": {},
   "outputs": [
    {
     "data": {
      "text/plain": [
       "<matplotlib.collections.PathCollection at 0x7f8ab6ef0400>"
      ]
     },
     "execution_count": 149,
     "metadata": {},
     "output_type": "execute_result"
    },
    {
     "data": {
      "image/png": "[encoded data removed]",
      "text/plain": [
       "<Figure size 432x288 with 1 Axes>"
      ]
     },
     "metadata": {
      "needs_background": "light"
     },
     "output_type": "display_data"
    }
   ],
   "source": [
    "num_datapoints = 1000\n",
    "xs = np.linspace(-1, 5, num_datapoints)\n",
    "a = 0.1\n",
    "b = 1.\n",
    "c = -2.\n",
    "y_perfect = a * (xs -b)**2 -c\n",
    "ys_noisy = y_perfect + 0.2*np.random.randn(num_datapoints)\n",
    "plt.plot(xs, y_perfect)\n",
    "plt.scatter(xs, ys_noisy)"
   ]
  },
  {
   "cell_type": "markdown",
   "metadata": {},
   "source": [
    "we should be able to refactor with `Datasets`"
   ]
  },
  {
   "cell_type": "code",
   "execution_count": 150,
   "metadata": {},
   "outputs": [],
   "source": [
    "from torch.utils.data import TensorDataset, DataLoader"
   ]
  },
  {
   "cell_type": "code",
   "execution_count": 151,
   "metadata": {},
   "outputs": [],
   "source": [
    "#xs = torch.reshape(torch.tensor(xs), (num_datapoints, 1))\n",
    "#ys = torch.reshape(torch.tensor(ys_noisy), (num_datapoints, 1))\n",
    "\n",
    "#make validation\n",
    "validation_percent = 0.2\n",
    "validation_indices = np.random.choice(num_datapoints, size=int(validation_percent*num_datapoints), replace=False)\n",
    "test_indices = np.array([idx for idx in range(num_datapoints) if idx not in validation_indices])\n",
    "x_test = torch.from_numpy(xs[test_indices])\n",
    "y_test = torch.from_numpy(ys_noisy[test_indices])\n",
    "\n",
    "x_valid = torch.from_numpy(xs[validation_indices])\n",
    "y_valid = torch.from_numpy(ys_noisy[validation_indices])"
   ]
  },
  {
   "cell_type": "markdown",
   "metadata": {},
   "source": [
    "let's load the data so we can minibatch!"
   ]
  },
  {
   "cell_type": "code",
   "execution_count": 152,
   "metadata": {},
   "outputs": [],
   "source": [
    "train_ds = TensorDataset(x_test, y_test)\n",
    "train_dl = DataLoader(train_ds, batch_size=bs, shuffle=True)\n",
    "valid_ds = TensorDataset(x_valid, y_valid)\n",
    "valid_dl = DataLoader(valid_ds, batch_size = bs*2)"
   ]
  },
  {
   "cell_type": "code",
   "execution_count": 153,
   "metadata": {},
   "outputs": [
    {
     "data": {
      "text/plain": [
       "torch.Size([200])"
      ]
     },
     "execution_count": 153,
     "metadata": {},
     "output_type": "execute_result"
    }
   ],
   "source": [
    "valid_ds.tensors[0].size()"
   ]
  },
  {
   "cell_type": "markdown",
   "metadata": {},
   "source": [
    "now that the data are appropriately loadable, let's import optim for training"
   ]
  },
  {
   "cell_type": "code",
   "execution_count": 154,
   "metadata": {},
   "outputs": [],
   "source": [
    "from torch import optim"
   ]
  },
  {
   "cell_type": "code",
   "execution_count": 155,
   "metadata": {},
   "outputs": [
    {
     "data": {
      "text/plain": [
       "torch.Size([200])"
      ]
     },
     "execution_count": 155,
     "metadata": {},
     "output_type": "execute_result"
    }
   ],
   "source": [
    "x_valid.size()"
   ]
  },
  {
   "cell_type": "code",
   "execution_count": 156,
   "metadata": {},
   "outputs": [],
   "source": [
    "model = quad_model()\n",
    "lr=1e-4\n",
    "opt= optim.SGD(model.parameters(), lr=1e-3)"
   ]
  },
  {
   "cell_type": "code",
   "execution_count": 157,
   "metadata": {},
   "outputs": [
    {
     "data": {
      "text/plain": [
       "False"
      ]
     },
     "execution_count": 157,
     "metadata": {},
     "output_type": "execute_result"
    }
   ],
   "source": [
    "callable(opt)"
   ]
  },
  {
   "cell_type": "code",
   "execution_count": 158,
   "metadata": {},
   "outputs": [
    {
     "name": "stderr",
     "output_type": "stream",
     "text": [
      "100%|██████████| 1000/1000 [00:09<00:00, 105.85it/s]\n"
     ]
    }
   ],
   "source": [
    "num_epochs = 1000\n",
    "sum_valid_losses = []\n",
    "import tqdm\n",
    "for epoch in tqdm.trange(num_epochs):\n",
    "    for _x, _y in train_dl:\n",
    "        __x = _x.reshape(len(_x), 1)\n",
    "        __y = _y.reshape(len(_x), 1)\n",
    "        pred = model(__x)\n",
    "        loss = loss_func(pred, _y)\n",
    "        \n",
    "        loss.backward()\n",
    "        opt.step()\n",
    "        opt.zero_grad()\n",
    "    \n",
    "    with torch.no_grad():\n",
    "        valid_loss = sum(loss_func(model(torch.reshape(qr, (len(qr), 1))), yr) for qr, yr in valid_dl)\n",
    "        sum_valid_losses.append(valid_loss)"
   ]
  },
  {
   "cell_type": "code",
   "execution_count": 159,
   "metadata": {},
   "outputs": [
    {
     "data": {
      "text/plain": [
       "[<matplotlib.lines.Line2D at 0x7f8ab6e397f0>]"
      ]
     },
     "execution_count": 159,
     "metadata": {},
     "output_type": "execute_result"
    },
    {
     "data": {
      "image/png": "[encoded data removed]",
      "text/plain": [
       "<Figure size 432x288 with 1 Axes>"
      ]
     },
     "metadata": {
      "needs_background": "light"
     },
     "output_type": "display_data"
    }
   ],
   "source": [
    "plt.plot(sum_valid_losses)"
   ]
  },
  {
   "cell_type": "code",
   "execution_count": 160,
   "metadata": {},
   "outputs": [],
   "source": [
    "fitted_a = model._parameters['a'].data.numpy()\n",
    "fitted_b = model._parameters['b'].data.numpy()\n",
    "fitted_c = model._parameters['c'].data.numpy()"
   ]
  },
  {
   "cell_type": "code",
   "execution_count": null,
   "metadata": {},
   "outputs": [],
   "source": []
  },
  {
   "cell_type": "code",
   "execution_count": 161,
   "metadata": {},
   "outputs": [
    {
     "data": {
      "text/plain": [
       "[<matplotlib.lines.Line2D at 0x7f8ab6f3c780>]"
      ]
     },
     "execution_count": 161,
     "metadata": {},
     "output_type": "execute_result"
    },
    {
     "data": {
      "image/png": "[encoded data removed]",
      "text/plain": [
       "<Figure size 432x288 with 1 Axes>"
      ]
     },
     "metadata": {
      "needs_background": "light"
     },
     "output_type": "display_data"
    }
   ],
   "source": [
    "plt.scatter(xs, ys_noisy)\n",
    "torched_xs = torch.from_numpy(xs).reshape(len(xs), 1)\n",
    "torched_model = model(torched_xs)\n",
    "plt.plot(xs, torched_model.detach().numpy(), linewidth=4, color = 'k')"
   ]
  },
  {
   "cell_type": "markdown",
   "metadata": {},
   "source": [
    "cool! so it looks like i know how to make a simple regressor to a curve...maybe in the future i can sample the posterior parameter space or something!!"
   ]
  },
  {
   "cell_type": "markdown",
   "metadata": {},
   "source": [
    "## presumably, I will be using `Sequential` to build models, but i need to be able to set parameter values appropriately because stupid reasons\n"
   ]
  },
  {
   "cell_type": "code",
   "execution_count": 163,
   "metadata": {},
   "outputs": [],
   "source": [
    "model = nn.Sequential(nn.Linear(2,2, bias=False), nn.ReLU(), nn.Linear(2,2, bias=False))\n"
   ]
  },
  {
   "cell_type": "code",
   "execution_count": null,
   "metadata": {},
   "outputs": [],
   "source": []
  },
  {
   "cell_type": "code",
   "execution_count": 64,
   "metadata": {},
   "outputs": [],
   "source": [
    "_data = []\n",
    "with torch.no_grad():\n",
    "    for param in model.parameters():\n",
    "        #param*=0.\n",
    "        _data.append(param.data)\n",
    "        #param += torch.ones(2,2)"
   ]
  },
  {
   "cell_type": "code",
   "execution_count": 65,
   "metadata": {},
   "outputs": [
    {
     "data": {
      "text/plain": [
       "[tensor([[ 0.4393,  0.0941],\n",
       "         [ 0.1493, -0.4214]]),\n",
       " tensor([[ 0.1539,  0.0988],\n",
       "         [-0.1521, -0.3964]])]"
      ]
     },
     "execution_count": 65,
     "metadata": {},
     "output_type": "execute_result"
    }
   ],
   "source": [
    "_data"
   ]
  },
  {
   "cell_type": "code",
   "execution_count": 66,
   "metadata": {},
   "outputs": [],
   "source": [
    "with torch.no_grad():\n",
    "    for idx, param in enumerate(model.parameters()):\n",
    "        param*=0\n",
    "        param += _data[idx]"
   ]
  },
  {
   "cell_type": "code",
   "execution_count": 67,
   "metadata": {},
   "outputs": [
    {
     "data": {
      "text/plain": [
       "Parameter containing:\n",
       "tensor([[0., 0.],\n",
       "        [0., -0.]], requires_grad=True)"
      ]
     },
     "execution_count": 67,
     "metadata": {},
     "output_type": "execute_result"
    }
   ],
   "source": [
    "model[0]._parameters['weight']"
   ]
  },
  {
   "cell_type": "markdown",
   "metadata": {},
   "source": [
    "## Make twisting model for A, b, c, d in $\\mathbf{R}^d$"
   ]
  },
  {
   "cell_type": "markdown",
   "metadata": {},
   "source": [
    "can i make a nn.Sequential() that takes no arguments?"
   ]
  },
  {
   "cell_type": "code",
   "execution_count": 125,
   "metadata": {},
   "outputs": [],
   "source": [
    "class Filler(nn.Module):\n",
    "    def __init__(self):\n",
    "        super().__init__()\n",
    "        pass\n",
    "    def forward(self, x):\n",
    "        return torch.zeros(1)"
   ]
  },
  {
   "cell_type": "code",
   "execution_count": 126,
   "metadata": {},
   "outputs": [],
   "source": [
    "q = nn.Sequential(\n",
    "                    Filler(),\n",
    "                    nn.Linear(1,5),\n",
    "                    nn.Tanh(), \n",
    "                    nn.Linear(5,1)\n",
    "                    )"
   ]
  },
  {
   "cell_type": "code",
   "execution_count": 141,
   "metadata": {},
   "outputs": [],
   "source": [
    "r = [i for i in q.modules()]"
   ]
  },
  {
   "cell_type": "code",
   "execution_count": 145,
   "metadata": {},
   "outputs": [
    {
     "data": {
      "text/plain": [
       "odict_values([Filler(), Linear(in_features=1, out_features=5, bias=True), Tanh(), Linear(in_features=5, out_features=1, bias=True)])"
      ]
     },
     "execution_count": 145,
     "metadata": {},
     "output_type": "execute_result"
    }
   ],
   "source": [
    "q._modules.values()"
   ]
  },
  {
   "cell_type": "code",
   "execution_count": 104,
   "metadata": {},
   "outputs": [
    {
     "data": {
      "text/plain": [
       "tensor([0.4390], grad_fn=<AddBackward0>)"
      ]
     },
     "execution_count": 104,
     "metadata": {},
     "output_type": "execute_result"
    }
   ],
   "source": [
    "q(input=None)"
   ]
  },
  {
   "cell_type": "code",
   "execution_count": 128,
   "metadata": {},
   "outputs": [],
   "source": [
    "a = torch.randn(100,100)"
   ]
  },
  {
   "cell_type": "code",
   "execution_count": 129,
   "metadata": {},
   "outputs": [
    {
     "name": "stdout",
     "output_type": "stream",
     "text": [
      "CPU times: user 0 ns, sys: 0 ns, total: 0 ns\n",
      "Wall time: 12.6 µs\n"
     ]
    },
    {
     "data": {
      "text/plain": [
       "array([[-0.40744242,  1.1084372 ,  0.40388092, ..., -0.3438459 ,\n",
       "         0.8665487 , -0.93197846],\n",
       "       [-0.7907206 , -1.0912598 , -0.80066967, ...,  0.4610206 ,\n",
       "        -0.79145277, -0.07211007],\n",
       "       [ 0.7923572 ,  0.2600848 , -0.2662871 , ..., -0.70987254,\n",
       "         0.90291226,  2.1876142 ],\n",
       "       ...,\n",
       "       [ 0.84203064, -1.0961756 ,  1.3285598 , ..., -0.6276878 ,\n",
       "         2.5352862 ,  0.01150094],\n",
       "       [ 0.5605167 ,  0.31869745,  0.3361514 , ..., -0.74210507,\n",
       "         0.6429816 , -0.04131069],\n",
       "       [-1.1172078 ,  0.49845922,  1.0024526 , ..., -0.12022489,\n",
       "        -3.5997024 ,  1.0242313 ]], dtype=float32)"
      ]
     },
     "execution_count": 129,
     "metadata": {},
     "output_type": "execute_result"
    }
   ],
   "source": [
    "%time\n",
    "a.numpy()"
   ]
  },
  {
   "cell_type": "code",
   "execution_count": 130,
   "metadata": {},
   "outputs": [
    {
     "name": "stdout",
     "output_type": "stream",
     "text": [
      "CPU times: user 0 ns, sys: 0 ns, total: 0 ns\n",
      "Wall time: 10.3 µs\n"
     ]
    },
    {
     "data": {
      "text/plain": [
       "tensor([[102.6684,  12.2103,  -5.0017,  ...,   9.9736,   9.4219,   6.2019],\n",
       "        [ 12.2103, 112.8565,  -9.4376,  ...,   0.4774,   9.4906,  -7.0336],\n",
       "        [ -5.0017,  -9.4376, 113.1056,  ..., -22.4520,   5.4545, -13.5073],\n",
       "        ...,\n",
       "        [  9.9736,   0.4774, -22.4520,  ..., 109.3932,  -4.5796,   6.0304],\n",
       "        [  9.4219,   9.4906,   5.4545,  ...,  -4.5796, 118.7154, -19.6118],\n",
       "        [  6.2019,  -7.0336, -13.5073,  ...,   6.0304, -19.6118,  90.1995]])"
      ]
     },
     "execution_count": 130,
     "metadata": {},
     "output_type": "execute_result"
    }
   ],
   "source": [
    "%time\n",
    "torch.mm(a.t(), a)"
   ]
  },
  {
   "cell_type": "code",
   "execution_count": 152,
   "metadata": {},
   "outputs": [
    {
     "data": {
      "text/plain": [
       "tensor([1., 2.])"
      ]
     },
     "execution_count": 152,
     "metadata": {},
     "output_type": "execute_result"
    }
   ],
   "source": [
    "a = torch.tensor([[1., 2.]])\n",
    "a.squeeze()"
   ]
  },
  {
   "cell_type": "code",
   "execution_count": 151,
   "metadata": {},
   "outputs": [
    {
     "ename": "RuntimeError",
     "evalue": "1D tensors expected, got 2D, 1D tensors at /opt/conda/conda-bld/pytorch_1579022034529/work/aten/src/TH/generic/THTensorEvenMoreMath.cpp:733",
     "output_type": "error",
     "traceback": [
      "\u001b[0;31m---------------------------------------------------------------------------\u001b[0m",
      "\u001b[0;31mRuntimeError\u001b[0m                              Traceback (most recent call last)",
      "\u001b[0;32m<ipython-input-151-ac6884f5cff1>\u001b[0m in \u001b[0;36m<module>\u001b[0;34m\u001b[0m\n\u001b[0;32m----> 1\u001b[0;31m \u001b[0ma\u001b[0m\u001b[0;34m.\u001b[0m\u001b[0mdot\u001b[0m\u001b[0;34m(\u001b[0m\u001b[0mb\u001b[0m\u001b[0;34m)\u001b[0m\u001b[0;34m\u001b[0m\u001b[0;34m\u001b[0m\u001b[0m\n\u001b[0m",
      "\u001b[0;31mRuntimeError\u001b[0m: 1D tensors expected, got 2D, 1D tensors at /opt/conda/conda-bld/pytorch_1579022034529/work/aten/src/TH/generic/THTensorEvenMoreMath.cpp:733"
     ]
    }
   ],
   "source": [
    "a.dot(b)"
   ]
  },
  {
   "cell_type": "code",
   "execution_count": 153,
   "metadata": {},
   "outputs": [],
   "source": [
    "a.size()\n",
    "b = torch.ones(1)"
   ]
  },
  {
   "cell_type": "code",
   "execution_count": 155,
   "metadata": {},
   "outputs": [],
   "source": [
    "b = torch.tensor(1.)"
   ]
  },
  {
   "cell_type": "code",
   "execution_count": 157,
   "metadata": {},
   "outputs": [
    {
     "data": {
      "text/plain": [
       "3.0"
      ]
     },
     "execution_count": 157,
     "metadata": {},
     "output_type": "execute_result"
    }
   ],
   "source": [
    "b.numpy() + 2."
   ]
  },
  {
   "cell_type": "code",
   "execution_count": 145,
   "metadata": {},
   "outputs": [
    {
     "data": {
      "text/plain": [
       "tensor([[3.],\n",
       "        [3.]])"
      ]
     },
     "execution_count": 145,
     "metadata": {},
     "output_type": "execute_result"
    }
   ],
   "source": [
    "torch.mm(b, a.unsqueeze(1))"
   ]
  },
  {
   "cell_type": "code",
   "execution_count": 49,
   "metadata": {},
   "outputs": [],
   "source": [
    "a_batch = torch.randn(4,3)\n",
    "b_mult = torch.randn(3,1)"
   ]
  },
  {
   "cell_type": "code",
   "execution_count": 55,
   "metadata": {},
   "outputs": [
    {
     "ename": "RuntimeError",
     "evalue": "1D tensors expected, got 1D, 2D tensors at /opt/conda/conda-bld/pytorch_1579022034529/work/aten/src/TH/generic/THTensorEvenMoreMath.cpp:733",
     "output_type": "error",
     "traceback": [
      "\u001b[0;31m---------------------------------------------------------------------------\u001b[0m",
      "\u001b[0;31mRuntimeError\u001b[0m                              Traceback (most recent call last)",
      "\u001b[0;32m<ipython-input-55-bd1b68cfebc1>\u001b[0m in \u001b[0;36m<module>\u001b[0;34m\u001b[0m\n\u001b[0;32m----> 1\u001b[0;31m \u001b[0mtorch\u001b[0m\u001b[0;34m.\u001b[0m\u001b[0mmatmul\u001b[0m\u001b[0;34m(\u001b[0m\u001b[0ma_batch\u001b[0m\u001b[0;34m,\u001b[0m \u001b[0mb_mult\u001b[0m\u001b[0;34m)\u001b[0m\u001b[0;34m.\u001b[0m\u001b[0msqueeze\u001b[0m\u001b[0;34m(\u001b[0m\u001b[0;34m)\u001b[0m\u001b[0;34m.\u001b[0m\u001b[0mdot\u001b[0m\u001b[0;34m(\u001b[0m\u001b[0mtorch\u001b[0m\u001b[0;34m.\u001b[0m\u001b[0mtensor\u001b[0m\u001b[0;34m(\u001b[0m\u001b[0;34m[\u001b[0m\u001b[0;34m[\u001b[0m\u001b[0;36m1.\u001b[0m\u001b[0;34m,\u001b[0m \u001b[0;36m2.\u001b[0m\u001b[0;34m,\u001b[0m \u001b[0;36m3.\u001b[0m\u001b[0;34m,\u001b[0m \u001b[0;36m4.\u001b[0m\u001b[0;34m]\u001b[0m\u001b[0;34m]\u001b[0m\u001b[0;34m)\u001b[0m\u001b[0;34m)\u001b[0m\u001b[0;34m\u001b[0m\u001b[0;34m\u001b[0m\u001b[0m\n\u001b[0m",
      "\u001b[0;31mRuntimeError\u001b[0m: 1D tensors expected, got 1D, 2D tensors at /opt/conda/conda-bld/pytorch_1579022034529/work/aten/src/TH/generic/THTensorEvenMoreMath.cpp:733"
     ]
    }
   ],
   "source": [
    "torch.matmul(a_batch, b_mult).squeeze().dot(torch.tensor([[1., 2., 3., 4.]]))"
   ]
  },
  {
   "cell_type": "code",
   "execution_count": 56,
   "metadata": {},
   "outputs": [],
   "source": [
    "model = nn.Linear(5,3)"
   ]
  },
  {
   "cell_type": "code",
   "execution_count": 57,
   "metadata": {},
   "outputs": [],
   "source": [
    "batch = torch.randn(10, 5)"
   ]
  },
  {
   "cell_type": "code",
   "execution_count": 61,
   "metadata": {},
   "outputs": [
    {
     "data": {
      "text/plain": [
       "tensor([ 3.6651,  2.7578,  2.2779, -1.1078, -1.1660,  1.1563,  2.1734,  5.4034,\n",
       "         3.4679,  1.5124], grad_fn=<MvBackward>)"
      ]
     },
     "execution_count": 61,
     "metadata": {},
     "output_type": "execute_result"
    }
   ],
   "source": [
    "torch.matmul(model(batch),torch.tensor([1., 2., 3.])) "
   ]
  },
  {
   "cell_type": "code",
   "execution_count": 63,
   "metadata": {},
   "outputs": [],
   "source": [
    "#phi = xT A x + xT b + c + d\n",
    "x = torch.randn(10, 24)\n",
    "A = torch.randn(10, 24, 24)\n",
    "b = torch.randn(10, 24)\n",
    "c = torch.randn(10)\n",
    "d= torch.randn(10)\n",
    "\n"
   ]
  },
  {
   "cell_type": "code",
   "execution_count": 106,
   "metadata": {},
   "outputs": [
    {
     "name": "stdout",
     "output_type": "stream",
     "text": [
      "CPU times: user 0 ns, sys: 0 ns, total: 0 ns\n",
      "Wall time: 9.06 µs\n"
     ]
    },
    {
     "data": {
      "text/plain": [
       "tensor([  3.5952,   1.4022, -46.6915, -21.3506,   2.1158, -16.7742,  35.2357,\n",
       "         25.8505, -12.2151,  -3.0339])"
      ]
     },
     "execution_count": 106,
     "metadata": {},
     "output_type": "execute_result"
    }
   ],
   "source": [
    "%time\n",
    "torch.matmul(x.reshape(10, 24, 1).transpose(1,2), torch.matmul(A, x.reshape(10, 24, 1))).squeeze()"
   ]
  },
  {
   "cell_type": "code",
   "execution_count": 107,
   "metadata": {},
   "outputs": [
    {
     "name": "stdout",
     "output_type": "stream",
     "text": [
      "CPU times: user 0 ns, sys: 0 ns, total: 0 ns\n",
      "Wall time: 10.3 µs\n"
     ]
    },
    {
     "data": {
      "text/plain": [
       "tensor([[[-1.3580e+00, -7.6680e-01,  4.1964e-01,  ...,  3.1978e-02,\n",
       "           1.2189e+00,  9.1158e-01],\n",
       "         [ 1.0023e+00, -2.0690e-01,  3.7931e-01,  ...,  5.1967e-02,\n",
       "           4.2002e-01,  5.8913e-01],\n",
       "         [-1.7872e+00,  6.9074e-01, -3.9166e-01,  ..., -5.6590e-02,\n",
       "          -4.8787e-01,  1.6135e-01],\n",
       "         ...,\n",
       "         [-2.4319e-02, -1.1110e-01, -2.2285e-02,  ..., -3.2465e-02,\n",
       "          -1.9144e-01, -1.2058e-01],\n",
       "         [-2.3816e+00,  1.7499e+00, -4.0534e-01,  ...,  2.1307e-01,\n",
       "          -2.3335e+00,  2.1469e+00],\n",
       "         [ 1.1695e-01,  4.0746e-01,  2.7917e-01,  ...,  6.1869e-02,\n",
       "          -2.3895e+00, -1.4447e+00]],\n",
       "\n",
       "        [[ 2.7865e-01, -2.0805e-01,  1.7034e-01,  ..., -7.5639e-01,\n",
       "          -7.1633e-02, -2.7204e-01],\n",
       "         [ 7.0950e-02,  1.5424e-01, -6.2388e-01,  ..., -4.7834e-02,\n",
       "          -4.6210e-01, -1.4444e-01],\n",
       "         [ 3.2431e-01, -8.4751e-01, -1.6211e-01,  ...,  1.2149e+00,\n",
       "           6.9414e-01, -2.7786e-01],\n",
       "         ...,\n",
       "         [ 1.1025e+00, -1.6608e+00, -4.2570e+00,  ..., -1.0573e+01,\n",
       "          -8.3573e-01,  2.1865e+00],\n",
       "         [-4.6653e-01,  4.3880e-01,  2.8649e+00,  ...,  3.7089e+00,\n",
       "           2.1918e-01, -8.0674e-01],\n",
       "         [ 4.4672e-03, -5.3325e-02, -8.4050e-02,  ...,  1.3697e+00,\n",
       "           9.7383e-01,  3.5330e-01]],\n",
       "\n",
       "        [[-4.2690e-01, -6.6723e-01, -1.0662e+00,  ..., -2.0461e+00,\n",
       "           3.0172e+00, -3.2358e+00],\n",
       "         [-7.5698e-01,  3.1942e-01,  7.9496e-02,  ...,  1.6094e+00,\n",
       "           1.7527e+00,  6.7511e-01],\n",
       "         [-9.1440e-01,  1.0321e+00, -8.1793e-01,  ...,  2.0226e+00,\n",
       "           2.9571e-01,  7.2077e-01],\n",
       "         ...,\n",
       "         [-1.7349e+00,  2.5537e-01, -1.0663e-01,  ..., -8.0523e+00,\n",
       "           6.0307e+00,  1.9543e+00],\n",
       "         [-2.4436e+00,  7.9580e-01,  8.7917e-01,  ..., -9.0372e-01,\n",
       "          -9.5758e-01, -8.6463e-02],\n",
       "         [ 6.6242e-01,  2.9075e-01,  1.1877e+00,  ...,  1.6414e+00,\n",
       "          -3.0718e+00, -2.1472e+00]],\n",
       "\n",
       "        ...,\n",
       "\n",
       "        [[-8.1111e-02,  2.4943e-01,  1.3716e-02,  ..., -5.9497e-02,\n",
       "           3.8262e-01,  1.6507e-02],\n",
       "         [ 3.6318e-01,  9.4395e-02, -1.1685e-01,  ...,  1.0777e+00,\n",
       "           1.9540e+00, -5.1668e-01],\n",
       "         [-4.6468e-02, -8.7511e-02, -1.2071e-02,  ...,  6.5056e-02,\n",
       "          -7.6110e-02, -2.4242e-02],\n",
       "         ...,\n",
       "         [ 1.5695e-01,  1.8364e+00, -1.3669e-01,  ..., -1.0770e-01,\n",
       "           1.2854e+00,  5.9491e-01],\n",
       "         [-1.2660e-01,  1.5826e+00, -1.6087e-01,  ...,  6.5693e-02,\n",
       "           6.8742e-01,  6.4512e-01],\n",
       "         [-1.8209e-01, -1.5357e-01, -4.9380e-02,  ..., -7.3575e-02,\n",
       "           1.8344e-01,  2.0045e-01]],\n",
       "\n",
       "        [[ 2.7203e-02,  4.7798e-02, -1.5837e-03,  ...,  3.5643e-02,\n",
       "           1.2890e-01, -5.7454e-01],\n",
       "         [-3.1120e-01, -1.2019e-01, -1.4706e-02,  ...,  2.4143e-03,\n",
       "          -1.0879e-01, -1.0257e+00],\n",
       "         [ 4.9637e-04,  1.6903e-03, -4.6103e-05,  ...,  3.1409e-04,\n",
       "           1.3281e-03,  1.7741e-02],\n",
       "         ...,\n",
       "         [-2.2440e-04,  3.0695e-02, -4.0202e-04,  ...,  1.9037e-03,\n",
       "          -7.1169e-03, -3.1592e-02],\n",
       "         [ 6.9058e-02, -1.2500e-01, -5.4163e-04,  ..., -5.4512e-03,\n",
       "           3.0882e-02,  1.9725e-01],\n",
       "         [ 2.8071e-02,  1.5509e+00,  3.6825e-03,  ..., -5.4162e-02,\n",
       "           1.6079e-01,  7.2285e-02]],\n",
       "\n",
       "        [[-2.2367e-01, -1.5055e-02, -1.0006e+00,  ..., -5.2547e-01,\n",
       "          -1.9204e-01, -7.5745e-02],\n",
       "         [-2.0481e-02, -9.2804e-02, -1.5099e-01,  ...,  1.9244e-01,\n",
       "           4.0746e-02,  3.5974e-02],\n",
       "         [ 1.1236e-01,  2.4610e-01,  8.6711e-01,  ..., -7.5102e-01,\n",
       "           1.5436e-01, -2.9039e-01],\n",
       "         ...,\n",
       "         [-1.0633e-01,  2.2032e-01,  2.2626e-01,  ...,  3.3898e-01,\n",
       "           1.2678e-01,  7.1667e-01],\n",
       "         [-5.9237e-02,  4.6633e-02,  2.3708e-01,  ...,  1.2109e-02,\n",
       "           7.7973e-02,  2.0455e-01],\n",
       "         [ 3.9806e-01, -5.7103e-02, -9.4771e-02,  ..., -1.1383e+00,\n",
       "          -5.6186e-02, -1.5257e-01]]])"
      ]
     },
     "execution_count": 107,
     "metadata": {},
     "output_type": "execute_result"
    }
   ],
   "source": [
    "%time\n",
    "x.view(10, 24, 1).transpose(1,2) * (A * x.view(10, 24, 1))"
   ]
  },
  {
   "cell_type": "code",
   "execution_count": 121,
   "metadata": {},
   "outputs": [],
   "source": [
    "a = torch.randn(10, 1, 3)\n",
    "b = torch.randn(10, 1, 3)"
   ]
  },
  {
   "cell_type": "code",
   "execution_count": 122,
   "metadata": {},
   "outputs": [
    {
     "data": {
      "text/plain": [
       "True"
      ]
     },
     "execution_count": 122,
     "metadata": {},
     "output_type": "execute_result"
    }
   ],
   "source": [
    "a.size() == b.size()"
   ]
  },
  {
   "cell_type": "code",
   "execution_count": 119,
   "metadata": {},
   "outputs": [
    {
     "data": {
      "text/plain": [
       "tensor([[ 4.3877,  3.3466,  0.7851],\n",
       "        [ 2.2437, -0.1509, -0.8282],\n",
       "        [ 1.3333, -1.2580, -1.6293],\n",
       "        [-0.1474,  0.7211, -0.2714],\n",
       "        [ 1.7033,  4.6393, -7.0434],\n",
       "        [ 0.5063, -0.4168, -3.0760],\n",
       "        [ 0.4342,  0.5911, -0.1895],\n",
       "        [-0.1561,  1.5064, -1.5107],\n",
       "        [ 9.3302,  2.7908,  1.0988],\n",
       "        [ 0.1560, -0.0513,  0.1423]])"
      ]
     },
     "execution_count": 119,
     "metadata": {},
     "output_type": "execute_result"
    }
   ],
   "source": [
    "torch.sum(a*b, dim=1)"
   ]
  },
  {
   "cell_type": "code",
   "execution_count": 120,
   "metadata": {},
   "outputs": [
    {
     "data": {
      "text/plain": [
       "tensor([[ 4.3877,  3.3466,  0.7851],\n",
       "        [ 2.2437, -0.1509, -0.8282],\n",
       "        [ 1.3333, -1.2580, -1.6293],\n",
       "        [-0.1474,  0.7211, -0.2714],\n",
       "        [ 1.7033,  4.6393, -7.0434],\n",
       "        [ 0.5063, -0.4168, -3.0760],\n",
       "        [ 0.4342,  0.5911, -0.1895],\n",
       "        [-0.1561,  1.5064, -1.5107],\n",
       "        [ 9.3302,  2.7908,  1.0988],\n",
       "        [ 0.1560, -0.0513,  0.1423]])"
      ]
     },
     "execution_count": 120,
     "metadata": {},
     "output_type": "execute_result"
    }
   ],
   "source": [
    "torch.sum(b*a, dim=1)"
   ]
  },
  {
   "cell_type": "code",
   "execution_count": 91,
   "metadata": {},
   "outputs": [
    {
     "data": {
      "text/plain": [
       "torch.Size([10, 24, 1])"
      ]
     },
     "execution_count": 91,
     "metadata": {},
     "output_type": "execute_result"
    }
   ],
   "source": [
    "torch.matmul(A, x.reshape(10, 24, 1)).size()"
   ]
  },
  {
   "cell_type": "code",
   "execution_count": 65,
   "metadata": {},
   "outputs": [
    {
     "ename": "RuntimeError",
     "evalue": "size mismatch, m1: [240 x 24], m2: [10 x 24] at /opt/conda/conda-bld/pytorch_1579022034529/work/aten/src/TH/generic/THTensorMath.cpp:136",
     "output_type": "error",
     "traceback": [
      "\u001b[0;31m---------------------------------------------------------------------------\u001b[0m",
      "\u001b[0;31mRuntimeError\u001b[0m                              Traceback (most recent call last)",
      "\u001b[0;32m<ipython-input-65-55bafb97385f>\u001b[0m in \u001b[0;36m<module>\u001b[0;34m\u001b[0m\n\u001b[0;32m----> 1\u001b[0;31m \u001b[0mtorch\u001b[0m\u001b[0;34m.\u001b[0m\u001b[0mmm\u001b[0m\u001b[0;34m(\u001b[0m\u001b[0mx\u001b[0m\u001b[0;34m.\u001b[0m\u001b[0mt\u001b[0m\u001b[0;34m(\u001b[0m\u001b[0;34m)\u001b[0m\u001b[0;34m,\u001b[0m \u001b[0mtorch\u001b[0m\u001b[0;34m.\u001b[0m\u001b[0mmatmul\u001b[0m\u001b[0;34m(\u001b[0m\u001b[0mA\u001b[0m\u001b[0;34m,\u001b[0m\u001b[0mx\u001b[0m\u001b[0;34m)\u001b[0m\u001b[0;34m)\u001b[0m\u001b[0;34m\u001b[0m\u001b[0;34m\u001b[0m\u001b[0m\n\u001b[0m",
      "\u001b[0;31mRuntimeError\u001b[0m: size mismatch, m1: [240 x 24], m2: [10 x 24] at /opt/conda/conda-bld/pytorch_1579022034529/work/aten/src/TH/generic/THTensorMath.cpp:136"
     ]
    }
   ],
   "source": [
    "torch.mm(x.t(), torch.matmul(A,x))"
   ]
  },
  {
   "cell_type": "code",
   "execution_count": null,
   "metadata": {},
   "outputs": [],
   "source": [
    "a = torch.tensor()"
   ]
  },
  {
   "cell_type": "code",
   "execution_count": null,
   "metadata": {},
   "outputs": [],
   "source": [
    "np.ones()"
   ]
  },
  {
   "cell_type": "code",
   "execution_count": null,
   "metadata": {},
   "outputs": [],
   "source": [
    "torch."
   ]
  }
 ],
 "metadata": {
  "kernelspec": {
   "display_name": "Python 3",
   "language": "python",
   "name": "python3"
  },
  "language_info": {
   "codemirror_mode": {
    "name": "ipython",
    "version": 3
   },
   "file_extension": ".py",
   "mimetype": "text/x-python",
   "name": "python",
   "nbconvert_exporter": "python",
   "pygments_lexer": "ipython3",
   "version": "3.6.7"
  }
 },
 "nbformat": 4,
 "nbformat_minor": 4
}
