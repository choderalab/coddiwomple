{
 "cells": [
  {
   "cell_type": "markdown",
   "metadata": {},
   "source": [
    "# Attempt to realize a sequential Monte Carlo simulation (in the first suboptimal regime) supported by OpenMM "
   ]
  },
  {
   "cell_type": "markdown",
   "metadata": {},
   "source": [
    "*the first suboptimal regime implies particle weights that respect Eq. 31 in Del Moral, et. al. Sequential Monte Carlo Samplers "
   ]
  },
  {
   "cell_type": "code",
   "execution_count": 1,
   "metadata": {},
   "outputs": [
    {
     "name": "stderr",
     "output_type": "stream",
     "text": [
      "RDKit WARNING: [16:15:15] Enabling RDKit 2019.09.3 jupyter extensions\n"
     ]
    },
    {
     "name": "stdout",
     "output_type": "stream",
     "text": [
      "conducting subsequent work with the following platform: CPU\n",
      "conducting subsequent work with the following platform: CPU\n"
     ]
    }
   ],
   "source": [
    "import pickle\n",
    "import numpy as np\n",
    "from pkg_resources import resource_filename\n",
    "from coddiwomple.openmm.coddiwomple import endstate_equilibration\n",
    "from perses.annihilation.lambda_protocol import RelativeAlchemicalState\n",
    "import os\n",
    "from simtk import unit\n",
    "import mdtraj as md\n",
    "from coddiwomple.openmm.states import OpenMMPDFState, OpenMMParticleState\n",
    "from coddiwomple.distribution_factories import TargetFactory, ProposalFactory\n",
    "from coddiwomple.openmm.integrators import OMMLI\n",
    "from coddiwomple.openmm.propagators import OMMBIP\n",
    "from coddiwomple.particles import Particle\n",
    "from coddiwomple.resamplers import MultinomialResampler\n",
    "from coddiwomple.utils import nESS\n",
    "from copy import deepcopy\n"
   ]
  },
  {
   "cell_type": "code",
   "execution_count": 2,
   "metadata": {},
   "outputs": [
    {
     "name": "stderr",
     "output_type": "stream",
     "text": [
      "DEBUG:openmm_states:successfully instantiated OpenMMPDFState equipped with the following parameters: {'lambda_electrostatics_insert': 0.0, 'lambda_electrostatics': None, 'lambda_angles': 0.0, 'lambda_sterics_core': 0.0, 'lambda_torsions': 0.0, 'lambda_electrostatics_core': 0.0, 'lambda_sterics_delete': 0.0, 'lambda_electrostatics_delete': 0.0, 'lambda_bonds': 0.0, 'lambda_sterics': None, 'lambda_sterics_insert': 0.0}\n"
     ]
    },
    {
     "name": "stdout",
     "output_type": "stream",
     "text": [
      "conducting subsequent work with the following platform: CPU\n"
     ]
    }
   ],
   "source": [
    "#load the factory to retrieve the system\n",
    "factory_pickle = f\"/data/perses_data/benzene_fluorobenzene.vacuum.factory.pkl\"\n",
    "_pickl = resource_filename('coddiwomple', factory_pickle)\n",
    "with open(_pickl, 'rb') as f:\n",
    "    factory = pickle.load(f)\n",
    "\n",
    "#load the endstate cache\n",
    "endstate_cache = md.Trajectory.load(f\"tester/eq.0000.pdb\")\n",
    "\n",
    "#make a pdf state\n",
    "pdf_state = OpenMMPDFState(system = factory.hybrid_system, pressure=None, alchemical_composability = RelativeAlchemicalState)"
   ]
  },
  {
   "cell_type": "code",
   "execution_count": 3,
   "metadata": {},
   "outputs": [],
   "source": [
    "default_functions = {'lambda_sterics_core':\n",
    "                     lambda x: x,\n",
    "                     'lambda_electrostatics_core':\n",
    "                     lambda x: x,\n",
    "                     'lambda_sterics_insert':\n",
    "                     lambda x: 2.0 * x if x < 0.5 else 1.0,\n",
    "                     'lambda_sterics_delete':\n",
    "                     lambda x: 0.0 if x < 0.5 else 2.0 * (x - 0.5),\n",
    "                     'lambda_electrostatics_insert':\n",
    "                     lambda x: 0.0 if x < 0.5 else 2.0 * (x - 0.5),\n",
    "                     'lambda_electrostatics_delete':\n",
    "                     lambda x: 2.0 * x if x < 0.5 else 1.0,\n",
    "                     'lambda_bonds':\n",
    "                     lambda x: x,\n",
    "                     'lambda_angles':\n",
    "                     lambda x: x,\n",
    "                     'lambda_torsions':\n",
    "                     lambda x: x\n",
    "                     }\n",
    "\n",
    "lambda_sequence = [{key: default_functions[key](q) for key in default_functions.keys()} for q in np.linspace(0,1,10)]"
   ]
  },
  {
   "cell_type": "code",
   "execution_count": null,
   "metadata": {},
   "outputs": [],
   "source": []
  },
  {
   "cell_type": "code",
   "execution_count": 4,
   "metadata": {},
   "outputs": [
    {
     "name": "stderr",
     "output_type": "stream",
     "text": [
      "DEBUG:openmm_propagators:initializing OMMLI...\n",
      "DEBUG:openmm_propagators:OMMLI: metropolization is False\n",
      "DEBUG:openmm_propagators:OMMLI: successfully parsed splitting string\n",
      "DEBUG:openmm_propagators:OMMLI: adding global variables...\n",
      "DEBUG:openmm_propagators:OMMLI: adding integrator steps...\n",
      "DEBUG:openmm_propagators:OMMLI: adding substep functions...\n",
      "DEBUG:openmm_propagators:successfully executed ABCMeta init.\n",
      "DEBUG:openmm_propagators:successfully equipped integrator: OMMLI\n",
      "DEBUG:openmm_propagators:integrator printable: None\n",
      "DEBUG:distribution_factories:equipped pdf state and parameter sequence\n",
      "DEBUG:distribution_factories:successfully equipped propagator: <coddiwomple.openmm.propagators.OMMBIP object at 0x7f5f0d849b00>\n"
     ]
    },
    {
     "name": "stdout",
     "output_type": "stream",
     "text": [
      "step      0 : allow forces to update the context state\n",
      "step      1 : if(has_kT_changed = 1):\n",
      "step      2 :    sigma <- sqrt(kT/m)\n",
      "step      3 :    has_kT_changed <- 0\n",
      "step      4 : end\n",
      "step      5 : old_ke <- sum(0.5 * m * v * v)\n",
      "step      6 : v <- v + (dt / 2) * f / m\n",
      "step      7 : constrain velocities\n",
      "step      8 : new_ke <- sum(0.5 * m * v * v)\n",
      "step      9 : shadow_work <- shadow_work + (new_ke - old_ke)\n",
      "step     10 : old_pe <- energy\n",
      "step     11 : old_ke <- sum(0.5 * m * v * v)\n",
      "step     12 : x <- x + ((dt / 2) * v)\n",
      "step     13 : x1 <- x\n",
      "step     14 : constrain positions\n",
      "step     15 : v <- v + ((x - x1) / (dt / 2))\n",
      "step     16 : constrain velocities\n",
      "step     17 : new_pe <- energy\n",
      "step     18 : new_ke <- sum(0.5 * m * v * v)\n",
      "step     19 : shadow_work <- shadow_work + (new_ke + new_pe) - (old_ke + old_pe)\n",
      "step     20 : old_ke <- sum(0.5 * m * v * v)\n",
      "step     21 : v <- (a * v) + (b * sigma * gaussian)\n",
      "step     22 : constrain velocities\n",
      "step     23 : new_ke <- sum(0.5 * m * v * v)\n",
      "step     24 : proposal_work <- proposal_work + -1*(new_ke - old_ke)\n",
      "step     25 : old_pe <- energy\n",
      "step     26 : old_ke <- sum(0.5 * m * v * v)\n",
      "step     27 : x <- x + ((dt / 2) * v)\n",
      "step     28 : x1 <- x\n",
      "step     29 : constrain positions\n",
      "step     30 : v <- v + ((x - x1) / (dt / 2))\n",
      "step     31 : constrain velocities\n",
      "step     32 : new_pe <- energy\n",
      "step     33 : new_ke <- sum(0.5 * m * v * v)\n",
      "step     34 : shadow_work <- shadow_work + (new_ke + new_pe) - (old_ke + old_pe)\n",
      "step     35 : old_ke <- sum(0.5 * m * v * v)\n",
      "step     36 : v <- v + (dt / 2) * f / m\n",
      "step     37 : constrain velocities\n",
      "step     38 : new_ke <- sum(0.5 * m * v * v)\n",
      "step     39 : shadow_work <- shadow_work + (new_ke - old_ke)\n"
     ]
    },
    {
     "name": "stderr",
     "output_type": "stream",
     "text": [
      "DEBUG:openmm_states:successfully instantiated OpenMMPDFState equipped with the following parameters: {'lambda_electrostatics_insert': 0.0, 'lambda_electrostatics': None, 'lambda_angles': 0.0, 'lambda_sterics_core': 0.0, 'lambda_torsions': 0.0, 'lambda_electrostatics_core': 0.0, 'lambda_sterics_delete': 0.0, 'lambda_electrostatics_delete': 0.0, 'lambda_bonds': 0.0, 'lambda_sterics': None, 'lambda_sterics_insert': 0.0}\n"
     ]
    },
    {
     "name": "stdout",
     "output_type": "stream",
     "text": [
      "conducting subsequent work with the following platform: CPU\n"
     ]
    },
    {
     "name": "stderr",
     "output_type": "stream",
     "text": [
      "DEBUG:distribution_factories:equipped pdf state and parameter sequence\n",
      "DEBUG:distribution_factories:set termination parameters as: {'lambda_sterics_core': 1.0, 'lambda_electrostatics_core': 1.0, 'lambda_sterics_insert': 1.0, 'lambda_sterics_delete': 1.0, 'lambda_electrostatics_insert': 1.0, 'lambda_electrostatics_delete': 1.0, 'lambda_bonds': 1.0, 'lambda_angles': 1.0, 'lambda_torsions': 1.0}\n"
     ]
    }
   ],
   "source": [
    "#make a proposal factory and target factory\n",
    "integrator = OMMLI()\n",
    "propagator = OMMBIP(pdf_state, integrator)\n",
    "proposal_factory = ProposalFactory(lambda_sequence, propagator)\n",
    "target_factory = TargetFactory(OpenMMPDFState(system = factory.hybrid_system, pressure=None, alchemical_composability = RelativeAlchemicalState), lambda_sequence, termination_parameters = None)\n"
   ]
  },
  {
   "cell_type": "code",
   "execution_count": 5,
   "metadata": {},
   "outputs": [
    {
     "name": "stderr",
     "output_type": "stream",
     "text": [
      "DEBUG:resamplers:instantiating empty resampling logger\n"
     ]
    }
   ],
   "source": [
    "#make a multinomial resampler\n",
    "observable = nESS\n",
    "def threshold_function(_observable, **kwargs):\n",
    "    returnable = False if _observable > 0.5 else True\n",
    "    return returnable\n",
    "    \n",
    "resampler = MultinomialResampler()"
   ]
  },
  {
   "cell_type": "code",
   "execution_count": 6,
   "metadata": {},
   "outputs": [
    {
     "name": "stderr",
     "output_type": "stream",
     "text": [
      "DEBUG:openmm_states:successfully updated OpenMMPDFState parameters as follows: {'lambda_sterics_core': 0.0, 'lambda_electrostatics_core': 0.0, 'lambda_sterics_insert': 0.0, 'lambda_sterics_delete': 0.0, 'lambda_electrostatics_insert': 0.0, 'lambda_electrostatics_delete': 0.0, 'lambda_bonds': 0.0, 'lambda_angles': 0.0, 'lambda_torsions': 0.0}\n",
      "DEBUG:distribution_factories:generation_pdf is None; using pdf state as generator pdf\n",
      "DEBUG:distribution_factories:initial (importance) work: 0.0 with state reduced potential (15.871405189294213) and generation reduced potential (15.871405189294213)\n",
      "DEBUG:distribution_factories:successfully updated state, proposal work, and auxiliary work as the negative state reduced potential\n",
      "DEBUG:openmm_states:successfully updated OpenMMPDFState parameters as follows: {'lambda_sterics_core': 0.0, 'lambda_electrostatics_core': 0.0, 'lambda_sterics_insert': 0.0, 'lambda_sterics_delete': 0.0, 'lambda_electrostatics_insert': 0.0, 'lambda_electrostatics_delete': 0.0, 'lambda_bonds': 0.0, 'lambda_angles': 0.0, 'lambda_torsions': 0.0}\n",
      "DEBUG:distribution_factories:generation_pdf is None; using pdf state as generator pdf\n",
      "DEBUG:distribution_factories:initial (importance) work: 0.0 with state reduced potential (7.911617383164722) and generation reduced potential (7.911617383164722)\n",
      "DEBUG:distribution_factories:successfully updated state, proposal work, and auxiliary work as the negative state reduced potential\n",
      "DEBUG:openmm_states:successfully updated OpenMMPDFState parameters as follows: {'lambda_sterics_core': 0.0, 'lambda_electrostatics_core': 0.0, 'lambda_sterics_insert': 0.0, 'lambda_sterics_delete': 0.0, 'lambda_electrostatics_insert': 0.0, 'lambda_electrostatics_delete': 0.0, 'lambda_bonds': 0.0, 'lambda_angles': 0.0, 'lambda_torsions': 0.0}\n",
      "DEBUG:distribution_factories:generation_pdf is None; using pdf state as generator pdf\n",
      "DEBUG:distribution_factories:initial (importance) work: 0.0 with state reduced potential (16.212331073787443) and generation reduced potential (16.212331073787443)\n",
      "DEBUG:distribution_factories:successfully updated state, proposal work, and auxiliary work as the negative state reduced potential\n"
     ]
    }
   ],
   "source": [
    "#create particles and equip initial particle states\n",
    "num_particles = 3\n",
    "particles = [Particle(index = idx) for idx in range(num_particles)]\n",
    "\n",
    "n_frames = endstate_cache.n_frames\n",
    "\n",
    "for idx in range(num_particles):\n",
    "    random_frame = np.random.choice(range(n_frames))\n",
    "    positions = endstate_cache.xyz[random_frame] * unit.nanometers\n",
    "    box_vectors = endstate_cache.unitcell_vectors[random_frame]*unit.nanometers\n",
    "    particle_state = OpenMMParticleState(positions=positions, box_vectors = box_vectors)\n",
    "    proposal_factory.equip_initial_sample(particle = particles[idx], \n",
    "                                          initial_particle_state = particle_state, \n",
    "                                          generation_pdf = None)\n"
   ]
  },
  {
   "cell_type": "code",
   "execution_count": 7,
   "metadata": {},
   "outputs": [
    {
     "data": {
      "text/plain": [
       "[0, 0, 0]"
      ]
     },
     "execution_count": 7,
     "metadata": {},
     "output_type": "execute_result"
    }
   ],
   "source": [
    "[particle.iteration for particle in particles]"
   ]
  },
  {
   "cell_type": "code",
   "execution_count": 8,
   "metadata": {},
   "outputs": [
    {
     "name": "stderr",
     "output_type": "stream",
     "text": [
      "DEBUG:openmm_states:successfully updated OpenMMPDFState parameters as follows: {'lambda_sterics_core': 0.1111111111111111, 'lambda_electrostatics_core': 0.1111111111111111, 'lambda_sterics_insert': 0.2222222222222222, 'lambda_sterics_delete': 0.0, 'lambda_electrostatics_insert': 0.0, 'lambda_electrostatics_delete': 0.2222222222222222, 'lambda_bonds': 0.1111111111111111, 'lambda_angles': 0.1111111111111111, 'lambda_torsions': 0.1111111111111111}\n",
      "DEBUG:openmm_states:successfully updated OpenMMPDFState parameters as follows: {'lambda_sterics_core': 0.1111111111111111, 'lambda_electrostatics_core': 0.1111111111111111, 'lambda_sterics_insert': 0.2222222222222222, 'lambda_sterics_delete': 0.0, 'lambda_electrostatics_insert': 0.0, 'lambda_electrostatics_delete': 0.2222222222222222, 'lambda_bonds': 0.1111111111111111, 'lambda_angles': 0.1111111111111111, 'lambda_torsions': 0.1111111111111111}\n",
      "DEBUG:openmm_states:successfully updated OpenMMPDFState parameters as follows: {'lambda_sterics_core': 0.1111111111111111, 'lambda_electrostatics_core': 0.1111111111111111, 'lambda_sterics_insert': 0.2222222222222222, 'lambda_sterics_delete': 0.0, 'lambda_electrostatics_insert': 0.0, 'lambda_electrostatics_delete': 0.2222222222222222, 'lambda_bonds': 0.1111111111111111, 'lambda_angles': 0.1111111111111111, 'lambda_torsions': 0.1111111111111111}\n",
      "DEBUG:openmm_states:successfully updated OpenMMPDFState parameters as follows: {'lambda_sterics_core': 0.1111111111111111, 'lambda_electrostatics_core': 0.1111111111111111, 'lambda_sterics_insert': 0.2222222222222222, 'lambda_sterics_delete': 0.0, 'lambda_electrostatics_insert': 0.0, 'lambda_electrostatics_delete': 0.2222222222222222, 'lambda_bonds': 0.1111111111111111, 'lambda_angles': 0.1111111111111111, 'lambda_torsions': 0.1111111111111111}\n",
      "DEBUG:distribution_factories:propagating at iteration: 1...\n",
      "DEBUG:distribution_factories:propagating 1...\n",
      "DEBUG:distribution_factories:applying move iteration 1/1...\n",
      "DEBUG:distribution_factories:total accumulated proposal work: 0.0\n",
      "DEBUG:openmm_states:successfully updated OpenMMPDFState parameters as follows: {'lambda_sterics_core': 0.1111111111111111, 'lambda_electrostatics_core': 0.1111111111111111, 'lambda_sterics_insert': 0.2222222222222222, 'lambda_sterics_delete': 0.0, 'lambda_electrostatics_insert': 0.0, 'lambda_electrostatics_delete': 0.2222222222222222, 'lambda_bonds': 0.1111111111111111, 'lambda_angles': 0.1111111111111111, 'lambda_torsions': 0.1111111111111111}\n",
      "DEBUG:distribution_factories:propagating at iteration: 1...\n",
      "DEBUG:distribution_factories:propagating 1...\n",
      "DEBUG:distribution_factories:applying move iteration 1/1...\n",
      "DEBUG:distribution_factories:total accumulated proposal work: 0.0\n",
      "DEBUG:openmm_states:successfully updated OpenMMPDFState parameters as follows: {'lambda_sterics_core': 0.1111111111111111, 'lambda_electrostatics_core': 0.1111111111111111, 'lambda_sterics_insert': 0.2222222222222222, 'lambda_sterics_delete': 0.0, 'lambda_electrostatics_insert': 0.0, 'lambda_electrostatics_delete': 0.2222222222222222, 'lambda_bonds': 0.1111111111111111, 'lambda_angles': 0.1111111111111111, 'lambda_torsions': 0.1111111111111111}\n",
      "DEBUG:distribution_factories:propagating at iteration: 1...\n",
      "DEBUG:distribution_factories:propagating 1...\n",
      "DEBUG:distribution_factories:applying move iteration 1/1...\n",
      "DEBUG:distribution_factories:total accumulated proposal work: 0.0\n",
      "DEBUG:resamplers:observable and/or threshold is None; resampling...\n",
      "DEBUG:resamplers:resampling...\n",
      "DEBUG:resamplers:mean cumulative work: 0.25140174371471335 (i.e. complete resampling)\n",
      "DEBUG:resamplers:resampled_indices : [2 2 1]\n",
      "DEBUG:openmm_states:successfully updated OpenMMPDFState parameters as follows: {'lambda_sterics_core': 0.2222222222222222, 'lambda_electrostatics_core': 0.2222222222222222, 'lambda_sterics_insert': 0.4444444444444444, 'lambda_sterics_delete': 0.0, 'lambda_electrostatics_insert': 0.0, 'lambda_electrostatics_delete': 0.4444444444444444, 'lambda_bonds': 0.2222222222222222, 'lambda_angles': 0.2222222222222222, 'lambda_torsions': 0.2222222222222222}\n",
      "DEBUG:openmm_states:successfully updated OpenMMPDFState parameters as follows: {'lambda_sterics_core': 0.2222222222222222, 'lambda_electrostatics_core': 0.2222222222222222, 'lambda_sterics_insert': 0.4444444444444444, 'lambda_sterics_delete': 0.0, 'lambda_electrostatics_insert': 0.0, 'lambda_electrostatics_delete': 0.4444444444444444, 'lambda_bonds': 0.2222222222222222, 'lambda_angles': 0.2222222222222222, 'lambda_torsions': 0.2222222222222222}\n",
      "DEBUG:openmm_states:successfully updated OpenMMPDFState parameters as follows: {'lambda_sterics_core': 0.2222222222222222, 'lambda_electrostatics_core': 0.2222222222222222, 'lambda_sterics_insert': 0.4444444444444444, 'lambda_sterics_delete': 0.0, 'lambda_electrostatics_insert': 0.0, 'lambda_electrostatics_delete': 0.4444444444444444, 'lambda_bonds': 0.2222222222222222, 'lambda_angles': 0.2222222222222222, 'lambda_torsions': 0.2222222222222222}\n",
      "DEBUG:openmm_states:successfully updated OpenMMPDFState parameters as follows: {'lambda_sterics_core': 0.2222222222222222, 'lambda_electrostatics_core': 0.2222222222222222, 'lambda_sterics_insert': 0.4444444444444444, 'lambda_sterics_delete': 0.0, 'lambda_electrostatics_insert': 0.0, 'lambda_electrostatics_delete': 0.4444444444444444, 'lambda_bonds': 0.2222222222222222, 'lambda_angles': 0.2222222222222222, 'lambda_torsions': 0.2222222222222222}\n",
      "DEBUG:distribution_factories:propagating at iteration: 2...\n",
      "DEBUG:distribution_factories:propagating 1...\n",
      "DEBUG:distribution_factories:applying move iteration 1/1...\n",
      "DEBUG:distribution_factories:total accumulated proposal work: 0.0\n",
      "DEBUG:openmm_states:successfully updated OpenMMPDFState parameters as follows: {'lambda_sterics_core': 0.2222222222222222, 'lambda_electrostatics_core': 0.2222222222222222, 'lambda_sterics_insert': 0.4444444444444444, 'lambda_sterics_delete': 0.0, 'lambda_electrostatics_insert': 0.0, 'lambda_electrostatics_delete': 0.4444444444444444, 'lambda_bonds': 0.2222222222222222, 'lambda_angles': 0.2222222222222222, 'lambda_torsions': 0.2222222222222222}\n",
      "DEBUG:distribution_factories:propagating at iteration: 2...\n",
      "DEBUG:distribution_factories:propagating 1...\n",
      "DEBUG:distribution_factories:applying move iteration 1/1...\n",
      "DEBUG:distribution_factories:total accumulated proposal work: 0.0\n",
      "DEBUG:openmm_states:successfully updated OpenMMPDFState parameters as follows: {'lambda_sterics_core': 0.2222222222222222, 'lambda_electrostatics_core': 0.2222222222222222, 'lambda_sterics_insert': 0.4444444444444444, 'lambda_sterics_delete': 0.0, 'lambda_electrostatics_insert': 0.0, 'lambda_electrostatics_delete': 0.4444444444444444, 'lambda_bonds': 0.2222222222222222, 'lambda_angles': 0.2222222222222222, 'lambda_torsions': 0.2222222222222222}\n",
      "DEBUG:distribution_factories:propagating at iteration: 2...\n",
      "DEBUG:distribution_factories:propagating 1...\n",
      "DEBUG:distribution_factories:applying move iteration 1/1...\n",
      "DEBUG:distribution_factories:total accumulated proposal work: 0.0\n",
      "DEBUG:resamplers:observable and/or threshold is None; resampling...\n",
      "DEBUG:resamplers:resampling...\n",
      "DEBUG:resamplers:mean cumulative work: 0.5033148002264538 (i.e. complete resampling)\n",
      "DEBUG:resamplers:resampled_indices : [2 0 0]\n",
      "DEBUG:openmm_states:successfully updated OpenMMPDFState parameters as follows: {'lambda_sterics_core': 0.3333333333333333, 'lambda_electrostatics_core': 0.3333333333333333, 'lambda_sterics_insert': 0.6666666666666666, 'lambda_sterics_delete': 0.0, 'lambda_electrostatics_insert': 0.0, 'lambda_electrostatics_delete': 0.6666666666666666, 'lambda_bonds': 0.3333333333333333, 'lambda_angles': 0.3333333333333333, 'lambda_torsions': 0.3333333333333333}\n",
      "DEBUG:openmm_states:successfully updated OpenMMPDFState parameters as follows: {'lambda_sterics_core': 0.3333333333333333, 'lambda_electrostatics_core': 0.3333333333333333, 'lambda_sterics_insert': 0.6666666666666666, 'lambda_sterics_delete': 0.0, 'lambda_electrostatics_insert': 0.0, 'lambda_electrostatics_delete': 0.6666666666666666, 'lambda_bonds': 0.3333333333333333, 'lambda_angles': 0.3333333333333333, 'lambda_torsions': 0.3333333333333333}\n",
      "DEBUG:openmm_states:successfully updated OpenMMPDFState parameters as follows: {'lambda_sterics_core': 0.3333333333333333, 'lambda_electrostatics_core': 0.3333333333333333, 'lambda_sterics_insert': 0.6666666666666666, 'lambda_sterics_delete': 0.0, 'lambda_electrostatics_insert': 0.0, 'lambda_electrostatics_delete': 0.6666666666666666, 'lambda_bonds': 0.3333333333333333, 'lambda_angles': 0.3333333333333333, 'lambda_torsions': 0.3333333333333333}\n",
      "DEBUG:openmm_states:successfully updated OpenMMPDFState parameters as follows: {'lambda_sterics_core': 0.3333333333333333, 'lambda_electrostatics_core': 0.3333333333333333, 'lambda_sterics_insert': 0.6666666666666666, 'lambda_sterics_delete': 0.0, 'lambda_electrostatics_insert': 0.0, 'lambda_electrostatics_delete': 0.6666666666666666, 'lambda_bonds': 0.3333333333333333, 'lambda_angles': 0.3333333333333333, 'lambda_torsions': 0.3333333333333333}\n",
      "DEBUG:distribution_factories:propagating at iteration: 3...\n",
      "DEBUG:distribution_factories:propagating 1...\n",
      "DEBUG:distribution_factories:applying move iteration 1/1...\n",
      "DEBUG:distribution_factories:total accumulated proposal work: 0.0\n",
      "DEBUG:openmm_states:successfully updated OpenMMPDFState parameters as follows: {'lambda_sterics_core': 0.3333333333333333, 'lambda_electrostatics_core': 0.3333333333333333, 'lambda_sterics_insert': 0.6666666666666666, 'lambda_sterics_delete': 0.0, 'lambda_electrostatics_insert': 0.0, 'lambda_electrostatics_delete': 0.6666666666666666, 'lambda_bonds': 0.3333333333333333, 'lambda_angles': 0.3333333333333333, 'lambda_torsions': 0.3333333333333333}\n",
      "DEBUG:distribution_factories:propagating at iteration: 3...\n",
      "DEBUG:distribution_factories:propagating 1...\n",
      "DEBUG:distribution_factories:applying move iteration 1/1...\n",
      "DEBUG:distribution_factories:total accumulated proposal work: 0.0\n",
      "DEBUG:openmm_states:successfully updated OpenMMPDFState parameters as follows: {'lambda_sterics_core': 0.3333333333333333, 'lambda_electrostatics_core': 0.3333333333333333, 'lambda_sterics_insert': 0.6666666666666666, 'lambda_sterics_delete': 0.0, 'lambda_electrostatics_insert': 0.0, 'lambda_electrostatics_delete': 0.6666666666666666, 'lambda_bonds': 0.3333333333333333, 'lambda_angles': 0.3333333333333333, 'lambda_torsions': 0.3333333333333333}\n",
      "DEBUG:distribution_factories:propagating at iteration: 3...\n",
      "DEBUG:distribution_factories:propagating 1...\n",
      "DEBUG:distribution_factories:applying move iteration 1/1...\n",
      "DEBUG:distribution_factories:total accumulated proposal work: 0.0\n",
      "DEBUG:resamplers:observable and/or threshold is None; resampling...\n",
      "DEBUG:resamplers:resampling...\n",
      "DEBUG:resamplers:mean cumulative work: 0.7550691149153055 (i.e. complete resampling)\n",
      "DEBUG:resamplers:resampled_indices : [1 1 0]\n",
      "DEBUG:openmm_states:successfully updated OpenMMPDFState parameters as follows: {'lambda_sterics_core': 0.4444444444444444, 'lambda_electrostatics_core': 0.4444444444444444, 'lambda_sterics_insert': 0.8888888888888888, 'lambda_sterics_delete': 0.0, 'lambda_electrostatics_insert': 0.0, 'lambda_electrostatics_delete': 0.8888888888888888, 'lambda_bonds': 0.4444444444444444, 'lambda_angles': 0.4444444444444444, 'lambda_torsions': 0.4444444444444444}\n",
      "DEBUG:openmm_states:successfully updated OpenMMPDFState parameters as follows: {'lambda_sterics_core': 0.4444444444444444, 'lambda_electrostatics_core': 0.4444444444444444, 'lambda_sterics_insert': 0.8888888888888888, 'lambda_sterics_delete': 0.0, 'lambda_electrostatics_insert': 0.0, 'lambda_electrostatics_delete': 0.8888888888888888, 'lambda_bonds': 0.4444444444444444, 'lambda_angles': 0.4444444444444444, 'lambda_torsions': 0.4444444444444444}\n",
      "DEBUG:openmm_states:successfully updated OpenMMPDFState parameters as follows: {'lambda_sterics_core': 0.4444444444444444, 'lambda_electrostatics_core': 0.4444444444444444, 'lambda_sterics_insert': 0.8888888888888888, 'lambda_sterics_delete': 0.0, 'lambda_electrostatics_insert': 0.0, 'lambda_electrostatics_delete': 0.8888888888888888, 'lambda_bonds': 0.4444444444444444, 'lambda_angles': 0.4444444444444444, 'lambda_torsions': 0.4444444444444444}\n",
      "DEBUG:openmm_states:successfully updated OpenMMPDFState parameters as follows: {'lambda_sterics_core': 0.4444444444444444, 'lambda_electrostatics_core': 0.4444444444444444, 'lambda_sterics_insert': 0.8888888888888888, 'lambda_sterics_delete': 0.0, 'lambda_electrostatics_insert': 0.0, 'lambda_electrostatics_delete': 0.8888888888888888, 'lambda_bonds': 0.4444444444444444, 'lambda_angles': 0.4444444444444444, 'lambda_torsions': 0.4444444444444444}\n",
      "DEBUG:distribution_factories:propagating at iteration: 4...\n",
      "DEBUG:distribution_factories:propagating 1...\n",
      "DEBUG:distribution_factories:applying move iteration 1/1...\n",
      "DEBUG:distribution_factories:total accumulated proposal work: 0.0\n",
      "DEBUG:openmm_states:successfully updated OpenMMPDFState parameters as follows: {'lambda_sterics_core': 0.4444444444444444, 'lambda_electrostatics_core': 0.4444444444444444, 'lambda_sterics_insert': 0.8888888888888888, 'lambda_sterics_delete': 0.0, 'lambda_electrostatics_insert': 0.0, 'lambda_electrostatics_delete': 0.8888888888888888, 'lambda_bonds': 0.4444444444444444, 'lambda_angles': 0.4444444444444444, 'lambda_torsions': 0.4444444444444444}\n",
      "DEBUG:distribution_factories:propagating at iteration: 4...\n",
      "DEBUG:distribution_factories:propagating 1...\n",
      "DEBUG:distribution_factories:applying move iteration 1/1...\n",
      "DEBUG:distribution_factories:total accumulated proposal work: 0.0\n",
      "DEBUG:openmm_states:successfully updated OpenMMPDFState parameters as follows: {'lambda_sterics_core': 0.4444444444444444, 'lambda_electrostatics_core': 0.4444444444444444, 'lambda_sterics_insert': 0.8888888888888888, 'lambda_sterics_delete': 0.0, 'lambda_electrostatics_insert': 0.0, 'lambda_electrostatics_delete': 0.8888888888888888, 'lambda_bonds': 0.4444444444444444, 'lambda_angles': 0.4444444444444444, 'lambda_torsions': 0.4444444444444444}\n",
      "DEBUG:distribution_factories:propagating at iteration: 4...\n",
      "DEBUG:distribution_factories:propagating 1...\n",
      "DEBUG:distribution_factories:applying move iteration 1/1...\n",
      "DEBUG:distribution_factories:total accumulated proposal work: 0.0\n",
      "DEBUG:resamplers:observable and/or threshold is None; resampling...\n",
      "DEBUG:resamplers:resampling...\n",
      "DEBUG:resamplers:mean cumulative work: 1.0066256748600648 (i.e. complete resampling)\n",
      "DEBUG:resamplers:resampled_indices : [2 1 0]\n",
      "DEBUG:openmm_states:successfully updated OpenMMPDFState parameters as follows: {'lambda_sterics_core': 0.5555555555555556, 'lambda_electrostatics_core': 0.5555555555555556, 'lambda_sterics_insert': 1.0, 'lambda_sterics_delete': 0.11111111111111116, 'lambda_electrostatics_insert': 0.11111111111111116, 'lambda_electrostatics_delete': 1.0, 'lambda_bonds': 0.5555555555555556, 'lambda_angles': 0.5555555555555556, 'lambda_torsions': 0.5555555555555556}\n",
      "DEBUG:openmm_states:successfully updated OpenMMPDFState parameters as follows: {'lambda_sterics_core': 0.5555555555555556, 'lambda_electrostatics_core': 0.5555555555555556, 'lambda_sterics_insert': 1.0, 'lambda_sterics_delete': 0.11111111111111116, 'lambda_electrostatics_insert': 0.11111111111111116, 'lambda_electrostatics_delete': 1.0, 'lambda_bonds': 0.5555555555555556, 'lambda_angles': 0.5555555555555556, 'lambda_torsions': 0.5555555555555556}\n",
      "DEBUG:openmm_states:successfully updated OpenMMPDFState parameters as follows: {'lambda_sterics_core': 0.5555555555555556, 'lambda_electrostatics_core': 0.5555555555555556, 'lambda_sterics_insert': 1.0, 'lambda_sterics_delete': 0.11111111111111116, 'lambda_electrostatics_insert': 0.11111111111111116, 'lambda_electrostatics_delete': 1.0, 'lambda_bonds': 0.5555555555555556, 'lambda_angles': 0.5555555555555556, 'lambda_torsions': 0.5555555555555556}\n",
      "DEBUG:openmm_states:successfully updated OpenMMPDFState parameters as follows: {'lambda_sterics_core': 0.5555555555555556, 'lambda_electrostatics_core': 0.5555555555555556, 'lambda_sterics_insert': 1.0, 'lambda_sterics_delete': 0.11111111111111116, 'lambda_electrostatics_insert': 0.11111111111111116, 'lambda_electrostatics_delete': 1.0, 'lambda_bonds': 0.5555555555555556, 'lambda_angles': 0.5555555555555556, 'lambda_torsions': 0.5555555555555556}\n",
      "DEBUG:distribution_factories:propagating at iteration: 5...\n",
      "DEBUG:distribution_factories:propagating 1...\n",
      "DEBUG:distribution_factories:applying move iteration 1/1...\n",
      "DEBUG:distribution_factories:total accumulated proposal work: 0.0\n",
      "DEBUG:openmm_states:successfully updated OpenMMPDFState parameters as follows: {'lambda_sterics_core': 0.5555555555555556, 'lambda_electrostatics_core': 0.5555555555555556, 'lambda_sterics_insert': 1.0, 'lambda_sterics_delete': 0.11111111111111116, 'lambda_electrostatics_insert': 0.11111111111111116, 'lambda_electrostatics_delete': 1.0, 'lambda_bonds': 0.5555555555555556, 'lambda_angles': 0.5555555555555556, 'lambda_torsions': 0.5555555555555556}\n",
      "DEBUG:distribution_factories:propagating at iteration: 5...\n",
      "DEBUG:distribution_factories:propagating 1...\n",
      "DEBUG:distribution_factories:applying move iteration 1/1...\n",
      "DEBUG:distribution_factories:total accumulated proposal work: 0.0\n",
      "DEBUG:openmm_states:successfully updated OpenMMPDFState parameters as follows: {'lambda_sterics_core': 0.5555555555555556, 'lambda_electrostatics_core': 0.5555555555555556, 'lambda_sterics_insert': 1.0, 'lambda_sterics_delete': 0.11111111111111116, 'lambda_electrostatics_insert': 0.11111111111111116, 'lambda_electrostatics_delete': 1.0, 'lambda_bonds': 0.5555555555555556, 'lambda_angles': 0.5555555555555556, 'lambda_torsions': 0.5555555555555556}\n",
      "DEBUG:distribution_factories:propagating at iteration: 5...\n",
      "DEBUG:distribution_factories:propagating 1...\n",
      "DEBUG:distribution_factories:applying move iteration 1/1...\n",
      "DEBUG:distribution_factories:total accumulated proposal work: 0.0\n",
      "DEBUG:resamplers:observable and/or threshold is None; resampling...\n",
      "DEBUG:resamplers:resampling...\n",
      "DEBUG:resamplers:mean cumulative work: 1.1556340594026424 (i.e. complete resampling)\n",
      "DEBUG:resamplers:resampled_indices : [1 2 2]\n",
      "DEBUG:openmm_states:successfully updated OpenMMPDFState parameters as follows: {'lambda_sterics_core': 0.6666666666666666, 'lambda_electrostatics_core': 0.6666666666666666, 'lambda_sterics_insert': 1.0, 'lambda_sterics_delete': 0.33333333333333326, 'lambda_electrostatics_insert': 0.33333333333333326, 'lambda_electrostatics_delete': 1.0, 'lambda_bonds': 0.6666666666666666, 'lambda_angles': 0.6666666666666666, 'lambda_torsions': 0.6666666666666666}\n",
      "DEBUG:openmm_states:successfully updated OpenMMPDFState parameters as follows: {'lambda_sterics_core': 0.6666666666666666, 'lambda_electrostatics_core': 0.6666666666666666, 'lambda_sterics_insert': 1.0, 'lambda_sterics_delete': 0.33333333333333326, 'lambda_electrostatics_insert': 0.33333333333333326, 'lambda_electrostatics_delete': 1.0, 'lambda_bonds': 0.6666666666666666, 'lambda_angles': 0.6666666666666666, 'lambda_torsions': 0.6666666666666666}\n",
      "DEBUG:openmm_states:successfully updated OpenMMPDFState parameters as follows: {'lambda_sterics_core': 0.6666666666666666, 'lambda_electrostatics_core': 0.6666666666666666, 'lambda_sterics_insert': 1.0, 'lambda_sterics_delete': 0.33333333333333326, 'lambda_electrostatics_insert': 0.33333333333333326, 'lambda_electrostatics_delete': 1.0, 'lambda_bonds': 0.6666666666666666, 'lambda_angles': 0.6666666666666666, 'lambda_torsions': 0.6666666666666666}\n",
      "DEBUG:openmm_states:successfully updated OpenMMPDFState parameters as follows: {'lambda_sterics_core': 0.6666666666666666, 'lambda_electrostatics_core': 0.6666666666666666, 'lambda_sterics_insert': 1.0, 'lambda_sterics_delete': 0.33333333333333326, 'lambda_electrostatics_insert': 0.33333333333333326, 'lambda_electrostatics_delete': 1.0, 'lambda_bonds': 0.6666666666666666, 'lambda_angles': 0.6666666666666666, 'lambda_torsions': 0.6666666666666666}\n",
      "DEBUG:distribution_factories:propagating at iteration: 6...\n",
      "DEBUG:distribution_factories:propagating 1...\n",
      "DEBUG:distribution_factories:applying move iteration 1/1...\n",
      "DEBUG:distribution_factories:total accumulated proposal work: 0.0\n",
      "DEBUG:openmm_states:successfully updated OpenMMPDFState parameters as follows: {'lambda_sterics_core': 0.6666666666666666, 'lambda_electrostatics_core': 0.6666666666666666, 'lambda_sterics_insert': 1.0, 'lambda_sterics_delete': 0.33333333333333326, 'lambda_electrostatics_insert': 0.33333333333333326, 'lambda_electrostatics_delete': 1.0, 'lambda_bonds': 0.6666666666666666, 'lambda_angles': 0.6666666666666666, 'lambda_torsions': 0.6666666666666666}\n",
      "DEBUG:distribution_factories:propagating at iteration: 6...\n",
      "DEBUG:distribution_factories:propagating 1...\n",
      "DEBUG:distribution_factories:applying move iteration 1/1...\n",
      "DEBUG:distribution_factories:total accumulated proposal work: 0.0\n",
      "DEBUG:openmm_states:successfully updated OpenMMPDFState parameters as follows: {'lambda_sterics_core': 0.6666666666666666, 'lambda_electrostatics_core': 0.6666666666666666, 'lambda_sterics_insert': 1.0, 'lambda_sterics_delete': 0.33333333333333326, 'lambda_electrostatics_insert': 0.33333333333333326, 'lambda_electrostatics_delete': 1.0, 'lambda_bonds': 0.6666666666666666, 'lambda_angles': 0.6666666666666666, 'lambda_torsions': 0.6666666666666666}\n",
      "DEBUG:distribution_factories:propagating at iteration: 6...\n",
      "DEBUG:distribution_factories:propagating 1...\n",
      "DEBUG:distribution_factories:applying move iteration 1/1...\n",
      "DEBUG:distribution_factories:total accumulated proposal work: 0.0\n",
      "DEBUG:resamplers:observable and/or threshold is None; resampling...\n",
      "DEBUG:resamplers:resampling...\n",
      "DEBUG:resamplers:mean cumulative work: 1.2012841584874063 (i.e. complete resampling)\n",
      "DEBUG:resamplers:resampled_indices : [2 0 2]\n",
      "DEBUG:openmm_states:successfully updated OpenMMPDFState parameters as follows: {'lambda_sterics_core': 0.7777777777777777, 'lambda_electrostatics_core': 0.7777777777777777, 'lambda_sterics_insert': 1.0, 'lambda_sterics_delete': 0.5555555555555554, 'lambda_electrostatics_insert': 0.5555555555555554, 'lambda_electrostatics_delete': 1.0, 'lambda_bonds': 0.7777777777777777, 'lambda_angles': 0.7777777777777777, 'lambda_torsions': 0.7777777777777777}\n",
      "DEBUG:openmm_states:successfully updated OpenMMPDFState parameters as follows: {'lambda_sterics_core': 0.7777777777777777, 'lambda_electrostatics_core': 0.7777777777777777, 'lambda_sterics_insert': 1.0, 'lambda_sterics_delete': 0.5555555555555554, 'lambda_electrostatics_insert': 0.5555555555555554, 'lambda_electrostatics_delete': 1.0, 'lambda_bonds': 0.7777777777777777, 'lambda_angles': 0.7777777777777777, 'lambda_torsions': 0.7777777777777777}\n",
      "DEBUG:openmm_states:successfully updated OpenMMPDFState parameters as follows: {'lambda_sterics_core': 0.7777777777777777, 'lambda_electrostatics_core': 0.7777777777777777, 'lambda_sterics_insert': 1.0, 'lambda_sterics_delete': 0.5555555555555554, 'lambda_electrostatics_insert': 0.5555555555555554, 'lambda_electrostatics_delete': 1.0, 'lambda_bonds': 0.7777777777777777, 'lambda_angles': 0.7777777777777777, 'lambda_torsions': 0.7777777777777777}\n",
      "DEBUG:openmm_states:successfully updated OpenMMPDFState parameters as follows: {'lambda_sterics_core': 0.7777777777777777, 'lambda_electrostatics_core': 0.7777777777777777, 'lambda_sterics_insert': 1.0, 'lambda_sterics_delete': 0.5555555555555554, 'lambda_electrostatics_insert': 0.5555555555555554, 'lambda_electrostatics_delete': 1.0, 'lambda_bonds': 0.7777777777777777, 'lambda_angles': 0.7777777777777777, 'lambda_torsions': 0.7777777777777777}\n",
      "DEBUG:distribution_factories:propagating at iteration: 7...\n",
      "DEBUG:distribution_factories:propagating 1...\n",
      "DEBUG:distribution_factories:applying move iteration 1/1...\n",
      "DEBUG:distribution_factories:total accumulated proposal work: 0.0\n",
      "DEBUG:openmm_states:successfully updated OpenMMPDFState parameters as follows: {'lambda_sterics_core': 0.7777777777777777, 'lambda_electrostatics_core': 0.7777777777777777, 'lambda_sterics_insert': 1.0, 'lambda_sterics_delete': 0.5555555555555554, 'lambda_electrostatics_insert': 0.5555555555555554, 'lambda_electrostatics_delete': 1.0, 'lambda_bonds': 0.7777777777777777, 'lambda_angles': 0.7777777777777777, 'lambda_torsions': 0.7777777777777777}\n",
      "DEBUG:distribution_factories:propagating at iteration: 7...\n",
      "DEBUG:distribution_factories:propagating 1...\n",
      "DEBUG:distribution_factories:applying move iteration 1/1...\n",
      "DEBUG:distribution_factories:total accumulated proposal work: 0.0\n",
      "DEBUG:openmm_states:successfully updated OpenMMPDFState parameters as follows: {'lambda_sterics_core': 0.7777777777777777, 'lambda_electrostatics_core': 0.7777777777777777, 'lambda_sterics_insert': 1.0, 'lambda_sterics_delete': 0.5555555555555554, 'lambda_electrostatics_insert': 0.5555555555555554, 'lambda_electrostatics_delete': 1.0, 'lambda_bonds': 0.7777777777777777, 'lambda_angles': 0.7777777777777777, 'lambda_torsions': 0.7777777777777777}\n",
      "DEBUG:distribution_factories:propagating at iteration: 7...\n",
      "DEBUG:distribution_factories:propagating 1...\n",
      "DEBUG:distribution_factories:applying move iteration 1/1...\n",
      "DEBUG:distribution_factories:total accumulated proposal work: 0.0\n",
      "DEBUG:resamplers:observable and/or threshold is None; resampling...\n",
      "DEBUG:resamplers:resampling...\n",
      "DEBUG:resamplers:mean cumulative work: 1.2467778872506097 (i.e. complete resampling)\n",
      "DEBUG:resamplers:resampled_indices : [2 0 1]\n",
      "DEBUG:openmm_states:successfully updated OpenMMPDFState parameters as follows: {'lambda_sterics_core': 0.8888888888888888, 'lambda_electrostatics_core': 0.8888888888888888, 'lambda_sterics_insert': 1.0, 'lambda_sterics_delete': 0.7777777777777777, 'lambda_electrostatics_insert': 0.7777777777777777, 'lambda_electrostatics_delete': 1.0, 'lambda_bonds': 0.8888888888888888, 'lambda_angles': 0.8888888888888888, 'lambda_torsions': 0.8888888888888888}\n",
      "DEBUG:openmm_states:successfully updated OpenMMPDFState parameters as follows: {'lambda_sterics_core': 0.8888888888888888, 'lambda_electrostatics_core': 0.8888888888888888, 'lambda_sterics_insert': 1.0, 'lambda_sterics_delete': 0.7777777777777777, 'lambda_electrostatics_insert': 0.7777777777777777, 'lambda_electrostatics_delete': 1.0, 'lambda_bonds': 0.8888888888888888, 'lambda_angles': 0.8888888888888888, 'lambda_torsions': 0.8888888888888888}\n",
      "DEBUG:openmm_states:successfully updated OpenMMPDFState parameters as follows: {'lambda_sterics_core': 0.8888888888888888, 'lambda_electrostatics_core': 0.8888888888888888, 'lambda_sterics_insert': 1.0, 'lambda_sterics_delete': 0.7777777777777777, 'lambda_electrostatics_insert': 0.7777777777777777, 'lambda_electrostatics_delete': 1.0, 'lambda_bonds': 0.8888888888888888, 'lambda_angles': 0.8888888888888888, 'lambda_torsions': 0.8888888888888888}\n",
      "DEBUG:openmm_states:successfully updated OpenMMPDFState parameters as follows: {'lambda_sterics_core': 0.8888888888888888, 'lambda_electrostatics_core': 0.8888888888888888, 'lambda_sterics_insert': 1.0, 'lambda_sterics_delete': 0.7777777777777777, 'lambda_electrostatics_insert': 0.7777777777777777, 'lambda_electrostatics_delete': 1.0, 'lambda_bonds': 0.8888888888888888, 'lambda_angles': 0.8888888888888888, 'lambda_torsions': 0.8888888888888888}\n",
      "DEBUG:distribution_factories:propagating at iteration: 8...\n",
      "DEBUG:distribution_factories:propagating 1...\n",
      "DEBUG:distribution_factories:applying move iteration 1/1...\n",
      "DEBUG:distribution_factories:total accumulated proposal work: 0.0\n",
      "DEBUG:openmm_states:successfully updated OpenMMPDFState parameters as follows: {'lambda_sterics_core': 0.8888888888888888, 'lambda_electrostatics_core': 0.8888888888888888, 'lambda_sterics_insert': 1.0, 'lambda_sterics_delete': 0.7777777777777777, 'lambda_electrostatics_insert': 0.7777777777777777, 'lambda_electrostatics_delete': 1.0, 'lambda_bonds': 0.8888888888888888, 'lambda_angles': 0.8888888888888888, 'lambda_torsions': 0.8888888888888888}\n",
      "DEBUG:distribution_factories:propagating at iteration: 8...\n",
      "DEBUG:distribution_factories:propagating 1...\n",
      "DEBUG:distribution_factories:applying move iteration 1/1...\n",
      "DEBUG:distribution_factories:total accumulated proposal work: 0.0\n",
      "DEBUG:openmm_states:successfully updated OpenMMPDFState parameters as follows: {'lambda_sterics_core': 0.8888888888888888, 'lambda_electrostatics_core': 0.8888888888888888, 'lambda_sterics_insert': 1.0, 'lambda_sterics_delete': 0.7777777777777777, 'lambda_electrostatics_insert': 0.7777777777777777, 'lambda_electrostatics_delete': 1.0, 'lambda_bonds': 0.8888888888888888, 'lambda_angles': 0.8888888888888888, 'lambda_torsions': 0.8888888888888888}\n",
      "DEBUG:distribution_factories:propagating at iteration: 8...\n",
      "DEBUG:distribution_factories:propagating 1...\n",
      "DEBUG:distribution_factories:applying move iteration 1/1...\n",
      "DEBUG:distribution_factories:total accumulated proposal work: 0.0\n",
      "DEBUG:resamplers:observable and/or threshold is None; resampling...\n",
      "DEBUG:resamplers:resampling...\n",
      "DEBUG:resamplers:mean cumulative work: 1.2921777946754733 (i.e. complete resampling)\n",
      "DEBUG:resamplers:resampled_indices : [0 2 0]\n",
      "DEBUG:openmm_states:successfully updated OpenMMPDFState parameters as follows: {'lambda_sterics_core': 1.0, 'lambda_electrostatics_core': 1.0, 'lambda_sterics_insert': 1.0, 'lambda_sterics_delete': 1.0, 'lambda_electrostatics_insert': 1.0, 'lambda_electrostatics_delete': 1.0, 'lambda_bonds': 1.0, 'lambda_angles': 1.0, 'lambda_torsions': 1.0}\n",
      "DEBUG:openmm_states:successfully updated OpenMMPDFState parameters as follows: {'lambda_sterics_core': 1.0, 'lambda_electrostatics_core': 1.0, 'lambda_sterics_insert': 1.0, 'lambda_sterics_delete': 1.0, 'lambda_electrostatics_insert': 1.0, 'lambda_electrostatics_delete': 1.0, 'lambda_bonds': 1.0, 'lambda_angles': 1.0, 'lambda_torsions': 1.0}\n",
      "DEBUG:openmm_states:successfully updated OpenMMPDFState parameters as follows: {'lambda_sterics_core': 1.0, 'lambda_electrostatics_core': 1.0, 'lambda_sterics_insert': 1.0, 'lambda_sterics_delete': 1.0, 'lambda_electrostatics_insert': 1.0, 'lambda_electrostatics_delete': 1.0, 'lambda_bonds': 1.0, 'lambda_angles': 1.0, 'lambda_torsions': 1.0}\n",
      "DEBUG:openmm_states:successfully updated OpenMMPDFState parameters as follows: {'lambda_sterics_core': 1.0, 'lambda_electrostatics_core': 1.0, 'lambda_sterics_insert': 1.0, 'lambda_sterics_delete': 1.0, 'lambda_electrostatics_insert': 1.0, 'lambda_electrostatics_delete': 1.0, 'lambda_bonds': 1.0, 'lambda_angles': 1.0, 'lambda_torsions': 1.0}\n",
      "DEBUG:distribution_factories:propagating at iteration: 9...\n",
      "DEBUG:distribution_factories:propagating 1...\n",
      "DEBUG:distribution_factories:applying move iteration 1/1...\n",
      "DEBUG:distribution_factories:total accumulated proposal work: 0.0\n",
      "DEBUG:openmm_states:successfully updated OpenMMPDFState parameters as follows: {'lambda_sterics_core': 1.0, 'lambda_electrostatics_core': 1.0, 'lambda_sterics_insert': 1.0, 'lambda_sterics_delete': 1.0, 'lambda_electrostatics_insert': 1.0, 'lambda_electrostatics_delete': 1.0, 'lambda_bonds': 1.0, 'lambda_angles': 1.0, 'lambda_torsions': 1.0}\n",
      "DEBUG:distribution_factories:propagating at iteration: 9...\n",
      "DEBUG:distribution_factories:propagating 1...\n",
      "DEBUG:distribution_factories:applying move iteration 1/1...\n",
      "DEBUG:distribution_factories:total accumulated proposal work: 0.0\n",
      "DEBUG:openmm_states:successfully updated OpenMMPDFState parameters as follows: {'lambda_sterics_core': 1.0, 'lambda_electrostatics_core': 1.0, 'lambda_sterics_insert': 1.0, 'lambda_sterics_delete': 1.0, 'lambda_electrostatics_insert': 1.0, 'lambda_electrostatics_delete': 1.0, 'lambda_bonds': 1.0, 'lambda_angles': 1.0, 'lambda_torsions': 1.0}\n",
      "DEBUG:distribution_factories:propagating at iteration: 9...\n",
      "DEBUG:distribution_factories:propagating 1...\n",
      "DEBUG:distribution_factories:applying move iteration 1/1...\n",
      "DEBUG:distribution_factories:total accumulated proposal work: 0.0\n",
      "DEBUG:resamplers:observable and/or threshold is None; resampling...\n",
      "DEBUG:resamplers:resampling...\n",
      "DEBUG:resamplers:mean cumulative work: 1.3375883056206388 (i.e. complete resampling)\n",
      "DEBUG:resamplers:resampled_indices : [0 2 0]\n"
     ]
    }
   ],
   "source": [
    "#main loop\n",
    "while True:\n",
    "    #update the iteration\n",
    "    [particle.update_iteration() for particle in particles]\n",
    "    \n",
    "    #compute incremental works\n",
    "    incremental_works = np.array([target_factory.compute_incremental_work(particle, neglect_proposal_work = True) for particle in particles])\n",
    "    \n",
    "    #propagate particles\n",
    "    [proposal_factory.propagate(particle) for particle in particles]\n",
    "    \n",
    "    #resample\n",
    "    #resampler.resample(particles, incremental_works, observable = nESS, threshold = threshold_function, update_particle_indices = True)\n",
    "    resampler.resample(particles, incremental_works, None, None)\n",
    "    \n",
    "    #ask to terminate\n",
    "    if all(target_factory.terminate(particle) for particle in particles):\n",
    "        break\n",
    "    else:\n",
    "        #update the auxiliary works...\n",
    "        [particle.zero_auxiliary_work() for particle in particles]\n",
    "        [particle.update_auxiliary_work(-target_factory.pdf_state.reduced_potential(particle.state)) for particle in particles]\n",
    "    "
   ]
  },
  {
   "cell_type": "code",
   "execution_count": 12,
   "metadata": {},
   "outputs": [
    {
     "data": {
      "text/plain": [
       "[1.3375883056206388, 1.3375883056206388, 1.3375883056206388]"
      ]
     },
     "execution_count": 12,
     "metadata": {},
     "output_type": "execute_result"
    }
   ],
   "source": [
    "[sum(particle.incremental_works) for particle in particles]"
   ]
  },
  {
   "cell_type": "markdown",
   "metadata": {},
   "source": [
    "seems to work!"
   ]
  },
  {
   "cell_type": "code",
   "execution_count": null,
   "metadata": {},
   "outputs": [],
   "source": []
  }
 ],
 "metadata": {
  "kernelspec": {
   "display_name": "Python 3",
   "language": "python",
   "name": "python3"
  },
  "language_info": {
   "codemirror_mode": {
    "name": "ipython",
    "version": 3
   },
   "file_extension": ".py",
   "mimetype": "text/x-python",
   "name": "python",
   "nbconvert_exporter": "python",
   "pygments_lexer": "ipython3",
   "version": "3.6.7"
  }
 },
 "nbformat": 4,
 "nbformat_minor": 4
}
