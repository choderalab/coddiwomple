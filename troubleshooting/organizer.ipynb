{
 "cells": [
  {
   "cell_type": "markdown",
   "metadata": {},
   "source": [
    "# I attempt to demonstrate a functioning example of SMC with `coddiwomple` in the `OpenMM` regime"
   ]
  },
  {
   "cell_type": "code",
   "execution_count": null,
   "metadata": {},
   "outputs": [],
   "source": [
    "from openmmtools import testsystems\n",
    "from openmmtools.alchemy import AbsoluteAlchemicalFactory, AlchemicalRegion\n",
    "from coddiwomple.openmm_adapters import *\n",
    "from coddiwomple.particles import Particle\n",
    "from simtk import unit\n",
    "import copy\n",
    "import numpy as np"
   ]
  },
  {
   "cell_type": "code",
   "execution_count": null,
   "metadata": {},
   "outputs": [],
   "source": [
    "#the target factory:\n",
    "ala_vac_sys = testsystems.AlanineDipeptideVacuum().system\n",
    "factory = AbsoluteAlchemicalFactory(consistent_exceptions = False)\n",
    "alchemical_region = AlchemicalRegion(alchemical_atoms=range(22))\n",
    "alanine_alchemical_system = factory.create_alchemical_system(reference_system=ala_vac_sys,\n",
    "                                                            alchemical_regions = alchemical_region)\n",
    "\n"
   ]
  },
  {
   "cell_type": "markdown",
   "metadata": {},
   "source": [
    "## the first thing we will do is to generate a pdf file holding all of the positions of the model at the prior distribution"
   ]
  },
  {
   "cell_type": "code",
   "execution_count": null,
   "metadata": {},
   "outputs": [],
   "source": [
    "#generate openmm pdf states...\n",
    "proposal_pdf_state = OpenMMPDFState(system = alanine_alchemical_system, pressure = None)"
   ]
  },
  {
   "cell_type": "code",
   "execution_count": null,
   "metadata": {},
   "outputs": [],
   "source": [
    "#build a target/proposal factory\n",
    "propagator = OpenMMLangevinDynamicsSplittingMove(n_steps = 1)\n",
    "elecs = np.append(np.linspace(1.0, 0.0, 50), np.zeros(50))\n",
    "sterics = np.linspace(1.0, 0.0, 100)\n",
    "parameter_sequence = [{'lambda_electrostatics': i, 'lambda_sterics': j} for i,j in zip(elecs, sterics)]\n",
    "proposal_factory = OpenMMProposalFactory(proposal_pdf_state, parameter_sequence, propagator)"
   ]
  },
  {
   "cell_type": "code",
   "execution_count": null,
   "metadata": {},
   "outputs": [],
   "source": [
    "import os\n",
    "os.system(f\"rm -r test\")\n",
    "reporter = OpenMMReporter(trajectory_directory = 'test',\n",
    "                 trajectory_prefix = 'alanine',\n",
    "                 topology = testsystems.AlanineDipeptideVacuum().topology,\n",
    "                 subset_indices = None)"
   ]
  },
  {
   "cell_type": "code",
   "execution_count": null,
   "metadata": {},
   "outputs": [],
   "source": [
    "particle = Particle(0)\n",
    "particle._state = OpenMMParticleState(positions = testsystems.AlanineDipeptideVacuum().positions)\n",
    "particle.update_work(0.)"
   ]
  },
  {
   "cell_type": "code",
   "execution_count": null,
   "metadata": {},
   "outputs": [],
   "source": [
    "particle.incremental_works"
   ]
  },
  {
   "cell_type": "code",
   "execution_count": null,
   "metadata": {},
   "outputs": [],
   "source": [
    "mod_particle, heat = proposal_factory.propagate(particle)"
   ]
  },
  {
   "cell_type": "code",
   "execution_count": null,
   "metadata": {},
   "outputs": [],
   "source": [
    "import tqdm\n",
    "for q in tqdm.trange(500):\n",
    "    mod_particle, heat = proposal_factory.propagate(particle)\n",
    "    if q == range(100)[-1]:\n",
    "        reporter.record([particle], save_to_disk = True)\n",
    "    else:\n",
    "        reporter.record([particle], save_to_disk = True)"
   ]
  },
  {
   "cell_type": "code",
   "execution_count": null,
   "metadata": {},
   "outputs": [],
   "source": [
    "vars(reporter)"
   ]
  },
  {
   "cell_type": "code",
   "execution_count": null,
   "metadata": {},
   "outputs": [],
   "source": []
  }
 ],
 "metadata": {
  "kernelspec": {
   "display_name": "Python 3",
   "language": "python",
   "name": "python3"
  },
  "language_info": {
   "codemirror_mode": {
    "name": "ipython",
    "version": 3
   },
   "file_extension": ".py",
   "mimetype": "text/x-python",
   "name": "python",
   "nbconvert_exporter": "python",
   "pygments_lexer": "ipython3",
   "version": "3.6.7"
  }
 },
 "nbformat": 4,
 "nbformat_minor": 4
}
