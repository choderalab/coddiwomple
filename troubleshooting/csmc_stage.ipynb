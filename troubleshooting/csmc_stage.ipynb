{
 "cells": [
  {
   "cell_type": "code",
   "execution_count": 474,
   "metadata": {},
   "outputs": [
    {
     "name": "stdout",
     "output_type": "stream",
     "text": [
      "yes\n",
      "CPU times: user 0 ns, sys: 0 ns, total: 0 ns\n",
      "Wall time: 201 µs\n"
     ]
    }
   ],
   "source": [
    "%%time\n",
    "print('yes')"
   ]
  },
  {
   "cell_type": "code",
   "execution_count": 475,
   "metadata": {},
   "outputs": [],
   "source": [
    "%matplotlib inline\n",
    "\n",
    "import matplotlib\n",
    "import numpy as np\n",
    "import matplotlib.pyplot as plt\n",
    "import seaborn as sns"
   ]
  },
  {
   "cell_type": "code",
   "execution_count": null,
   "metadata": {},
   "outputs": [],
   "source": []
  },
  {
   "cell_type": "code",
   "execution_count": 471,
   "metadata": {},
   "outputs": [],
   "source": [
    "import numpy as np\n",
    "import torch as t\n",
    "t.autograd.set_detect_anomaly(True)\n",
    "import tqdm\n",
    "from torch.distributions.multivariate_normal import MultivariateNormal\n",
    "import time"
   ]
  },
  {
   "cell_type": "code",
   "execution_count": 465,
   "metadata": {},
   "outputs": [],
   "source": [
    "from csmc import *"
   ]
  },
  {
   "cell_type": "code",
   "execution_count": 466,
   "metadata": {},
   "outputs": [],
   "source": [
    "def potential(x, _lambda, **kwargs):\n",
    "    \"\"\"\n",
    "    \"\"\"\n",
    "    \n",
    "    return ((1. - _lambda)*(x**2) + _lambda * (0.5 * (x-1)**2)).sum()"
   ]
  },
  {
   "cell_type": "code",
   "execution_count": 479,
   "metadata": {},
   "outputs": [],
   "source": [
    "def numpy_potential(x, _lambda):\n",
    "    return np.sum((1. - _lambda)*(x**2) + _lambda*(0.5 * (x-1.)**2))"
   ]
  },
  {
   "cell_type": "code",
   "execution_count": 476,
   "metadata": {},
   "outputs": [
    {
     "name": "stdout",
     "output_type": "stream",
     "text": [
      "CPU times: user 0 ns, sys: 0 ns, total: 0 ns\n",
      "Wall time: 438 µs\n"
     ]
    }
   ],
   "source": [
    "%%time\n",
    "x = t.tensor([0.], requires_grad=True)"
   ]
  },
  {
   "cell_type": "code",
   "execution_count": 489,
   "metadata": {},
   "outputs": [
    {
     "name": "stdout",
     "output_type": "stream",
     "text": [
      "CPU times: user 15.6 ms, sys: 0 ns, total: 15.6 ms\n",
      "Wall time: 7.36 ms\n"
     ]
    }
   ],
   "source": [
    "%%time\n",
    "x = t.tensor([0.], requires_grad=True)\n",
    "pot = potential(x, 0.)\n",
    "pot.backward()"
   ]
  },
  {
   "cell_type": "code",
   "execution_count": 490,
   "metadata": {},
   "outputs": [
    {
     "name": "stdout",
     "output_type": "stream",
     "text": [
      "CPU times: user 0 ns, sys: 0 ns, total: 0 ns\n",
      "Wall time: 123 µs\n"
     ]
    }
   ],
   "source": [
    "%%time\n",
    "x = np.array([0.])\n",
    "pot = numpy_potential(x, 0.)"
   ]
  },
  {
   "cell_type": "code",
   "execution_count": 491,
   "metadata": {},
   "outputs": [
    {
     "data": {
      "text/plain": [
       "2.220446049250313e-16"
      ]
     },
     "execution_count": 491,
     "metadata": {},
     "output_type": "execute_result"
    }
   ],
   "source": [
    "np.finfo(float).eps"
   ]
  },
  {
   "cell_type": "code",
   "execution_count": 492,
   "metadata": {},
   "outputs": [
    {
     "name": "stdout",
     "output_type": "stream",
     "text": [
      "CPU times: user 0 ns, sys: 0 ns, total: 0 ns\n",
      "Wall time: 130 µs\n"
     ]
    },
    {
     "data": {
      "text/plain": [
       "array([  2.        , 400.00000381])"
      ]
     },
     "execution_count": 492,
     "metadata": {},
     "output_type": "execute_result"
    }
   ],
   "source": [
    "%%time\n",
    "from scipy import optimize\n",
    "def func(x, c0, c1):\n",
    "    \"Coordinate vector `x` should be an array of size two.\"\n",
    "    return c0 * x[0]**2 + c1*x[1]**2\n",
    "x = np.ones(2)\n",
    "c0, c1 = (1, 200)\n",
    "eps = np.sqrt(np.finfo(float).eps)\n",
    "optimize.approx_fprime(x, func, [eps,eps], c0, c1)"
   ]
  },
  {
   "cell_type": "code",
   "execution_count": 478,
   "metadata": {},
   "outputs": [
    {
     "name": "stdout",
     "output_type": "stream",
     "text": [
      "CPU times: user 0 ns, sys: 0 ns, total: 0 ns\n",
      "Wall time: 1.89 ms\n"
     ]
    }
   ],
   "source": [
    "%%time\n",
    "pot.backward()"
   ]
  },
  {
   "cell_type": "markdown",
   "metadata": {},
   "source": [
    "let's plot the distributions at t=0,1"
   ]
  },
  {
   "cell_type": "code",
   "execution_count": 450,
   "metadata": {},
   "outputs": [],
   "source": [
    "xs = t.tensor(np.linspace(-8, 8, 1000))\n",
    "t0s = t.tensor(np.zeros(1000))\n",
    "t1s = t.tensor(np.ones(1000))\n",
    "ys_t0 = np.array([(-potential(x, t)).exp() for x, t in zip(xs, t0s)])\n",
    "ys_t1 = np.array([(-potential(x, t)).exp() for x, t in zip(xs, t1s)])"
   ]
  },
  {
   "cell_type": "code",
   "execution_count": 451,
   "metadata": {},
   "outputs": [
    {
     "data": {
      "text/plain": [
       "<matplotlib.legend.Legend at 0x7fc25eee57b8>"
      ]
     },
     "execution_count": 451,
     "metadata": {},
     "output_type": "execute_result"
    },
    {
     "data": {
      "image/png": "[encoded data removed]",
      "text/plain": [
       "<Figure size 432x288 with 1 Axes>"
      ]
     },
     "metadata": {
      "needs_background": "light"
     },
     "output_type": "display_data"
    }
   ],
   "source": [
    "plt.plot(xs, ys_t0, label = f\"prior distribution\")\n",
    "plt.plot(xs, ys_t1, label = f\"posterior distribution\")\n",
    "plt.legend()"
   ]
  },
  {
   "cell_type": "markdown",
   "metadata": {},
   "source": [
    "ok, now can we do AIS?\n"
   ]
  },
  {
   "cell_type": "code",
   "execution_count": 341,
   "metadata": {},
   "outputs": [],
   "source": [
    "#define an initial position.\n",
    "from torch.distributions.multivariate_normal import MultivariateNormal\n",
    "mvn = MultivariateNormal(t.tensor([[0.]]), 0.5 * t.eye(1))"
   ]
  },
  {
   "cell_type": "code",
   "execution_count": 342,
   "metadata": {},
   "outputs": [
    {
     "name": "stderr",
     "output_type": "stream",
     "text": [
      "\n",
      "\n",
      "\n",
      "\n",
      "\n",
      "  0%|          | 0/1000 [00:00<?, ?it/s]\u001b[A\u001b[A\u001b[A\u001b[A\u001b[A\n"
     ]
    },
    {
     "ename": "TypeError",
     "evalue": "potential() missing 1 required positional argument: '_lambda'",
     "output_type": "error",
     "traceback": [
      "\u001b[0;31m---------------------------------------------------------------------------\u001b[0m",
      "\u001b[0;31mTypeError\u001b[0m                                 Traceback (most recent call last)",
      "\u001b[0;32m<ipython-input-342-154480151d67>\u001b[0m in \u001b[0;36m<module>\u001b[0;34m\u001b[0m\n\u001b[1;32m     10\u001b[0m     \u001b[0mx\u001b[0m \u001b[0;34m=\u001b[0m \u001b[0mmvn\u001b[0m\u001b[0;34m.\u001b[0m\u001b[0msample\u001b[0m\u001b[0;34m(\u001b[0m\u001b[0;34m)\u001b[0m\u001b[0;34m\u001b[0m\u001b[0;34m\u001b[0m\u001b[0m\n\u001b[1;32m     11\u001b[0m     \u001b[0mx\u001b[0m\u001b[0;34m.\u001b[0m\u001b[0mrequires_grad\u001b[0m\u001b[0;34m=\u001b[0m\u001b[0;32mTrue\u001b[0m\u001b[0;34m\u001b[0m\u001b[0;34m\u001b[0m\u001b[0m\n\u001b[0;32m---> 12\u001b[0;31m     \u001b[0mincremental_work_array\u001b[0m\u001b[0;34m,\u001b[0m \u001b[0mtrajectory\u001b[0m \u001b[0;34m=\u001b[0m \u001b[0mAIS\u001b[0m\u001b[0;34m(\u001b[0m\u001b[0mx\u001b[0m\u001b[0;34m=\u001b[0m\u001b[0mx\u001b[0m\u001b[0;34m,\u001b[0m \u001b[0mpotential\u001b[0m\u001b[0;34m=\u001b[0m\u001b[0mpotential\u001b[0m\u001b[0;34m,\u001b[0m \u001b[0mlambda_schedule\u001b[0m\u001b[0;34m=\u001b[0m\u001b[0mlambda_schedule\u001b[0m\u001b[0;34m,\u001b[0m \u001b[0mpropagator\u001b[0m\u001b[0;34m=\u001b[0m\u001b[0mMALA_propagator\u001b[0m\u001b[0;34m,\u001b[0m \u001b[0mdt\u001b[0m\u001b[0;34m=\u001b[0m\u001b[0mdt\u001b[0m\u001b[0;34m)\u001b[0m\u001b[0;34m\u001b[0m\u001b[0;34m\u001b[0m\u001b[0m\n\u001b[0m\u001b[1;32m     13\u001b[0m     \u001b[0mincremental_works\u001b[0m\u001b[0;34m[\u001b[0m\u001b[0mparticle_idx\u001b[0m\u001b[0;34m,\u001b[0m\u001b[0;34m:\u001b[0m\u001b[0;34m]\u001b[0m \u001b[0;34m=\u001b[0m \u001b[0mincremental_work_array\u001b[0m\u001b[0;34m\u001b[0m\u001b[0;34m\u001b[0m\u001b[0m\n\u001b[1;32m     14\u001b[0m     \u001b[0mpositions\u001b[0m\u001b[0;34m[\u001b[0m\u001b[0mparticle_idx\u001b[0m\u001b[0;34m]\u001b[0m \u001b[0;34m=\u001b[0m \u001b[0mt\u001b[0m\u001b[0;34m.\u001b[0m\u001b[0mflatten\u001b[0m\u001b[0;34m(\u001b[0m\u001b[0mtrajectory\u001b[0m\u001b[0;34m)\u001b[0m\u001b[0;34m\u001b[0m\u001b[0;34m\u001b[0m\u001b[0m\n",
      "\u001b[0;32m/mnt/c/Users/domin/github/coddiwomple/troubleshooting/csmc.py\u001b[0m in \u001b[0;36mAIS\u001b[0;34m(x, potential, lambda_schedule, propagator, dt, **kwargs)\u001b[0m\n\u001b[1;32m    323\u001b[0m         \u001b[0mnew_rp\u001b[0m \u001b[0;34m=\u001b[0m \u001b[0mpotential\u001b[0m\u001b[0;34m(\u001b[0m\u001b[0mx\u001b[0m\u001b[0;34m,\u001b[0m \u001b[0mlambda_schedule\u001b[0m\u001b[0;34m[\u001b[0m\u001b[0miteration\u001b[0m\u001b[0;34m]\u001b[0m\u001b[0;34m,\u001b[0m \u001b[0;34m**\u001b[0m\u001b[0mkwargs\u001b[0m\u001b[0;34m)\u001b[0m\u001b[0;34m\u001b[0m\u001b[0;34m\u001b[0m\u001b[0m\n\u001b[1;32m    324\u001b[0m         \u001b[0mincremental_works\u001b[0m\u001b[0;34m[\u001b[0m\u001b[0miteration\u001b[0m\u001b[0;34m]\u001b[0m \u001b[0;34m=\u001b[0m \u001b[0mnew_rp\u001b[0m\u001b[0;34m.\u001b[0m\u001b[0mclone\u001b[0m\u001b[0;34m(\u001b[0m\u001b[0;34m)\u001b[0m\u001b[0;34m.\u001b[0m\u001b[0mdetach\u001b[0m\u001b[0;34m(\u001b[0m\u001b[0;34m)\u001b[0m \u001b[0;34m-\u001b[0m \u001b[0mbacked_rp\u001b[0m\u001b[0;34m\u001b[0m\u001b[0;34m\u001b[0m\u001b[0m\n\u001b[0;32m--> 325\u001b[0;31m         \u001b[0mx\u001b[0m \u001b[0;34m=\u001b[0m \u001b[0mpropagator\u001b[0m\u001b[0;34m(\u001b[0m\u001b[0mx\u001b[0m\u001b[0;34m,\u001b[0m \u001b[0mpotential\u001b[0m\u001b[0;34m,\u001b[0m \u001b[0mdt\u001b[0m\u001b[0;34m,\u001b[0m \u001b[0mt\u001b[0m \u001b[0;34m=\u001b[0m \u001b[0mlambda_schedule\u001b[0m\u001b[0;34m[\u001b[0m\u001b[0miteration\u001b[0m\u001b[0;34m]\u001b[0m\u001b[0;34m,\u001b[0m \u001b[0;34m**\u001b[0m\u001b[0mkwargs\u001b[0m\u001b[0;34m)\u001b[0m\u001b[0;34m\u001b[0m\u001b[0;34m\u001b[0m\u001b[0m\n\u001b[0m\u001b[1;32m    326\u001b[0m \u001b[0;34m\u001b[0m\u001b[0m\n\u001b[1;32m    327\u001b[0m         \u001b[0mall_positions\u001b[0m\u001b[0;34m[\u001b[0m\u001b[0miteration\u001b[0m\u001b[0;34m,\u001b[0m\u001b[0;34m:\u001b[0m\u001b[0;34m]\u001b[0m \u001b[0;34m=\u001b[0m \u001b[0mx\u001b[0m\u001b[0;34m\u001b[0m\u001b[0;34m\u001b[0m\u001b[0m\n",
      "\u001b[0;32m/mnt/c/Users/domin/github/coddiwomple/troubleshooting/csmc.py\u001b[0m in \u001b[0;36mMALA_propagator\u001b[0;34m(x, potential_function, dt, **kwargs)\u001b[0m\n\u001b[1;32m    292\u001b[0m     \u001b[0;31m#forward\u001b[0m\u001b[0;34m\u001b[0m\u001b[0;34m\u001b[0m\u001b[0;34m\u001b[0m\u001b[0m\n\u001b[1;32m    293\u001b[0m     \u001b[0;32massert\u001b[0m \u001b[0mx\u001b[0m\u001b[0;34m.\u001b[0m\u001b[0mrequires_grad\u001b[0m\u001b[0;34m\u001b[0m\u001b[0;34m\u001b[0m\u001b[0m\n\u001b[0;32m--> 294\u001b[0;31m     \u001b[0mold_potential\u001b[0m \u001b[0;34m=\u001b[0m \u001b[0mpotential_function\u001b[0m\u001b[0;34m(\u001b[0m\u001b[0mx\u001b[0m\u001b[0;34m,\u001b[0m \u001b[0;34m**\u001b[0m\u001b[0mkwargs\u001b[0m\u001b[0;34m)\u001b[0m\u001b[0;34m\u001b[0m\u001b[0;34m\u001b[0m\u001b[0m\n\u001b[0m\u001b[1;32m    295\u001b[0m     \u001b[0mmu_forward\u001b[0m\u001b[0;34m,\u001b[0m \u001b[0msigma_forward\u001b[0m \u001b[0;34m=\u001b[0m \u001b[0mEL_mu_sigma\u001b[0m\u001b[0;34m(\u001b[0m\u001b[0mx\u001b[0m\u001b[0;34m,\u001b[0m \u001b[0mold_potential\u001b[0m\u001b[0;34m,\u001b[0m \u001b[0mdt\u001b[0m\u001b[0;34m)\u001b[0m\u001b[0;34m\u001b[0m\u001b[0;34m\u001b[0m\u001b[0m\n\u001b[1;32m    296\u001b[0m     \u001b[0mforward_MVN\u001b[0m \u001b[0;34m=\u001b[0m \u001b[0mMultivariateNormal\u001b[0m\u001b[0;34m(\u001b[0m\u001b[0mmu_forward\u001b[0m\u001b[0;34m,\u001b[0m \u001b[0msigma_forward\u001b[0m\u001b[0;34m)\u001b[0m\u001b[0;34m\u001b[0m\u001b[0;34m\u001b[0m\u001b[0m\n",
      "\u001b[0;31mTypeError\u001b[0m: potential() missing 1 required positional argument: '_lambda'"
     ]
    }
   ],
   "source": [
    "num_particles = 1000\n",
    "iterations = 10\n",
    "incremental_works = t.zeros(num_particles, iterations)\n",
    "positions = t.zeros(num_particles, iterations)\n",
    "lambda_schedule = t.tensor(np.linspace(0., 1., iterations))\n",
    "mvn = MultivariateNormal(t.tensor([[0.]]), 0.5 * t.eye(1))\n",
    "dt=1e-2\n",
    "import tqdm\n",
    "for particle_idx in tqdm.trange(num_particles):\n",
    "    x = mvn.sample()\n",
    "    x.requires_grad=True\n",
    "    incremental_work_array, trajectory = AIS(x=x, potential=potential, lambda_schedule=lambda_schedule, propagator=MALA_propagator, dt=dt)\n",
    "    incremental_works[particle_idx,:] = incremental_work_array\n",
    "    positions[particle_idx] = t.flatten(trajectory)\n",
    "    \n",
    "    \n",
    "    \n",
    "    \n",
    "    "
   ]
  },
  {
   "cell_type": "code",
   "execution_count": null,
   "metadata": {},
   "outputs": [],
   "source": [
    "sns.distplot(positions[:,0])\n",
    "sns.distplot(positions[:,-1])"
   ]
  },
  {
   "cell_type": "code",
   "execution_count": null,
   "metadata": {},
   "outputs": [],
   "source": [
    "incremental_works"
   ]
  },
  {
   "cell_type": "code",
   "execution_count": null,
   "metadata": {},
   "outputs": [],
   "source": [
    "cum_works = t.cumsum(incremental_works, 1)"
   ]
  },
  {
   "cell_type": "code",
   "execution_count": null,
   "metadata": {},
   "outputs": [],
   "source": [
    "plt.plot(incremental_works[0,:])"
   ]
  },
  {
   "cell_type": "code",
   "execution_count": null,
   "metadata": {},
   "outputs": [],
   "source": [
    "last_cum_works = cum_works[:,-1]\n",
    "from pymbar import EXP\n",
    "print(EXP(last_cum_works.numpy()))"
   ]
  },
  {
   "cell_type": "code",
   "execution_count": 7,
   "metadata": {},
   "outputs": [
    {
     "ename": "NameError",
     "evalue": "name 'weights' is not defined",
     "output_type": "error",
     "traceback": [
      "\u001b[0;31m---------------------------------------------------------------------------\u001b[0m",
      "\u001b[0;31mNameError\u001b[0m                                 Traceback (most recent call last)",
      "\u001b[0;32m<ipython-input-7-a93f550d68c9>\u001b[0m in \u001b[0;36m<module>\u001b[0;34m\u001b[0m\n\u001b[0;32m----> 1\u001b[0;31m \u001b[0msns\u001b[0m\u001b[0;34m.\u001b[0m\u001b[0mdistplot\u001b[0m\u001b[0;34m(\u001b[0m\u001b[0mweights\u001b[0m\u001b[0;34m)\u001b[0m\u001b[0;34m\u001b[0m\u001b[0;34m\u001b[0m\u001b[0m\n\u001b[0m\u001b[1;32m      2\u001b[0m \u001b[0mt\u001b[0m\u001b[0;34m.\u001b[0m\u001b[0mlog\u001b[0m\u001b[0;34m(\u001b[0m\u001b[0mt\u001b[0m\u001b[0;34m.\u001b[0m\u001b[0mmean\u001b[0m\u001b[0;34m(\u001b[0m\u001b[0mweights\u001b[0m\u001b[0;34m)\u001b[0m\u001b[0;34m)\u001b[0m\u001b[0;34m\u001b[0m\u001b[0;34m\u001b[0m\u001b[0m\n\u001b[1;32m      3\u001b[0m \u001b[0mplt\u001b[0m\u001b[0;34m.\u001b[0m\u001b[0mxlim\u001b[0m\u001b[0;34m(\u001b[0m\u001b[0;34m-\u001b[0m\u001b[0;36m1\u001b[0m\u001b[0;34m,\u001b[0m \u001b[0;36m3\u001b[0m\u001b[0;34m)\u001b[0m\u001b[0;34m\u001b[0m\u001b[0;34m\u001b[0m\u001b[0m\n",
      "\u001b[0;31mNameError\u001b[0m: name 'weights' is not defined"
     ]
    }
   ],
   "source": [
    "sns.distplot(weights)\n",
    "t.log(t.mean(weights))\n",
    "plt.xlim(-1, 3)"
   ]
  },
  {
   "cell_type": "markdown",
   "metadata": {},
   "source": [
    "ok, so it looks like AIS works, more or less...can we make an ULA uncontrolled SMC proposal and assert that the logw returned is the same as a compute_ULA_logw?"
   ]
  },
  {
   "cell_type": "code",
   "execution_count": 6,
   "metadata": {},
   "outputs": [],
   "source": [
    "x = MultivariateNormal(t.tensor([[0.]]), 0.5 * t.eye(1)).sample()\n",
    "x.requires_grad=True\n",
    "x_new, logw = ULA_uncontrolled_SMC(x, potential, t.tensor(0.), t.tensor(1.), dt=1e-2)"
   ]
  },
  {
   "cell_type": "code",
   "execution_count": 7,
   "metadata": {},
   "outputs": [
    {
     "data": {
      "text/plain": [
       "tensor([-3.9956])"
      ]
     },
     "execution_count": 7,
     "metadata": {},
     "output_type": "execute_result"
    }
   ],
   "source": [
    "logw"
   ]
  },
  {
   "cell_type": "code",
   "execution_count": 8,
   "metadata": {},
   "outputs": [],
   "source": [
    "x_new.requires_grad=True"
   ]
  },
  {
   "cell_type": "code",
   "execution_count": 9,
   "metadata": {},
   "outputs": [],
   "source": [
    "old_potential_old_x = potential(x, t.tensor(0.))\n",
    "new_potential_old_x = potential(x, t.tensor(1.))\n",
    "\n",
    "new_potential_new_x = potential(x_new, t.tensor(1.))\n",
    "new_potential_old_x.backward()\n",
    "new_potential_new_x.backward()"
   ]
  },
  {
   "cell_type": "code",
   "execution_count": 10,
   "metadata": {},
   "outputs": [
    {
     "data": {
      "text/plain": [
       "tensor(-3.9956)"
      ]
     },
     "execution_count": 10,
     "metadata": {},
     "output_type": "execute_result"
    }
   ],
   "source": [
    "compute_ULA_logw(log_gamma_old = -old_potential_old_x, \n",
    "                 log_gamma_new = -new_potential_new_x, \n",
    "                 x_old = x, \n",
    "                 x_new = x_new, \n",
    "                 grad_log_gamma_x_new = -x_new.grad, \n",
    "                 grad_log_gamma_x_old = -x.grad, \n",
    "                 dt = 1e-2)"
   ]
  },
  {
   "cell_type": "markdown",
   "metadata": {},
   "source": [
    "great, so we are recovering the correct log weight in the uncontrolled regime"
   ]
  },
  {
   "cell_type": "markdown",
   "metadata": {},
   "source": [
    "at this moment, i have to talk about the form of the controlled twisted initial distribution..."
   ]
  },
  {
   "cell_type": "code",
   "execution_count": 11,
   "metadata": {},
   "outputs": [],
   "source": [
    "x = MultivariateNormal(t.tensor([0., 1.]), 0.5 * t.eye(2)).sample()\n",
    "uncontrolled_alphas = t.tensor([0.5, 0.1, 0.7])\n",
    "uncontrolled_mus = t.tensor([[0.1, 0.2], [0.3, 0.4], [0.5, 0.2]])\n",
    "uncontrolled_sigmas = t.stack([t.eye(2) for _ in range(3)])\n",
    "A_0 = t.eye(2)\n",
    "b_0 = t.tensor([0., 0.])\n",
    "x_0 = t.tensor([4.])"
   ]
  },
  {
   "cell_type": "code",
   "execution_count": 12,
   "metadata": {},
   "outputs": [
    {
     "data": {
      "text/plain": [
       "torch.Size([2])"
      ]
     },
     "execution_count": 12,
     "metadata": {},
     "output_type": "execute_result"
    }
   ],
   "source": [
    "x.size()"
   ]
  },
  {
   "cell_type": "code",
   "execution_count": 13,
   "metadata": {},
   "outputs": [
    {
     "data": {
      "text/plain": [
       "(tensor([-4.6104]), tensor(0.))"
      ]
     },
     "execution_count": 13,
     "metadata": {},
     "output_type": "execute_result"
    }
   ],
   "source": [
    "#x = MultivariateNormal(t.tensor([0., 0.]), 0.5 * t.eye(2)).sample()\n",
    "uncontrolled_alphas = t.tensor([0.5, 0.0, 0.5])\n",
    "uncontrolled_mus = t.tensor([[-5.0], [0.0], [5.0]])\n",
    "uncontrolled_sigmas = t.stack([t.eye(1) for _ in range(3)])\n",
    "A_0 = t.zeros(1)\n",
    "b_0 = t.tensor([0.])\n",
    "c_0 = t.tensor(0.)\n",
    "\n",
    "twisted_gmm_proposal(\n",
    "                         uncontrolled_alphas,\n",
    "                         uncontrolled_mus,\n",
    "                         uncontrolled_sigmas,\n",
    "                         A_0,\n",
    "                         b_0,\n",
    "                         c_0)"
   ]
  },
  {
   "cell_type": "code",
   "execution_count": 14,
   "metadata": {},
   "outputs": [],
   "source": [
    "num_proposals = 1000\n",
    "all_proposals = t.zeros(num_proposals)\n",
    "lognorms = t.zeros(num_proposals)\n",
    "for _ in range(num_proposals):\n",
    "    proposal, lognorm = twisted_gmm_proposal(\n",
    "                         uncontrolled_alphas,\n",
    "                         uncontrolled_mus,\n",
    "                         uncontrolled_sigmas,\n",
    "                         A_0,\n",
    "                         b_0,\n",
    "                         c_0)\n",
    "    all_proposals[_] = proposal\n",
    "    lognorms[_] = lognorm"
   ]
  },
  {
   "cell_type": "code",
   "execution_count": 15,
   "metadata": {},
   "outputs": [
    {
     "data": {
      "text/plain": [
       "<matplotlib.axes._subplots.AxesSubplot at 0x7fe86146f240>"
      ]
     },
     "execution_count": 15,
     "metadata": {},
     "output_type": "execute_result"
    },
    {
     "data": {
      "image/png": "[encoded data removed]",
      "text/plain": [
       "<Figure size 432x288 with 1 Axes>"
      ]
     },
     "metadata": {
      "needs_background": "light"
     },
     "output_type": "display_data"
    }
   ],
   "source": [
    "sns.distplot(all_proposals, bins=50)"
   ]
  },
  {
   "cell_type": "code",
   "execution_count": 16,
   "metadata": {},
   "outputs": [
    {
     "data": {
      "text/plain": [
       "tensor([[ True,  True,  True],\n",
       "        [False, False,  True],\n",
       "        [False, False, False]])"
      ]
     },
     "execution_count": 16,
     "metadata": {},
     "output_type": "execute_result"
    }
   ],
   "source": [
    "a = t.randn(3,3)\n",
    "b = t.randn(3,3)\n",
    "a>b"
   ]
  },
  {
   "cell_type": "code",
   "execution_count": 17,
   "metadata": {},
   "outputs": [
    {
     "data": {
      "text/plain": [
       "0.0"
      ]
     },
     "execution_count": 17,
     "metadata": {},
     "output_type": "execute_result"
    }
   ],
   "source": [
    "x= t.tensor(0.)\n",
    "x.item()"
   ]
  },
  {
   "cell_type": "code",
   "execution_count": 18,
   "metadata": {},
   "outputs": [
    {
     "data": {
      "text/plain": [
       "True"
      ]
     },
     "execution_count": 18,
     "metadata": {},
     "output_type": "execute_result"
    }
   ],
   "source": [
    "list(x.size()) == []"
   ]
  },
  {
   "cell_type": "markdown",
   "metadata": {},
   "source": [
    "maybe we can build a twisted forward kernel now?\n"
   ]
  },
  {
   "cell_type": "markdown",
   "metadata": {},
   "source": [
    "can we play around with this a bit and see if it does what we want it to do?\n",
    "as a first sanity check, we can make sure that if the twisting is off, (i.e. uncontrolled), then there should be no \n",
    "twisting of a potential...right?\n"
   ]
  },
  {
   "cell_type": "markdown",
   "metadata": {},
   "source": [
    "if we define a potential, we can make a kernel density plot for uncontrolled smc, right?"
   ]
  },
  {
   "cell_type": "code",
   "execution_count": 43,
   "metadata": {},
   "outputs": [],
   "source": [
    "def uncontrolled_kernel_density(potential, parameter, x, y, dt):\n",
    "    \"\"\"\n",
    "    report the log probability of transition from x to y under an Euler Maruyama discretized Unadjusted Langevin Algorithm\n",
    "    \"\"\"\n",
    "    mu, sigma = EL_mu_sigma(x, \n",
    "                            potential(x, parameter),\n",
    "                           dt)\n",
    "    mvg = MultivariateNormal(mu, sigma)\n",
    "    return mvg.log_prob(y)"
   ]
  },
  {
   "cell_type": "code",
   "execution_count": 114,
   "metadata": {},
   "outputs": [],
   "source": [
    "positionsx = [t.tensor([[i]], requires_grad=True) for i in np.linspace(-1,1,30)]\n",
    "positionsy = [t.tensor([[i]], requires_grad=True) for i in np.linspace(-1,1,30)]\n",
    "\n",
    "\n",
    "_data = np.zeros((30, 30))\n",
    "for idx, x in enumerate(positionsx):\n",
    "    for idy, y in enumerate(positionsy):\n",
    "        z = t.exp(uncontrolled_kernel_density(potential, 0., x, y, 1e-2)).detach()\n",
    "        _data[idx, idy]=z\n",
    "_data = np.array(_data)"
   ]
  },
  {
   "cell_type": "code",
   "execution_count": 39,
   "metadata": {},
   "outputs": [
    {
     "name": "stderr",
     "output_type": "stream",
     "text": [
      "No handles with labels found to put in legend.\n"
     ]
    },
    {
     "data": {
      "text/plain": [
       "<matplotlib.legend.Legend at 0x7fe858995b38>"
      ]
     },
     "execution_count": 39,
     "metadata": {},
     "output_type": "execute_result"
    },
    {
     "data": {
      "image/png": "[encoded data removed]",
      "text/plain": [
       "<Figure size 432x288 with 1 Axes>"
      ]
     },
     "metadata": {
      "needs_background": "light"
     },
     "output_type": "display_data"
    }
   ],
   "source": [
    "plt.contourf( np.linspace(-1,1,30),  np.linspace(-1,1,30), _data)\n",
    "plt.legend()"
   ]
  },
  {
   "cell_type": "code",
   "execution_count": 117,
   "metadata": {},
   "outputs": [
    {
     "name": "stdout",
     "output_type": "stream",
     "text": [
      "1\n",
      "f_t: tensor([0.])\n",
      "A_t: tensor([[0.]])\n",
      "b_t: tensor([0.])\n",
      "c_t: 0.0\n",
      "Theta: tensor([[1.]])\n",
      "twisted_mean: tensor([0.])\n",
      "twisted_sigma: tensor([[0.0100]])\n",
      "square mahalanobis: 0.0\n",
      "f_t.dot: 0.0\n",
      "lognorm component 1, 2, 3 : (tensor(0.5000), tensor(0.), tensor([-0.]))\n"
     ]
    },
    {
     "data": {
      "text/plain": [
       "(tensor([-0.0967]), tensor([0.5000]))"
      ]
     },
     "execution_count": 117,
     "metadata": {},
     "output_type": "execute_result"
    }
   ],
   "source": [
    "def A(x, time):\n",
    "    return t.eye(1)*0.\n",
    "def b(x, time):\n",
    "    return t.tensor([0.])\n",
    "def c(x, time):\n",
    "    return t.tensor(0.)\n",
    "twisted_forward_kernel(x = t.tensor([0.], requires_grad=True), \n",
    "                       potential = potential, \n",
    "                       potential_parameters = t.tensor(0.), \n",
    "                       dt = 1e-2, \n",
    "                       A = A, \n",
    "                       A_parameters = 0., \n",
    "                       b = b, \n",
    "                       b_parameters = 0., \n",
    "                       c = c, \n",
    "                       c_parameters = 0., \n",
    "                       d_t = t.tensor([0.]))"
   ]
  },
  {
   "cell_type": "code",
   "execution_count": 106,
   "metadata": {},
   "outputs": [
    {
     "data": {
      "text/plain": [
       "tensor(0.)"
      ]
     },
     "execution_count": 106,
     "metadata": {},
     "output_type": "execute_result"
    }
   ],
   "source": [
    "Theta = t.tensor([[1.]])\n",
    "t.log((Theta.det().sqrt()) * t.exp(0.5 / t.tensor(1e-2)) * t.exp(-0.5 / t.tensor(1e-2) ))"
   ]
  },
  {
   "cell_type": "code",
   "execution_count": 95,
   "metadata": {},
   "outputs": [
    {
     "data": {
      "text/plain": [
       "(tensor([2.4076]), tensor(0.))"
      ]
     },
     "execution_count": 95,
     "metadata": {},
     "output_type": "execute_result"
    }
   ],
   "source": [
    "twisted_gmm_proposal(uncontrolled_alphas = t.tensor([0.1, 0.2, 0.7]),\n",
    "                         uncontrolled_mus = t.tensor([[0.], [1.], [2.]]),\n",
    "                         uncontrolled_Sigmas = t.stack([t.eye(1), t.eye(1), t.eye(1)]),\n",
    "                         A_0 = t.zeros(1,1),\n",
    "                         b_0 = t.zeros(1),\n",
    "                         c_0 = t.tensor(0.))"
   ]
  },
  {
   "cell_type": "markdown",
   "metadata": {},
   "source": [
    "ok, so it would seem at this point that we have an algorithm with components that are functioninig properly. CSMC says that the twisted weights look like:\n",
    "$$\n",
    "w_0^{\\psi^{(i)}} \\equiv \\frac{\\pi_0(\\psi_0^{(i)})}{\\psi_0^{(i)}(x_0)}\n",
    "$$\n",
    "and \n",
    "$$\n",
    "w_t^{\\psi^{(i)}} \\equiv \\frac{w_t(x_{t-1}, x_t) K_t(\\psi_t^{(i)})(x_{t-1})} {\\psi_t^{(i)}(x_{t-1}, x_t)}\n",
    "$$"
   ]
  },
  {
   "cell_type": "code",
   "execution_count": 343,
   "metadata": {},
   "outputs": [],
   "source": [
    "def TwistedSMCSampler(potential,\n",
    "                      uncontrolled_alphas,\n",
    "                      uncontrolled_mus, \n",
    "                      uncontrolled_sigmas,\n",
    "                      A0, \n",
    "                      b0,\n",
    "                      c0,\n",
    "                      A_t,\n",
    "                      b_t,\n",
    "                      c_t,\n",
    "                      potential_parameter_sequence,\n",
    "                      A_t_parameter_sequence,\n",
    "                      b_t_parameter_sequence,\n",
    "                      c_t_parameter_sequence,\n",
    "                      dt,\n",
    "                      uncontrolled=False):\n",
    "    \"\"\"\n",
    "    given a potential, A0, b0, c0, as well as functions A_t, b_t, c_t (coupled with a sequence of appropriate parameters), conduct a\n",
    "    forward pass of twisted SMC. \n",
    "    \n",
    "    \"\"\"\n",
    "    #first thing to do is to make sure that the first dimension of all the sequences are the same length\n",
    "    sequence_first_dimensions = [entry.size()[0] for entry in [A_t_parameter_sequence, b_t_parameter_sequence, c_t_parameter_sequence]]\n",
    "    print(sequence_first_dimensions)\n",
    "    sequence_length = sequence_first_dimensions[0]\n",
    "    assert all(i ==sequence_first_dimensions[0] for i in sequence_first_dimensions)\n",
    "    \n",
    "    #make an object that will store the trajectory and the twisted works...\n",
    "    trajectory = []\n",
    "    twisted_log_weights = []\n",
    "    \n",
    "    #the potential parameter sequence is 1 greater than the rest since there is a parameterized _prior_ potential (index 0)\n",
    "    assert sequence_first_dimensions[0] + 1 == potential_parameter_sequence.size()[0]\n",
    "    \n",
    "    #now we can conduct the pass of the 0th potential with a gaussian mixture model\n",
    "    x, log_pi0_psi0 = twisted_gmm_proposal(uncontrolled_alphas,\n",
    "                                           uncontrolled_mus,\n",
    "                                           uncontrolled_sigmas,\n",
    "                                           A0, b0, c0)\n",
    "    trajectory.append(x.numpy())\n",
    "    x.requires_grad=True #so we can compute potential gradient\n",
    "    \n",
    "    #compute log_twisted_w0\n",
    "    log_phi0_x0 = quad_phi_0(x.detach(),A0.detach(), b0.detach(), c0.detach())\n",
    "    if uncontrolled:\n",
    "        assert np.isclose(log_phi0_x0, 0.)\n",
    "        assert np.isclose(log_pi0_psi0, 0.)\n",
    "    #print(log_psi0_x0)\n",
    "    #print(log_pi0_psi0)\n",
    "    initial_log_weight = log_pi0_psi0 + log_phi0_x0\n",
    "    #print(initial_log_weight)\n",
    "    twisted_log_weights.append(initial_log_weight)\n",
    "                              \n",
    "    #print(twisted_log_weights)\n",
    "    \n",
    "    #now we can iteration from t=1 to T\n",
    "    for iteration in range(sequence_length):\n",
    "        \"\"\"\n",
    "        we have to make a proposal and then compute the twisted weight;\n",
    "        the twisted weight is the uncontrolled weight * K(\\psi)(x_{t-1}) / \\psi(x_{t-1}, x_t), \n",
    "        so we have to compute an uncontrolled weight first\n",
    "        \"\"\"\n",
    "        old_potential_parameters = potential_parameter_sequence[iteration] #previous (is current by indexing)\n",
    "        new_potential_parameters = potential_parameter_sequence[iteration+1] #current (is current+1 by indexing)\n",
    "          \n",
    "        #make a proposal\n",
    "        d_t = t.tensor(0.)\n",
    "#         print(b_t)\n",
    "#         print(b_t_parameter_sequence[iteration])\n",
    "        x_new, logK_psi = twisted_forward_kernel(x = x,\n",
    "                                                 potential = potential,\n",
    "                                                 potential_parameters = new_potential_parameters,\n",
    "                                                 dt = dt,\n",
    "                                                 A = A_t,\n",
    "                                                 A_parameters=A_t_parameter_sequence[iteration],\n",
    "                                                 b = b_t,\n",
    "                                                 b_parameters=b_t_parameter_sequence[iteration],\n",
    "                                                 c = c_t,\n",
    "                                                 c_parameters=c_t_parameter_sequence[iteration],\n",
    "                                                 d_t = d_t\n",
    "                                                 )\n",
    "        #print(f\"logK_psi: {logK_psi}\")\n",
    "        assert not x_new.requires_grad\n",
    "        x_new.requires_grad=True\n",
    "        log_gamma_old = -potential(x.detach(), old_potential_parameters) # \\log \\gamma_{t-1}(x_{t-1})\n",
    "        log_gamma_new = -potential(x_new, new_potential_parameters) # \\log \\gamma_{t}(x_t)\n",
    "        x_auxiliary = x.clone().detach().requires_grad_(True) # get a gradable detached clone of the auxiliary x variable\n",
    "        log_gamma_new_oldx = -potential(x_auxiliary, new_potential_parameters) # \\log \\gamma_{t}(x_{t-1})\n",
    "        \n",
    "        log_gamma_new.backward()\n",
    "        log_gamma_new_oldx.backward()\n",
    "        \n",
    "        grad_log_gamma_x_old = x_auxiliary.grad\n",
    "        grad_log_gamma_x_new = x_new.grad\n",
    "        uncontrolled_log_weight = compute_ULA_logw(log_gamma_old = log_gamma_old,\n",
    "                                                  log_gamma_new = log_gamma_new,\n",
    "                                                  x_old = x_auxiliary,\n",
    "                                                  x_new = x_new,\n",
    "                                                  grad_log_gamma_x_new = grad_log_gamma_x_new,\n",
    "                                                  grad_log_gamma_x_old = grad_log_gamma_x_old,\n",
    "                                                  dt=dt)\n",
    "        \n",
    "        if uncontrolled:\n",
    "            \"\"\"\n",
    "            we are going to make a uncontrolled smc proposal and validate that the log weight is the same as the `uncontrolled\n",
    "            log weight`\n",
    "            \"\"\"\n",
    "            uncontrolled_log_weight_check = log_gamma_new - log_gamma_old\n",
    "            \n",
    "            #forward\n",
    "            x_old_validate = x_auxiliary.clone().detach().requires_grad_(True)\n",
    "            #print(x_old_validate)\n",
    "            mu_forward, sigma_forward = EL_mu_sigma(x_old_validate, potential(x_old_validate, new_potential_parameters), dt)\n",
    "            forward_MVN = MultivariateNormal(mu_forward, sigma_forward)\n",
    "            logp_forward = forward_MVN.log_prob(x_new.detach())\n",
    "            \n",
    "            #backward\n",
    "            x_new_validate = x_new.clone().detach().requires_grad_(True)\n",
    "            mu_backward, sigma_backward =  EL_mu_sigma(x_new_validate, potential(x_new_validate, new_potential_parameters), dt)\n",
    "            backward_MVN = MultivariateNormal(mu_backward, sigma_backward)\n",
    "            logp_backward = backward_MVN.log_prob(x_old_validate.detach())\n",
    "            \n",
    "            uncontrolled_log_weight_check += (logp_backward - logp_forward)\n",
    "            \n",
    "            assert np.isclose(uncontrolled_log_weight_check.item(), uncontrolled_log_weight.item(), atol=1e-3), f\"check: {uncontrolled_log_weight_check.item()}, computed: {uncontrolled_log_weight.item()} \"\n",
    "            \n",
    "        \n",
    "        \n",
    "        #print(old_potential_parameters)\n",
    "        #print(new_potential_parameters)\n",
    "        \n",
    "        #compute phi_i\n",
    "        phi_i = (square_mahalanobis_distance(x_new.detach(), A_t(x.detach(), A_t_parameter_sequence[iteration]))\n",
    "                                 +x_new.detach().dot(b_t(x.detach(), b_t_parameter_sequence[iteration]))\n",
    "                                 + c_t(c_t_parameter_sequence[iteration])\n",
    "                                 + d_t\n",
    "                )\n",
    "        phi_t = quad_phi_t(x_tm1 = x.detach(), \n",
    "                           x_t = x_new.detach(), \n",
    "                           A_t = A_t, \n",
    "                           b_t = b_t, \n",
    "                           c_t = c_t, \n",
    "                           d_t = d_t, \n",
    "                           A_parameters = A_t_parameter_sequence[iteration], \n",
    "                           b_parameters = b_t_parameter_sequence[iteration], \n",
    "                           c_parameters = c_t_parameter_sequence[iteration]\n",
    "                          )\n",
    "        \n",
    "#         print(f\"phi_i: {phi_i}\")\n",
    "#         print(f\"logK_psi: {logK_psi}\")\n",
    "#         print(f\"uncontrolled_log_weight: {uncontrolled_log_weight}\")\n",
    "        twisted_log_weight = (uncontrolled_log_weight \n",
    "                              + logK_psi \n",
    "                              + phi_i\n",
    "                             )\n",
    "        if uncontrolled:\n",
    "            assert np.isclose(logK_psi + phi_i, 0.)\n",
    "        \n",
    "        twisted_log_weights.append(twisted_log_weight) #log the twisted log weights\n",
    "        trajectory.append(x_new.detach().numpy()) #log the new positions\n",
    "        x = x_new.clone().detach().requires_grad_(True) #reinitialize the new position\n",
    "    \n",
    "    return trajectory, twisted_log_weights "
   ]
  },
  {
   "cell_type": "code",
   "execution_count": 344,
   "metadata": {},
   "outputs": [],
   "source": [
    "def dummy_A_t(x, param):\n",
    "    return t.tensor([[0.]])\n",
    "def dummy_b_t(x, param):\n",
    "    return param[0]*(x-param[1])\n",
    "    \n",
    "def dummy_c_t(param):\n",
    "    return t.tensor(0.)"
   ]
  },
  {
   "cell_type": "code",
   "execution_count": 452,
   "metadata": {},
   "outputs": [
    {
     "name": "stderr",
     "output_type": "stream",
     "text": [
      "\n",
      "\n",
      "\n",
      "\n",
      "\n",
      "  0%|          | 0/100 [00:00<?, ?it/s]\u001b[A\u001b[A\u001b[A\u001b[A\u001b[A"
     ]
    },
    {
     "name": "stdout",
     "output_type": "stream",
     "text": [
      "[19, 19, 19]\n"
     ]
    },
    {
     "name": "stderr",
     "output_type": "stream",
     "text": [
      "\n",
      "\n",
      "\n",
      "\n",
      "\n",
      "  1%|          | 1/100 [00:00<01:10,  1.40it/s]\u001b[A\u001b[A\u001b[A\u001b[A\u001b[A"
     ]
    },
    {
     "name": "stdout",
     "output_type": "stream",
     "text": [
      "[19, 19, 19]\n"
     ]
    },
    {
     "name": "stderr",
     "output_type": "stream",
     "text": [
      "\n",
      "\n",
      "\n",
      "\n",
      "\n",
      "  2%|▏         | 2/100 [00:01<01:13,  1.34it/s]\u001b[A\u001b[A\u001b[A\u001b[A\u001b[A"
     ]
    },
    {
     "name": "stdout",
     "output_type": "stream",
     "text": [
      "[19, 19, 19]\n"
     ]
    },
    {
     "name": "stderr",
     "output_type": "stream",
     "text": [
      "\n",
      "\n",
      "\n",
      "\n",
      "\n",
      "  3%|▎         | 3/100 [00:02<01:10,  1.38it/s]\u001b[A\u001b[A\u001b[A\u001b[A\u001b[A"
     ]
    },
    {
     "name": "stdout",
     "output_type": "stream",
     "text": [
      "[19, 19, 19]\n"
     ]
    },
    {
     "name": "stderr",
     "output_type": "stream",
     "text": [
      "\n",
      "\n",
      "\n",
      "\n",
      "\n",
      "  4%|▍         | 4/100 [00:02<01:10,  1.35it/s]\u001b[A\u001b[A\u001b[A\u001b[A\u001b[A"
     ]
    },
    {
     "name": "stdout",
     "output_type": "stream",
     "text": [
      "[19, 19, 19]\n"
     ]
    },
    {
     "name": "stderr",
     "output_type": "stream",
     "text": [
      "\n",
      "\n",
      "\n",
      "\n",
      "\n",
      "  5%|▌         | 5/100 [00:03<01:08,  1.39it/s]\u001b[A\u001b[A\u001b[A\u001b[A\u001b[A"
     ]
    },
    {
     "name": "stdout",
     "output_type": "stream",
     "text": [
      "[19, 19, 19]\n"
     ]
    },
    {
     "name": "stderr",
     "output_type": "stream",
     "text": [
      "\n",
      "\n",
      "\n",
      "\n",
      "\n",
      "  6%|▌         | 6/100 [00:04<01:05,  1.43it/s]\u001b[A\u001b[A\u001b[A\u001b[A\u001b[A"
     ]
    },
    {
     "name": "stdout",
     "output_type": "stream",
     "text": [
      "[19, 19, 19]\n"
     ]
    },
    {
     "name": "stderr",
     "output_type": "stream",
     "text": [
      "\n",
      "\n",
      "\n",
      "\n",
      "\n",
      "  7%|▋         | 7/100 [00:05<01:08,  1.36it/s]\u001b[A\u001b[A\u001b[A\u001b[A\u001b[A"
     ]
    },
    {
     "name": "stdout",
     "output_type": "stream",
     "text": [
      "[19, 19, 19]\n"
     ]
    },
    {
     "name": "stderr",
     "output_type": "stream",
     "text": [
      "\n",
      "\n",
      "\n",
      "\n",
      "\n",
      "  8%|▊         | 8/100 [00:05<01:07,  1.37it/s]\u001b[A\u001b[A\u001b[A\u001b[A\u001b[A"
     ]
    },
    {
     "name": "stdout",
     "output_type": "stream",
     "text": [
      "[19, 19, 19]\n"
     ]
    },
    {
     "name": "stderr",
     "output_type": "stream",
     "text": [
      "\n",
      "\n",
      "\n",
      "\n",
      "\n",
      "  9%|▉         | 9/100 [00:06<01:04,  1.41it/s]\u001b[A\u001b[A\u001b[A\u001b[A\u001b[A"
     ]
    },
    {
     "name": "stdout",
     "output_type": "stream",
     "text": [
      "[19, 19, 19]\n"
     ]
    },
    {
     "name": "stderr",
     "output_type": "stream",
     "text": [
      "\n",
      "\n",
      "\n",
      "\n",
      "\n",
      " 10%|█         | 10/100 [00:07<01:06,  1.36it/s]\u001b[A\u001b[A\u001b[A\u001b[A\u001b[A"
     ]
    },
    {
     "name": "stdout",
     "output_type": "stream",
     "text": [
      "[19, 19, 19]\n"
     ]
    },
    {
     "name": "stderr",
     "output_type": "stream",
     "text": [
      "\n",
      "\n",
      "\n",
      "\n",
      "\n",
      " 11%|█         | 11/100 [00:08<01:07,  1.33it/s]\u001b[A\u001b[A\u001b[A\u001b[A\u001b[A"
     ]
    },
    {
     "name": "stdout",
     "output_type": "stream",
     "text": [
      "[19, 19, 19]\n"
     ]
    },
    {
     "name": "stderr",
     "output_type": "stream",
     "text": [
      "\n",
      "\n",
      "\n",
      "\n",
      "\n",
      " 12%|█▏        | 12/100 [00:08<01:06,  1.33it/s]\u001b[A\u001b[A\u001b[A\u001b[A\u001b[A"
     ]
    },
    {
     "name": "stdout",
     "output_type": "stream",
     "text": [
      "[19, 19, 19]\n"
     ]
    },
    {
     "name": "stderr",
     "output_type": "stream",
     "text": [
      "\n",
      "\n",
      "\n",
      "\n",
      "\n",
      " 13%|█▎        | 13/100 [00:09<01:07,  1.28it/s]\u001b[A\u001b[A\u001b[A\u001b[A\u001b[A"
     ]
    },
    {
     "name": "stdout",
     "output_type": "stream",
     "text": [
      "[19, 19, 19]\n"
     ]
    },
    {
     "name": "stderr",
     "output_type": "stream",
     "text": [
      "\n",
      "\n",
      "\n",
      "\n",
      "\n",
      " 14%|█▍        | 14/100 [00:10<01:10,  1.22it/s]\u001b[A\u001b[A\u001b[A\u001b[A\u001b[A"
     ]
    },
    {
     "name": "stdout",
     "output_type": "stream",
     "text": [
      "[19, 19, 19]\n"
     ]
    },
    {
     "name": "stderr",
     "output_type": "stream",
     "text": [
      "\n",
      "\n",
      "\n",
      "\n",
      "\n",
      " 15%|█▌        | 15/100 [00:11<01:11,  1.19it/s]\u001b[A\u001b[A\u001b[A\u001b[A\u001b[A"
     ]
    },
    {
     "name": "stdout",
     "output_type": "stream",
     "text": [
      "[19, 19, 19]\n"
     ]
    },
    {
     "name": "stderr",
     "output_type": "stream",
     "text": [
      "\n",
      "\n",
      "\n",
      "\n",
      "\n",
      " 16%|█▌        | 16/100 [00:12<01:11,  1.18it/s]\u001b[A\u001b[A\u001b[A\u001b[A\u001b[A"
     ]
    },
    {
     "name": "stdout",
     "output_type": "stream",
     "text": [
      "[19, 19, 19]\n"
     ]
    },
    {
     "name": "stderr",
     "output_type": "stream",
     "text": [
      "\n",
      "\n",
      "\n",
      "\n",
      "\n",
      " 17%|█▋        | 17/100 [00:13<01:18,  1.05it/s]\u001b[A\u001b[A\u001b[A\u001b[A\u001b[A"
     ]
    },
    {
     "name": "stdout",
     "output_type": "stream",
     "text": [
      "[19, 19, 19]\n"
     ]
    },
    {
     "name": "stderr",
     "output_type": "stream",
     "text": [
      "\n",
      "\n",
      "\n",
      "\n",
      "\n",
      " 18%|█▊        | 18/100 [00:14<01:19,  1.03it/s]\u001b[A\u001b[A\u001b[A\u001b[A\u001b[A"
     ]
    },
    {
     "name": "stdout",
     "output_type": "stream",
     "text": [
      "[19, 19, 19]\n"
     ]
    },
    {
     "name": "stderr",
     "output_type": "stream",
     "text": [
      "\n",
      "\n",
      "\n",
      "\n",
      "\n",
      " 19%|█▉        | 19/100 [00:15<01:16,  1.06it/s]\u001b[A\u001b[A\u001b[A\u001b[A\u001b[A"
     ]
    },
    {
     "name": "stdout",
     "output_type": "stream",
     "text": [
      "[19, 19, 19]\n"
     ]
    },
    {
     "name": "stderr",
     "output_type": "stream",
     "text": [
      "\n",
      "\n",
      "\n",
      "\n",
      "\n",
      " 20%|██        | 20/100 [00:16<01:13,  1.08it/s]\u001b[A\u001b[A\u001b[A\u001b[A\u001b[A"
     ]
    },
    {
     "name": "stdout",
     "output_type": "stream",
     "text": [
      "[19, 19, 19]\n"
     ]
    },
    {
     "name": "stderr",
     "output_type": "stream",
     "text": [
      "\n",
      "\n",
      "\n",
      "\n",
      "\n",
      " 21%|██        | 21/100 [00:17<01:17,  1.02it/s]\u001b[A\u001b[A\u001b[A\u001b[A\u001b[A"
     ]
    },
    {
     "name": "stdout",
     "output_type": "stream",
     "text": [
      "[19, 19, 19]\n"
     ]
    },
    {
     "name": "stderr",
     "output_type": "stream",
     "text": [
      "\n",
      "\n",
      "\n",
      "\n",
      "\n",
      " 22%|██▏       | 22/100 [00:18<01:17,  1.01it/s]\u001b[A\u001b[A\u001b[A\u001b[A\u001b[A"
     ]
    },
    {
     "name": "stdout",
     "output_type": "stream",
     "text": [
      "[19, 19, 19]\n"
     ]
    },
    {
     "name": "stderr",
     "output_type": "stream",
     "text": [
      "\n",
      "\n",
      "\n",
      "\n",
      "\n",
      " 23%|██▎       | 23/100 [00:19<01:14,  1.04it/s]\u001b[A\u001b[A\u001b[A\u001b[A\u001b[A"
     ]
    },
    {
     "name": "stdout",
     "output_type": "stream",
     "text": [
      "[19, 19, 19]\n"
     ]
    },
    {
     "name": "stderr",
     "output_type": "stream",
     "text": [
      "\n",
      "\n",
      "\n",
      "\n",
      "\n",
      " 24%|██▍       | 24/100 [00:20<01:12,  1.04it/s]\u001b[A\u001b[A\u001b[A\u001b[A\u001b[A"
     ]
    },
    {
     "name": "stdout",
     "output_type": "stream",
     "text": [
      "[19, 19, 19]\n"
     ]
    },
    {
     "name": "stderr",
     "output_type": "stream",
     "text": [
      "\n",
      "\n",
      "\n",
      "\n",
      "\n",
      " 25%|██▌       | 25/100 [00:21<01:11,  1.05it/s]\u001b[A\u001b[A\u001b[A\u001b[A\u001b[A"
     ]
    },
    {
     "name": "stdout",
     "output_type": "stream",
     "text": [
      "[19, 19, 19]\n"
     ]
    },
    {
     "name": "stderr",
     "output_type": "stream",
     "text": [
      "\n",
      "\n",
      "\n",
      "\n",
      "\n",
      " 26%|██▌       | 26/100 [00:22<01:09,  1.07it/s]\u001b[A\u001b[A\u001b[A\u001b[A\u001b[A"
     ]
    },
    {
     "name": "stdout",
     "output_type": "stream",
     "text": [
      "[19, 19, 19]\n"
     ]
    },
    {
     "name": "stderr",
     "output_type": "stream",
     "text": [
      "\n",
      "\n",
      "\n",
      "\n",
      "\n",
      " 27%|██▋       | 27/100 [00:23<01:07,  1.08it/s]\u001b[A\u001b[A\u001b[A\u001b[A\u001b[A"
     ]
    },
    {
     "name": "stdout",
     "output_type": "stream",
     "text": [
      "[19, 19, 19]\n"
     ]
    },
    {
     "name": "stderr",
     "output_type": "stream",
     "text": [
      "\n",
      "\n",
      "\n",
      "\n",
      "\n",
      " 28%|██▊       | 28/100 [00:23<01:04,  1.11it/s]\u001b[A\u001b[A\u001b[A\u001b[A\u001b[A"
     ]
    },
    {
     "name": "stdout",
     "output_type": "stream",
     "text": [
      "[19, 19, 19]\n"
     ]
    },
    {
     "name": "stderr",
     "output_type": "stream",
     "text": [
      "\n",
      "\n",
      "\n",
      "\n",
      "\n",
      " 29%|██▉       | 29/100 [00:24<01:03,  1.12it/s]\u001b[A\u001b[A\u001b[A\u001b[A\u001b[A"
     ]
    },
    {
     "name": "stdout",
     "output_type": "stream",
     "text": [
      "[19, 19, 19]\n"
     ]
    },
    {
     "name": "stderr",
     "output_type": "stream",
     "text": [
      "\n",
      "\n",
      "\n",
      "\n",
      "\n",
      " 30%|███       | 30/100 [00:25<01:01,  1.14it/s]\u001b[A\u001b[A\u001b[A\u001b[A\u001b[A"
     ]
    },
    {
     "name": "stdout",
     "output_type": "stream",
     "text": [
      "[19, 19, 19]\n"
     ]
    },
    {
     "name": "stderr",
     "output_type": "stream",
     "text": [
      "\n",
      "\n",
      "\n",
      "\n",
      "\n",
      " 31%|███       | 31/100 [00:26<01:01,  1.12it/s]\u001b[A\u001b[A\u001b[A\u001b[A\u001b[A"
     ]
    },
    {
     "name": "stdout",
     "output_type": "stream",
     "text": [
      "[19, 19, 19]\n"
     ]
    },
    {
     "name": "stderr",
     "output_type": "stream",
     "text": [
      "\n",
      "\n",
      "\n",
      "\n",
      "\n",
      " 32%|███▏      | 32/100 [00:27<01:00,  1.12it/s]\u001b[A\u001b[A\u001b[A\u001b[A\u001b[A"
     ]
    },
    {
     "name": "stdout",
     "output_type": "stream",
     "text": [
      "[19, 19, 19]\n"
     ]
    },
    {
     "name": "stderr",
     "output_type": "stream",
     "text": [
      "\n",
      "\n",
      "\n",
      "\n",
      "\n",
      " 33%|███▎      | 33/100 [00:28<00:59,  1.13it/s]\u001b[A\u001b[A\u001b[A\u001b[A\u001b[A"
     ]
    },
    {
     "name": "stdout",
     "output_type": "stream",
     "text": [
      "[19, 19, 19]\n"
     ]
    },
    {
     "name": "stderr",
     "output_type": "stream",
     "text": [
      "\n",
      "\n",
      "\n",
      "\n",
      "\n",
      " 34%|███▍      | 34/100 [00:29<00:57,  1.14it/s]\u001b[A\u001b[A\u001b[A\u001b[A\u001b[A"
     ]
    },
    {
     "name": "stdout",
     "output_type": "stream",
     "text": [
      "[19, 19, 19]\n"
     ]
    },
    {
     "name": "stderr",
     "output_type": "stream",
     "text": [
      "\n",
      "\n",
      "\n",
      "\n",
      "\n",
      " 35%|███▌      | 35/100 [00:29<00:56,  1.15it/s]\u001b[A\u001b[A\u001b[A\u001b[A\u001b[A"
     ]
    },
    {
     "name": "stdout",
     "output_type": "stream",
     "text": [
      "[19, 19, 19]\n"
     ]
    },
    {
     "name": "stderr",
     "output_type": "stream",
     "text": [
      "\n",
      "\n",
      "\n",
      "\n",
      "\n",
      " 36%|███▌      | 36/100 [00:30<00:56,  1.13it/s]\u001b[A\u001b[A\u001b[A\u001b[A\u001b[A"
     ]
    },
    {
     "name": "stdout",
     "output_type": "stream",
     "text": [
      "[19, 19, 19]\n"
     ]
    },
    {
     "name": "stderr",
     "output_type": "stream",
     "text": [
      "\n",
      "\n",
      "\n",
      "\n",
      "\n",
      " 37%|███▋      | 37/100 [00:31<00:55,  1.14it/s]\u001b[A\u001b[A\u001b[A\u001b[A\u001b[A"
     ]
    },
    {
     "name": "stdout",
     "output_type": "stream",
     "text": [
      "[19, 19, 19]\n"
     ]
    },
    {
     "name": "stderr",
     "output_type": "stream",
     "text": [
      "\n",
      "\n",
      "\n",
      "\n",
      "\n",
      " 38%|███▊      | 38/100 [00:32<00:54,  1.14it/s]\u001b[A\u001b[A\u001b[A\u001b[A\u001b[A"
     ]
    },
    {
     "name": "stdout",
     "output_type": "stream",
     "text": [
      "[19, 19, 19]\n"
     ]
    },
    {
     "name": "stderr",
     "output_type": "stream",
     "text": [
      "\n",
      "\n",
      "\n",
      "\n",
      "\n",
      " 39%|███▉      | 39/100 [00:33<00:53,  1.15it/s]\u001b[A\u001b[A\u001b[A\u001b[A\u001b[A"
     ]
    },
    {
     "name": "stdout",
     "output_type": "stream",
     "text": [
      "[19, 19, 19]\n"
     ]
    },
    {
     "name": "stderr",
     "output_type": "stream",
     "text": [
      "\n",
      "\n",
      "\n",
      "\n",
      "\n",
      " 40%|████      | 40/100 [00:34<00:51,  1.16it/s]\u001b[A\u001b[A\u001b[A\u001b[A\u001b[A"
     ]
    },
    {
     "name": "stdout",
     "output_type": "stream",
     "text": [
      "[19, 19, 19]\n"
     ]
    },
    {
     "name": "stderr",
     "output_type": "stream",
     "text": [
      "\n",
      "\n",
      "\n",
      "\n",
      "\n",
      " 41%|████      | 41/100 [00:35<00:51,  1.15it/s]\u001b[A\u001b[A\u001b[A\u001b[A\u001b[A"
     ]
    },
    {
     "name": "stdout",
     "output_type": "stream",
     "text": [
      "[19, 19, 19]\n"
     ]
    },
    {
     "name": "stderr",
     "output_type": "stream",
     "text": [
      "\n",
      "\n",
      "\n",
      "\n",
      "\n",
      " 42%|████▏     | 42/100 [00:36<00:53,  1.09it/s]\u001b[A\u001b[A\u001b[A\u001b[A\u001b[A"
     ]
    },
    {
     "name": "stdout",
     "output_type": "stream",
     "text": [
      "[19, 19, 19]\n"
     ]
    },
    {
     "name": "stderr",
     "output_type": "stream",
     "text": [
      "\n",
      "\n",
      "\n",
      "\n",
      "\n",
      " 43%|████▎     | 43/100 [00:37<00:57,  1.00s/it]\u001b[A\u001b[A\u001b[A\u001b[A\u001b[A"
     ]
    },
    {
     "name": "stdout",
     "output_type": "stream",
     "text": [
      "[19, 19, 19]\n"
     ]
    },
    {
     "name": "stderr",
     "output_type": "stream",
     "text": [
      "\n",
      "\n",
      "\n",
      "\n",
      "\n",
      " 44%|████▍     | 44/100 [00:38<00:56,  1.02s/it]\u001b[A\u001b[A\u001b[A\u001b[A\u001b[A"
     ]
    },
    {
     "name": "stdout",
     "output_type": "stream",
     "text": [
      "[19, 19, 19]\n"
     ]
    },
    {
     "name": "stderr",
     "output_type": "stream",
     "text": [
      "\n",
      "\n",
      "\n",
      "\n",
      "\n",
      " 45%|████▌     | 45/100 [00:39<00:56,  1.02s/it]\u001b[A\u001b[A\u001b[A\u001b[A\u001b[A"
     ]
    },
    {
     "name": "stdout",
     "output_type": "stream",
     "text": [
      "[19, 19, 19]\n"
     ]
    },
    {
     "name": "stderr",
     "output_type": "stream",
     "text": [
      "\n",
      "\n",
      "\n",
      "\n",
      "\n",
      " 46%|████▌     | 46/100 [00:40<00:56,  1.04s/it]\u001b[A\u001b[A\u001b[A\u001b[A\u001b[A"
     ]
    },
    {
     "name": "stdout",
     "output_type": "stream",
     "text": [
      "[19, 19, 19]\n"
     ]
    },
    {
     "name": "stderr",
     "output_type": "stream",
     "text": [
      "\n",
      "\n",
      "\n",
      "\n",
      "\n",
      " 47%|████▋     | 47/100 [00:41<00:53,  1.02s/it]\u001b[A\u001b[A\u001b[A\u001b[A\u001b[A"
     ]
    },
    {
     "name": "stdout",
     "output_type": "stream",
     "text": [
      "[19, 19, 19]\n"
     ]
    },
    {
     "name": "stderr",
     "output_type": "stream",
     "text": [
      "\n",
      "\n",
      "\n",
      "\n",
      "\n",
      " 48%|████▊     | 48/100 [00:42<00:50,  1.02it/s]\u001b[A\u001b[A\u001b[A\u001b[A\u001b[A"
     ]
    },
    {
     "name": "stdout",
     "output_type": "stream",
     "text": [
      "[19, 19, 19]\n"
     ]
    },
    {
     "name": "stderr",
     "output_type": "stream",
     "text": [
      "\n",
      "\n",
      "\n",
      "\n",
      "\n",
      " 49%|████▉     | 49/100 [00:43<00:51,  1.01s/it]\u001b[A\u001b[A\u001b[A\u001b[A\u001b[A"
     ]
    },
    {
     "name": "stdout",
     "output_type": "stream",
     "text": [
      "[19, 19, 19]\n"
     ]
    },
    {
     "name": "stderr",
     "output_type": "stream",
     "text": [
      "\n",
      "\n",
      "\n",
      "\n",
      "\n",
      " 50%|█████     | 50/100 [00:44<00:49,  1.00it/s]\u001b[A\u001b[A\u001b[A\u001b[A\u001b[A"
     ]
    },
    {
     "name": "stdout",
     "output_type": "stream",
     "text": [
      "[19, 19, 19]\n"
     ]
    },
    {
     "name": "stderr",
     "output_type": "stream",
     "text": [
      "\n",
      "\n",
      "\n",
      "\n",
      "\n",
      " 51%|█████     | 51/100 [00:45<00:47,  1.03it/s]\u001b[A\u001b[A\u001b[A\u001b[A\u001b[A"
     ]
    },
    {
     "name": "stdout",
     "output_type": "stream",
     "text": [
      "[19, 19, 19]\n"
     ]
    },
    {
     "name": "stderr",
     "output_type": "stream",
     "text": [
      "\n",
      "\n",
      "\n",
      "\n",
      "\n",
      " 52%|█████▏    | 52/100 [00:46<00:45,  1.06it/s]\u001b[A\u001b[A\u001b[A\u001b[A\u001b[A"
     ]
    },
    {
     "name": "stdout",
     "output_type": "stream",
     "text": [
      "[19, 19, 19]\n"
     ]
    },
    {
     "name": "stderr",
     "output_type": "stream",
     "text": [
      "\n",
      "\n",
      "\n",
      "\n",
      "\n",
      " 53%|█████▎    | 53/100 [00:47<00:43,  1.09it/s]\u001b[A\u001b[A\u001b[A\u001b[A\u001b[A"
     ]
    },
    {
     "name": "stdout",
     "output_type": "stream",
     "text": [
      "[19, 19, 19]\n"
     ]
    },
    {
     "name": "stderr",
     "output_type": "stream",
     "text": [
      "\n",
      "\n",
      "\n",
      "\n",
      "\n",
      " 54%|█████▍    | 54/100 [00:48<00:41,  1.11it/s]\u001b[A\u001b[A\u001b[A\u001b[A\u001b[A"
     ]
    },
    {
     "name": "stdout",
     "output_type": "stream",
     "text": [
      "[19, 19, 19]\n"
     ]
    },
    {
     "name": "stderr",
     "output_type": "stream",
     "text": [
      "\n",
      "\n",
      "\n",
      "\n",
      "\n",
      " 55%|█████▌    | 55/100 [00:48<00:40,  1.12it/s]\u001b[A\u001b[A\u001b[A\u001b[A\u001b[A"
     ]
    },
    {
     "name": "stdout",
     "output_type": "stream",
     "text": [
      "[19, 19, 19]\n"
     ]
    },
    {
     "name": "stderr",
     "output_type": "stream",
     "text": [
      "\n",
      "\n",
      "\n",
      "\n",
      "\n",
      " 56%|█████▌    | 56/100 [00:49<00:39,  1.12it/s]\u001b[A\u001b[A\u001b[A\u001b[A\u001b[A"
     ]
    },
    {
     "name": "stdout",
     "output_type": "stream",
     "text": [
      "[19, 19, 19]\n"
     ]
    },
    {
     "name": "stderr",
     "output_type": "stream",
     "text": [
      "\n",
      "\n",
      "\n",
      "\n",
      "\n",
      " 57%|█████▋    | 57/100 [00:50<00:38,  1.13it/s]\u001b[A\u001b[A\u001b[A\u001b[A\u001b[A"
     ]
    },
    {
     "name": "stdout",
     "output_type": "stream",
     "text": [
      "[19, 19, 19]\n"
     ]
    },
    {
     "name": "stderr",
     "output_type": "stream",
     "text": [
      "\n",
      "\n",
      "\n",
      "\n",
      "\n",
      " 58%|█████▊    | 58/100 [00:51<00:37,  1.13it/s]\u001b[A\u001b[A\u001b[A\u001b[A\u001b[A"
     ]
    },
    {
     "name": "stdout",
     "output_type": "stream",
     "text": [
      "[19, 19, 19]\n"
     ]
    },
    {
     "name": "stderr",
     "output_type": "stream",
     "text": [
      "\n",
      "\n",
      "\n",
      "\n",
      "\n",
      " 59%|█████▉    | 59/100 [00:52<00:36,  1.13it/s]\u001b[A\u001b[A\u001b[A\u001b[A\u001b[A"
     ]
    },
    {
     "name": "stdout",
     "output_type": "stream",
     "text": [
      "[19, 19, 19]\n"
     ]
    },
    {
     "name": "stderr",
     "output_type": "stream",
     "text": [
      "\n",
      "\n",
      "\n",
      "\n",
      "\n",
      " 60%|██████    | 60/100 [00:53<00:35,  1.13it/s]\u001b[A\u001b[A\u001b[A\u001b[A\u001b[A"
     ]
    },
    {
     "name": "stdout",
     "output_type": "stream",
     "text": [
      "[19, 19, 19]\n"
     ]
    },
    {
     "name": "stderr",
     "output_type": "stream",
     "text": [
      "\n",
      "\n",
      "\n",
      "\n",
      "\n",
      " 61%|██████    | 61/100 [00:54<00:38,  1.02it/s]\u001b[A\u001b[A\u001b[A\u001b[A\u001b[A"
     ]
    },
    {
     "name": "stdout",
     "output_type": "stream",
     "text": [
      "[19, 19, 19]\n"
     ]
    },
    {
     "name": "stderr",
     "output_type": "stream",
     "text": [
      "\n",
      "\n",
      "\n",
      "\n",
      "\n",
      " 62%|██████▏   | 62/100 [00:55<00:38,  1.01s/it]\u001b[A\u001b[A\u001b[A\u001b[A\u001b[A"
     ]
    },
    {
     "name": "stdout",
     "output_type": "stream",
     "text": [
      "[19, 19, 19]\n"
     ]
    },
    {
     "name": "stderr",
     "output_type": "stream",
     "text": [
      "\n",
      "\n",
      "\n",
      "\n",
      "\n",
      " 63%|██████▎   | 63/100 [00:56<00:40,  1.10s/it]\u001b[A\u001b[A\u001b[A\u001b[A\u001b[A"
     ]
    },
    {
     "name": "stdout",
     "output_type": "stream",
     "text": [
      "[19, 19, 19]\n"
     ]
    },
    {
     "name": "stderr",
     "output_type": "stream",
     "text": [
      "\n",
      "\n",
      "\n",
      "\n",
      "\n",
      " 64%|██████▍   | 64/100 [00:57<00:38,  1.07s/it]\u001b[A\u001b[A\u001b[A\u001b[A\u001b[A"
     ]
    },
    {
     "name": "stdout",
     "output_type": "stream",
     "text": [
      "[19, 19, 19]\n"
     ]
    },
    {
     "name": "stderr",
     "output_type": "stream",
     "text": [
      "\n",
      "\n",
      "\n",
      "\n",
      "\n",
      " 65%|██████▌   | 65/100 [00:58<00:35,  1.02s/it]\u001b[A\u001b[A\u001b[A\u001b[A\u001b[A"
     ]
    },
    {
     "name": "stdout",
     "output_type": "stream",
     "text": [
      "[19, 19, 19]\n"
     ]
    },
    {
     "name": "stderr",
     "output_type": "stream",
     "text": [
      "\n",
      "\n",
      "\n",
      "\n",
      "\n",
      " 66%|██████▌   | 66/100 [00:59<00:33,  1.01it/s]\u001b[A\u001b[A\u001b[A\u001b[A\u001b[A"
     ]
    },
    {
     "name": "stdout",
     "output_type": "stream",
     "text": [
      "[19, 19, 19]\n"
     ]
    },
    {
     "name": "stderr",
     "output_type": "stream",
     "text": [
      "\n",
      "\n",
      "\n",
      "\n",
      "\n",
      " 67%|██████▋   | 67/100 [01:00<00:31,  1.05it/s]\u001b[A\u001b[A\u001b[A\u001b[A\u001b[A"
     ]
    },
    {
     "name": "stdout",
     "output_type": "stream",
     "text": [
      "[19, 19, 19]\n"
     ]
    },
    {
     "name": "stderr",
     "output_type": "stream",
     "text": [
      "\n",
      "\n",
      "\n",
      "\n",
      "\n",
      " 68%|██████▊   | 68/100 [01:01<00:29,  1.08it/s]\u001b[A\u001b[A\u001b[A\u001b[A\u001b[A"
     ]
    },
    {
     "name": "stdout",
     "output_type": "stream",
     "text": [
      "[19, 19, 19]\n"
     ]
    },
    {
     "name": "stderr",
     "output_type": "stream",
     "text": [
      "\n",
      "\n",
      "\n",
      "\n",
      "\n",
      " 69%|██████▉   | 69/100 [01:02<00:28,  1.10it/s]\u001b[A\u001b[A\u001b[A\u001b[A\u001b[A"
     ]
    },
    {
     "name": "stdout",
     "output_type": "stream",
     "text": [
      "[19, 19, 19]\n"
     ]
    },
    {
     "name": "stderr",
     "output_type": "stream",
     "text": [
      "\n",
      "\n",
      "\n",
      "\n",
      "\n",
      " 70%|███████   | 70/100 [01:03<00:27,  1.11it/s]\u001b[A\u001b[A\u001b[A\u001b[A\u001b[A"
     ]
    },
    {
     "name": "stdout",
     "output_type": "stream",
     "text": [
      "[19, 19, 19]\n"
     ]
    },
    {
     "name": "stderr",
     "output_type": "stream",
     "text": [
      "\n",
      "\n",
      "\n",
      "\n",
      "\n",
      " 71%|███████   | 71/100 [01:04<00:25,  1.12it/s]\u001b[A\u001b[A\u001b[A\u001b[A\u001b[A"
     ]
    },
    {
     "name": "stdout",
     "output_type": "stream",
     "text": [
      "[19, 19, 19]\n"
     ]
    },
    {
     "name": "stderr",
     "output_type": "stream",
     "text": [
      "\n",
      "\n",
      "\n",
      "\n",
      "\n",
      " 72%|███████▏  | 72/100 [01:04<00:24,  1.13it/s]\u001b[A\u001b[A\u001b[A\u001b[A\u001b[A"
     ]
    },
    {
     "name": "stdout",
     "output_type": "stream",
     "text": [
      "[19, 19, 19]\n"
     ]
    },
    {
     "name": "stderr",
     "output_type": "stream",
     "text": [
      "\n",
      "\n",
      "\n",
      "\n",
      "\n",
      " 73%|███████▎  | 73/100 [01:05<00:23,  1.14it/s]\u001b[A\u001b[A\u001b[A\u001b[A\u001b[A"
     ]
    },
    {
     "name": "stdout",
     "output_type": "stream",
     "text": [
      "[19, 19, 19]\n"
     ]
    },
    {
     "name": "stderr",
     "output_type": "stream",
     "text": [
      "\n",
      "\n",
      "\n",
      "\n",
      "\n",
      " 74%|███████▍  | 74/100 [01:06<00:22,  1.14it/s]\u001b[A\u001b[A\u001b[A\u001b[A\u001b[A"
     ]
    },
    {
     "name": "stdout",
     "output_type": "stream",
     "text": [
      "[19, 19, 19]\n"
     ]
    },
    {
     "name": "stderr",
     "output_type": "stream",
     "text": [
      "\n",
      "\n",
      "\n",
      "\n",
      "\n",
      " 75%|███████▌  | 75/100 [01:07<00:21,  1.15it/s]\u001b[A\u001b[A\u001b[A\u001b[A\u001b[A"
     ]
    },
    {
     "name": "stdout",
     "output_type": "stream",
     "text": [
      "[19, 19, 19]\n"
     ]
    },
    {
     "name": "stderr",
     "output_type": "stream",
     "text": [
      "\n",
      "\n",
      "\n",
      "\n",
      "\n",
      " 76%|███████▌  | 76/100 [01:08<00:21,  1.14it/s]\u001b[A\u001b[A\u001b[A\u001b[A\u001b[A"
     ]
    },
    {
     "name": "stdout",
     "output_type": "stream",
     "text": [
      "[19, 19, 19]\n"
     ]
    },
    {
     "name": "stderr",
     "output_type": "stream",
     "text": [
      "\n",
      "\n",
      "\n",
      "\n",
      "\n",
      " 77%|███████▋  | 77/100 [01:09<00:20,  1.15it/s]\u001b[A\u001b[A\u001b[A\u001b[A\u001b[A"
     ]
    },
    {
     "name": "stdout",
     "output_type": "stream",
     "text": [
      "[19, 19, 19]\n"
     ]
    },
    {
     "name": "stderr",
     "output_type": "stream",
     "text": [
      "\n",
      "\n",
      "\n",
      "\n",
      "\n",
      " 78%|███████▊  | 78/100 [01:10<00:19,  1.15it/s]\u001b[A\u001b[A\u001b[A\u001b[A\u001b[A"
     ]
    },
    {
     "name": "stdout",
     "output_type": "stream",
     "text": [
      "[19, 19, 19]\n"
     ]
    },
    {
     "name": "stderr",
     "output_type": "stream",
     "text": [
      "\n",
      "\n",
      "\n",
      "\n",
      "\n",
      " 79%|███████▉  | 79/100 [01:11<00:18,  1.15it/s]\u001b[A\u001b[A\u001b[A\u001b[A\u001b[A"
     ]
    },
    {
     "name": "stdout",
     "output_type": "stream",
     "text": [
      "[19, 19, 19]\n"
     ]
    },
    {
     "name": "stderr",
     "output_type": "stream",
     "text": [
      "\n",
      "\n",
      "\n",
      "\n",
      "\n",
      " 80%|████████  | 80/100 [01:11<00:17,  1.15it/s]\u001b[A\u001b[A\u001b[A\u001b[A\u001b[A"
     ]
    },
    {
     "name": "stdout",
     "output_type": "stream",
     "text": [
      "[19, 19, 19]\n"
     ]
    },
    {
     "name": "stderr",
     "output_type": "stream",
     "text": [
      "\n",
      "\n",
      "\n",
      "\n",
      "\n",
      " 81%|████████  | 81/100 [01:12<00:16,  1.15it/s]\u001b[A\u001b[A\u001b[A\u001b[A\u001b[A"
     ]
    },
    {
     "name": "stdout",
     "output_type": "stream",
     "text": [
      "[19, 19, 19]\n"
     ]
    },
    {
     "name": "stderr",
     "output_type": "stream",
     "text": [
      "\n",
      "\n",
      "\n",
      "\n",
      "\n",
      " 82%|████████▏ | 82/100 [01:13<00:15,  1.15it/s]\u001b[A\u001b[A\u001b[A\u001b[A\u001b[A"
     ]
    },
    {
     "name": "stdout",
     "output_type": "stream",
     "text": [
      "[19, 19, 19]\n"
     ]
    },
    {
     "name": "stderr",
     "output_type": "stream",
     "text": [
      "\n",
      "\n",
      "\n",
      "\n",
      "\n",
      " 83%|████████▎ | 83/100 [01:14<00:14,  1.15it/s]\u001b[A\u001b[A\u001b[A\u001b[A\u001b[A"
     ]
    },
    {
     "name": "stdout",
     "output_type": "stream",
     "text": [
      "[19, 19, 19]\n"
     ]
    },
    {
     "name": "stderr",
     "output_type": "stream",
     "text": [
      "\n",
      "\n",
      "\n",
      "\n",
      "\n",
      " 84%|████████▍ | 84/100 [01:15<00:13,  1.15it/s]\u001b[A\u001b[A\u001b[A\u001b[A\u001b[A"
     ]
    },
    {
     "name": "stdout",
     "output_type": "stream",
     "text": [
      "[19, 19, 19]\n"
     ]
    },
    {
     "name": "stderr",
     "output_type": "stream",
     "text": [
      "\n",
      "\n",
      "\n",
      "\n",
      "\n",
      " 85%|████████▌ | 85/100 [01:16<00:12,  1.16it/s]\u001b[A\u001b[A\u001b[A\u001b[A\u001b[A"
     ]
    },
    {
     "name": "stdout",
     "output_type": "stream",
     "text": [
      "[19, 19, 19]\n"
     ]
    },
    {
     "name": "stderr",
     "output_type": "stream",
     "text": [
      "\n",
      "\n",
      "\n",
      "\n",
      "\n",
      " 86%|████████▌ | 86/100 [01:17<00:12,  1.15it/s]\u001b[A\u001b[A\u001b[A\u001b[A\u001b[A"
     ]
    },
    {
     "name": "stdout",
     "output_type": "stream",
     "text": [
      "[19, 19, 19]\n"
     ]
    },
    {
     "name": "stderr",
     "output_type": "stream",
     "text": [
      "\n",
      "\n",
      "\n",
      "\n",
      "\n",
      " 87%|████████▋ | 87/100 [01:18<00:11,  1.15it/s]\u001b[A\u001b[A\u001b[A\u001b[A\u001b[A"
     ]
    },
    {
     "name": "stdout",
     "output_type": "stream",
     "text": [
      "[19, 19, 19]\n"
     ]
    },
    {
     "name": "stderr",
     "output_type": "stream",
     "text": [
      "\n",
      "\n",
      "\n",
      "\n",
      "\n",
      " 88%|████████▊ | 88/100 [01:18<00:10,  1.15it/s]\u001b[A\u001b[A\u001b[A\u001b[A\u001b[A"
     ]
    },
    {
     "name": "stdout",
     "output_type": "stream",
     "text": [
      "[19, 19, 19]\n"
     ]
    },
    {
     "name": "stderr",
     "output_type": "stream",
     "text": [
      "\n",
      "\n",
      "\n",
      "\n",
      "\n",
      " 89%|████████▉ | 89/100 [01:19<00:09,  1.15it/s]\u001b[A\u001b[A\u001b[A\u001b[A\u001b[A"
     ]
    },
    {
     "name": "stdout",
     "output_type": "stream",
     "text": [
      "[19, 19, 19]\n"
     ]
    },
    {
     "name": "stderr",
     "output_type": "stream",
     "text": [
      "\n",
      "\n",
      "\n",
      "\n",
      "\n",
      " 90%|█████████ | 90/100 [01:20<00:08,  1.15it/s]\u001b[A\u001b[A\u001b[A\u001b[A\u001b[A"
     ]
    },
    {
     "name": "stdout",
     "output_type": "stream",
     "text": [
      "[19, 19, 19]\n"
     ]
    },
    {
     "name": "stderr",
     "output_type": "stream",
     "text": [
      "\n",
      "\n",
      "\n",
      "\n",
      "\n",
      " 91%|█████████ | 91/100 [01:21<00:07,  1.14it/s]\u001b[A\u001b[A\u001b[A\u001b[A\u001b[A"
     ]
    },
    {
     "name": "stdout",
     "output_type": "stream",
     "text": [
      "[19, 19, 19]\n"
     ]
    },
    {
     "name": "stderr",
     "output_type": "stream",
     "text": [
      "\n",
      "\n",
      "\n",
      "\n",
      "\n",
      " 92%|█████████▏| 92/100 [01:22<00:07,  1.13it/s]\u001b[A\u001b[A\u001b[A\u001b[A\u001b[A"
     ]
    },
    {
     "name": "stdout",
     "output_type": "stream",
     "text": [
      "[19, 19, 19]\n"
     ]
    },
    {
     "name": "stderr",
     "output_type": "stream",
     "text": [
      "\n",
      "\n",
      "\n",
      "\n",
      "\n",
      " 93%|█████████▎| 93/100 [01:23<00:06,  1.13it/s]\u001b[A\u001b[A\u001b[A\u001b[A\u001b[A"
     ]
    },
    {
     "name": "stdout",
     "output_type": "stream",
     "text": [
      "[19, 19, 19]\n"
     ]
    },
    {
     "name": "stderr",
     "output_type": "stream",
     "text": [
      "\n",
      "\n",
      "\n",
      "\n",
      "\n",
      " 94%|█████████▍| 94/100 [01:24<00:05,  1.13it/s]\u001b[A\u001b[A\u001b[A\u001b[A\u001b[A"
     ]
    },
    {
     "name": "stdout",
     "output_type": "stream",
     "text": [
      "[19, 19, 19]\n"
     ]
    },
    {
     "name": "stderr",
     "output_type": "stream",
     "text": [
      "\n",
      "\n",
      "\n",
      "\n",
      "\n",
      " 95%|█████████▌| 95/100 [01:25<00:04,  1.13it/s]\u001b[A\u001b[A\u001b[A\u001b[A\u001b[A"
     ]
    },
    {
     "name": "stdout",
     "output_type": "stream",
     "text": [
      "[19, 19, 19]\n"
     ]
    },
    {
     "name": "stderr",
     "output_type": "stream",
     "text": [
      "\n",
      "\n",
      "\n",
      "\n",
      "\n",
      " 96%|█████████▌| 96/100 [01:25<00:03,  1.14it/s]\u001b[A\u001b[A\u001b[A\u001b[A\u001b[A"
     ]
    },
    {
     "name": "stdout",
     "output_type": "stream",
     "text": [
      "[19, 19, 19]\n"
     ]
    },
    {
     "name": "stderr",
     "output_type": "stream",
     "text": [
      "\n",
      "\n",
      "\n",
      "\n",
      "\n",
      " 97%|█████████▋| 97/100 [01:26<00:02,  1.13it/s]\u001b[A\u001b[A\u001b[A\u001b[A\u001b[A"
     ]
    },
    {
     "name": "stdout",
     "output_type": "stream",
     "text": [
      "[19, 19, 19]\n"
     ]
    },
    {
     "name": "stderr",
     "output_type": "stream",
     "text": [
      "\n",
      "\n",
      "\n",
      "\n",
      "\n",
      " 98%|█████████▊| 98/100 [01:27<00:01,  1.12it/s]\u001b[A\u001b[A\u001b[A\u001b[A\u001b[A"
     ]
    },
    {
     "name": "stdout",
     "output_type": "stream",
     "text": [
      "[19, 19, 19]\n"
     ]
    },
    {
     "name": "stderr",
     "output_type": "stream",
     "text": [
      "\n",
      "\n",
      "\n",
      "\n",
      "\n",
      " 99%|█████████▉| 99/100 [01:28<00:00,  1.14it/s]\u001b[A\u001b[A\u001b[A\u001b[A\u001b[A"
     ]
    },
    {
     "name": "stdout",
     "output_type": "stream",
     "text": [
      "[19, 19, 19]\n"
     ]
    },
    {
     "name": "stderr",
     "output_type": "stream",
     "text": [
      "\n",
      "\n",
      "\n",
      "\n",
      "\n",
      "100%|██████████| 100/100 [01:29<00:00,  1.12it/s]\u001b[A\u001b[A\u001b[A\u001b[A\u001b[A\n"
     ]
    }
   ],
   "source": [
    "import tqdm\n",
    "#given the potential above, we are just shifting a gaussian...\n",
    "\n",
    "iterations=100\n",
    "sequence_length=20\n",
    "trajs = []\n",
    "twisted_log_weights = []\n",
    "for iteration in tqdm.trange(iterations):\n",
    "    traj, twisted_log_weight = TwistedSMCSampler(potential = potential,\n",
    "                          uncontrolled_alphas = t.tensor([1.]),\n",
    "                          uncontrolled_mus = t.tensor([[0.]]), \n",
    "                          uncontrolled_sigmas = t.tensor([[[0.5]]]), #this is the variance corresponding to the prior annealing protocol\n",
    "                          A0 = t.tensor([[0.]]), #controlled gmm parameters are 0\n",
    "                          b0 = t.tensor([0.]), #controlled gmm parameters are 0\n",
    "                          c0 = t.tensor(0.), #controlled gmm parameters are 0\n",
    "                          A_t = dummy_A_t,\n",
    "                          b_t = dummy_b_t,\n",
    "                          c_t = dummy_c_t,\n",
    "                          potential_parameter_sequence = t.tensor(np.linspace(0,1,sequence_length)),\n",
    "                          A_t_parameter_sequence = t.tensor([0. for _ in range(sequence_length-1)]), #this will always return 0\n",
    "                          b_t_parameter_sequence = t.tensor([[0., 0.] for _ in range(sequence_length-1)]),\n",
    "                          c_t_parameter_sequence = t.tensor(np.linspace(0,1,sequence_length)[1:]),\n",
    "                          dt = 1e-2,\n",
    "                          uncontrolled=True)\n",
    "    trajs.append(traj)\n",
    "    twisted_log_weights.append(twisted_log_weight)"
   ]
  },
  {
   "cell_type": "code",
   "execution_count": 453,
   "metadata": {},
   "outputs": [],
   "source": [
    "init_posits = [i[0] for i in trajs]\n",
    "final_posits = [i[-1] for i in trajs]"
   ]
  },
  {
   "cell_type": "code",
   "execution_count": null,
   "metadata": {},
   "outputs": [],
   "source": []
  },
  {
   "cell_type": "code",
   "execution_count": 454,
   "metadata": {},
   "outputs": [
    {
     "data": {
      "text/plain": [
       "<matplotlib.axes._subplots.AxesSubplot at 0x7fc25eea59e8>"
      ]
     },
     "execution_count": 454,
     "metadata": {},
     "output_type": "execute_result"
    },
    {
     "data": {
      "image/png": "[encoded data removed]",
      "text/plain": [
       "<Figure size 432x288 with 1 Axes>"
      ]
     },
     "metadata": {
      "needs_background": "light"
     },
     "output_type": "display_data"
    }
   ],
   "source": [
    "sns.distplot(init_posits)\n",
    "sns.distplot(final_posits)"
   ]
  },
  {
   "cell_type": "code",
   "execution_count": 455,
   "metadata": {},
   "outputs": [],
   "source": [
    "twisted_log_weights = np.array(twisted_log_weights)"
   ]
  },
  {
   "cell_type": "code",
   "execution_count": 456,
   "metadata": {},
   "outputs": [],
   "source": [
    "cumulatie_log_weights = np.array([np.cumsum(entry) for entry in twisted_log_weights])\n",
    "final_log_weights = [entry[-1] for entry in cumulatie_log_weights]"
   ]
  },
  {
   "cell_type": "code",
   "execution_count": 457,
   "metadata": {},
   "outputs": [
    {
     "data": {
      "text/plain": [
       "<matplotlib.axes._subplots.AxesSubplot at 0x7fc25f64bd30>"
      ]
     },
     "execution_count": 457,
     "metadata": {},
     "output_type": "execute_result"
    },
    {
     "data": {
      "image/png": "[encoded data removed]",
      "text/plain": [
       "<Figure size 432x288 with 1 Axes>"
      ]
     },
     "metadata": {
      "needs_background": "light"
     },
     "output_type": "display_data"
    }
   ],
   "source": [
    "sns.distplot(final_log_weights)"
   ]
  },
  {
   "cell_type": "code",
   "execution_count": 458,
   "metadata": {},
   "outputs": [],
   "source": [
    "free_energy = EXP(-np.array(final_log_weights))"
   ]
  },
  {
   "cell_type": "code",
   "execution_count": 459,
   "metadata": {},
   "outputs": [
    {
     "data": {
      "text/plain": [
       "(0.09083455366387305, 0.10360092285358552)"
      ]
     },
     "execution_count": 459,
     "metadata": {},
     "output_type": "execute_result"
    }
   ],
   "source": [
    "free_energy"
   ]
  },
  {
   "cell_type": "code",
   "execution_count": 460,
   "metadata": {},
   "outputs": [
    {
     "data": {
      "text/plain": [
       "0.9131687788308264"
      ]
     },
     "execution_count": 460,
     "metadata": {},
     "output_type": "execute_result"
    }
   ],
   "source": [
    "np.exp(-free_energy[0])"
   ]
  },
  {
   "cell_type": "code",
   "execution_count": null,
   "metadata": {},
   "outputs": [],
   "source": []
  },
  {
   "cell_type": "markdown",
   "metadata": {},
   "source": [
    "can we compare this to an ULA uncontrolled SMC?"
   ]
  },
  {
   "cell_type": "code",
   "execution_count": 354,
   "metadata": {},
   "outputs": [],
   "source": [
    "# trajs = []\n",
    "# logws = []\n",
    "# sequence_length=5\n",
    "# iterations=1000\n",
    "# for iteration in tqdm.trange(iterations):\n",
    "#     mvg = MultivariateNormal(t.tensor([[0.]]), t.tensor([[0.5]]))\n",
    "#     x = mvg.sample()\n",
    "#     x.requires_grad=True\n",
    "#     traj, logw = full_ULA_uncontrolled_SMC_sequence(x, potential, t.tensor(np.linspace(0,1,sequence_length)), dt=1e-3)\n",
    "#     #print(f\"blaws: \", traj, logw)\n",
    "#     trajs.append(traj)\n",
    "#     logws.append(logw)"
   ]
  },
  {
   "cell_type": "code",
   "execution_count": 125,
   "metadata": {},
   "outputs": [
    {
     "ename": "NameError",
     "evalue": "name 'logws' is not defined",
     "output_type": "error",
     "traceback": [
      "\u001b[0;31m---------------------------------------------------------------------------\u001b[0m",
      "\u001b[0;31mNameError\u001b[0m                                 Traceback (most recent call last)",
      "\u001b[0;32m<ipython-input-125-2314c9acaf98>\u001b[0m in \u001b[0;36m<module>\u001b[0;34m\u001b[0m\n\u001b[0;32m----> 1\u001b[0;31m \u001b[0mnp_logws\u001b[0m \u001b[0;34m=\u001b[0m \u001b[0mnp\u001b[0m\u001b[0;34m.\u001b[0m\u001b[0marray\u001b[0m\u001b[0;34m(\u001b[0m\u001b[0mlogws\u001b[0m\u001b[0;34m)\u001b[0m\u001b[0;34m\u001b[0m\u001b[0;34m\u001b[0m\u001b[0m\n\u001b[0m\u001b[1;32m      2\u001b[0m \u001b[0mcum_logws\u001b[0m \u001b[0;34m=\u001b[0m \u001b[0mnp\u001b[0m\u001b[0;34m.\u001b[0m\u001b[0marray\u001b[0m\u001b[0;34m(\u001b[0m\u001b[0;34m[\u001b[0m\u001b[0mnp\u001b[0m\u001b[0;34m.\u001b[0m\u001b[0mcumsum\u001b[0m\u001b[0;34m(\u001b[0m\u001b[0mentry\u001b[0m\u001b[0;34m)\u001b[0m \u001b[0;32mfor\u001b[0m \u001b[0mentry\u001b[0m \u001b[0;32min\u001b[0m \u001b[0mnp_logws\u001b[0m\u001b[0;34m]\u001b[0m\u001b[0;34m)\u001b[0m\u001b[0;34m\u001b[0m\u001b[0;34m\u001b[0m\u001b[0m\n\u001b[1;32m      3\u001b[0m \u001b[0msns\u001b[0m\u001b[0;34m.\u001b[0m\u001b[0mdistplot\u001b[0m\u001b[0;34m(\u001b[0m\u001b[0;34m[\u001b[0m\u001b[0mentry\u001b[0m\u001b[0;34m[\u001b[0m\u001b[0;34m-\u001b[0m\u001b[0;36m1\u001b[0m\u001b[0;34m]\u001b[0m \u001b[0;32mfor\u001b[0m \u001b[0mentry\u001b[0m \u001b[0;32min\u001b[0m \u001b[0mcum_logws\u001b[0m\u001b[0;34m]\u001b[0m\u001b[0;34m)\u001b[0m\u001b[0;34m\u001b[0m\u001b[0;34m\u001b[0m\u001b[0m\n",
      "\u001b[0;31mNameError\u001b[0m: name 'logws' is not defined"
     ]
    }
   ],
   "source": [
    "np_logws = np.array(logws)\n",
    "cum_logws = np.array([np.cumsum(entry) for entry in np_logws])\n",
    "sns.distplot([entry[-1] for entry in cum_logws])"
   ]
  },
  {
   "cell_type": "code",
   "execution_count": 461,
   "metadata": {},
   "outputs": [],
   "source": [
    "def ADP_value_training(x_sequences, \n",
    "                       twisted_log_weights, \n",
    "                       potential,\n",
    "                       twisting_functions, \n",
    "                       twisting_parameters, \n",
    "                       minimization_iterations, \n",
    "                       epsilon, \n",
    "                       dt):\n",
    "    \"\"\"\n",
    "    given a set of twisting functions \\psi \\in \\Psi(Q), and a set of i.i.d. samples {X_{0:T}^n}_{n-1}^N from Q^{\\psi},\n",
    "    conduct approximate dynamic programming (ADP) for learning optimal sequences of potentials\n",
    "    \n",
    "    arguments\n",
    "        x_sequences : t.tensor(R, T+1, M)\n",
    "            trajectory sequence where R is the number of samples, T is the number of annealing steps, and M is the \n",
    "            dimension of x\n",
    "        twisted_log_weights : t.tensor(R, T+1)\n",
    "            log incremental weights of the R annealing samples\n",
    "        twisting_functions : dict\n",
    "            dictionary of functions corresponding to A, b, c\n",
    "        twisting_initializers : dict\n",
    "            dictionary of A0, b0, c0\n",
    "        twisting_parameters : dict\n",
    "            dictionary of gradable parameters \n",
    "            contains:\n",
    "                A_t, b_t, c_t\n",
    "        minimization_iterations : int\n",
    "            number of iteration in minimization\n",
    "        epsilon : float\n",
    "            learning rate\n",
    "        dt : t.tensor(float)\n",
    "            timestep\n",
    "    \"\"\"\n",
    "    #initialize by setting K_{T+1}^{\\psi}(\\exp{-V_{T+1}})(X_T^n) = 1 for n = 1, ..., N\n",
    "    \"\"\"\n",
    "    iterate recursively from t=T, T-1, ..., 1\n",
    "        a. define V_{comp, t} = -log(w_t^{\\psi})(X_{t-1}, X_t) - log(K_{t+1}^{\\psi})\n",
    "    \"\"\"\n",
    "    num_samples, sequence_length = twisted_log_weights.size()[:2]\n",
    "    print(f\"num_samples, sequence length: {num_samples, sequence_length}\")\n",
    "    log_twisted_K = t.zeros(num_samples) #first log twisted Ks are 0.\n",
    "    print(f\"the twisting parameters are: {twisting_parameters}\")\n",
    "    \n",
    "    #make holding variables for modified parameters:\n",
    "    returnable_twisting_parameters = {key: [] for key, val in twisting_parameters.items()}\n",
    "    \n",
    "    #make a logger for the loss function \n",
    "    loss_functions = {}\n",
    "    \n",
    "    for time in tqdm.tqdm(range(sequence_length)[::-1]): #iterate backward from T to 1\n",
    "        loss_logger = []\n",
    "        print(f\"time: {time}\")\n",
    "        #perform adp\n",
    "        A_params = twisting_parameters['A_t'][time]\n",
    "        b_params = twisting_parameters['b_t'][time]\n",
    "        c_params = twisting_parameters['c_t'][time]\n",
    "        #d_params = twisting_parameters['d_t'][t]\n",
    "        \n",
    "        for iteration in range(minimization_iterations):\n",
    "            V_t_bar = -twisted_log_weights[:,time] - log_twisted_K # a.\n",
    "            if time==0: #then we do not compute quad_phi_t, but rather the 0th iteration equivalent\n",
    "                xis = [quad_phi_0(x_sequences[sample_idx, time], \n",
    "                                  A_params,\n",
    "                                  b_params,\n",
    "                                  c_params) for sample_idx in range(num_samples)\n",
    "                      ]\n",
    "            else:\n",
    "                xis = [quad_phi_t(x_tm1 = x_sequences[sample_idx, time-1], \n",
    "                                       x_t = x_sequences[sample_idx, time], \n",
    "                                       A_t = twisting_functions['A_t'], \n",
    "                                       b_t = twisting_functions['b_t'], \n",
    "                                       c_t = twisting_functions['c_t'], \n",
    "                                       d_t = twisting_functions['d_t'], \n",
    "                                       A_parameters = A_params, \n",
    "                                       b_parameters = b_params, \n",
    "                                       c_parameters = c_params) for sample_idx in range(num_samples)\n",
    "                            ]\n",
    "            loss_function = sum([(i-j)**2 for i, j in zip(xis, V_t_bar)])\n",
    "            loss_function.backward()\n",
    "            loss_logger.append(loss_function.item())\n",
    "#             print(f\"loss: {loss_function.item()}\")\n",
    "#             print(f\"b params: {b_params}\")\n",
    "            with t.no_grad():\n",
    "                try:\n",
    "                    A_params -= epsilon * A_params.grad\n",
    "                    A_params.grad.zero_()\n",
    "                except Exception as e:\n",
    "                    #print(f\"A_param optimizer: {e}\")\n",
    "                    pass\n",
    "                try:\n",
    "                    b_params -= epsilon * b_params.grad\n",
    "                    b_params.grad.zero_()\n",
    "                except Exception as e:\n",
    "                    #print(f\"b_params optimizer: {e}\")\n",
    "                    pass\n",
    "                try:\n",
    "                    c_params -= epsilon * c_params.grad\n",
    "                    c_params.grad.zero_()\n",
    "                except Exception as e:\n",
    "                    #print(f\"c_params optimizer: {e}\")\n",
    "                    pass\n",
    "#                 try:\n",
    "#                     d_params -= epsilon * d_params.grad\n",
    "#                 except Exception as e:\n",
    "#                     print(f\"d_params optimizer: {e}\")\n",
    "        #recompute the log_twisted_K\n",
    "        if time > 0:\n",
    "            log_twisted_K = t.tensor(\n",
    "                                    [twisted_forward_kernel(x = _x.clone().detach().requires_grad_(True),\n",
    "                                     potential = potential, \n",
    "                                     potential_parameters=twisting_parameters['potential'][time],\n",
    "                                     dt = dt,\n",
    "                                     A = twisting_functions['A_t'],\n",
    "                                     A_parameters = A_params.detach(),\n",
    "                                     b = twisting_functions['b_t'],\n",
    "                                     b_parameters = b_params.detach(),\n",
    "                                     c = twisting_functions['c_t'],\n",
    "                                     c_parameters = c_params.detach(),\n",
    "                                     d_t = t.tensor(0.))[1] for _x in x_sequences[:, time-1]\n",
    "                                    ]\n",
    "                                    )\n",
    "        #for each of the parameters, update the returnable_twisting_parameters_dict...\n",
    "        for key, param in zip(['A_t', 'b_t', 'c_t'], [A_params, b_params, c_params]):\n",
    "            returnable_twisting_parameters[key].append(param.detach())\n",
    "        \n",
    "        #add the loss logger to the loss dictionary\n",
    "        loss_functions[time] = np.array(loss_logger)\n",
    "    \n",
    "    \n",
    "    print(f\"returnable twisting parameters: {returnable_twisting_parameters}\")\n",
    "    flipped_returnable_twisting_parameters = {key: lst[::-1] for key, lst in returnable_twisting_parameters.items()}\n",
    "    return flipped_returnable_twisting_parameters, loss_functions\n",
    "      "
   ]
  },
  {
   "cell_type": "code",
   "execution_count": 462,
   "metadata": {},
   "outputs": [
    {
     "name": "stderr",
     "output_type": "stream",
     "text": [
      "\n",
      "\n",
      "\n",
      "\n",
      "\n",
      "  0%|          | 0/20 [00:00<?, ?it/s]\u001b[A\u001b[A\u001b[A\u001b[A\u001b[A"
     ]
    },
    {
     "name": "stdout",
     "output_type": "stream",
     "text": [
      "num_samples, sequence length: (100, 20)\n",
      "the twisting parameters are: {'A_t': [tensor([[0.]]), tensor([[0.]]), tensor([[0.]]), tensor([[0.]]), tensor([[0.]]), tensor([[0.]]), tensor([[0.]]), tensor([[0.]]), tensor([[0.]]), tensor([[0.]]), tensor([[0.]]), tensor([[0.]]), tensor([[0.]]), tensor([[0.]]), tensor([[0.]]), tensor([[0.]]), tensor([[0.]]), tensor([[0.]]), tensor([[0.]]), tensor([[0.]])], 'b_t': [tensor([0.], requires_grad=True), tensor([0., 0.], requires_grad=True), tensor([0., 0.], requires_grad=True), tensor([0., 0.], requires_grad=True), tensor([0., 0.], requires_grad=True), tensor([0., 0.], requires_grad=True), tensor([0., 0.], requires_grad=True), tensor([0., 0.], requires_grad=True), tensor([0., 0.], requires_grad=True), tensor([0., 0.], requires_grad=True), tensor([0., 0.], requires_grad=True), tensor([0., 0.], requires_grad=True), tensor([0., 0.], requires_grad=True), tensor([0., 0.], requires_grad=True), tensor([0., 0.], requires_grad=True), tensor([0., 0.], requires_grad=True), tensor([0., 0.], requires_grad=True), tensor([0., 0.], requires_grad=True), tensor([0., 0.], requires_grad=True), tensor([0., 0.], requires_grad=True)], 'c_t': [tensor(0.), tensor(0.), tensor(0.), tensor(0.), tensor(0.), tensor(0.), tensor(0.), tensor(0.), tensor(0.), tensor(0.), tensor(0.), tensor(0.), tensor(0.), tensor(0.), tensor(0.), tensor(0.), tensor(0.), tensor(0.), tensor(0.), tensor(0.)], 'potential': tensor([0.0000, 0.0526, 0.1053, 0.1579, 0.2105, 0.2632, 0.3158, 0.3684, 0.4211,\n",
      "        0.4737, 0.5263, 0.5789, 0.6316, 0.6842, 0.7368, 0.7895, 0.8421, 0.8947,\n",
      "        0.9474, 1.0000], dtype=torch.float64)}\n",
      "time: 19\n"
     ]
    },
    {
     "name": "stderr",
     "output_type": "stream",
     "text": [
      "\n",
      "\n",
      "\n",
      "\n",
      "\n",
      "  5%|▌         | 1/20 [00:12<03:48, 12.00s/it]\u001b[A\u001b[A\u001b[A\u001b[A\u001b[A"
     ]
    },
    {
     "name": "stdout",
     "output_type": "stream",
     "text": [
      "time: 18\n"
     ]
    },
    {
     "name": "stderr",
     "output_type": "stream",
     "text": [
      "\n",
      "\n",
      "\n",
      "\n",
      "\n",
      " 10%|█         | 2/20 [00:28<03:58, 13.27s/it]\u001b[A\u001b[A\u001b[A\u001b[A\u001b[A"
     ]
    },
    {
     "name": "stdout",
     "output_type": "stream",
     "text": [
      "time: 17\n"
     ]
    },
    {
     "name": "stderr",
     "output_type": "stream",
     "text": [
      "\n",
      "\n",
      "\n",
      "\n",
      "\n",
      " 15%|█▌        | 3/20 [00:42<03:52, 13.70s/it]\u001b[A\u001b[A\u001b[A\u001b[A\u001b[A"
     ]
    },
    {
     "name": "stdout",
     "output_type": "stream",
     "text": [
      "time: 16\n"
     ]
    },
    {
     "name": "stderr",
     "output_type": "stream",
     "text": [
      "\n",
      "\n",
      "\n",
      "\n",
      "\n",
      " 20%|██        | 4/20 [00:57<03:43, 13.99s/it]\u001b[A\u001b[A\u001b[A\u001b[A\u001b[A"
     ]
    },
    {
     "name": "stdout",
     "output_type": "stream",
     "text": [
      "time: 15\n"
     ]
    },
    {
     "name": "stderr",
     "output_type": "stream",
     "text": [
      "\n",
      "\n",
      "\n",
      "\n",
      "\n",
      " 25%|██▌       | 5/20 [01:13<03:36, 14.42s/it]\u001b[A\u001b[A\u001b[A\u001b[A\u001b[A"
     ]
    },
    {
     "name": "stdout",
     "output_type": "stream",
     "text": [
      "time: 14\n"
     ]
    },
    {
     "name": "stderr",
     "output_type": "stream",
     "text": [
      "\n",
      "\n",
      "\n",
      "\n",
      "\n",
      " 30%|███       | 6/20 [01:28<03:24, 14.64s/it]\u001b[A\u001b[A\u001b[A\u001b[A\u001b[A"
     ]
    },
    {
     "name": "stdout",
     "output_type": "stream",
     "text": [
      "time: 13\n"
     ]
    },
    {
     "name": "stderr",
     "output_type": "stream",
     "text": [
      "\n",
      "\n",
      "\n",
      "\n",
      "\n",
      " 35%|███▌      | 7/20 [01:42<03:10, 14.66s/it]\u001b[A\u001b[A\u001b[A\u001b[A\u001b[A"
     ]
    },
    {
     "name": "stdout",
     "output_type": "stream",
     "text": [
      "time: 12\n"
     ]
    },
    {
     "name": "stderr",
     "output_type": "stream",
     "text": [
      "\n",
      "\n",
      "\n",
      "\n",
      "\n",
      " 40%|████      | 8/20 [02:00<03:04, 15.42s/it]\u001b[A\u001b[A\u001b[A\u001b[A\u001b[A"
     ]
    },
    {
     "name": "stdout",
     "output_type": "stream",
     "text": [
      "time: 11\n"
     ]
    },
    {
     "name": "stderr",
     "output_type": "stream",
     "text": [
      "\n",
      "\n",
      "\n",
      "\n",
      "\n",
      " 45%|████▌     | 9/20 [02:15<02:50, 15.46s/it]\u001b[A\u001b[A\u001b[A\u001b[A\u001b[A"
     ]
    },
    {
     "name": "stdout",
     "output_type": "stream",
     "text": [
      "time: 10\n"
     ]
    },
    {
     "name": "stderr",
     "output_type": "stream",
     "text": [
      "\n",
      "\n",
      "\n",
      "\n",
      "\n",
      " 50%|█████     | 10/20 [02:33<02:41, 16.19s/it]\u001b[A\u001b[A\u001b[A\u001b[A\u001b[A"
     ]
    },
    {
     "name": "stdout",
     "output_type": "stream",
     "text": [
      "time: 9\n"
     ]
    },
    {
     "name": "stderr",
     "output_type": "stream",
     "text": [
      "\n",
      "\n",
      "\n",
      "\n",
      "\n",
      " 55%|█████▌    | 11/20 [02:48<02:21, 15.71s/it]\u001b[A\u001b[A\u001b[A\u001b[A\u001b[A"
     ]
    },
    {
     "name": "stdout",
     "output_type": "stream",
     "text": [
      "time: 8\n"
     ]
    },
    {
     "name": "stderr",
     "output_type": "stream",
     "text": [
      "\n",
      "\n",
      "\n",
      "\n",
      "\n",
      " 60%|██████    | 12/20 [03:04<02:08, 16.05s/it]\u001b[A\u001b[A\u001b[A\u001b[A\u001b[A"
     ]
    },
    {
     "name": "stdout",
     "output_type": "stream",
     "text": [
      "time: 7\n"
     ]
    },
    {
     "name": "stderr",
     "output_type": "stream",
     "text": [
      "\n",
      "\n",
      "\n",
      "\n",
      "\n",
      " 65%|██████▌   | 13/20 [03:18<01:47, 15.35s/it]\u001b[A\u001b[A\u001b[A\u001b[A\u001b[A"
     ]
    },
    {
     "name": "stdout",
     "output_type": "stream",
     "text": [
      "time: 6\n"
     ]
    },
    {
     "name": "stderr",
     "output_type": "stream",
     "text": [
      "\n",
      "\n",
      "\n",
      "\n",
      "\n",
      " 70%|███████   | 14/20 [03:32<01:29, 14.88s/it]\u001b[A\u001b[A\u001b[A\u001b[A\u001b[A"
     ]
    },
    {
     "name": "stdout",
     "output_type": "stream",
     "text": [
      "time: 5\n"
     ]
    },
    {
     "name": "stderr",
     "output_type": "stream",
     "text": [
      "\n",
      "\n",
      "\n",
      "\n",
      "\n",
      " 75%|███████▌  | 15/20 [03:46<01:12, 14.54s/it]\u001b[A\u001b[A\u001b[A\u001b[A\u001b[A"
     ]
    },
    {
     "name": "stdout",
     "output_type": "stream",
     "text": [
      "time: 4\n"
     ]
    },
    {
     "name": "stderr",
     "output_type": "stream",
     "text": [
      "\n",
      "\n",
      "\n",
      "\n",
      "\n",
      " 80%|████████  | 16/20 [03:59<00:57, 14.27s/it]\u001b[A\u001b[A\u001b[A\u001b[A\u001b[A"
     ]
    },
    {
     "name": "stdout",
     "output_type": "stream",
     "text": [
      "time: 3\n"
     ]
    },
    {
     "name": "stderr",
     "output_type": "stream",
     "text": [
      "\n",
      "\n",
      "\n",
      "\n",
      "\n",
      " 85%|████████▌ | 17/20 [04:13<00:42, 14.08s/it]\u001b[A\u001b[A\u001b[A\u001b[A\u001b[A"
     ]
    },
    {
     "name": "stdout",
     "output_type": "stream",
     "text": [
      "time: 2\n"
     ]
    },
    {
     "name": "stderr",
     "output_type": "stream",
     "text": [
      "\n",
      "\n",
      "\n",
      "\n",
      "\n",
      " 90%|█████████ | 18/20 [04:27<00:27, 13.98s/it]\u001b[A\u001b[A\u001b[A\u001b[A\u001b[A"
     ]
    },
    {
     "name": "stdout",
     "output_type": "stream",
     "text": [
      "time: 1\n"
     ]
    },
    {
     "name": "stderr",
     "output_type": "stream",
     "text": [
      "\n",
      "\n",
      "\n",
      "\n",
      "\n",
      " 95%|█████████▌| 19/20 [04:41<00:13, 13.93s/it]\u001b[A\u001b[A\u001b[A\u001b[A\u001b[A"
     ]
    },
    {
     "name": "stdout",
     "output_type": "stream",
     "text": [
      "time: 0\n"
     ]
    },
    {
     "name": "stderr",
     "output_type": "stream",
     "text": [
      "\n",
      "\n",
      "\n",
      "\n",
      "\n",
      "100%|██████████| 20/20 [04:48<00:00, 14.40s/it]\u001b[A\u001b[A\u001b[A\u001b[A\u001b[A"
     ]
    },
    {
     "name": "stdout",
     "output_type": "stream",
     "text": [
      "returnable twisting parameters: {'A_t': [tensor([[0.]]), tensor([[0.]]), tensor([[0.]]), tensor([[0.]]), tensor([[0.]]), tensor([[0.]]), tensor([[0.]]), tensor([[0.]]), tensor([[0.]]), tensor([[0.]]), tensor([[0.]]), tensor([[0.]]), tensor([[0.]]), tensor([[0.]]), tensor([[0.]]), tensor([[0.]]), tensor([[0.]]), tensor([[0.]]), tensor([[0.]]), tensor([[0.]])], 'b_t': [tensor([2.6602e-03, 9.2643e-05]), tensor([0.0055, 0.0002]), tensor([0.0066, 0.0002]), tensor([0.0061, 0.0002]), tensor([0.0064, 0.0002]), tensor([0.0075, 0.0003]), tensor([0.0061, 0.0002]), tensor([0.0041, 0.0002]), tensor([0.0031, 0.0001]), tensor([0.0045, 0.0002]), tensor([0.0036, 0.0001]), tensor([-8.5714e-04, -3.5406e-05]), tensor([-0.0053, -0.0002]), tensor([-0.0088, -0.0004]), tensor([-0.0136, -0.0006]), tensor([-0.0155, -0.0007]), tensor([-0.0134, -0.0006]), tensor([-0.0133, -0.0006]), tensor([-0.0161, -0.0008]), tensor([-0.0016])], 'c_t': [tensor(0.), tensor(0.), tensor(0.), tensor(0.), tensor(0.), tensor(0.), tensor(0.), tensor(0.), tensor(0.), tensor(0.), tensor(0.), tensor(0.), tensor(0.), tensor(0.), tensor(0.), tensor(0.), tensor(0.), tensor(0.), tensor(0.), tensor(0.)], 'potential': []}\n"
     ]
    },
    {
     "name": "stderr",
     "output_type": "stream",
     "text": [
      "\n"
     ]
    }
   ],
   "source": [
    "twisting_parameters, loss_functions = ADP_value_training(x_sequences = t.tensor(np.array(trajs)), \n",
    "                       twisted_log_weights = t.tensor(twisted_log_weights), \n",
    "                       potential = potential,\n",
    "                       twisting_functions = {'A_t': dummy_A_t, 'b_t': dummy_b_t, 'c_t': dummy_c_t, 'd_t': t.tensor(0.)}, \n",
    "                       twisting_parameters = {'A_t': [t.tensor([[0.]]) for _ in range(sequence_length)],\n",
    "                                              'b_t': [t.tensor([0.], requires_grad=True)] +  [t.tensor([0., 0.], requires_grad=True) for _  in range(sequence_length-1)],\n",
    "                                              'c_t': [t.tensor(0.) for _ in range(sequence_length)],\n",
    "                                              'potential': t.tensor(np.linspace(0,1,sequence_length))}, \n",
    "                       minimization_iterations=20, \n",
    "                       epsilon = 1e-3, \n",
    "                       dt = 1e-2)"
   ]
  },
  {
   "cell_type": "code",
   "execution_count": 423,
   "metadata": {},
   "outputs": [
    {
     "data": {
      "text/plain": [
       "200"
      ]
     },
     "execution_count": 423,
     "metadata": {},
     "output_type": "execute_result"
    }
   ],
   "source": [
    "len(loss_functions)"
   ]
  },
  {
   "cell_type": "code",
   "execution_count": 425,
   "metadata": {},
   "outputs": [
    {
     "data": {
      "image/png": "[encoded data removed]",
      "text/plain": [
       "<Figure size 432x288 with 1 Axes>"
      ]
     },
     "metadata": {
      "needs_background": "light"
     },
     "output_type": "display_data"
    }
   ],
   "source": [
    "for i in range(100, 200):\n",
    "    plt.plot(loss_functions[i])"
   ]
  },
  {
   "cell_type": "code",
   "execution_count": 426,
   "metadata": {},
   "outputs": [
    {
     "data": {
      "text/plain": [
       "{'A_t': [tensor([[0.]]),\n",
       "  tensor([[0.]]),\n",
       "  tensor([[0.]]),\n",
       "  tensor([[0.]]),\n",
       "  tensor([[0.]]),\n",
       "  tensor([[0.]]),\n",
       "  tensor([[0.]]),\n",
       "  tensor([[0.]]),\n",
       "  tensor([[0.]]),\n",
       "  tensor([[0.]]),\n",
       "  tensor([[0.]]),\n",
       "  tensor([[0.]]),\n",
       "  tensor([[0.]]),\n",
       "  tensor([[0.]]),\n",
       "  tensor([[0.]]),\n",
       "  tensor([[0.]]),\n",
       "  tensor([[0.]]),\n",
       "  tensor([[0.]]),\n",
       "  tensor([[0.]]),\n",
       "  tensor([[0.]]),\n",
       "  tensor([[0.]]),\n",
       "  tensor([[0.]]),\n",
       "  tensor([[0.]]),\n",
       "  tensor([[0.]]),\n",
       "  tensor([[0.]]),\n",
       "  tensor([[0.]]),\n",
       "  tensor([[0.]]),\n",
       "  tensor([[0.]]),\n",
       "  tensor([[0.]]),\n",
       "  tensor([[0.]]),\n",
       "  tensor([[0.]]),\n",
       "  tensor([[0.]]),\n",
       "  tensor([[0.]]),\n",
       "  tensor([[0.]]),\n",
       "  tensor([[0.]]),\n",
       "  tensor([[0.]]),\n",
       "  tensor([[0.]]),\n",
       "  tensor([[0.]]),\n",
       "  tensor([[0.]]),\n",
       "  tensor([[0.]]),\n",
       "  tensor([[0.]]),\n",
       "  tensor([[0.]]),\n",
       "  tensor([[0.]]),\n",
       "  tensor([[0.]]),\n",
       "  tensor([[0.]]),\n",
       "  tensor([[0.]]),\n",
       "  tensor([[0.]]),\n",
       "  tensor([[0.]]),\n",
       "  tensor([[0.]]),\n",
       "  tensor([[0.]]),\n",
       "  tensor([[0.]]),\n",
       "  tensor([[0.]]),\n",
       "  tensor([[0.]]),\n",
       "  tensor([[0.]]),\n",
       "  tensor([[0.]]),\n",
       "  tensor([[0.]]),\n",
       "  tensor([[0.]]),\n",
       "  tensor([[0.]]),\n",
       "  tensor([[0.]]),\n",
       "  tensor([[0.]]),\n",
       "  tensor([[0.]]),\n",
       "  tensor([[0.]]),\n",
       "  tensor([[0.]]),\n",
       "  tensor([[0.]]),\n",
       "  tensor([[0.]]),\n",
       "  tensor([[0.]]),\n",
       "  tensor([[0.]]),\n",
       "  tensor([[0.]]),\n",
       "  tensor([[0.]]),\n",
       "  tensor([[0.]]),\n",
       "  tensor([[0.]]),\n",
       "  tensor([[0.]]),\n",
       "  tensor([[0.]]),\n",
       "  tensor([[0.]]),\n",
       "  tensor([[0.]]),\n",
       "  tensor([[0.]]),\n",
       "  tensor([[0.]]),\n",
       "  tensor([[0.]]),\n",
       "  tensor([[0.]]),\n",
       "  tensor([[0.]]),\n",
       "  tensor([[0.]]),\n",
       "  tensor([[0.]]),\n",
       "  tensor([[0.]]),\n",
       "  tensor([[0.]]),\n",
       "  tensor([[0.]]),\n",
       "  tensor([[0.]]),\n",
       "  tensor([[0.]]),\n",
       "  tensor([[0.]]),\n",
       "  tensor([[0.]]),\n",
       "  tensor([[0.]]),\n",
       "  tensor([[0.]]),\n",
       "  tensor([[0.]]),\n",
       "  tensor([[0.]]),\n",
       "  tensor([[0.]]),\n",
       "  tensor([[0.]]),\n",
       "  tensor([[0.]]),\n",
       "  tensor([[0.]]),\n",
       "  tensor([[0.]]),\n",
       "  tensor([[0.]]),\n",
       "  tensor([[0.]]),\n",
       "  tensor([[0.]]),\n",
       "  tensor([[0.]]),\n",
       "  tensor([[0.]]),\n",
       "  tensor([[0.]]),\n",
       "  tensor([[0.]]),\n",
       "  tensor([[0.]]),\n",
       "  tensor([[0.]]),\n",
       "  tensor([[0.]]),\n",
       "  tensor([[0.]]),\n",
       "  tensor([[0.]]),\n",
       "  tensor([[0.]]),\n",
       "  tensor([[0.]]),\n",
       "  tensor([[0.]]),\n",
       "  tensor([[0.]]),\n",
       "  tensor([[0.]]),\n",
       "  tensor([[0.]]),\n",
       "  tensor([[0.]]),\n",
       "  tensor([[0.]]),\n",
       "  tensor([[0.]]),\n",
       "  tensor([[0.]]),\n",
       "  tensor([[0.]]),\n",
       "  tensor([[0.]]),\n",
       "  tensor([[0.]]),\n",
       "  tensor([[0.]]),\n",
       "  tensor([[0.]]),\n",
       "  tensor([[0.]]),\n",
       "  tensor([[0.]]),\n",
       "  tensor([[0.]]),\n",
       "  tensor([[0.]]),\n",
       "  tensor([[0.]]),\n",
       "  tensor([[0.]]),\n",
       "  tensor([[0.]]),\n",
       "  tensor([[0.]]),\n",
       "  tensor([[0.]]),\n",
       "  tensor([[0.]]),\n",
       "  tensor([[0.]]),\n",
       "  tensor([[0.]]),\n",
       "  tensor([[0.]]),\n",
       "  tensor([[0.]]),\n",
       "  tensor([[0.]]),\n",
       "  tensor([[0.]]),\n",
       "  tensor([[0.]]),\n",
       "  tensor([[0.]]),\n",
       "  tensor([[0.]]),\n",
       "  tensor([[0.]]),\n",
       "  tensor([[0.]]),\n",
       "  tensor([[0.]]),\n",
       "  tensor([[0.]]),\n",
       "  tensor([[0.]]),\n",
       "  tensor([[0.]]),\n",
       "  tensor([[0.]]),\n",
       "  tensor([[0.]]),\n",
       "  tensor([[0.]]),\n",
       "  tensor([[0.]]),\n",
       "  tensor([[0.]]),\n",
       "  tensor([[0.]]),\n",
       "  tensor([[0.]]),\n",
       "  tensor([[0.]]),\n",
       "  tensor([[0.]]),\n",
       "  tensor([[0.]]),\n",
       "  tensor([[0.]]),\n",
       "  tensor([[0.]]),\n",
       "  tensor([[0.]]),\n",
       "  tensor([[0.]]),\n",
       "  tensor([[0.]]),\n",
       "  tensor([[0.]]),\n",
       "  tensor([[0.]]),\n",
       "  tensor([[0.]]),\n",
       "  tensor([[0.]]),\n",
       "  tensor([[0.]]),\n",
       "  tensor([[0.]]),\n",
       "  tensor([[0.]]),\n",
       "  tensor([[0.]]),\n",
       "  tensor([[0.]]),\n",
       "  tensor([[0.]]),\n",
       "  tensor([[0.]]),\n",
       "  tensor([[0.]]),\n",
       "  tensor([[0.]]),\n",
       "  tensor([[0.]]),\n",
       "  tensor([[0.]]),\n",
       "  tensor([[0.]]),\n",
       "  tensor([[0.]]),\n",
       "  tensor([[0.]]),\n",
       "  tensor([[0.]]),\n",
       "  tensor([[0.]]),\n",
       "  tensor([[0.]]),\n",
       "  tensor([[0.]]),\n",
       "  tensor([[0.]]),\n",
       "  tensor([[0.]]),\n",
       "  tensor([[0.]]),\n",
       "  tensor([[0.]]),\n",
       "  tensor([[0.]]),\n",
       "  tensor([[0.]]),\n",
       "  tensor([[0.]]),\n",
       "  tensor([[0.]]),\n",
       "  tensor([[0.]]),\n",
       "  tensor([[0.]]),\n",
       "  tensor([[0.]]),\n",
       "  tensor([[0.]]),\n",
       "  tensor([[0.]])],\n",
       " 'b_t': [tensor([7.2626e-05]),\n",
       "  tensor([6.7395e-04, 8.8227e-07]),\n",
       "  tensor([9.9261e-04, 9.1209e-07]),\n",
       "  tensor([8.2723e-04, 9.2622e-07]),\n",
       "  tensor([5.3249e-04, 6.1137e-07]),\n",
       "  tensor([3.9967e-04, 3.5742e-07]),\n",
       "  tensor([2.5406e-04, 2.8847e-07]),\n",
       "  tensor([-4.8921e-04, -6.2940e-07]),\n",
       "  tensor([-1.5450e-03, -2.6639e-06]),\n",
       "  tensor([-1.6962e-03, -3.2247e-06]),\n",
       "  tensor([-1.9536e-03, -3.9498e-06]),\n",
       "  tensor([-2.3080e-03, -5.2093e-06]),\n",
       "  tensor([-3.6920e-03, -9.8226e-06]),\n",
       "  tensor([-5.4224e-03, -1.7110e-05]),\n",
       "  tensor([-6.7566e-03, -2.0237e-05]),\n",
       "  tensor([-7.4251e-03, -2.2744e-05]),\n",
       "  tensor([-7.8267e-03, -2.4595e-05]),\n",
       "  tensor([-7.4274e-03, -2.4670e-05]),\n",
       "  tensor([-8.0156e-03, -2.5929e-05]),\n",
       "  tensor([-8.4680e-03, -2.9097e-05]),\n",
       "  tensor([-8.3179e-03, -2.5541e-05]),\n",
       "  tensor([-6.9703e-03, -1.9763e-05]),\n",
       "  tensor([-5.1018e-03, -1.2414e-05]),\n",
       "  tensor([-3.8834e-03, -8.4159e-06]),\n",
       "  tensor([-2.9830e-03, -6.6598e-06]),\n",
       "  tensor([-1.8480e-03, -4.1848e-06]),\n",
       "  tensor([-2.0430e-03, -5.1887e-06]),\n",
       "  tensor([-3.2486e-03, -9.0174e-06]),\n",
       "  tensor([-4.3812e-03, -1.2821e-05]),\n",
       "  tensor([-5.7142e-03, -1.7506e-05]),\n",
       "  tensor([-7.2267e-03, -2.3557e-05]),\n",
       "  tensor([-8.0170e-03, -2.4437e-05]),\n",
       "  tensor([-7.9166e-03, -2.2059e-05]),\n",
       "  tensor([-7.2899e-03, -1.9120e-05]),\n",
       "  tensor([-6.7383e-03, -1.7196e-05]),\n",
       "  tensor([-6.4713e-03, -1.5571e-05]),\n",
       "  tensor([-5.7224e-03, -1.1977e-05]),\n",
       "  tensor([-4.0454e-03, -7.6268e-06]),\n",
       "  tensor([-3.1234e-03, -5.2925e-06]),\n",
       "  tensor([-1.9048e-03, -2.7617e-06]),\n",
       "  tensor([-1.5679e-03, -2.2887e-06]),\n",
       "  tensor([-1.4795e-03, -2.0013e-06]),\n",
       "  tensor([-9.1712e-04, -1.2330e-06]),\n",
       "  tensor([-7.8507e-04, -1.0733e-06]),\n",
       "  tensor([-2.2516e-04, -2.7114e-07]),\n",
       "  tensor([-4.3936e-04, -5.9371e-07]),\n",
       "  tensor([-4.9686e-04, -6.8720e-07]),\n",
       "  tensor([-8.7055e-04, -1.2511e-06]),\n",
       "  tensor([-3.8837e-04, -4.8250e-07]),\n",
       "  tensor([-1.5754e-04, -2.0654e-07]),\n",
       "  tensor([-2.5106e-05, -3.1207e-08]),\n",
       "  tensor([-3.2375e-04, -4.1584e-07]),\n",
       "  tensor([-6.1672e-04, -8.1523e-07]),\n",
       "  tensor([-4.3934e-05, -6.0529e-08]),\n",
       "  tensor([-1.0324e-04, -1.6053e-07]),\n",
       "  tensor([6.7906e-06, 1.0194e-08]),\n",
       "  tensor([2.4461e-04, 3.5746e-07]),\n",
       "  tensor([2.8181e-04, 2.9480e-07]),\n",
       "  tensor([-1.9916e-04, -2.4570e-07]),\n",
       "  tensor([-1.3390e-03, -2.0021e-06]),\n",
       "  tensor([-1.7879e-03, -2.7090e-06]),\n",
       "  tensor([-2.3294e-03, -3.7561e-06]),\n",
       "  tensor([-2.4424e-03, -4.1600e-06]),\n",
       "  tensor([-1.8480e-03, -3.3254e-06]),\n",
       "  tensor([-1.3795e-03, -2.2585e-06]),\n",
       "  tensor([-4.9483e-04, -8.0602e-07]),\n",
       "  tensor([-2.1673e-05, -3.1106e-08]),\n",
       "  tensor([-1.3395e-04, -2.0650e-07]),\n",
       "  tensor([-2.2379e-04, -3.4063e-07]),\n",
       "  tensor([7.6733e-05, 1.0965e-07]),\n",
       "  tensor([9.3051e-05, 1.1557e-07]),\n",
       "  tensor([1.8106e-04, 1.6570e-07]),\n",
       "  tensor([2.3368e-04, 2.4644e-07]),\n",
       "  tensor([5.9481e-04, 4.7148e-07]),\n",
       "  tensor([6.1680e-04, 5.4409e-07]),\n",
       "  tensor([5.2595e-04, 4.9899e-07]),\n",
       "  tensor([7.1060e-04, 5.9979e-07]),\n",
       "  tensor([9.7441e-04, 9.6019e-07]),\n",
       "  tensor([7.9900e-04, 6.5697e-07]),\n",
       "  tensor([5.5407e-04, 5.2262e-07]),\n",
       "  tensor([6.6195e-04, 6.8122e-07]),\n",
       "  tensor([6.0120e-04, 7.8099e-07]),\n",
       "  tensor([9.7857e-05, 1.4984e-07]),\n",
       "  tensor([1.4318e-04, 2.4468e-07]),\n",
       "  tensor([1.4691e-04, 2.2501e-07]),\n",
       "  tensor([-1.3966e-04, -2.1581e-07]),\n",
       "  tensor([-7.0009e-04, -1.1693e-06]),\n",
       "  tensor([-1.9170e-03, -3.7610e-06]),\n",
       "  tensor([-2.5917e-03, -5.5606e-06]),\n",
       "  tensor([-2.3319e-03, -4.9264e-06]),\n",
       "  tensor([-1.8690e-03, -3.7004e-06]),\n",
       "  tensor([-1.3211e-03, -2.5673e-06]),\n",
       "  tensor([-1.0937e-03, -1.9143e-06]),\n",
       "  tensor([-1.0258e-03, -1.6773e-06]),\n",
       "  tensor([-1.2740e-03, -1.9254e-06]),\n",
       "  tensor([-1.1060e-03, -1.6870e-06]),\n",
       "  tensor([-8.5947e-04, -1.0702e-06]),\n",
       "  tensor([-1.0407e-03, -1.2491e-06]),\n",
       "  tensor([-1.1166e-03, -1.4001e-06]),\n",
       "  tensor([-1.3272e-03, -1.7831e-06]),\n",
       "  tensor([-1.3649e-03, -1.9584e-06]),\n",
       "  tensor([-1.2415e-03, -2.3090e-06]),\n",
       "  tensor([-2.1523e-03, -4.2990e-06]),\n",
       "  tensor([-3.6646e-03, -9.1192e-06]),\n",
       "  tensor([-5.3922e-03, -1.5931e-05]),\n",
       "  tensor([-8.0246e-03, -2.9226e-05]),\n",
       "  tensor([-1.0718e-02, -4.8823e-05]),\n",
       "  tensor([-1.1749e-02, -5.4440e-05]),\n",
       "  tensor([-1.1968e-02, -5.6756e-05]),\n",
       "  tensor([-1.1733e-02, -5.6779e-05]),\n",
       "  tensor([-1.1214e-02, -5.4011e-05]),\n",
       "  tensor([-1.0891e-02, -5.2096e-05]),\n",
       "  tensor([-1.0291e-02, -5.1508e-05]),\n",
       "  tensor([-9.6428e-03, -4.6549e-05]),\n",
       "  tensor([-9.0927e-03, -4.2712e-05]),\n",
       "  tensor([-8.3533e-03, -3.6475e-05]),\n",
       "  tensor([-8.0280e-03, -3.1188e-05]),\n",
       "  tensor([-8.5563e-03, -3.1016e-05]),\n",
       "  tensor([-9.4822e-03, -3.5020e-05]),\n",
       "  tensor([-9.7128e-03, -3.7005e-05]),\n",
       "  tensor([-9.6322e-03, -3.6763e-05]),\n",
       "  tensor([-9.5332e-03, -3.6234e-05]),\n",
       "  tensor([-9.7657e-03, -3.8890e-05]),\n",
       "  tensor([-1.0790e-02, -4.4650e-05]),\n",
       "  tensor([-1.2547e-02, -5.2248e-05]),\n",
       "  tensor([-1.4786e-02, -7.1436e-05]),\n",
       "  tensor([-1.7690e-02, -9.8240e-05]),\n",
       "  tensor([-0.0196, -0.0001]),\n",
       "  tensor([-0.0209, -0.0001]),\n",
       "  tensor([-0.0220, -0.0001]),\n",
       "  tensor([-0.0227, -0.0002]),\n",
       "  tensor([-0.0252, -0.0002]),\n",
       "  tensor([-0.0298, -0.0002]),\n",
       "  tensor([-0.0353, -0.0004]),\n",
       "  tensor([-0.0374, -0.0004]),\n",
       "  tensor([-0.0398, -0.0004]),\n",
       "  tensor([-0.0381, -0.0004]),\n",
       "  tensor([-0.0353, -0.0003]),\n",
       "  tensor([-0.0329, -0.0003]),\n",
       "  tensor([-0.0319, -0.0003]),\n",
       "  tensor([-0.0292, -0.0002]),\n",
       "  tensor([-0.0293, -0.0002]),\n",
       "  tensor([-0.0305, -0.0003]),\n",
       "  tensor([-0.0295, -0.0002]),\n",
       "  tensor([-0.0286, -0.0002]),\n",
       "  tensor([-0.0256, -0.0002]),\n",
       "  tensor([-0.0219, -0.0001]),\n",
       "  tensor([-0.0186, -0.0001]),\n",
       "  tensor([-1.6318e-02, -8.4680e-05]),\n",
       "  tensor([-1.4468e-02, -7.1490e-05]),\n",
       "  tensor([-1.3379e-02, -6.2110e-05]),\n",
       "  tensor([-1.3141e-02, -5.8870e-05]),\n",
       "  tensor([-1.3846e-02, -6.7929e-05]),\n",
       "  tensor([-1.3372e-02, -6.1593e-05]),\n",
       "  tensor([-1.2595e-02, -5.5137e-05]),\n",
       "  tensor([-1.1972e-02, -4.8962e-05]),\n",
       "  tensor([-1.1185e-02, -4.1737e-05]),\n",
       "  tensor([-1.0541e-02, -3.7228e-05]),\n",
       "  tensor([-1.0132e-02, -3.4406e-05]),\n",
       "  tensor([-9.1526e-03, -2.8804e-05]),\n",
       "  tensor([-8.0090e-03, -2.1928e-05]),\n",
       "  tensor([-7.2091e-03, -1.6832e-05]),\n",
       "  tensor([-6.1444e-03, -1.2987e-05]),\n",
       "  tensor([-5.3040e-03, -1.0648e-05]),\n",
       "  tensor([-5.3398e-03, -1.0623e-05]),\n",
       "  tensor([-5.3625e-03, -1.0561e-05]),\n",
       "  tensor([-5.0750e-03, -9.5817e-06]),\n",
       "  tensor([-5.1319e-03, -9.5235e-06]),\n",
       "  tensor([-6.3433e-03, -1.5127e-05]),\n",
       "  tensor([-7.4100e-03, -1.7557e-05]),\n",
       "  tensor([-7.8050e-03, -2.0138e-05]),\n",
       "  tensor([-8.2210e-03, -2.3179e-05]),\n",
       "  tensor([-8.5721e-03, -2.3667e-05]),\n",
       "  tensor([-8.5319e-03, -2.2936e-05]),\n",
       "  tensor([-9.0306e-03, -2.7053e-05]),\n",
       "  tensor([-1.0819e-02, -3.8355e-05]),\n",
       "  tensor([-1.2820e-02, -5.1552e-05]),\n",
       "  tensor([-1.5344e-02, -7.2535e-05]),\n",
       "  tensor([-1.6836e-02, -8.1885e-05]),\n",
       "  tensor([-1.7999e-02, -9.0635e-05]),\n",
       "  tensor([-1.8258e-02, -8.7917e-05]),\n",
       "  tensor([-1.8298e-02, -9.1198e-05]),\n",
       "  tensor([-0.0196, -0.0001]),\n",
       "  tensor([-0.0225, -0.0002]),\n",
       "  tensor([-0.0245, -0.0002]),\n",
       "  tensor([-0.0252, -0.0002]),\n",
       "  tensor([-0.0247, -0.0002]),\n",
       "  tensor([-0.0234, -0.0001]),\n",
       "  tensor([-0.0234, -0.0001]),\n",
       "  tensor([-0.0225, -0.0001]),\n",
       "  tensor([-0.0203, -0.0001]),\n",
       "  tensor([-1.8783e-02, -9.3287e-05]),\n",
       "  tensor([-1.7301e-02, -8.2203e-05]),\n",
       "  tensor([-1.6120e-02, -7.1979e-05]),\n",
       "  tensor([-1.5229e-02, -6.4551e-05]),\n",
       "  tensor([-1.3892e-02, -5.4034e-05]),\n",
       "  tensor([-1.1891e-02, -4.0492e-05]),\n",
       "  tensor([-9.6701e-03, -2.5848e-05]),\n",
       "  tensor([-6.7664e-03, -1.1585e-05]),\n",
       "  tensor([-3.4983e-03, -2.8485e-06])],\n",
       " 'c_t': [tensor(0.),\n",
       "  tensor(0.),\n",
       "  tensor(0.),\n",
       "  tensor(0.),\n",
       "  tensor(0.),\n",
       "  tensor(0.),\n",
       "  tensor(0.),\n",
       "  tensor(0.),\n",
       "  tensor(0.),\n",
       "  tensor(0.),\n",
       "  tensor(0.),\n",
       "  tensor(0.),\n",
       "  tensor(0.),\n",
       "  tensor(0.),\n",
       "  tensor(0.),\n",
       "  tensor(0.),\n",
       "  tensor(0.),\n",
       "  tensor(0.),\n",
       "  tensor(0.),\n",
       "  tensor(0.),\n",
       "  tensor(0.),\n",
       "  tensor(0.),\n",
       "  tensor(0.),\n",
       "  tensor(0.),\n",
       "  tensor(0.),\n",
       "  tensor(0.),\n",
       "  tensor(0.),\n",
       "  tensor(0.),\n",
       "  tensor(0.),\n",
       "  tensor(0.),\n",
       "  tensor(0.),\n",
       "  tensor(0.),\n",
       "  tensor(0.),\n",
       "  tensor(0.),\n",
       "  tensor(0.),\n",
       "  tensor(0.),\n",
       "  tensor(0.),\n",
       "  tensor(0.),\n",
       "  tensor(0.),\n",
       "  tensor(0.),\n",
       "  tensor(0.),\n",
       "  tensor(0.),\n",
       "  tensor(0.),\n",
       "  tensor(0.),\n",
       "  tensor(0.),\n",
       "  tensor(0.),\n",
       "  tensor(0.),\n",
       "  tensor(0.),\n",
       "  tensor(0.),\n",
       "  tensor(0.),\n",
       "  tensor(0.),\n",
       "  tensor(0.),\n",
       "  tensor(0.),\n",
       "  tensor(0.),\n",
       "  tensor(0.),\n",
       "  tensor(0.),\n",
       "  tensor(0.),\n",
       "  tensor(0.),\n",
       "  tensor(0.),\n",
       "  tensor(0.),\n",
       "  tensor(0.),\n",
       "  tensor(0.),\n",
       "  tensor(0.),\n",
       "  tensor(0.),\n",
       "  tensor(0.),\n",
       "  tensor(0.),\n",
       "  tensor(0.),\n",
       "  tensor(0.),\n",
       "  tensor(0.),\n",
       "  tensor(0.),\n",
       "  tensor(0.),\n",
       "  tensor(0.),\n",
       "  tensor(0.),\n",
       "  tensor(0.),\n",
       "  tensor(0.),\n",
       "  tensor(0.),\n",
       "  tensor(0.),\n",
       "  tensor(0.),\n",
       "  tensor(0.),\n",
       "  tensor(0.),\n",
       "  tensor(0.),\n",
       "  tensor(0.),\n",
       "  tensor(0.),\n",
       "  tensor(0.),\n",
       "  tensor(0.),\n",
       "  tensor(0.),\n",
       "  tensor(0.),\n",
       "  tensor(0.),\n",
       "  tensor(0.),\n",
       "  tensor(0.),\n",
       "  tensor(0.),\n",
       "  tensor(0.),\n",
       "  tensor(0.),\n",
       "  tensor(0.),\n",
       "  tensor(0.),\n",
       "  tensor(0.),\n",
       "  tensor(0.),\n",
       "  tensor(0.),\n",
       "  tensor(0.),\n",
       "  tensor(0.),\n",
       "  tensor(0.),\n",
       "  tensor(0.),\n",
       "  tensor(0.),\n",
       "  tensor(0.),\n",
       "  tensor(0.),\n",
       "  tensor(0.),\n",
       "  tensor(0.),\n",
       "  tensor(0.),\n",
       "  tensor(0.),\n",
       "  tensor(0.),\n",
       "  tensor(0.),\n",
       "  tensor(0.),\n",
       "  tensor(0.),\n",
       "  tensor(0.),\n",
       "  tensor(0.),\n",
       "  tensor(0.),\n",
       "  tensor(0.),\n",
       "  tensor(0.),\n",
       "  tensor(0.),\n",
       "  tensor(0.),\n",
       "  tensor(0.),\n",
       "  tensor(0.),\n",
       "  tensor(0.),\n",
       "  tensor(0.),\n",
       "  tensor(0.),\n",
       "  tensor(0.),\n",
       "  tensor(0.),\n",
       "  tensor(0.),\n",
       "  tensor(0.),\n",
       "  tensor(0.),\n",
       "  tensor(0.),\n",
       "  tensor(0.),\n",
       "  tensor(0.),\n",
       "  tensor(0.),\n",
       "  tensor(0.),\n",
       "  tensor(0.),\n",
       "  tensor(0.),\n",
       "  tensor(0.),\n",
       "  tensor(0.),\n",
       "  tensor(0.),\n",
       "  tensor(0.),\n",
       "  tensor(0.),\n",
       "  tensor(0.),\n",
       "  tensor(0.),\n",
       "  tensor(0.),\n",
       "  tensor(0.),\n",
       "  tensor(0.),\n",
       "  tensor(0.),\n",
       "  tensor(0.),\n",
       "  tensor(0.),\n",
       "  tensor(0.),\n",
       "  tensor(0.),\n",
       "  tensor(0.),\n",
       "  tensor(0.),\n",
       "  tensor(0.),\n",
       "  tensor(0.),\n",
       "  tensor(0.),\n",
       "  tensor(0.),\n",
       "  tensor(0.),\n",
       "  tensor(0.),\n",
       "  tensor(0.),\n",
       "  tensor(0.),\n",
       "  tensor(0.),\n",
       "  tensor(0.),\n",
       "  tensor(0.),\n",
       "  tensor(0.),\n",
       "  tensor(0.),\n",
       "  tensor(0.),\n",
       "  tensor(0.),\n",
       "  tensor(0.),\n",
       "  tensor(0.),\n",
       "  tensor(0.),\n",
       "  tensor(0.),\n",
       "  tensor(0.),\n",
       "  tensor(0.),\n",
       "  tensor(0.),\n",
       "  tensor(0.),\n",
       "  tensor(0.),\n",
       "  tensor(0.),\n",
       "  tensor(0.),\n",
       "  tensor(0.),\n",
       "  tensor(0.),\n",
       "  tensor(0.),\n",
       "  tensor(0.),\n",
       "  tensor(0.),\n",
       "  tensor(0.),\n",
       "  tensor(0.),\n",
       "  tensor(0.),\n",
       "  tensor(0.),\n",
       "  tensor(0.),\n",
       "  tensor(0.),\n",
       "  tensor(0.),\n",
       "  tensor(0.),\n",
       "  tensor(0.),\n",
       "  tensor(0.),\n",
       "  tensor(0.),\n",
       "  tensor(0.),\n",
       "  tensor(0.),\n",
       "  tensor(0.),\n",
       "  tensor(0.)],\n",
       " 'potential': []}"
      ]
     },
     "execution_count": 426,
     "metadata": {},
     "output_type": "execute_result"
    }
   ],
   "source": [
    "twisting_parameters"
   ]
  },
  {
   "cell_type": "code",
   "execution_count": 398,
   "metadata": {},
   "outputs": [
    {
     "data": {
      "text/plain": [
       "torch.Size([49, 2])"
      ]
     },
     "execution_count": 398,
     "metadata": {},
     "output_type": "execute_result"
    }
   ],
   "source": [
    "t.stack(twisting_parameters['b_t'][1:]).squeeze(0).size()"
   ]
  },
  {
   "cell_type": "code",
   "execution_count": 399,
   "metadata": {},
   "outputs": [
    {
     "data": {
      "text/plain": [
       "50"
      ]
     },
     "execution_count": 399,
     "metadata": {},
     "output_type": "execute_result"
    }
   ],
   "source": [
    "sequence_length"
   ]
  },
  {
   "cell_type": "code",
   "execution_count": 142,
   "metadata": {},
   "outputs": [
    {
     "data": {
      "text/plain": [
       "tensor([0.])"
      ]
     },
     "execution_count": 142,
     "metadata": {},
     "output_type": "execute_result"
    }
   ],
   "source": [
    "t.tensor([0. for _ in range(sequence_length-1)])"
   ]
  },
  {
   "cell_type": "code",
   "execution_count": 442,
   "metadata": {},
   "outputs": [
    {
     "name": "stderr",
     "output_type": "stream",
     "text": [
      "\n",
      "\n",
      "\n",
      "\n",
      "\n",
      "  0%|          | 0/50 [00:00<?, ?it/s]\u001b[A\u001b[A\u001b[A\u001b[A\u001b[A"
     ]
    },
    {
     "name": "stdout",
     "output_type": "stream",
     "text": [
      "[199, 199, 199]\n"
     ]
    },
    {
     "name": "stderr",
     "output_type": "stream",
     "text": [
      "\n",
      "\n",
      "\n",
      "\n",
      "\n",
      "  2%|▏         | 1/50 [00:04<03:17,  4.03s/it]\u001b[A\u001b[A\u001b[A\u001b[A\u001b[A"
     ]
    },
    {
     "name": "stdout",
     "output_type": "stream",
     "text": [
      "[199, 199, 199]\n"
     ]
    },
    {
     "name": "stderr",
     "output_type": "stream",
     "text": [
      "\n",
      "\n",
      "\n",
      "\n",
      "\n",
      "  4%|▍         | 2/50 [00:08<03:24,  4.26s/it]\u001b[A\u001b[A\u001b[A\u001b[A\u001b[A"
     ]
    },
    {
     "name": "stdout",
     "output_type": "stream",
     "text": [
      "[199, 199, 199]\n"
     ]
    },
    {
     "name": "stderr",
     "output_type": "stream",
     "text": [
      "\n",
      "\n",
      "\n",
      "\n",
      "\n",
      "  6%|▌         | 3/50 [00:13<03:32,  4.51s/it]\u001b[A\u001b[A\u001b[A\u001b[A\u001b[A"
     ]
    },
    {
     "name": "stdout",
     "output_type": "stream",
     "text": [
      "[199, 199, 199]\n"
     ]
    },
    {
     "name": "stderr",
     "output_type": "stream",
     "text": [
      "\n",
      "\n",
      "\n",
      "\n",
      "\n",
      "  8%|▊         | 4/50 [00:19<03:46,  4.93s/it]\u001b[A\u001b[A\u001b[A\u001b[A\u001b[A"
     ]
    },
    {
     "name": "stdout",
     "output_type": "stream",
     "text": [
      "[199, 199, 199]\n"
     ]
    },
    {
     "name": "stderr",
     "output_type": "stream",
     "text": [
      "\n",
      "\n",
      "\n",
      "\n",
      "\n",
      " 10%|█         | 5/50 [00:25<03:54,  5.21s/it]\u001b[A\u001b[A\u001b[A\u001b[A\u001b[A"
     ]
    },
    {
     "name": "stdout",
     "output_type": "stream",
     "text": [
      "[199, 199, 199]\n"
     ]
    },
    {
     "name": "stderr",
     "output_type": "stream",
     "text": [
      "\n",
      "\n",
      "\n",
      "\n",
      "\n",
      " 12%|█▏        | 6/50 [00:32<04:05,  5.59s/it]\u001b[A\u001b[A\u001b[A\u001b[A\u001b[A"
     ]
    },
    {
     "name": "stdout",
     "output_type": "stream",
     "text": [
      "[199, 199, 199]\n"
     ]
    },
    {
     "name": "stderr",
     "output_type": "stream",
     "text": [
      "\n",
      "\n",
      "\n",
      "\n",
      "\n",
      " 14%|█▍        | 7/50 [00:38<04:03,  5.67s/it]\u001b[A\u001b[A\u001b[A\u001b[A\u001b[A"
     ]
    },
    {
     "name": "stdout",
     "output_type": "stream",
     "text": [
      "[199, 199, 199]\n"
     ]
    },
    {
     "name": "stderr",
     "output_type": "stream",
     "text": [
      "\n",
      "\n",
      "\n",
      "\n",
      "\n",
      " 16%|█▌        | 8/50 [00:43<03:55,  5.61s/it]\u001b[A\u001b[A\u001b[A\u001b[A\u001b[A"
     ]
    },
    {
     "name": "stdout",
     "output_type": "stream",
     "text": [
      "[199, 199, 199]\n"
     ]
    },
    {
     "name": "stderr",
     "output_type": "stream",
     "text": [
      "\n",
      "\n",
      "\n",
      "\n",
      "\n",
      " 18%|█▊        | 9/50 [00:48<03:45,  5.50s/it]\u001b[A\u001b[A\u001b[A\u001b[A\u001b[A"
     ]
    },
    {
     "name": "stdout",
     "output_type": "stream",
     "text": [
      "[199, 199, 199]\n"
     ]
    },
    {
     "name": "stderr",
     "output_type": "stream",
     "text": [
      "\n",
      "\n",
      "\n",
      "\n",
      "\n",
      " 20%|██        | 10/50 [00:54<03:38,  5.47s/it]\u001b[A\u001b[A\u001b[A\u001b[A\u001b[A"
     ]
    },
    {
     "name": "stdout",
     "output_type": "stream",
     "text": [
      "[199, 199, 199]\n"
     ]
    },
    {
     "name": "stderr",
     "output_type": "stream",
     "text": [
      "\n",
      "\n",
      "\n",
      "\n",
      "\n",
      " 22%|██▏       | 11/50 [01:00<03:40,  5.65s/it]\u001b[A\u001b[A\u001b[A\u001b[A\u001b[A"
     ]
    },
    {
     "name": "stdout",
     "output_type": "stream",
     "text": [
      "[199, 199, 199]\n"
     ]
    },
    {
     "name": "stderr",
     "output_type": "stream",
     "text": [
      "\n",
      "\n",
      "\n",
      "\n",
      "\n",
      " 24%|██▍       | 12/50 [01:06<03:40,  5.79s/it]\u001b[A\u001b[A\u001b[A\u001b[A\u001b[A"
     ]
    },
    {
     "name": "stdout",
     "output_type": "stream",
     "text": [
      "[199, 199, 199]\n"
     ]
    },
    {
     "name": "stderr",
     "output_type": "stream",
     "text": [
      "\n",
      "\n",
      "\n",
      "\n",
      "\n",
      " 26%|██▌       | 13/50 [01:13<03:44,  6.07s/it]\u001b[A\u001b[A\u001b[A\u001b[A\u001b[A"
     ]
    },
    {
     "name": "stdout",
     "output_type": "stream",
     "text": [
      "[199, 199, 199]\n"
     ]
    },
    {
     "name": "stderr",
     "output_type": "stream",
     "text": [
      "\n",
      "\n",
      "\n",
      "\n",
      "\n",
      " 28%|██▊       | 14/50 [01:19<03:43,  6.20s/it]\u001b[A\u001b[A\u001b[A\u001b[A\u001b[A"
     ]
    },
    {
     "name": "stdout",
     "output_type": "stream",
     "text": [
      "[199, 199, 199]\n"
     ]
    },
    {
     "name": "stderr",
     "output_type": "stream",
     "text": [
      "\n",
      "\n",
      "\n",
      "\n",
      "\n",
      " 30%|███       | 15/50 [01:25<03:32,  6.08s/it]\u001b[A\u001b[A\u001b[A\u001b[A\u001b[A"
     ]
    },
    {
     "name": "stdout",
     "output_type": "stream",
     "text": [
      "[199, 199, 199]\n"
     ]
    },
    {
     "name": "stderr",
     "output_type": "stream",
     "text": [
      "\n",
      "\n",
      "\n",
      "\n",
      "\n",
      " 32%|███▏      | 16/50 [01:31<03:23,  6.00s/it]\u001b[A\u001b[A\u001b[A\u001b[A\u001b[A"
     ]
    },
    {
     "name": "stdout",
     "output_type": "stream",
     "text": [
      "[199, 199, 199]\n"
     ]
    },
    {
     "name": "stderr",
     "output_type": "stream",
     "text": [
      "\n",
      "\n",
      "\n",
      "\n",
      "\n",
      " 34%|███▍      | 17/50 [01:36<03:08,  5.71s/it]\u001b[A\u001b[A\u001b[A\u001b[A\u001b[A"
     ]
    },
    {
     "name": "stdout",
     "output_type": "stream",
     "text": [
      "[199, 199, 199]\n"
     ]
    },
    {
     "name": "stderr",
     "output_type": "stream",
     "text": [
      "\n",
      "\n",
      "\n",
      "\n",
      "\n",
      " 36%|███▌      | 18/50 [01:41<03:01,  5.67s/it]\u001b[A\u001b[A\u001b[A\u001b[A\u001b[A"
     ]
    },
    {
     "name": "stdout",
     "output_type": "stream",
     "text": [
      "[199, 199, 199]\n"
     ]
    },
    {
     "name": "stderr",
     "output_type": "stream",
     "text": [
      "\n",
      "\n",
      "\n",
      "\n",
      "\n",
      " 38%|███▊      | 19/50 [01:48<03:06,  6.02s/it]\u001b[A\u001b[A\u001b[A\u001b[A\u001b[A"
     ]
    },
    {
     "name": "stdout",
     "output_type": "stream",
     "text": [
      "[199, 199, 199]\n"
     ]
    },
    {
     "name": "stderr",
     "output_type": "stream",
     "text": [
      "\n",
      "\n",
      "\n",
      "\n",
      "\n",
      " 40%|████      | 20/50 [01:55<03:05,  6.19s/it]\u001b[A\u001b[A\u001b[A\u001b[A\u001b[A"
     ]
    },
    {
     "name": "stdout",
     "output_type": "stream",
     "text": [
      "[199, 199, 199]\n"
     ]
    },
    {
     "name": "stderr",
     "output_type": "stream",
     "text": [
      "\n",
      "\n",
      "\n",
      "\n",
      "\n",
      " 42%|████▏     | 21/50 [02:01<02:58,  6.14s/it]\u001b[A\u001b[A\u001b[A\u001b[A\u001b[A"
     ]
    },
    {
     "name": "stdout",
     "output_type": "stream",
     "text": [
      "[199, 199, 199]\n"
     ]
    },
    {
     "name": "stderr",
     "output_type": "stream",
     "text": [
      "\n",
      "\n",
      "\n",
      "\n",
      "\n",
      " 44%|████▍     | 22/50 [02:07<02:53,  6.21s/it]\u001b[A\u001b[A\u001b[A\u001b[A\u001b[A"
     ]
    },
    {
     "name": "stdout",
     "output_type": "stream",
     "text": [
      "[199, 199, 199]\n"
     ]
    },
    {
     "name": "stderr",
     "output_type": "stream",
     "text": [
      "\n",
      "\n",
      "\n",
      "\n",
      "\n",
      " 46%|████▌     | 23/50 [02:13<02:44,  6.08s/it]\u001b[A\u001b[A\u001b[A\u001b[A\u001b[A"
     ]
    },
    {
     "name": "stdout",
     "output_type": "stream",
     "text": [
      "[199, 199, 199]\n"
     ]
    },
    {
     "name": "stderr",
     "output_type": "stream",
     "text": [
      "\n",
      "\n",
      "\n",
      "\n",
      "\n",
      " 48%|████▊     | 24/50 [02:19<02:40,  6.18s/it]\u001b[A\u001b[A\u001b[A\u001b[A\u001b[A"
     ]
    },
    {
     "name": "stdout",
     "output_type": "stream",
     "text": [
      "[199, 199, 199]\n"
     ]
    },
    {
     "name": "stderr",
     "output_type": "stream",
     "text": [
      "\n",
      "\n",
      "\n",
      "\n",
      "\n",
      " 50%|█████     | 25/50 [02:26<02:36,  6.24s/it]\u001b[A\u001b[A\u001b[A\u001b[A\u001b[A"
     ]
    },
    {
     "name": "stdout",
     "output_type": "stream",
     "text": [
      "[199, 199, 199]\n"
     ]
    },
    {
     "name": "stderr",
     "output_type": "stream",
     "text": [
      "\n",
      "\n",
      "\n",
      "\n",
      "\n",
      " 52%|█████▏    | 26/50 [02:31<02:23,  5.99s/it]\u001b[A\u001b[A\u001b[A\u001b[A\u001b[A"
     ]
    },
    {
     "name": "stdout",
     "output_type": "stream",
     "text": [
      "[199, 199, 199]\n"
     ]
    },
    {
     "name": "stderr",
     "output_type": "stream",
     "text": [
      "\n",
      "\n",
      "\n",
      "\n",
      "\n",
      " 54%|█████▍    | 27/50 [02:38<02:23,  6.23s/it]\u001b[A\u001b[A\u001b[A\u001b[A\u001b[A"
     ]
    },
    {
     "name": "stdout",
     "output_type": "stream",
     "text": [
      "[199, 199, 199]\n"
     ]
    },
    {
     "name": "stderr",
     "output_type": "stream",
     "text": [
      "\n",
      "\n",
      "\n",
      "\n",
      "\n",
      " 56%|█████▌    | 28/50 [02:44<02:15,  6.17s/it]\u001b[A\u001b[A\u001b[A\u001b[A\u001b[A"
     ]
    },
    {
     "name": "stdout",
     "output_type": "stream",
     "text": [
      "[199, 199, 199]\n"
     ]
    },
    {
     "name": "stderr",
     "output_type": "stream",
     "text": [
      "\n",
      "\n",
      "\n",
      "\n",
      "\n",
      " 58%|█████▊    | 29/50 [02:50<02:06,  6.04s/it]\u001b[A\u001b[A\u001b[A\u001b[A\u001b[A"
     ]
    },
    {
     "name": "stdout",
     "output_type": "stream",
     "text": [
      "[199, 199, 199]\n"
     ]
    },
    {
     "name": "stderr",
     "output_type": "stream",
     "text": [
      "\n",
      "\n",
      "\n",
      "\n",
      "\n",
      " 60%|██████    | 30/50 [02:55<01:56,  5.81s/it]\u001b[A\u001b[A\u001b[A\u001b[A\u001b[A"
     ]
    },
    {
     "name": "stdout",
     "output_type": "stream",
     "text": [
      "[199, 199, 199]\n"
     ]
    },
    {
     "name": "stderr",
     "output_type": "stream",
     "text": [
      "\n",
      "\n",
      "\n",
      "\n",
      "\n",
      " 62%|██████▏   | 31/50 [03:00<01:47,  5.65s/it]\u001b[A\u001b[A\u001b[A\u001b[A\u001b[A"
     ]
    },
    {
     "name": "stdout",
     "output_type": "stream",
     "text": [
      "[199, 199, 199]\n"
     ]
    },
    {
     "name": "stderr",
     "output_type": "stream",
     "text": [
      "\n",
      "\n",
      "\n",
      "\n",
      "\n",
      " 64%|██████▍   | 32/50 [03:05<01:39,  5.53s/it]\u001b[A\u001b[A\u001b[A\u001b[A\u001b[A"
     ]
    },
    {
     "name": "stdout",
     "output_type": "stream",
     "text": [
      "[199, 199, 199]\n"
     ]
    },
    {
     "name": "stderr",
     "output_type": "stream",
     "text": [
      "\n",
      "\n",
      "\n",
      "\n",
      "\n",
      " 66%|██████▌   | 33/50 [03:11<01:32,  5.44s/it]\u001b[A\u001b[A\u001b[A\u001b[A\u001b[A"
     ]
    },
    {
     "name": "stdout",
     "output_type": "stream",
     "text": [
      "[199, 199, 199]\n"
     ]
    },
    {
     "name": "stderr",
     "output_type": "stream",
     "text": [
      "\n",
      "\n",
      "\n",
      "\n",
      "\n",
      " 68%|██████▊   | 34/50 [03:16<01:26,  5.40s/it]\u001b[A\u001b[A\u001b[A\u001b[A\u001b[A"
     ]
    },
    {
     "name": "stdout",
     "output_type": "stream",
     "text": [
      "[199, 199, 199]\n"
     ]
    },
    {
     "name": "stderr",
     "output_type": "stream",
     "text": [
      "\n",
      "\n",
      "\n",
      "\n",
      "\n",
      " 70%|███████   | 35/50 [03:21<01:20,  5.36s/it]\u001b[A\u001b[A\u001b[A\u001b[A\u001b[A"
     ]
    },
    {
     "name": "stdout",
     "output_type": "stream",
     "text": [
      "[199, 199, 199]\n"
     ]
    },
    {
     "name": "stderr",
     "output_type": "stream",
     "text": [
      "\n",
      "\n",
      "\n",
      "\n",
      "\n",
      " 72%|███████▏  | 36/50 [03:26<01:14,  5.32s/it]\u001b[A\u001b[A\u001b[A\u001b[A\u001b[A"
     ]
    },
    {
     "name": "stdout",
     "output_type": "stream",
     "text": [
      "[199, 199, 199]\n"
     ]
    },
    {
     "name": "stderr",
     "output_type": "stream",
     "text": [
      "\n",
      "\n",
      "\n",
      "\n",
      "\n",
      " 74%|███████▍  | 37/50 [03:32<01:09,  5.31s/it]\u001b[A\u001b[A\u001b[A\u001b[A\u001b[A"
     ]
    },
    {
     "name": "stdout",
     "output_type": "stream",
     "text": [
      "[199, 199, 199]\n"
     ]
    },
    {
     "name": "stderr",
     "output_type": "stream",
     "text": [
      "\n",
      "\n",
      "\n",
      "\n",
      "\n",
      " 76%|███████▌  | 38/50 [03:37<01:03,  5.31s/it]\u001b[A\u001b[A\u001b[A\u001b[A\u001b[A"
     ]
    },
    {
     "name": "stdout",
     "output_type": "stream",
     "text": [
      "[199, 199, 199]\n"
     ]
    },
    {
     "name": "stderr",
     "output_type": "stream",
     "text": [
      "\n",
      "\n",
      "\n",
      "\n",
      "\n",
      " 78%|███████▊  | 39/50 [03:42<00:58,  5.30s/it]\u001b[A\u001b[A\u001b[A\u001b[A\u001b[A"
     ]
    },
    {
     "name": "stdout",
     "output_type": "stream",
     "text": [
      "[199, 199, 199]\n"
     ]
    },
    {
     "name": "stderr",
     "output_type": "stream",
     "text": [
      "\n",
      "\n",
      "\n",
      "\n",
      "\n",
      " 80%|████████  | 40/50 [03:48<00:53,  5.33s/it]\u001b[A\u001b[A\u001b[A\u001b[A\u001b[A"
     ]
    },
    {
     "name": "stdout",
     "output_type": "stream",
     "text": [
      "[199, 199, 199]\n"
     ]
    },
    {
     "name": "stderr",
     "output_type": "stream",
     "text": [
      "\n",
      "\n",
      "\n",
      "\n",
      "\n",
      " 82%|████████▏ | 41/50 [03:53<00:47,  5.33s/it]\u001b[A\u001b[A\u001b[A\u001b[A\u001b[A"
     ]
    },
    {
     "name": "stdout",
     "output_type": "stream",
     "text": [
      "[199, 199, 199]\n"
     ]
    },
    {
     "name": "stderr",
     "output_type": "stream",
     "text": [
      "\n",
      "\n",
      "\n",
      "\n",
      "\n",
      " 84%|████████▍ | 42/50 [03:58<00:42,  5.29s/it]\u001b[A\u001b[A\u001b[A\u001b[A\u001b[A"
     ]
    },
    {
     "name": "stdout",
     "output_type": "stream",
     "text": [
      "[199, 199, 199]\n"
     ]
    },
    {
     "name": "stderr",
     "output_type": "stream",
     "text": [
      "\n",
      "\n",
      "\n",
      "\n",
      "\n",
      " 86%|████████▌ | 43/50 [04:03<00:36,  5.28s/it]\u001b[A\u001b[A\u001b[A\u001b[A\u001b[A"
     ]
    },
    {
     "name": "stdout",
     "output_type": "stream",
     "text": [
      "[199, 199, 199]\n"
     ]
    },
    {
     "name": "stderr",
     "output_type": "stream",
     "text": [
      "\n",
      "\n",
      "\n",
      "\n",
      "\n",
      " 88%|████████▊ | 44/50 [04:09<00:31,  5.26s/it]\u001b[A\u001b[A\u001b[A\u001b[A\u001b[A"
     ]
    },
    {
     "name": "stdout",
     "output_type": "stream",
     "text": [
      "[199, 199, 199]\n"
     ]
    },
    {
     "name": "stderr",
     "output_type": "stream",
     "text": [
      "\n",
      "\n",
      "\n",
      "\n",
      "\n",
      " 90%|█████████ | 45/50 [04:14<00:26,  5.25s/it]\u001b[A\u001b[A\u001b[A\u001b[A\u001b[A"
     ]
    },
    {
     "name": "stdout",
     "output_type": "stream",
     "text": [
      "[199, 199, 199]\n"
     ]
    },
    {
     "name": "stderr",
     "output_type": "stream",
     "text": [
      "\n",
      "\n",
      "\n",
      "\n",
      "\n",
      " 92%|█████████▏| 46/50 [04:21<00:22,  5.67s/it]\u001b[A\u001b[A\u001b[A\u001b[A\u001b[A"
     ]
    },
    {
     "name": "stdout",
     "output_type": "stream",
     "text": [
      "[199, 199, 199]\n"
     ]
    },
    {
     "name": "stderr",
     "output_type": "stream",
     "text": [
      "\n",
      "\n",
      "\n",
      "\n",
      "\n",
      " 94%|█████████▍| 47/50 [04:26<00:16,  5.62s/it]\u001b[A\u001b[A\u001b[A\u001b[A\u001b[A"
     ]
    },
    {
     "name": "stdout",
     "output_type": "stream",
     "text": [
      "[199, 199, 199]\n"
     ]
    },
    {
     "name": "stderr",
     "output_type": "stream",
     "text": [
      "\n",
      "\n",
      "\n",
      "\n",
      "\n",
      " 96%|█████████▌| 48/50 [04:33<00:11,  5.92s/it]\u001b[A\u001b[A\u001b[A\u001b[A\u001b[A"
     ]
    },
    {
     "name": "stdout",
     "output_type": "stream",
     "text": [
      "[199, 199, 199]\n"
     ]
    },
    {
     "name": "stderr",
     "output_type": "stream",
     "text": [
      "\n",
      "\n",
      "\n",
      "\n",
      "\n",
      " 98%|█████████▊| 49/50 [04:39<00:06,  6.07s/it]\u001b[A\u001b[A\u001b[A\u001b[A\u001b[A"
     ]
    },
    {
     "name": "stdout",
     "output_type": "stream",
     "text": [
      "[199, 199, 199]\n"
     ]
    },
    {
     "name": "stderr",
     "output_type": "stream",
     "text": [
      "\n",
      "\n",
      "\n",
      "\n",
      "\n",
      "100%|██████████| 50/50 [04:45<00:00,  5.71s/it]\u001b[A\u001b[A\u001b[A\u001b[A\u001b[A\n"
     ]
    }
   ],
   "source": [
    "import tqdm\n",
    "#given the potential above, we are just shifting a gaussian...\n",
    "\n",
    "iterations=50\n",
    "sequence_length=200\n",
    "trajs = []\n",
    "twisted_log_weights = []\n",
    "for iteration in tqdm.trange(iterations):\n",
    "    traj, twisted_log_weight = TwistedSMCSampler(potential = potential,\n",
    "                          uncontrolled_alphas = t.tensor([1.]),\n",
    "                          uncontrolled_mus = t.tensor([[0.]]), \n",
    "                          uncontrolled_sigmas = t.tensor([[[0.5]]]), #this is the variance corresponding to the prior annealing protocol\n",
    "                          A0 = t.tensor([[0.]]), #controlled gmm parameters are 0\n",
    "                          b0 = twisting_parameters['b_t'][0], #controlled gmm parameters are 0\n",
    "                          c0 = t.tensor(0.), #controlled gmm parameters are 0\n",
    "                          A_t = dummy_A_t,\n",
    "                          b_t = dummy_b_t,\n",
    "                          c_t = dummy_c_t,\n",
    "                          potential_parameter_sequence = t.tensor(np.linspace(0,1,sequence_length)),\n",
    "                          A_t_parameter_sequence = t.tensor([0. for _ in range(sequence_length-1)]), #this will always return 0\n",
    "                          c_t_parameter_sequence = t.tensor(np.linspace(0,1,sequence_length)[1:]),\n",
    "                          b_t_parameter_sequence = t.stack(twisting_parameters['b_t'][1:]),\n",
    "                          dt = 1e-2,\n",
    "                          uncontrolled=False)\n",
    "    trajs.append(traj)\n",
    "    twisted_log_weights.append(twisted_log_weight)"
   ]
  },
  {
   "cell_type": "code",
   "execution_count": 443,
   "metadata": {},
   "outputs": [
    {
     "data": {
      "text/plain": [
       "<matplotlib.axes._subplots.AxesSubplot at 0x7fc25f6ccf28>"
      ]
     },
     "execution_count": 443,
     "metadata": {},
     "output_type": "execute_result"
    },
    {
     "data": {
      "image/png": "[encoded data removed]",
      "text/plain": [
       "<Figure size 432x288 with 1 Axes>"
      ]
     },
     "metadata": {
      "needs_background": "light"
     },
     "output_type": "display_data"
    }
   ],
   "source": [
    "twisted_log_weights = np.array(twisted_log_weights)\n",
    "cumulatie_log_weights = np.array([np.cumsum(entry) for entry in twisted_log_weights])\n",
    "log_weights = np.array([entry[-1] for entry in cumulatie_log_weights])\n",
    "sns.distplot(log_weights)"
   ]
  },
  {
   "cell_type": "code",
   "execution_count": 444,
   "metadata": {},
   "outputs": [
    {
     "data": {
      "text/plain": [
       "-0.3465735902799727"
      ]
     },
     "execution_count": 444,
     "metadata": {},
     "output_type": "execute_result"
    }
   ],
   "source": [
    "-np.log(np.sqrt(2))"
   ]
  },
  {
   "cell_type": "code",
   "execution_count": 445,
   "metadata": {},
   "outputs": [],
   "source": [
    "from pymbar import EXP"
   ]
  },
  {
   "cell_type": "code",
   "execution_count": 446,
   "metadata": {},
   "outputs": [],
   "source": [
    "free_energy = EXP(-log_weights)"
   ]
  },
  {
   "cell_type": "code",
   "execution_count": 447,
   "metadata": {},
   "outputs": [
    {
     "data": {
      "text/plain": [
       "(0.33139222616178854, 0.28437118652469745)"
      ]
     },
     "execution_count": 447,
     "metadata": {},
     "output_type": "execute_result"
    }
   ],
   "source": [
    "free_energy"
   ]
  },
  {
   "cell_type": "code",
   "execution_count": 448,
   "metadata": {},
   "outputs": [
    {
     "data": {
      "text/plain": [
       "0.7179235254213494"
      ]
     },
     "execution_count": 448,
     "metadata": {},
     "output_type": "execute_result"
    }
   ],
   "source": [
    "np.exp(-free_energy[0])"
   ]
  },
  {
   "cell_type": "code",
   "execution_count": 331,
   "metadata": {},
   "outputs": [],
   "source": [
    "initial_posts = [tra[0] for tra in trajs]\n",
    "final_posts = [tra[-1] for tra in trajs]"
   ]
  },
  {
   "cell_type": "code",
   "execution_count": 332,
   "metadata": {},
   "outputs": [
    {
     "data": {
      "text/plain": [
       "<matplotlib.axes._subplots.AxesSubplot at 0x7fc2604d6898>"
      ]
     },
     "execution_count": 332,
     "metadata": {},
     "output_type": "execute_result"
    },
    {
     "data": {
      "image/png": "[encoded data removed]",
      "text/plain": [
       "<Figure size 432x288 with 1 Axes>"
      ]
     },
     "metadata": {
      "needs_background": "light"
     },
     "output_type": "display_data"
    }
   ],
   "source": [
    "sns.distplot(initial_posts)\n"
   ]
  },
  {
   "cell_type": "code",
   "execution_count": 278,
   "metadata": {},
   "outputs": [
    {
     "data": {
      "text/plain": [
       "<matplotlib.axes._subplots.AxesSubplot at 0x7fc260fa5668>"
      ]
     },
     "execution_count": 278,
     "metadata": {},
     "output_type": "execute_result"
    },
    {
     "data": {
      "image/png": "[encoded data removed]",
      "text/plain": [
       "<Figure size 432x288 with 1 Axes>"
      ]
     },
     "metadata": {
      "needs_background": "light"
     },
     "output_type": "display_data"
    }
   ],
   "source": [
    "sns.distplot(final_posts)"
   ]
  },
  {
   "cell_type": "markdown",
   "metadata": {},
   "source": [
    "perhaps we should like to rewrite everything in numpy and use pytorch _only_ for optimization"
   ]
  },
  {
   "cell_type": "code",
   "execution_count": 493,
   "metadata": {},
   "outputs": [],
   "source": [
    "def log_probability(potential):\n",
    "    \"\"\"\n",
    "    generate a log unnormalized probability\n",
    "    \n",
    "    arguments\n",
    "        potential : np.float\n",
    "            -log unnormalized probability density\n",
    "    \"\"\"\n",
    "    return np.exp(-potential)"
   ]
  },
  {
   "cell_type": "code",
   "execution_count": 516,
   "metadata": {},
   "outputs": [],
   "source": [
    "def EL_mu_sigma(x, func, dt, parameters, is_force_function=False,  **kwargs):\n",
    "    \"\"\"\n",
    "    create mean vector and covariance marix for a multivariate gaussian proposal\n",
    "    \"\"\"\n",
    "    tau = dt/2.\n",
    "    if not is_force_function:\n",
    "        #we have to compute a numerical approximation of the gradient\n",
    "        force = compute_force(x, func, parameters, **kwargs)\n",
    "    else: #it is a force function, in which case, we just plug in the x, potential_params\n",
    "        force = func(x, parameters, **kwargs)\n",
    "    \n",
    "    #now we can compute mu and Sigma\n",
    "    mu = x + tau * force\n",
    "    Sigma = 2*tau * np.eye(len(x))\n",
    "    \n",
    "    return mu, Sigma"
   ]
  },
  {
   "cell_type": "code",
   "execution_count": 510,
   "metadata": {},
   "outputs": [],
   "source": [
    "def compute_force(x, potential_function, potential_parameters, eps=None):\n",
    "    \"\"\"\n",
    "    given a potential function, compute an approximation of the Force (i.e. -grad(potential_function(x, parameters)))\n",
    "    \"\"\"\n",
    "    from scipy.optimize import approx_fprime\n",
    "\n",
    "    if not eps:\n",
    "        eps = np.sqrt(np.finfo(float).eps)\n",
    "    epsilons = [eps]*len(x)\n",
    "    grad_potential = approx_fprime(x, potential_function, epsilons, potential_parameters)\n",
    "    return -grad_potential"
   ]
  },
  {
   "cell_type": "code",
   "execution_count": 511,
   "metadata": {},
   "outputs": [],
   "source": [
    "def potential(x, potential_parameters):\n",
    "    return np.sum(potential_parameters * x**2)"
   ]
  },
  {
   "cell_type": "code",
   "execution_count": 568,
   "metadata": {},
   "outputs": [],
   "source": [
    "def compute_ULA_logw():\n",
    "    \"\"\"\n",
    "    compute the unadjusted langevin algorithm log_weight\n",
    "    \"\"\"\n",
    "    logw = (\n",
    "            -potentialt_xt\n",
    "            + 0.5 * x_tm1.dot(forcet_xt)\n",
    "            - 0.5 * xt.dot(forcet_xt)\n",
    "            - (dt/8.)*np.sum(forcet_xt**2)\n",
    "            + potentialtm1_xtm1\n",
    "            - 0.5 * x_t.dot(forcet_xtm1)\n",
    "            + 0.5 * xtm1.dot(forcet_xtm1)\n",
    "            + (dt/8.)*np.sum(forcet_xtm1**2)\n",
    "            )\n",
    "    return logw\n",
    "\n",
    "def compute_generalized_logw(log_gamma_old, log_gamma_new, log_forward_kernelt, log_backward_kernel_tm1):\n",
    "    \"\"\"\n",
    "    compute a generalized log incremental (unnormalized) weight\n",
    "    \"\"\"\n",
    "    logw = log_gamma_new + log_backward_kernel_tm1 - log_gamma_old - log_forward_kernelt\n",
    "    return logw\n",
    "\n",
    "def twisted_gmm_components(uncontrolled_alphas, uncontrolled_mus, uncontrolled_Sigmas, A0, b0, c0):\n",
    "    \"\"\"\n",
    "    compute a twisted gaussian mixture model mixing components, twisted_mu, and twisted_Sigma\n",
    "    \"\"\"\n",
    "    assert len(uncontrolled_alphas) == len(uncontrolled_mus)\n",
    "    components, dimensions = uncontrolled_mus.shape\n",
    "    assert uncontrolled_Sigmas.shape == (components, dimension, dimension)\n",
    "    \n",
    "    #compute mixture components\n",
    "    Sigma_tilde_js = np.linalg.inv(np.linalg.inv(uncontrolled_Sigmas) + 2.0*A0)\n",
    "    log_zetas = np.array([\n",
    "                            gmm_log_zetas(sigma_tilde_j, sigma_j, mu_j, b0, c0) \n",
    "                            for sigma_tilde_j, sigma_j in \n",
    "                            zip(Sigma_tilde_js, uncontrolled_Sigmas)\n",
    "                            ])\n",
    "    log_alpha_tildes = np.log(uncontrolled_alphas) + log_zetas\n",
    "    \n",
    "    return log_alpha_tildes, Sigma_tilde_js\n",
    "\n",
    "def twisted_gmm_proposal(log_alpha_tildes, Sigma_tilde_js, b0):\n",
    "    \"\"\"\n",
    "    make a twisted gaussian mixture model proposal\n",
    "    \"\"\"\n",
    "    from scipy.special import logsumexp\n",
    "    from scipy.stats import multivariate_normal\n",
    "    normalized_alpha_tildes = np.exp(log_alpha_tildes - logsumexp(log_alpha_tildes))\n",
    "    #choose a component\n",
    "    component_index = np.random.choice(range(len(normalized_alpha_tildes)), p = normalized_alpha_tildes)\n",
    "    \n",
    "    #then choose a position based on that gaussian\n",
    "    Sigma_tilde_j = Sigma_tilde_js[component_index]\n",
    "    mu_j = uncontrolled_mus[component_index]\n",
    "    Sigma_j = uncontrolled_Sigmas[component_index]\n",
    "    twisted_mean = np.matmul(Sigma_tilde_j, np.matmul(np.linalg.inv(Sigma_j), mu_j) - b0)\n",
    "    twisted_Sigma = Sigma_tilde_j\n",
    "    x = multivariate_normal.rvs(mean=twisted_mean, cov = twisted_Sigma)\n",
    "    logpdf = multivariate_normal.logpdf(x, mean=twisted_mean, cov = twisted_Sigma)\n",
    "    return x, logpdf\n",
    "\n",
    "def compute_twisted_gmm_lognormalizer(log_alpha_tildes):\n",
    "    \"\"\"\n",
    "    compute the twisted gaussian mixture model log normalization constant with unnormalized log_alpha_tildes\n",
    "    \"\"\"\n",
    "    from scipy.special import logsumexp\n",
    "    return logsumexp(log_alpha_tildes)\n"
   ]
  },
  {
   "cell_type": "code",
   "execution_count": 570,
   "metadata": {},
   "outputs": [],
   "source": [
    "def gmm_log_zetas(Sigma_tilde_j, Sigma_j, mu_j, b0, c0):\n",
    "    \"\"\"\n",
    "    compute the logzeta_js mixture components\n",
    "    \"\"\"\n",
    "    from scipy.spatial.distance import mahalanobis\n",
    "    comp1 = -0.5 * np.log(np.linalg.det(Sigma_j))\n",
    "    comp2 = 0.5 * np.log(np.linalg.det(Sigma_tilde_j))\n",
    "    comp3 = 0.5 * mahalanobis(np.matmul(np.linalg.inv(Sigma_j), mu_j), b0, np.linalg.inv(Sigma_tilde_j))**2\n",
    "    comp4 = -0.5 * mahalanobis(mu_j, np.zeros(len(mu_j)), Sigma_j)**2\n",
    "    comp5 = -c0\n",
    "    return comp1 + comp2 + comp3 + comp4 + comp5\n"
   ]
  },
  {
   "cell_type": "code",
   "execution_count": null,
   "metadata": {},
   "outputs": [],
   "source": [
    "def Theta_t(x_tm1, A_t, dt):\n",
    "    \"\"\"\n",
    "    compute Theta_t = (I_d _ 2*dt*A_t(x_tm1))^-1\n",
    "    \"\"\"\n",
    "    theta = np.linalg.inv(np.eye(len(x_tm1)) + 2. * dt * A_t)\n",
    "    return theta\n",
    "\n",
    "def f_t(x_tm1, potential_function, parameters, dt, **kwargs):\n",
    "    \"\"\"\n",
    "    NOTE : parameters should reflect potential function at time t (not t-1)\n",
    "    compute f_t(x_tm1) = x_tm1 + 0.5 * dt * forcet(x_tm1) = mu\n",
    "    \"\"\"\n",
    "    mu, cov = EL_mu_sigma(x_tm1, potential_function, dt, parameters, is_force_function=False,  **kwargs)\n",
    "    return mu\n",
    "    \n",
    "\n",
    "def twisted_forward_tools(x, potential_function, potential_parameters, A_function, A_parameters, dt, **kwargs):\n",
    "    \"\"\"\n",
    "    make a twisted forward \n",
    "    \"\"\"\n",
    "    dimension = len(x) #grab the dimension of x  \n",
    "    f_t = f_t(x, potential_function, potential_parameters, dt)\n",
    "    A_t = A_function(x, A_parameters)\n",
    "    \n",
    "    #theta and f\n",
    "    theta = Theta_t(x, A_t, dt)\n",
    "    f = f_t(x, potential, potential, dt) \n",
    "    \n",
    "    return theta, f\n",
    "\n",
    "def twisted_forward_proposal(theta, f, dt, b_t, **kwargs):\n",
    "    \"\"\"\n",
    "    make a forward twisted proposal\n",
    "    \"\"\"\n",
    "    twisted_mean = np.matmul(theta, f - dt*b_t)\n",
    "    twisted_covariance = dt * theta\n",
    "    x = multivariate_normal.rvs(mean=twisted_mean, cov = twisted_covariance)\n",
    "    return x\n",
    "\n",
    "def twisted_forward_log_normalizer(theta, f, b_t, dt, c, d):\n",
    "    \"\"\"\n",
    "    perform one line computation to calculate the log normalization constant of the twisted forward proposal\n",
    "    \"\"\"\n",
    "    from scipy.spatial.distance import mahalanobis\n",
    "    \n",
    "    #there are 3 components that will be computed separately and added.\n",
    "    comp1 = 0.5 * np.linalg.det(theta)\n",
    "    comp2 = (1./(2.*dt)) * mahalanobis(f, dt*b_t, np.linalg.inv(theta))**2\n",
    "    comp3 = -(1./(2.*dt)) * f.dot(f) - c - d\n",
    "    \n",
    "    log_forward_normalizer = comp1 + comp2 + comp3\n",
    "    return log_forward_normalizer\n",
    "\n",
    "\n",
    "    "
   ]
  },
  {
   "cell_type": "code",
   "execution_count": 520,
   "metadata": {},
   "outputs": [],
   "source": [
    "a = np.array([1, 2, 3, 4]).transpose()"
   ]
  },
  {
   "cell_type": "code",
   "execution_count": 518,
   "metadata": {},
   "outputs": [],
   "source": [
    "b = np.array([0, 2, 3, 4])"
   ]
  },
  {
   "cell_type": "code",
   "execution_count": 522,
   "metadata": {},
   "outputs": [
    {
     "data": {
      "text/plain": [
       "29"
      ]
     },
     "execution_count": 522,
     "metadata": {},
     "output_type": "execute_result"
    }
   ],
   "source": [
    "a.dot(b)"
   ]
  },
  {
   "cell_type": "code",
   "execution_count": 524,
   "metadata": {},
   "outputs": [
    {
     "data": {
      "text/plain": [
       "array([ 1,  4,  9, 16])"
      ]
     },
     "execution_count": 524,
     "metadata": {},
     "output_type": "execute_result"
    }
   ],
   "source": [
    "a**2"
   ]
  },
  {
   "cell_type": "code",
   "execution_count": 533,
   "metadata": {},
   "outputs": [],
   "source": [
    "a = np.array([[0., 1., 2.], [0., 1., 4.]]).shape"
   ]
  },
  {
   "cell_type": "code",
   "execution_count": 534,
   "metadata": {},
   "outputs": [
    {
     "data": {
      "text/plain": [
       "(2, 3)"
      ]
     },
     "execution_count": 534,
     "metadata": {},
     "output_type": "execute_result"
    }
   ],
   "source": [
    "a"
   ]
  },
  {
   "cell_type": "code",
   "execution_count": 550,
   "metadata": {},
   "outputs": [],
   "source": [
    "q = np.random.rand(2, 2)"
   ]
  },
  {
   "cell_type": "code",
   "execution_count": 551,
   "metadata": {},
   "outputs": [
    {
     "data": {
      "text/plain": [
       "array([1.28428833, 0.7307282 ])"
      ]
     },
     "execution_count": 551,
     "metadata": {},
     "output_type": "execute_result"
    }
   ],
   "source": [
    "np.matmul(q, np.array([1, 2]))"
   ]
  },
  {
   "cell_type": "code",
   "execution_count": 546,
   "metadata": {},
   "outputs": [],
   "source": [
    "A0 = np.random.rand(2,2)"
   ]
  },
  {
   "cell_type": "code",
   "execution_count": 549,
   "metadata": {},
   "outputs": [
    {
     "data": {
      "text/plain": [
       "array([[[-1.576164  , -2.02098825],\n",
       "        [-1.26933011, -1.63527357]],\n",
       "\n",
       "       [[-1.77727294, -0.40937136],\n",
       "        [-2.31573061, -0.91507988]],\n",
       "\n",
       "       [[-5.44517426, -4.14130285],\n",
       "        [-6.4488603 , -6.02384262]]])"
      ]
     },
     "execution_count": 549,
     "metadata": {},
     "output_type": "execute_result"
    }
   ],
   "source": [
    "np.linalg.inv(np.linalg.inv(q) - A0)"
   ]
  },
  {
   "cell_type": "code",
   "execution_count": 548,
   "metadata": {},
   "outputs": [
    {
     "data": {
      "text/plain": [
       "array([[[-134.50070268,  166.2256053 ],\n",
       "        [ 104.40197526, -129.63895988]],\n",
       "\n",
       "       [[  -1.34897318,    0.60347845],\n",
       "        [   3.41375496,   -2.61998279]],\n",
       "\n",
       "       [[  -0.98845677,    0.67954944],\n",
       "        [   1.05819824,   -0.89350266]]])"
      ]
     },
     "execution_count": 548,
     "metadata": {},
     "output_type": "execute_result"
    }
   ],
   "source": [
    "np.array([np.linalg.inv(it) - A0 for it in q])"
   ]
  },
  {
   "cell_type": "code",
   "execution_count": 560,
   "metadata": {},
   "outputs": [],
   "source": [
    "from scipy.stats import multivariate_normal\n",
    "mv = multivariate_normal.rvs(mean = np.array([0., 1.]), cov = np.eye(2))"
   ]
  },
  {
   "cell_type": "code",
   "execution_count": 566,
   "metadata": {},
   "outputs": [
    {
     "name": "stdout",
     "output_type": "stream",
     "text": [
      "CPU times: user 27 s, sys: 3.64 s, total: 30.7 s\n",
      "Wall time: 4.19 s\n"
     ]
    }
   ],
   "source": [
    "%%time\n",
    "mv = multivariate_normal.rvs(mean = np.random.randn(2000), cov = np.eye(2000))"
   ]
  },
  {
   "cell_type": "code",
   "execution_count": null,
   "metadata": {},
   "outputs": [],
   "source": []
  }
 ],
 "metadata": {
  "kernelspec": {
   "display_name": "Python 3",
   "language": "python",
   "name": "python3"
  },
  "language_info": {
   "codemirror_mode": {
    "name": "ipython",
    "version": 3
   },
   "file_extension": ".py",
   "mimetype": "text/x-python",
   "name": "python",
   "nbconvert_exporter": "python",
   "pygments_lexer": "ipython3",
   "version": "3.6.7"
  }
 },
 "nbformat": 4,
 "nbformat_minor": 4
}
