{
 "cells": [
  {
   "cell_type": "code",
   "execution_count": 4,
   "metadata": {},
   "outputs": [
    {
     "name": "stderr",
     "output_type": "stream",
     "text": [
      "RDKit WARNING: [17:19:06] Enabling RDKit 2019.09.3 jupyter extensions\n"
     ]
    },
    {
     "name": "stdout",
     "output_type": "stream",
     "text": [
      "conducting subsequent work with the following platform: CPU\n",
      "conducting subsequent work with the following platform: CPU\n"
     ]
    }
   ],
   "source": [
    "import pickle\n",
    "from pkg_resources import resource_filename\n",
    "from coddiwomple.openmm.coddiwomple import endstate_equilibration\n",
    "from perses.annihilation.lambda_protocol import RelativeAlchemicalState\n",
    "import os\n",
    "from simtk import unit"
   ]
  },
  {
   "cell_type": "code",
   "execution_count": 5,
   "metadata": {},
   "outputs": [],
   "source": [
    "factory_pickle = f\"/data/perses_data/benzene_fluorobenzene.vacuum.factory.pkl\"\n",
    "_pickl = resource_filename('coddiwomple', factory_pickle)\n",
    "with open(_pickl, 'rb') as f:\n",
    "    factory = pickle.load(f)\n"
   ]
  },
  {
   "cell_type": "code",
   "execution_count": 6,
   "metadata": {},
   "outputs": [],
   "source": [
    "system = factory.hybrid_system"
   ]
  },
  {
   "cell_type": "code",
   "execution_count": 7,
   "metadata": {},
   "outputs": [],
   "source": [
    "#os.system(f\"rm -r tester\")"
   ]
  },
  {
   "cell_type": "code",
   "execution_count": 8,
   "metadata": {},
   "outputs": [
    {
     "name": "stderr",
     "output_type": "stream",
     "text": [
      "DEBUG:openmm_states:successfully instantiated OpenMMPDFState equipped with the following parameters: {'lambda_sterics_delete': 0.0, 'lambda_electrostatics_core': 0.0, 'lambda_sterics_insert': 0.0, 'lambda_bonds': 0.0, 'lambda_sterics_core': 0.0, 'lambda_torsions': 0.0, 'lambda_sterics': None, 'lambda_electrostatics': None, 'lambda_electrostatics_insert': 0.0, 'lambda_angles': 0.0, 'lambda_electrostatics_delete': 0.0}\n",
      "DEBUG:openmm_states:successfully updated OpenMMPDFState parameters as follows: {'lambda_sterics_delete': 0.0, 'lambda_electrostatics_core': 0.0, 'lambda_sterics_insert': 0.0, 'lambda_bonds': 0.0, 'lambda_sterics_core': 0.0, 'lambda_torsions': 0.0, 'lambda_electrostatics_insert': 0.0, 'lambda_angles': 0.0, 'lambda_electrostatics_delete': 0.0}\n",
      "DEBUG:openmm_propagators:initializing OMMLI...\n",
      "DEBUG:openmm_propagators:OMMLI: metropolization is False\n",
      "DEBUG:openmm_propagators:OMMLI: successfully parsed splitting string\n",
      "DEBUG:openmm_propagators:OMMLI: adding global variables...\n",
      "DEBUG:openmm_propagators:OMMLI: adding integrator steps...\n",
      "DEBUG:openmm_propagators:OMMLI: adding substep functions...\n",
      "DEBUG:openmm_propagators:successfully executed ABCMeta init.\n",
      "DEBUG:openmm_propagators:successfully equipped integrator: OMMLI\n",
      "DEBUG:openmm_propagators:integrator printable: None\n",
      "DEBUG:openmm_reporters:creating trajectory storage object...\n",
      "  0%|          | 0/10 [00:00<?, ?it/s]"
     ]
    },
    {
     "name": "stdout",
     "output_type": "stream",
     "text": [
      "step      0 : allow forces to update the context state\n",
      "step      1 : if(has_kT_changed = 1):\n",
      "step      2 :    sigma <- sqrt(kT/m)\n",
      "step      3 :    has_kT_changed <- 0\n",
      "step      4 : end\n",
      "step      5 : old_ke <- sum(0.5 * m * v * v)\n",
      "step      6 : v <- v + (dt / 2) * f / m\n",
      "step      7 : constrain velocities\n",
      "step      8 : new_ke <- sum(0.5 * m * v * v)\n",
      "step      9 : shadow_work <- shadow_work + (new_ke - old_ke)\n",
      "step     10 : old_pe <- energy\n",
      "step     11 : old_ke <- sum(0.5 * m * v * v)\n",
      "step     12 : x <- x + ((dt / 2) * v)\n",
      "step     13 : x1 <- x\n",
      "step     14 : constrain positions\n",
      "step     15 : v <- v + ((x - x1) / (dt / 2))\n",
      "step     16 : constrain velocities\n",
      "step     17 : new_pe <- energy\n",
      "step     18 : new_ke <- sum(0.5 * m * v * v)\n",
      "step     19 : shadow_work <- shadow_work + (new_ke + new_pe) - (old_ke + old_pe)\n",
      "step     20 : old_ke <- sum(0.5 * m * v * v)\n",
      "step     21 : v <- (a * v) + (b * sigma * gaussian)\n",
      "step     22 : constrain velocities\n",
      "step     23 : new_ke <- sum(0.5 * m * v * v)\n",
      "step     24 : proposal_work <- proposal_work + -1*(new_ke - old_ke)\n",
      "step     25 : old_pe <- energy\n",
      "step     26 : old_ke <- sum(0.5 * m * v * v)\n",
      "step     27 : x <- x + ((dt / 2) * v)\n",
      "step     28 : x1 <- x\n",
      "step     29 : constrain positions\n",
      "step     30 : v <- v + ((x - x1) / (dt / 2))\n",
      "step     31 : constrain velocities\n",
      "step     32 : new_pe <- energy\n",
      "step     33 : new_ke <- sum(0.5 * m * v * v)\n",
      "step     34 : shadow_work <- shadow_work + (new_ke + new_pe) - (old_ke + old_pe)\n",
      "step     35 : old_ke <- sum(0.5 * m * v * v)\n",
      "step     36 : v <- v + (dt / 2) * f / m\n",
      "step     37 : constrain velocities\n",
      "step     38 : new_ke <- sum(0.5 * m * v * v)\n",
      "step     39 : shadow_work <- shadow_work + (new_ke - old_ke)\n"
     ]
    },
    {
     "name": "stderr",
     "output_type": "stream",
     "text": [
      "100%|██████████| 10/10 [00:16<00:00,  1.68s/it]"
     ]
    },
    {
     "name": "stdout",
     "output_type": "stream",
     "text": [
      "t0: 0, g: 1.0, Neff_max: 11.0, A_t: [40.58818338 39.48585871 36.66560877 48.40918151 38.27617938 50.86961869\n",
      " 51.75559944 36.18576339 45.24222661 43.85241955], uncorrelated_indices:[0, 1, 2, 3, 4, 5, 6, 7, 8, 9]\n",
      "MOL1-C1\n"
     ]
    },
    {
     "name": "stderr",
     "output_type": "stream",
     "text": [
      "\n",
      "Exception ignored in: <bound method PDBTrajectoryFile.__del__ of <mdtraj.formats.pdb.pdbfile.PDBTrajectoryFile object at 0x7fcc209cb588>>\n",
      "Traceback (most recent call last):\n",
      "  File \"/home/dominic/anaconda3/envs/openmm/lib/python3.6/site-packages/mdtraj/formats/pdb/pdbfile.py\", line 666, in __del__\n",
      "    self.close()\n",
      "  File \"/home/dominic/anaconda3/envs/openmm/lib/python3.6/site-packages/mdtraj/formats/pdb/pdbfile.py\", line 501, in close\n",
      "    self._write_footer()\n",
      "  File \"/home/dominic/anaconda3/envs/openmm/lib/python3.6/site-packages/mdtraj/formats/pdb/pdbfile.py\", line 429, in _write_footer\n",
      "    index1 = atomIndex[atom1]\n",
      "KeyError: (MOL1-C1,)\n"
     ]
    }
   ],
   "source": [
    "#vacuum equilibration\n",
    "endstate_equilibration(system = factory.hybrid_system,\n",
    "                           endstate_positions = factory.hybrid_positions,\n",
    "                           box_vectors = factory.hybrid_system.getDefaultPeriodicBoxVectors(),\n",
    "                           directory_name = 'tester',\n",
    "                           trajectory_prefix = 'eq',\n",
    "                           md_topology = factory.hybrid_topology,\n",
    "                           number_of_applications = 10,\n",
    "                           steps_per_application = 500,\n",
    "                           endstate_parameters = 0.0,\n",
    "                           alchemical_composability = RelativeAlchemicalState)"
   ]
  },
  {
   "cell_type": "markdown",
   "metadata": {},
   "source": [
    "# let's see if we can make an SMC integrator"
   ]
  },
  {
   "cell_type": "code",
   "execution_count": 1,
   "metadata": {},
   "outputs": [],
   "source": [
    "default_functions = {'lambda_sterics_core':\n",
    "                     lambda x: x,\n",
    "                     'lambda_electrostatics_core':\n",
    "                     lambda x: x,\n",
    "                     'lambda_sterics_insert':\n",
    "                     lambda x: 2.0 * x if x < 0.5 else 1.0,\n",
    "                     'lambda_sterics_delete':\n",
    "                     lambda x: 0.0 if x < 0.5 else 2.0 * (x - 0.5),\n",
    "                     'lambda_electrostatics_insert':\n",
    "                     lambda x: 0.0 if x < 0.5 else 2.0 * (x - 0.5),\n",
    "                     'lambda_electrostatics_delete':\n",
    "                     lambda x: 2.0 * x if x < 0.5 else 1.0,\n",
    "                     'lambda_bonds':\n",
    "                     lambda x: x,\n",
    "                     'lambda_angles':\n",
    "                     lambda x: x,\n",
    "                     'lambda_torsions':\n",
    "                     lambda x: x\n",
    "                     }"
   ]
  },
  {
   "cell_type": "code",
   "execution_count": 2,
   "metadata": {},
   "outputs": [],
   "source": [
    "lambda_sequence = {key: [default_functions[key](x) for x in range(500)] for key in default_functions.keys()}"
   ]
  },
  {
   "cell_type": "code",
   "execution_count": null,
   "metadata": {},
   "outputs": [],
   "source": [
    "endstate_cache_filename = 'tester'\n",
    "num_particles=10\n",
    "\n",
    "#determine pressure\n",
    "forces = {type(force).__name__: force for force in system.getForces()}\n",
    "if \"MonteCarloBarostat\" in list(forces.keys()):\n",
    "    pressure = 1.0 * unit.atmosphere\n",
    "else:\n",
    "    pressure = None\n",
    "\n",
    "print(f\"pressure: {pressure}\")\n",
    "\n",
    "traj = md.Trajectory.load(endstate_cache_filename)\n",
    "\n",
    "num_frames = traj.n_frames\n",
    "pdf_state = OpenMMPDFState(system = system, alchemical_composability = alchemical_composability, pressure=pressure)\n",
    "\n",
    "#set the pdf_state endstate parameters\n",
    "pdf_state_parameters = pdf_state.get_parameters()\n",
    "reset_pdf_state_parameters = {key: endstate_parameters for key in pdf_state_parameters.keys()}\n",
    "pdf_state.set_parameters(reset_pdf_state_parameters)\n",
    "\n",
    "#make a target and proposal distribution\n",
    "target_factory = TargetFactory(pdf_state = pdf_state, parameter_sequence = lambda_sequence, termination_parameters = None)\n",
    "integrator = OMMLI()\n",
    "propagator = OMMMBIP(pdf_state, integrator)\n",
    "proposal_factory = ProposalFactory(parameter_sequence = lambda_sequence, propagator=propagator)\n",
    "\n",
    "#make a reporter\n",
    "reporter = OpenMMReporter(directory_name, trajectory_prefix, md_topology = md_topology)\n",
    "\n",
    "#make an integrator and equip a propagator\n",
    "integrator = OMMLI()\n",
    "propagator = OMMMBIP(pdf_state, integrator)\n",
    "\n",
    "#make a bunch of particles\n",
    "particles=[Particle(q) for q in range(num_particles)]\n",
    "for q in range(10):\n",
    "    particle_state = \n",
    "\n"
   ]
  },
  {
   "cell_type": "code",
   "execution_count": null,
   "metadata": {},
   "outputs": [],
   "source": [
    "def SMC_3323()"
   ]
  }
 ],
 "metadata": {
  "kernelspec": {
   "display_name": "Python 3",
   "language": "python",
   "name": "python3"
  },
  "language_info": {
   "codemirror_mode": {
    "name": "ipython",
    "version": 3
   },
   "file_extension": ".py",
   "mimetype": "text/x-python",
   "name": "python",
   "nbconvert_exporter": "python",
   "pygments_lexer": "ipython3",
   "version": "3.6.7"
  }
 },
 "nbformat": 4,
 "nbformat_minor": 4
}
