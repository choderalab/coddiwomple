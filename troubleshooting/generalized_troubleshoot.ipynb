{
 "cells": [
  {
   "cell_type": "markdown",
   "metadata": {},
   "source": [
    "I will attempt to write a generalized SMC with a graph computation network"
   ]
  },
  {
   "cell_type": "code",
   "execution_count": 1,
   "metadata": {},
   "outputs": [],
   "source": [
    "%matplotlib inline\n",
    "\n",
    "import matplotlib\n",
    "import numpy as np\n",
    "import matplotlib.pyplot as plt\n",
    "import seaborn as sns"
   ]
  },
  {
   "cell_type": "code",
   "execution_count": 2,
   "metadata": {},
   "outputs": [],
   "source": [
    "import numpy as np\n",
    "import torch\n",
    "torch.autograd.set_detect_anomaly(True)\n",
    "import tqdm"
   ]
  },
  {
   "cell_type": "code",
   "execution_count": 3,
   "metadata": {},
   "outputs": [],
   "source": [
    "def polynomial_potential(x, hl):\n",
    "    \"\"\"\n",
    "    define a polynomial potential of the form:\n",
    "    hl[1,0]*(x - hl[0,0])**(len(hl[0,:])) + hl[1,1]*(x - hl[0,1])**(len(hl[0,:]) - 1) + ...\n",
    "    \n",
    "    arguments\n",
    "        x : torch.tensor (shape: (1))\n",
    "            position of particle\n",
    "        hl : torch.tensor (shape: (2,N))\n",
    "            'hyper' latent variables; the first row is a set of 'horizontal' offsets and the second row is a set of scaling coefficients;\n",
    "            N is the highest polynomial power of the energy equation\n",
    "    \"\"\"\n",
    "    #check that the shape is appropriate\n",
    "    hl_size = hl.size()\n",
    "    x_size = x.size()\n",
    "    assert hl_size[0] == 2\n",
    "    \n",
    "    power_vector = torch.tensor(range(1, hl_size[1] + 1)[::-1])\n",
    "    differences = x - hl[0,:]\n",
    "    \n",
    "    energy = (hl[1,:]*differences.pow(power_vector)).sum()\n",
    "    \n",
    "    return energy\n",
    "\n",
    "def log_probability(potential):\n",
    "    \"\"\"\n",
    "    generat a log unnormalized probability from a potential\n",
    "    \"\"\"\n",
    "    return torch.exp(-potential)\n"
   ]
  },
  {
   "cell_type": "code",
   "execution_count": 4,
   "metadata": {},
   "outputs": [],
   "source": [
    "def log_gaussian_probability(x, mu, sigma):\n",
    "    \"\"\"\n",
    "    return log(N(x|mu, sigma))\n",
    "    \n",
    "    arguments\n",
    "        x : torch.tensor (shape : (1))\n",
    "            Lebesgue support\n",
    "        mu : torch.tensor (shape : (1))\n",
    "            mean\n",
    "        sigma : torch.tensor (shape : (1))\n",
    "            standard_deviation     \n",
    "    returns\n",
    "        logp : torch.tensor (shape : (1))\n",
    "           log probability measure \n",
    "    \"\"\"\n",
    "    import math\n",
    "    log_unnorm_prob = -(x - mu)**2 / (2 * sigma**2)  \n",
    "    \n",
    "    lognorm = torch.log(sigma * torch.sqrt(torch.tensor(2*math.pi)))\n",
    "    \n",
    "    logp = log_unnorm_prob - lognorm\n",
    "    return logp\n",
    "    \n",
    "    "
   ]
  },
  {
   "cell_type": "code",
   "execution_count": 5,
   "metadata": {},
   "outputs": [],
   "source": [
    "def gaussian_proposal(mu, sigma):\n",
    "    \"\"\"\n",
    "    conduct a gaussian proposal (i.e. x ~ N(mu, sigma)); asserts that mu and sigma are requires_grad==False\n",
    "    \n",
    "    arguments\n",
    "        mu : torch.tensor (shape : (1))\n",
    "            mean\n",
    "        sigma : torch.tensor (shape : (1))\n",
    "            standard_deviation \n",
    "    returns\n",
    "        x : torch.tensor(shape : (1), grad_)\n",
    "            returnable position\n",
    "    \"\"\"\n",
    "    x = sigma * torch.randn(1) + mu\n",
    "    return x\n",
    "    "
   ]
  },
  {
   "cell_type": "code",
   "execution_count": 6,
   "metadata": {},
   "outputs": [],
   "source": [
    "def EL_mu_sigma(x, potential, tau):\n",
    "    \"\"\"\n",
    "    create mu and sigma vars for the euler-maruyama proposal\n",
    "    mu = x - tau * grad(potential)(x)\n",
    "    \"\"\"\n",
    "    try:\n",
    "        x.grad.zero_()\n",
    "    except:\n",
    "        pass\n",
    "    potential.backward()\n",
    "    mu = x - tau * x.grad\n",
    "    sigma = torch.sqrt(2*tau)\n",
    "    x.grad.zero_()\n",
    "    return mu, sigma\n",
    "    \n",
    "    "
   ]
  },
  {
   "cell_type": "code",
   "execution_count": 7,
   "metadata": {},
   "outputs": [],
   "source": [
    "#we should be able to propagate now... let's see if that works\n",
    "x = torch.tensor(0., requires_grad=True)\n",
    "hl = torch.tensor([[0., 0.], [1., 0.]], requires_grad=False)\n",
    "energy = polynomial_potential(x, hl)"
   ]
  },
  {
   "cell_type": "markdown",
   "metadata": {},
   "source": [
    "## Vanilla Brownian Motion on a Polynomial potential"
   ]
  },
  {
   "cell_type": "code",
   "execution_count": 8,
   "metadata": {},
   "outputs": [],
   "source": [
    "def vanilla_polynomial_sampler(x, hl, tau, num_steps):\n",
    "    \"\"\"\n",
    "    run simple, vanilla Euler Maruyama proposals on a constant pdf\n",
    "    \"\"\"\n",
    "    import tqdm\n",
    "    positions = []\n",
    "    assert x.requires_grad\n",
    "    for i in tqdm.trange(num_steps):\n",
    "        energy = polynomial_potential(x, hl)\n",
    "        mu, sigma = EL_mu_sigma(x, energy, tau)\n",
    "        mu_batch, sigma_batch = mu.detach(), sigma.detach()\n",
    "        x = gaussian_proposal(mu_batch, sigma_batch)\n",
    "        positions.append(x.numpy())\n",
    "        x.requires_grad=True\n",
    "    \n",
    "    out = np.array(positions).flatten()\n",
    "    return out\n",
    "        \n",
    "        "
   ]
  },
  {
   "cell_type": "code",
   "execution_count": 9,
   "metadata": {},
   "outputs": [
    {
     "name": "stderr",
     "output_type": "stream",
     "text": [
      "100%|██████████| 1000/1000 [00:03<00:00, 323.73it/s]\n"
     ]
    }
   ],
   "source": [
    "x = torch.tensor(0., requires_grad=True)\n",
    "hl = torch.tensor([[0., 0.], [1., 0.]], requires_grad=False)\n",
    "tau = torch.tensor(5e-2)\n",
    "out_pos = vanilla_polynomial_sampler(x, hl, tau, num_steps=1000)"
   ]
  },
  {
   "cell_type": "code",
   "execution_count": 10,
   "metadata": {},
   "outputs": [
    {
     "data": {
      "text/plain": [
       "[<matplotlib.lines.Line2D at 0x7f84e1142f28>]"
      ]
     },
     "execution_count": 10,
     "metadata": {},
     "output_type": "execute_result"
    },
    {
     "data": {
      "image/png": "[encoded data removed]",
      "text/plain": [
       "<Figure size 432x288 with 1 Axes>"
      ]
     },
     "metadata": {
      "needs_background": "light"
     },
     "output_type": "display_data"
    }
   ],
   "source": [
    "#plt.hist(out_pos)\n",
    "plt.plot(out_pos)"
   ]
  },
  {
   "cell_type": "markdown",
   "metadata": {},
   "source": [
    "## Annealed Importance Sampling between Gaussians"
   ]
  },
  {
   "cell_type": "markdown",
   "metadata": {},
   "source": [
    "In the statistical literature, the geometric path for static models takes the form: $\\gamma_t(dx) \\equiv \\mu (dx) \\left( \\frac{d \\gamma}{d \\mu}  (x)\\right)^{\\lambda_t}$ where $Z_t \\equiv \\gamma_t(\\text{X})$ and $(\\lambda_t)_{t \\in [0:T]} \\in [0,1]^{T+1}$.<br>\n",
    "The Feynman-Kac path measure is recovered when we define potentials\n",
    "$$\n",
    "G_0(x_0) = 1 \n",
    "\\\\\n",
    "G_t(x_{t-1}) = \\frac{\\gamma_t(x_{t-1})}{\\gamma_{t-1}(x_{t-1})}; t \\in [1:T]\n",
    "$$.\n",
    "In this case, the normalizing constant $Z \\equiv Z_T = \\prod_{t=1}^{T} \\left[ \\frac{1}{N} \\sum_{n=1}^N G_t(x_{t-1}^n) \\right]$\n",
    "\n",
    "For numerical stability, and for the sake of those who are restricted to thinking of things in terms of 'energy', we can say that $Z = \\frac{1}{N} \\sum_{n=1}^{N} \\prod_{t=1}^{T} G_t(x_{t-1}^n)$ as long as particle ancestry is static. Interestingly, this is mathematically identical to the Jarzynski Equality, which says\n",
    "$$\n",
    "e^{-f} = \\langle e^{-w} \\rangle\n",
    "$$\n",
    "where $f = - \\log Z$ and $w = -\\log G_t(x_{t-1})$. <br>\n",
    "Notice that we can also use the Crooks Fluctuation Theorem (CFT) (which implies the Jarzynski Equality), but it is worthy of mentioning that the CFT is just a specific case of the Feynman-Kac model (i.e. for static models). I will come back to this when I generalize Annealed Importance Sampling to the static model case.\n",
    "\n",
    "\n"
   ]
  },
  {
   "cell_type": "markdown",
   "metadata": {},
   "source": [
    "For sanity purposes, I am going to plot the prior, the posterior, and a sequence of 98 intermediates..."
   ]
  },
  {
   "cell_type": "code",
   "execution_count": 11,
   "metadata": {},
   "outputs": [],
   "source": [
    "def AIS(hl_prior, hl_posterior, num_particles, tau, num_target_distributions, starting_positions):\n",
    "    \"\"\"\n",
    "    perform AIS with an euler-maruyama propagator on a polynomial potential with priors and posteriors defined accordingly; note, the propagator is not metropolized,\n",
    "    so the target distributions are not exact, but should be close if tau is sufficiently small.\n",
    "    \n",
    "    arguments\n",
    "        hl_prior : torch.tensor (shape: (2,N))\n",
    "            the parameters defining the prior distribution\n",
    "        hl_posterior : torch.tensor (shape: (2,N))\n",
    "            the parameters defining the posterior distribution\n",
    "        num_particles : int\n",
    "            number of particles to propagate\n",
    "        tau : torch.tensor (float)\n",
    "            tau of euler-maruyama\n",
    "        num_target_distributions : int\n",
    "            number of target distributions (including prior and posterior)\n",
    "        starting_positions : torch.tensor (shape: (1,N))\n",
    "            starting positions of the propagator (assumed to be distributed according to the prior)\n",
    "    \n",
    "    returns\n",
    "        positions : torch.tensor (shape: (1,N))\n",
    "            final positions of the particles\n",
    "        works : np.ndarray (shape (num_particles, num_target_distributions))\n",
    "            array of incremental works of the particles\n",
    "            take np.cumsum(works, axis=1) for array of cumulative works\n",
    "        \n",
    "    \"\"\"\n",
    "    works = np.zeros((num_particles, num_target_distributions)) #rows = num_particles, cols = num_target_distributions\n",
    "    positions = starting_positions.clone().detach()\n",
    "    \n",
    "    #define a previous work tensor so that incremental works can be computed without having to recompute previous energy\n",
    "    previous_energies = torch.tensor([polynomial_potential(q, hl_prior) for q in positions])\n",
    "    \n",
    "    #let's do this without presuming we can take grad and hardcode the whole process\n",
    "    for lambda_idx, _lambda in enumerate(tqdm.tqdm(torch.tensor(np.linspace(0., 1., num_target_distributions)[1:]))):\n",
    "        for particle_idx, x in enumerate(positions):\n",
    "            #compute G_t\n",
    "            x.requires_grad=True #so we can get force to propagate\n",
    "            old_energy = polynomial_potential(x, hl_prior) #prior energy\n",
    "            new_energy = polynomial_potential(x, hl_posterior) #posterior energy\n",
    "            geometric_energy_increment = (1. - _lambda)*old_energy + _lambda * new_energy #hybrid_geometric_energy\n",
    "            works[particle_idx, lambda_idx+1] = geometric_energy_increment - previous_energies[particle_idx] #compute incremental work\n",
    "            previous_energies[particle_idx] = geometric_energy_increment #set the previous energy to the new updated work\n",
    "\n",
    "            #propagate\n",
    "            mu, sigma = EL_mu_sigma(x, new_energy, tau)\n",
    "            mu_batch, sigma_batch = mu.detach(), sigma.detach()\n",
    "            new_x = gaussian_proposal(mu_batch, sigma_batch)\n",
    "            positions[particle_idx] = new_x\n",
    "    \n",
    "    return positions, works\n",
    "    "
   ]
  },
  {
   "cell_type": "code",
   "execution_count": 13,
   "metadata": {},
   "outputs": [
    {
     "data": {
      "text/plain": [
       "Text(0, 0.5, '$p(x)$')"
      ]
     },
     "execution_count": 13,
     "metadata": {},
     "output_type": "execute_result"
    },
    {
     "data": {
      "image/png": "[encoded data removed]",
      "text/plain": [
       "<Figure size 432x288 with 1 Axes>"
      ]
     },
     "metadata": {
      "needs_background": "light"
     },
     "output_type": "display_data"
    }
   ],
   "source": [
    "hl_prior = torch.tensor([[-1., 0.], [1., 0.]], requires_grad=False)\n",
    "hl_posterior = torch.tensor([[1., 0.], [1., 0.]], requires_grad=False)\n",
    "mu0, mu1 = torch.tensor(-1), torch.tensor(1)\n",
    "sigma0, sigma1 = torch.tensor(1./np.sqrt(2)), torch.tensor(1./np.sqrt(2))\n",
    "xs = np.linspace(-4, 4, 1000)\n",
    "plt.plot(xs, [torch.exp(log_gaussian_probability(x, mu0, sigma0)) for x in torch.tensor(xs)], label = f\"prior\")\n",
    "plt.plot(xs, [torch.exp(log_gaussian_probability(x, mu1, sigma1)) for x in torch.tensor(xs)], label = f\"posterior\")\n",
    "plt.legend()\n",
    "plt.xlabel(\"$x$\")\n",
    "plt.ylabel(\"$p(x)$\")\n",
    "\n"
   ]
  },
  {
   "cell_type": "code",
   "execution_count": 17,
   "metadata": {},
   "outputs": [
    {
     "name": "stderr",
     "output_type": "stream",
     "text": [
      "100%|██████████| 9/9 [00:03<00:00,  2.76it/s]\n"
     ]
    }
   ],
   "source": [
    "num_particles = 50\n",
    "starting_positions = torch.randn(num_particles)-1\n",
    "positions, first_works = AIS(hl_prior, hl_posterior, num_particles=num_particles, tau=torch.tensor(5e-2), num_target_distributions=10, starting_positions = starting_positions)\n",
    "first_cum_works = np.cumsum(first_works, axis=1)\n",
    "first_final_weights = first_cum_works[:,-1]"
   ]
  },
  {
   "cell_type": "code",
   "execution_count": 18,
   "metadata": {},
   "outputs": [
    {
     "name": "stderr",
     "output_type": "stream",
     "text": [
      "100%|██████████| 49/49 [00:17<00:00,  2.72it/s]\n"
     ]
    }
   ],
   "source": [
    "positions, last_works = AIS(hl_prior, hl_posterior, num_particles=num_particles, tau=torch.tensor(5e-2), num_target_distributions=50, starting_positions = starting_positions)\n",
    "final_cum_works = np.cumsum(last_works, axis=1)\n",
    "final_final_weights = final_cum_works[:,-1]"
   ]
  },
  {
   "cell_type": "code",
   "execution_count": 19,
   "metadata": {},
   "outputs": [
    {
     "data": {
      "text/plain": [
       "<matplotlib.legend.Legend at 0x7f84bf9cdef0>"
      ]
     },
     "execution_count": 19,
     "metadata": {},
     "output_type": "execute_result"
    },
    {
     "data": {
      "image/png": "[encoded data removed]",
      "text/plain": [
       "<Figure size 432x288 with 1 Axes>"
      ]
     },
     "metadata": {
      "needs_background": "light"
     },
     "output_type": "display_data"
    }
   ],
   "source": [
    "sns.distplot(first_final_weights, label = f\"first_works\")\n",
    "sns.distplot(final_final_weights, label = f\"final_works\")\n",
    "plt.legend()"
   ]
  },
  {
   "cell_type": "markdown",
   "metadata": {},
   "source": [
    "So, it looks like we are able to recapitulate appropriate results (the free energy should be zero);<br>\n",
    "we can also do this in the backward direction and use the maximum likelihood measure  (known as BAR), but i am not going to anneal in the backward directions since this seems to work rather well"
   ]
  },
  {
   "cell_type": "markdown",
   "metadata": {},
   "source": [
    "The next thing I am going to do is write the generalized SMC algorithm (without resampling) with the _explicit_ $G_0$ and $G_t$ potential in terms of the Feynman-Kac model so that we can perhaps adapt it slightly and perform variational SMC on a static model."
   ]
  },
  {
   "cell_type": "markdown",
   "metadata": {},
   "source": [
    "A few notes on the following function:\n",
    "- it should be clear at this point that we don't need to be able to take the derivative of any particle weights w.r.t. the particle position; the particle position is only `requires_grad=True` when it is explicitly invoked for a force computation (i.e. to conduct an Euler-Maruyama proposal)\n",
    "- each $G_t$ potential, or incremental weight, should be appended to a list so that we _always_ have direct ability to manipulate the variable (if we modify a term)\n"
   ]
  },
  {
   "cell_type": "code",
   "execution_count": null,
   "metadata": {},
   "outputs": [],
   "source": []
  },
  {
   "cell_type": "code",
   "execution_count": 20,
   "metadata": {},
   "outputs": [
    {
     "ename": "SyntaxError",
     "evalue": "unexpected EOF while parsing (<ipython-input-20-946afc61666f>, line 43)",
     "output_type": "error",
     "traceback": [
      "\u001b[0;36m  File \u001b[0;32m\"<ipython-input-20-946afc61666f>\"\u001b[0;36m, line \u001b[0;32m43\u001b[0m\n\u001b[0;31m    \u001b[0m\n\u001b[0m    ^\u001b[0m\n\u001b[0;31mSyntaxError\u001b[0m\u001b[0;31m:\u001b[0m unexpected EOF while parsing\n"
     ]
    }
   ],
   "source": [
    "def no_resample_generalized_smc(hls_target, hls_K, hls_L, num_particles, taus_L, taus_K, starting_positions):\n",
    "    \"\"\"\n",
    "    in the interest of experimenting with the current capabilities of pytorchy computation graphs, i have a\n",
    "    generalized smc method that _should_ be compatible with variational SMC, but does not resample.\n",
    "    the reason i am doing this right now is that i want to be able to extend this bidirectionally and use an MLE estimator\n",
    "    for the free energy, but it is not clear to me right now how to do that with resampling.\n",
    "    \n",
    "    Later, i will hopefully put this all together in a single pytorchy SMC class\n",
    "    \n",
    "    arguments\n",
    "        hls_target : list(torch.tensor (shape: (2,target_i)))\n",
    "            the parameters defining sequence of distributions and \n",
    "        hls_K : list(torch.tensor (shape: (2,hls_K_i)))\n",
    "            the parameters defining the sequence of forward kernels\n",
    "        hls_L : list(torch.tensor (shape: (2, hls_L_i)))\n",
    "            the parameters defining the sequence of backward kernels        \n",
    "        num_particles : int\n",
    "            number of particles to propagate\n",
    "        taus_L : list(torch.tensor (float))\n",
    "            taus of euler-maruyama backward kernels\n",
    "        taus_K : list(torch.tensor (float))\n",
    "            taus of euler-maruyama forward kernels\n",
    "        starting_positions : torch.tensor (shape: (1,N))\n",
    "            starting positions of the propagator (assumed to be distributed according to the prior)\n",
    "    \n",
    "    returns\n",
    "        positions : torch.tensor (shape: (1,N))\n",
    "            final positions of the particles\n",
    "        works : np.ndarray (shape (num_particles, num_target_distributions))\n",
    "            array of incremental works of the particles\n",
    "            take np.cumsum(works, axis=1) for array of cumulative works\n",
    "    \n",
    "    NOTE: every 'list' argument is required to be the same length; each entry are the parameters needed for \\gamma_t, L_t\n",
    "    \"\"\"\n",
    "    positions = starting_positions.clone().detach() #requires_grad=False, but we will re-enable in the propagation\n",
    "    log_Gs = [] #initialize with an empty list\n",
    "    \n",
    "    #NOTE : for static models, \\eta_0 and mu_0 (the pdfs of the first FK path measure and the Markov Chain Law initial pdf)\n",
    "    #       are sampled from the same pdf, so the log G_0 = 0. (per usual)\n",
    "    \n",
    "    #this time, we'll just run the algorithm independently for each particle; maybe it will save time \n",
    "    for particle_idx in range(positions): #run the Markov Chain for each particle\n",
    "        for t in range()\n",
    "        position = positions[_idx]\n",
    "        hl_L = hls_L[_idx]\n",
    "        hl_K = hls_K[_idx]\n",
    "        hl_gamma_old[]\n",
    "        \n",
    "        new_position, logG = SMC_iteration(position, hl_L, hl_K, hl_gamma_old, hl_gamma_new)\n",
    "        \n",
    "            \n",
    "    "
   ]
  },
  {
   "cell_type": "code",
   "execution_count": 21,
   "metadata": {},
   "outputs": [],
   "source": [
    "def SMC_iteration(position, hl_L, hl_K, hl_gamma_old, hl_gamma_new):\n",
    "    \"\"\"\n",
    "    conduct a single iteration of SMC for a single particle\n",
    "    for static models, G_t = frac{\\gamma_t(dx_t) L_{t-1}(x_t, dx_{t-1})}{\\gamma_{t-1}(dx_{t-1}) K_t(x_{t-1}, dx_t)}\n",
    "    \n",
    "    arguments\n",
    "        position : torch.tensor(float) (requires_grad=False)\n",
    "            x_{t-1}\n",
    "        hl_L : torch.tensor (shape : (2, N_L))\n",
    "            parameters defining invariant target distribution for L_{t-1}\n",
    "        hl_K : torch.tensor (shape : (2, N_K))\n",
    "            parameters defining invariant target distribution for K_t\n",
    "        hl_gamma : torch.tensor (shape : (2, N_gamma))\n",
    "            parameters defining invariant target for \\gamma_t\n",
    "        tau_L : torch.tensor(float)\n",
    "            tau of the backward kernel L_{t-1}\n",
    "        tau_K : torch.tensor(float)\n",
    "            tau of the forward kernel K_t\n",
    "    \n",
    "    returns\n",
    "        logG_t : torch.tensor(float)\n",
    "            log of the potential G_t (-work)\n",
    "        position : torch.tensor(float) (requires_grad=False)\n",
    "            new position after K_t propagation\n",
    "    \"\"\"\n",
    "    #make a proposal with K_t from x_{t-1}\n",
    "    old_position = position.clone().detach()\n",
    "    old_position.requires_grad=True #make it 'derivitable w.r.t. potential'\n",
    "    K_energy = polynomial_potential(old_position, hl_K)\n",
    "    mu_K, sigma_K = EL_mu_sigma(old_position, K_energy, tau_K)\n",
    "    new_position = gaussian_proposal(mu_K, sigma_K)\n",
    "    \n",
    "    #determine log_K\n",
    "    log_K = log_gaussian_probability(new_position.clone().detach(), mu_K, sigma_K) #log_K is easy\n",
    "    \n",
    "    #determine log_L\n",
    "    L_new_position = new_position.clone()\n",
    "    L_energy = polynomial_potential(L_new_position)\n",
    "    mu_L, sigma_L = EL_mu_sigma(L_new_position, L_energy, tau_L)\n",
    "    log_L = log_gaussian_probability(position.clone().detach(), mu_L, sigma_L)\n",
    "    \n",
    "    #logG = log(\\gamma_t(x_t)) + log(L_{t-1}(x_t, {dx_{t-1}})) - [ log(\\gamma_{t-1}(x_{t-1})) + log(K_t(x_{t-1}, dx_t))  ]\n",
    "    logG = (-polynomial_potential(new_position.clone().detach(), hl_gamma_new)\n",
    "            + log_L\n",
    "            - (-polynomial_potential(old_position.clone().detach(), hl_gamma_old)\n",
    "               + log_K)\n",
    "           )\n",
    "    \n",
    "    return new_position, logG   "
   ]
  },
  {
   "cell_type": "code",
   "execution_count": null,
   "metadata": {},
   "outputs": [],
   "source": []
  }
 ],
 "metadata": {
  "kernelspec": {
   "display_name": "Python 3",
   "language": "python",
   "name": "python3"
  },
  "language_info": {
   "codemirror_mode": {
    "name": "ipython",
    "version": 3
   },
   "file_extension": ".py",
   "mimetype": "text/x-python",
   "name": "python",
   "nbconvert_exporter": "python",
   "pygments_lexer": "ipython3",
   "version": "3.6.7"
  }
 },
 "nbformat": 4,
 "nbformat_minor": 4
}
