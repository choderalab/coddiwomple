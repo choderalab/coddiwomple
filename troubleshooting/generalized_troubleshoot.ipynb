{
 "cells": [
  {
   "cell_type": "markdown",
   "metadata": {},
   "source": [
    "I will attempt to write a generalized SMC with a graph computation network"
   ]
  },
  {
   "cell_type": "code",
   "execution_count": 15,
   "metadata": {},
   "outputs": [],
   "source": [
    "%matplotlib inline\n",
    "\n",
    "import matplotlib\n",
    "import numpy as np\n",
    "import matplotlib.pyplot as plt\n",
    "import seaborn as sns"
   ]
  },
  {
   "cell_type": "code",
   "execution_count": 16,
   "metadata": {},
   "outputs": [],
   "source": [
    "import numpy as np\n",
    "import torch\n",
    "torch.autograd.set_detect_anomaly(True)\n",
    "import tqdm"
   ]
  },
  {
   "cell_type": "code",
   "execution_count": 17,
   "metadata": {},
   "outputs": [],
   "source": [
    "def polynomial_potential(x, hl):\n",
    "    \"\"\"\n",
    "    define a polynomial potential of the form:\n",
    "    hl[1,0]*(x - hl[0,0])**(len(hl[0,:])) + hl[1,1]*(x - hl[0,1])**(len(hl[0,:]) - 1) + ...\n",
    "    \n",
    "    arguments\n",
    "        x : torch.tensor (shape: (1))\n",
    "            position of particle\n",
    "        hl : torch.tensor (shape: (2,N))\n",
    "            'hyper' latent variables; the first row is a set of 'horizontal' offsets and the second row is a set of scaling coefficients;\n",
    "            N is the highest polynomial power of the energy equation\n",
    "    \"\"\"\n",
    "    #check that the shape is appropriate\n",
    "    hl_size = hl.size()\n",
    "    x_size = x.size()\n",
    "    assert hl_size[0] == 2\n",
    "    \n",
    "    power_vector = torch.tensor(range(1, hl_size[1] + 1)[::-1])\n",
    "    differences = x - hl[0,:]\n",
    "    \n",
    "    energy = (hl[1,:]*differences.pow(power_vector)).sum()\n",
    "    \n",
    "    return energy\n",
    "\n",
    "def polynomial_derivative(x, hl):\n",
    "    \"\"\"\n",
    "    define the derivative of the polynomial potential\n",
    "    \n",
    "    arguments\n",
    "        x : torch.tensor (shape: (1))\n",
    "            position of particle\n",
    "        hl : torch.tensor (shape: (2,N))\n",
    "            'hyper' latent variables; the first row is a set of 'horizontal' offsets and the second row is a set of scaling coefficients;\n",
    "            N is the highest polynomial power of the energy equation\n",
    "    \"\"\"\n",
    "    #check that the shape is appropriate\n",
    "    hl_size = hl.size()\n",
    "    x_size = x.size()\n",
    "    assert hl_size[0] == 2\n",
    "    \n",
    "    power_vector = torch.tensor(range(0, hl_size[1])[::-1])\n",
    "    new_coeffs =  torch.tensor(range(1, hl_size[1] + 1)[::-1])\n",
    "    differences = x - hl[0,:]\n",
    "    \n",
    "    der = (hl[1,:]*new_coeffs*differences.pow(power_vector)).sum()\n",
    "    return der\n",
    "\n",
    "def test_poly_der(x = torch.randn(1, requires_grad=True), hl = torch.randn(2, 5)):\n",
    "    u = polynomial_potential(x, hl)\n",
    "    u.backward()\n",
    "    assert np.isclose(x.grad.item(), polynomial_derivative(x, hl).item())\n",
    "    \n",
    "test_poly_der()\n",
    "\n",
    "def log_probability(potential):\n",
    "    \"\"\"\n",
    "    generat a log unnormalized probability from a potential\n",
    "    \"\"\"\n",
    "    return torch.exp(-potential)\n"
   ]
  },
  {
   "cell_type": "code",
   "execution_count": 18,
   "metadata": {},
   "outputs": [],
   "source": [
    "def exponential_average(works, bootstrap_resamples=None):\n",
    "    \"\"\"\n",
    "    conduct an exponential average for the free energy in the spirit of the Jarzynski Equality;\n",
    "    \n",
    "    arguments\n",
    "        works : torch.tensor(shape : (1, N)))\n",
    "            list of sum(-logG_ts)\n",
    "        bootstrap_resamples : int, default None\n",
    "            the number of bootstrap resamples to compute an error estimate of the free energy; \n",
    "            if None, error of zero will be returned\n",
    "    returns\n",
    "        free_energy : torch.tensor(float)\n",
    "            free energy estimate\n",
    "        stddev : torch.tensor(float)\n",
    "            stddev of free energy estimator\n",
    "    \"\"\"\n",
    "    logZ = torch.logsumexp(-works, 0) - torch.tensor(np.log(len(works)))\n",
    "    \n",
    "    mod_works = works.clone().detach()\n",
    "    if bootstrap_resamples is not None:\n",
    "        mean_statistics = []\n",
    "        for bs in range(bootstrap_resamples):\n",
    "            random_indices = np.random.choice(range(len(works)), len(works))\n",
    "            subsample_stat = torch.tensor([mod_works[i] for i in random_indices])\n",
    "            mean_statistic = torch.logsumexp(-subsample_stat, 0)\n",
    "            mean_statistics.append(mean_statistic.item() - torch.tensor(np.log(len(works))))\n",
    "        stddev = np.std(np.array(mean_statistics))\n",
    "    else:\n",
    "        stddev = 0.\n",
    "    \n",
    "    return -logZ, stddev\n",
    "    "
   ]
  },
  {
   "cell_type": "code",
   "execution_count": 19,
   "metadata": {},
   "outputs": [],
   "source": [
    "def log_gaussian_probability(x, mu, sigma):\n",
    "    \"\"\"\n",
    "    return log(N(x|mu, sigma))\n",
    "    \n",
    "    arguments\n",
    "        x : torch.tensor (shape : (1))\n",
    "            Lebesgue support\n",
    "        mu : torch.tensor (shape : (1))\n",
    "            mean\n",
    "        sigma : torch.tensor (shape : (1))\n",
    "            standard_deviation     \n",
    "    returns\n",
    "        logp : torch.tensor (shape : (1))\n",
    "           log probability measure \n",
    "    \"\"\"\n",
    "    import math\n",
    "    log_unnorm_prob = -(x - mu)**2 / (2 * sigma**2)  \n",
    "    \n",
    "    lognorm = torch.log(sigma * torch.sqrt(torch.tensor(2*math.pi)))\n",
    "    \n",
    "    logp = log_unnorm_prob - lognorm\n",
    "    return logp\n",
    "    \n",
    "    "
   ]
  },
  {
   "cell_type": "code",
   "execution_count": 20,
   "metadata": {},
   "outputs": [],
   "source": [
    "def gaussian_proposal(mu, sigma):\n",
    "    \"\"\"\n",
    "    conduct a gaussian proposal (i.e. x ~ N(mu, sigma)); asserts that mu and sigma are requires_grad==False\n",
    "    \n",
    "    arguments\n",
    "        mu : torch.tensor (shape : (1))\n",
    "            mean\n",
    "        sigma : torch.tensor (shape : (1))\n",
    "            standard_deviation \n",
    "    returns\n",
    "        x : torch.tensor(shape : (1), grad_)\n",
    "            returnable position\n",
    "    \"\"\"\n",
    "    x = sigma * torch.randn(1) + mu\n",
    "    return x\n",
    "    "
   ]
  },
  {
   "cell_type": "code",
   "execution_count": 21,
   "metadata": {},
   "outputs": [],
   "source": [
    "def EL_mu_sigma(x, potential, tau):\n",
    "    \"\"\"\n",
    "    create mu and sigma vars for the euler-maruyama proposal\n",
    "    mu = x - tau * grad(potential)(x)\n",
    "    \"\"\"\n",
    "    try:\n",
    "        x.grad.zero_()\n",
    "    except:\n",
    "        pass\n",
    "    potential.backward()\n",
    "    mu = x.clone().detach() - tau * x.grad\n",
    "    sigma = torch.sqrt(2*tau)\n",
    "    x.grad.zero_()\n",
    "    return mu, sigma\n",
    "\n",
    "def EL_mu_sigma_from_derivative(x, derivative, tau):\n",
    "    mu = x - tau * derivative\n",
    "    sigma = torch.sqrt(2*tau)\n",
    "    return mu, sigma\n",
    "    \n",
    "    \n",
    "    "
   ]
  },
  {
   "cell_type": "code",
   "execution_count": 22,
   "metadata": {},
   "outputs": [
    {
     "data": {
      "text/plain": [
       "tensor([-2.5892,  1.1238,  0.5918])"
      ]
     },
     "execution_count": 22,
     "metadata": {},
     "output_type": "execute_result"
    }
   ],
   "source": [
    "a = torch.randn(3,3)\n",
    "a[0]"
   ]
  },
  {
   "cell_type": "code",
   "execution_count": 23,
   "metadata": {},
   "outputs": [],
   "source": [
    "#we should be able to propagate now... let's see if that works\n",
    "x = torch.tensor(0., requires_grad=True)\n",
    "hl = torch.tensor([[0., 0.], [1., 0.]], requires_grad=False)\n",
    "energy = polynomial_potential(x, hl)"
   ]
  },
  {
   "cell_type": "markdown",
   "metadata": {},
   "source": [
    "## Vanilla Brownian Motion on a Polynomial potential"
   ]
  },
  {
   "cell_type": "code",
   "execution_count": 24,
   "metadata": {},
   "outputs": [],
   "source": [
    "def vanilla_polynomial_sampler(x, hl, tau, num_steps):\n",
    "    \"\"\"\n",
    "    run simple, vanilla Euler Maruyama proposals on a constant pdf\n",
    "    \"\"\"\n",
    "    import tqdm\n",
    "    positions = []\n",
    "    assert x.requires_grad\n",
    "    for i in tqdm.trange(num_steps):\n",
    "        energy = polynomial_potential(x, hl)\n",
    "        mu, sigma = EL_mu_sigma(x, energy, tau)\n",
    "        mu_batch, sigma_batch = mu.detach(), sigma.detach()\n",
    "        x = gaussian_proposal(mu_batch, sigma_batch)\n",
    "        positions.append(x.numpy())\n",
    "        x.requires_grad=True\n",
    "    \n",
    "    out = np.array(positions).flatten()\n",
    "    return out\n",
    "        \n",
    "        "
   ]
  },
  {
   "cell_type": "code",
   "execution_count": 25,
   "metadata": {},
   "outputs": [
    {
     "name": "stderr",
     "output_type": "stream",
     "text": [
      "100%|██████████| 1000/1000 [00:02<00:00, 373.96it/s]\n"
     ]
    }
   ],
   "source": [
    "x = torch.tensor(0., requires_grad=True)\n",
    "hl = torch.tensor([[0., 0.], [1., 0.]], requires_grad=False)\n",
    "tau = torch.tensor(5e-2)\n",
    "out_pos = vanilla_polynomial_sampler(x, hl, tau, num_steps=1000)"
   ]
  },
  {
   "cell_type": "code",
   "execution_count": 26,
   "metadata": {},
   "outputs": [
    {
     "data": {
      "text/plain": [
       "[<matplotlib.lines.Line2D at 0x7fa9ddc06550>]"
      ]
     },
     "execution_count": 26,
     "metadata": {},
     "output_type": "execute_result"
    },
    {
     "data": {
      "image/png": "[encoded data removed]",
      "text/plain": [
       "<Figure size 432x288 with 1 Axes>"
      ]
     },
     "metadata": {
      "needs_background": "light"
     },
     "output_type": "display_data"
    }
   ],
   "source": [
    "#plt.hist(out_pos)\n",
    "plt.plot(out_pos)"
   ]
  },
  {
   "cell_type": "markdown",
   "metadata": {},
   "source": [
    "## Annealed Importance Sampling between Gaussians"
   ]
  },
  {
   "cell_type": "markdown",
   "metadata": {},
   "source": [
    "In the statistical literature, the geometric path for static models takes the form: $\\gamma_t(dx) \\equiv \\mu (dx) \\left( \\frac{d \\gamma}{d \\mu}  (x)\\right)^{\\lambda_t}$ where $Z_t \\equiv \\gamma_t(\\text{X})$ and $(\\lambda_t)_{t \\in [0:T]} \\in [0,1]^{T+1}$.<br>\n",
    "The Feynman-Kac path measure is recovered when we define potentials\n",
    "$$\n",
    "G_0(x_0) = 1 \n",
    "\\\\\n",
    "G_t(x_{t-1}) = \\frac{\\gamma_t(x_{t-1})}{\\gamma_{t-1}(x_{t-1})}; t \\in [1:T]\n",
    "$$.\n",
    "In this case, the normalizing constant $Z \\equiv Z_T = \\prod_{t=1}^{T} \\left[ \\frac{1}{N} \\sum_{n=1}^N G_t(x_{t-1}^n) \\right]$\n",
    "\n",
    "For numerical stability, and for the sake of those who are restricted to thinking of things in terms of 'energy', we can say that $Z = \\frac{1}{N} \\sum_{n=1}^{N} \\prod_{t=1}^{T} G_t(x_{t-1}^n)$ as long as particle ancestry is static. Interestingly, this is mathematically identical to the Jarzynski Equality, which says\n",
    "$$\n",
    "e^{-f} = \\langle e^{-w} \\rangle\n",
    "$$\n",
    "where $f = - \\log Z$ and $w = -\\log G_t(x_{t-1})$. <br>\n",
    "Notice that we can also use the Crooks Fluctuation Theorem (CFT) (which implies the Jarzynski Equality), but it is worthy of mentioning that the CFT is just a specific case of the Feynman-Kac model (i.e. for static models). I will come back to this when I generalize Annealed Importance Sampling to the static model case.\n",
    "\n",
    "\n"
   ]
  },
  {
   "cell_type": "markdown",
   "metadata": {},
   "source": [
    "For sanity purposes, I am going to plot the prior, the posterior, and a sequence of 98 intermediates..."
   ]
  },
  {
   "cell_type": "code",
   "execution_count": 27,
   "metadata": {},
   "outputs": [],
   "source": [
    "def AIS(hl_prior, hl_posterior, num_particles, tau, num_target_distributions, starting_positions):\n",
    "    \"\"\"\n",
    "    perform AIS with an euler-maruyama propagator on a polynomial potential with priors and posteriors defined accordingly; note, the propagator is not metropolized,\n",
    "    so the target distributions are not exact, but should be close if tau is sufficiently small.\n",
    "    \n",
    "    arguments\n",
    "        hl_prior : torch.tensor (shape: (2,N))\n",
    "            the parameters defining the prior distribution\n",
    "        hl_posterior : torch.tensor (shape: (2,N))\n",
    "            the parameters defining the posterior distribution\n",
    "        num_particles : int\n",
    "            number of particles to propagate\n",
    "        tau : torch.tensor (float)\n",
    "            tau of euler-maruyama\n",
    "        num_target_distributions : int\n",
    "            number of target distributions (including prior and posterior)\n",
    "        starting_positions : torch.tensor (shape: (1,N))\n",
    "            starting positions of the propagator (assumed to be distributed according to the prior)\n",
    "    \n",
    "    returns\n",
    "        positions : torch.tensor (shape: (1,N))\n",
    "            final positions of the particles\n",
    "        works : np.ndarray (shape (num_particles, num_target_distributions))\n",
    "            array of incremental works of the particles\n",
    "            take np.cumsum(works, axis=1) for array of cumulative works\n",
    "        \n",
    "    \"\"\"\n",
    "    works = np.zeros((num_particles, num_target_distributions)) #rows = num_particles, cols = num_target_distributions\n",
    "    positions = starting_positions.clone().detach()\n",
    "    \n",
    "    #define a previous work tensor so that incremental works can be computed without having to recompute previous energy\n",
    "    previous_energies = torch.tensor([polynomial_potential(q, hl_prior) for q in positions])\n",
    "    \n",
    "    #let's do this without presuming we can take grad and hardcode the whole process\n",
    "    for particle_idx in tqdm.trange(len(positions)):\n",
    "        x = positions[particle_idx]\n",
    "        for lambda_idx, _lambda in enumerate(torch.tensor(np.linspace(0., 1., num_target_distributions)[1:])):\n",
    "            old_energy = polynomial_potential(x, hl_prior) #prior energy\n",
    "            new_energy = polynomial_potential(x, hl_posterior) #posterior energy\n",
    "            geometric_energy_increment = (1. - _lambda)*old_energy + _lambda * new_energy #hybrid_geometric_energy\n",
    "            if lambda_idx == num_target_distributions - 1: #just a sanity check\n",
    "                assert new_energy.item() == geometric_energy_increment.item()\n",
    "            \n",
    "            works[particle_idx, lambda_idx+1] = geometric_energy_increment - previous_energies[particle_idx] #compute incremental work\n",
    "            previous_energies[particle_idx] = geometric_energy_increment #set the previous energy to the new updated work\n",
    "            \n",
    "            #propagate\n",
    "            old_derivative, new_derivative = polynomial_derivative(x, hl_prior), polynomial_derivative(x, hl_posterior)\n",
    "            hybrid_derivative = (1. - _lambda)*old_derivative + _lambda * new_derivative\n",
    "            mu, sigma = EL_mu_sigma_from_derivative(x, hybrid_derivative, tau) #take derivative w.r.t. geometric energy increment\n",
    "            x = gaussian_proposal(mu, sigma)\n",
    "            \n",
    "            #add a consideration for the 'shadow work' here... (i.e. the ratio of proposals)\n",
    "    \n",
    "    return positions, works\n",
    "    "
   ]
  },
  {
   "cell_type": "code",
   "execution_count": 28,
   "metadata": {},
   "outputs": [
    {
     "data": {
      "text/plain": [
       "Text(0, 0.5, '$p(x)$')"
      ]
     },
     "execution_count": 28,
     "metadata": {},
     "output_type": "execute_result"
    },
    {
     "data": {
      "image/png": "[encoded data removed]",
      "text/plain": [
       "<Figure size 432x288 with 1 Axes>"
      ]
     },
     "metadata": {
      "needs_background": "light"
     },
     "output_type": "display_data"
    }
   ],
   "source": [
    "hl_prior = torch.tensor([[-1., 0.], [1., 0.]], requires_grad=False)\n",
    "hl_posterior = torch.tensor([[1., 0.], [1., 0.]], requires_grad=False)\n",
    "mu0, mu1 = torch.tensor(-1), torch.tensor(1)\n",
    "sigma0, sigma1 = torch.tensor(1./np.sqrt(2)), torch.tensor(1./np.sqrt(2))\n",
    "xs = np.linspace(-4, 4, 1000)\n",
    "plt.plot(xs, [torch.exp(log_gaussian_probability(x, mu0, sigma0)) for x in torch.tensor(xs)], label = f\"prior\")\n",
    "plt.plot(xs, [torch.exp(log_gaussian_probability(x, mu1, sigma1)) for x in torch.tensor(xs)], label = f\"posterior\")\n",
    "plt.legend()\n",
    "plt.xlabel(\"$x$\")\n",
    "plt.ylabel(\"$p(x)$\")"
   ]
  },
  {
   "cell_type": "code",
   "execution_count": 29,
   "metadata": {},
   "outputs": [
    {
     "name": "stderr",
     "output_type": "stream",
     "text": [
      "100%|██████████| 100/100 [00:00<00:00, 465.60it/s]\n",
      "100%|██████████| 100/100 [00:00<00:00, 437.53it/s]"
     ]
    },
    {
     "name": "stdout",
     "output_type": "stream",
     "text": [
      "0.33569673180047277 0.21051347073147678\n"
     ]
    },
    {
     "name": "stderr",
     "output_type": "stream",
     "text": [
      "\n"
     ]
    }
   ],
   "source": [
    "num_particles = 100\n",
    "from pymbar.bar import BAR\n",
    "hl_prior = torch.tensor([[-1., 0.], [1., 0.]], requires_grad=False)\n",
    "hl_posterior = torch.tensor([[1., 0.], [1., 0.]], requires_grad=False)\n",
    "starting_positions = sigma0*torch.randn(num_particles)-1\n",
    "ending_positions = sigma1*torch.randn(num_particles)+1\n",
    "forward_positions, forward_works = AIS(hl_prior, hl_posterior, num_particles=num_particles, tau=torch.tensor(1e-2), num_target_distributions=10, starting_positions = starting_positions)\n",
    "backward_positions, backward_works = AIS(hl_posterior, hl_prior, num_particles=num_particles, tau=torch.tensor(1e-2), num_target_distributions=10, starting_positions = ending_positions)\n",
    "forward_cum_works = np.cumsum(forward_works, axis=1)\n",
    "backward_cum_works = np.cumsum(backward_works, axis=1)\n",
    "df, ddf = BAR(forward_cum_works[:,-1], backward_cum_works[:,-1])\n",
    "print(df, ddf)"
   ]
  },
  {
   "cell_type": "code",
   "execution_count": 30,
   "metadata": {},
   "outputs": [
    {
     "data": {
      "text/plain": [
       "<matplotlib.axes._subplots.AxesSubplot at 0x7fa9ddb1bf60>"
      ]
     },
     "execution_count": 30,
     "metadata": {},
     "output_type": "execute_result"
    },
    {
     "data": {
      "image/png": "[encoded data removed]",
      "text/plain": [
       "<Figure size 432x288 with 1 Axes>"
      ]
     },
     "metadata": {
      "needs_background": "light"
     },
     "output_type": "display_data"
    }
   ],
   "source": [
    "sns.distplot(forward_cum_works[:,-1])\n",
    "sns.distplot(-backward_cum_works[:,-1])"
   ]
  },
  {
   "cell_type": "markdown",
   "metadata": {},
   "source": [
    "So, it looks like we are able to recapitulate appropriate results (the free energy should be zero);<br>\n",
    "we can also do this in the backward direction and use the maximum likelihood measure  (known as BAR), but i am not going to anneal in the backward directions since this seems to work rather well"
   ]
  },
  {
   "cell_type": "markdown",
   "metadata": {},
   "source": [
    "The next thing I am going to do is write the generalized SMC algorithm (without resampling) with the _explicit_ $G_0$ and $G_t$ potential in terms of the Feynman-Kac model so that we can perhaps adapt it slightly and perform variational SMC on a static model."
   ]
  },
  {
   "cell_type": "markdown",
   "metadata": {},
   "source": [
    "A few notes on the following function:\n",
    "- it should be clear at this point that we don't need to be able to take the derivative of any particle weights w.r.t. the particle position; the particle position is only `requires_grad=True` when it is explicitly invoked for a force computation (i.e. to conduct an Euler-Maruyama proposal)\n",
    "- each $G_t$ potential, or incremental weight, should be appended to a list so that we _always_ have direct ability to manipulate the variable (if we modify a term)\n"
   ]
  },
  {
   "cell_type": "code",
   "execution_count": 31,
   "metadata": {},
   "outputs": [],
   "source": [
    "def no_resample_generalized_smc(hls_targets, hls_M, hls_L, num_particles, taus_L, taus_M, positions):\n",
    "    \"\"\"\n",
    "    in the interest of experimenting with the current capabilities of pytorchy computation graphs, i have a\n",
    "    generalized smc method that _should_ be compatible with variational SMC, but does not resample.\n",
    "    the reason i am doing this right now is that i want to be able to extend this bidirectionally and use an MLE estimator\n",
    "    for the free energy, but it is not clear to me right now how to do that with resampling.\n",
    "    \n",
    "    Later, i will hopefully put this all together in a single pytorchy SMC class\n",
    "    \n",
    "    arguments\n",
    "        hls_targets : list(torch.tensor (shape: (2,target_i))) of length num_distributions \n",
    "            the parameters defining sequence of distributions and \n",
    "        hls_M : list(torch.tensor (shape : (2, N_M))) of length (num_distributions-1)\n",
    "            parameters defining invariant target distribution for M_t\n",
    "        hls_L : list(torch.tensor (shape : (2, N_M))) of length (num_distributions-1)\n",
    "            parameters defining invariant target distribution for M_t  \n",
    "        num_particles : int\n",
    "            number of particles to propagate\n",
    "        taus_L : list(torch.tensor(float))\n",
    "            taus of euler-maruyama backward kernels\n",
    "        taus_M : list(torch.tensor (float)))\n",
    "            taus of euler-maruyama forward kernels\n",
    "        positions : torch.tensor (shape: (1,N))\n",
    "            starting positions of the propagator (assumed to be distributed according to the prior)\n",
    "    \n",
    "    returns\n",
    "        logged_positions : torch.tensor (shape: (N, len(taus_L + 1))\n",
    "            final positions of the particles\n",
    "        log_weights : list (shape (num_particles, 1))\n",
    "            array of cumulative log_weights of particles\n",
    "    \n",
    "    NOTE: \n",
    "        - L_ts and corresponding taus_L are in ascending order [from 0 to T-1]; taus_L follow\n",
    "        - M_ts and corresponding taus_M are in ascending order [from 1 to T]; taus_M follow\n",
    "        - the hls_targets are in ascending order from [0 to T]\n",
    "        - the only _real_ restriction is that hl_targets[-1] corresponds to the posterior\n",
    "    \"\"\"\n",
    "    \n",
    "    #some check assertions; the length of targets is one greater than the length of Ms, Ls\n",
    "    assert len(hls_targets) == len(hls_M) + 1\n",
    "    assert len(hls_M) == len(hls_L)\n",
    "    assert len(taus_M) == len(taus_L)\n",
    "    assert len(taus_M) == len(hls_M)\n",
    "    \n",
    "    \n",
    "    #NOTE : for static models, \\eta_0 and mu_0 (the pdfs of the first FK path measure and the Markov Chain Law initial pdf)\n",
    "    #       are sampled from the same pdf, so the log G_0 = 0. (per usual)\n",
    "    \n",
    "    #this time, we'll just run the algorithm independently for each particle; maybe it will save time \n",
    "    log_weights = torch.zeros(len(positions))\n",
    "    logged_positions = torch.zeros(len(positions), len(hls_targets))\n",
    "    logged_positions[:,0] = positions\n",
    "    \n",
    "    for particle_idx in tqdm.trange(len(positions)): #run the Markov Chain for each particle\n",
    "        old_position = logged_positions[particle_idx,0]\n",
    "        cumulative_logGs = torch.zeros(len(hls_targets)-1)\n",
    "        for t in range(1, len(hls_targets)): #we do iteration from t=1 to T\n",
    "            gamma_new = hls_targets[t] #pull current target params\n",
    "            gamma_old = hls_targets[t-1] #pull previous target params\n",
    "            L_params, L_tau = hls_L[t-1], taus_L[t-1] #because index is one less\n",
    "            M_params, M_tau = hls_M[t-1], taus_M[t-1] #because index is one less\n",
    "            \n",
    "            #propagate\n",
    "            new_position = SMC_propagation(old_position, M_params, M_tau)\n",
    "            logged_positions[particle_idx, t] = new_position\n",
    "            \n",
    "            #compute logG_t\n",
    "            logG = compute_logG(hl_L = L_params, \n",
    "                                hl_M = M_params, \n",
    "                                hl_gamma_old = gamma_old, \n",
    "                                hl_gamma_new = gamma_new, \n",
    "                                tau_L = L_tau, \n",
    "                                tau_M = M_tau, \n",
    "                                old_pos = old_position, \n",
    "                                new_pos = new_position)\n",
    "            \n",
    "            cumulative_logGs[t-1] = logG\n",
    "            old_position = new_position\n",
    "            \n",
    "        log_weights[particle_idx] = cumulative_logGs.sum()\n",
    "\n",
    "    return logged_positions, log_weights\n",
    "            \n",
    "    "
   ]
  },
  {
   "cell_type": "code",
   "execution_count": 32,
   "metadata": {},
   "outputs": [],
   "source": [
    "def compute_logG(hl_L, hl_M, hl_gamma_old, hl_gamma_new, tau_L, tau_M, old_pos, new_pos):\n",
    "    \"\"\"\n",
    "    given hl_L, hl_M, hl_gamma_old, hl_gamma_new, tau_L, tau_M, old, new positions,\n",
    "    compute a logG;\n",
    "    G_t = frac{\\gamma_t(dx_t) L_{t-1}(x_t, dx_{t-1})}{\\gamma_{t-1}(dx_{t-1}) M_t(x_{t-1}, dx_t)}\n",
    "    \n",
    "    arguments\n",
    "        hl_L : torch.tensor (shape : (2, N_L))\n",
    "            parameters defining invariant target distribution for L_{t-1}\n",
    "        hl_M : torch.tensor (shape : (2, N_M))\n",
    "            parameters defining invariant target distribution for M_t\n",
    "        hl_gamma_old : torch.tensor (shape : (2, N_gamma_old))\n",
    "            parameters defining invariant target for \\gamma_t-1\n",
    "        hl_gamma_new : torch.tensor (shape : (2, N_gamma_new))\n",
    "        tau_L : torch.tensor(float)\n",
    "            tau of the backward kernel L_{t-1}\n",
    "        tau_M : torch.tensor(float)\n",
    "            tau of the forward kernel M_t\n",
    "        old_pos : torch.tensor(float)\n",
    "            old position\n",
    "        new_pos : torch.tensor(float)\n",
    "            new position\n",
    "    returns\n",
    "        logG : torch.tensor(float)\n",
    "            logG_t\n",
    "    \"\"\"\n",
    "    #log_M\n",
    "    M_derivative = polynomial_derivative(old_pos, hl_M)\n",
    "    mu_M, sigma_M = EL_mu_sigma_from_derivative(old_pos, M_derivative, tau_M)\n",
    "    log_M = log_gaussian_probability(new_pos, mu_M, sigma_M) #compute log_M\n",
    "\n",
    "    #log_L\n",
    "    L_derivative = polynomial_derivative(new_pos, hl_L) #compute -force of L backward\n",
    "    mu_L, sigma_L = EL_mu_sigma_from_derivative(new_pos, L_derivative, tau_L) # compute backward parameters\n",
    "    log_L = log_gaussian_probability(old_pos, mu_L, sigma_L) #compute log_L\n",
    "    \n",
    "    #logG = log(\\gamma_t(x_t)) + log(L_{t-1}(x_t, {dx_{t-1}})) - [ log(\\gamma_{t-1}(x_{t-1})) + log(M_t(x_{t-1}, dx_t))  ]\n",
    "    logG = (-polynomial_potential(new_pos, hl_gamma_new)\n",
    "            + log_L\n",
    "            - (-polynomial_potential(old_pos, hl_gamma_old)\n",
    "               + log_M)\n",
    "           )\n",
    "    return logG\n",
    "    \n",
    "    \n",
    "def SMC_propagation(position, hl_M, tau_M):\n",
    "    \"\"\"\n",
    "    conduct a single iteration of SMC for a single particle\n",
    "    for static models, G_t = frac{\\gamma_t(dx_t) L_{t-1}(x_t, dx_{t-1})}{\\gamma_{t-1}(dx_{t-1}) M_t(x_{t-1}, dx_t)}\n",
    "    \n",
    "    arguments\n",
    "        position : torch.tensor(float) (requires_grad=False)\n",
    "            x_{t-1}\n",
    "        hl_M : torch.tensor (shape : (2, N_M))\n",
    "            parameters defining invariant target distribution for M_t\n",
    "        tau_M : torch.tensor(float)\n",
    "            tau of the forward kernel M_t\n",
    "    \n",
    "    returns\n",
    "        position : torch.tensor(float) (requires_grad=False)\n",
    "            new position after M_t propagation\n",
    "    \"\"\"\n",
    "    #make a proposal with M_t from x_{t-1}\n",
    "    old_position = position.clone().detach() #equip the starting position\n",
    "    M_derivative = polynomial_derivative(position.clone().detach(), hl_M.clone().detach()) #compute the -force for the forward transition kernel\n",
    "    mu_M, sigma_M = EL_mu_sigma_from_derivative(old_position, M_derivative, tau_M.clone().detach()) #compute mu and sigma for the forward transition kernel\n",
    "    new_position = gaussian_proposal(mu_M, sigma_M) #make a proposal given the forward transition kernel parameters\n",
    "    return new_position"
   ]
  },
  {
   "cell_type": "code",
   "execution_count": 33,
   "metadata": {},
   "outputs": [],
   "source": [
    "def generate_AIS_params(hls_prior, hls_posterior, num_distributions):\n",
    "    \"\"\"\n",
    "    generate hls_targets sequences, hls_M, hls_L with a geometric annealing protocol\n",
    "    \n",
    "    arguments\n",
    "        hls_prior : list(torch.tensor(shape : (2, N)))\n",
    "            the prior parameters for the potential\n",
    "        hls_posterior : list(torch.tensor(shape : (2, N)))\n",
    "            the posterior parameters for the potential\n",
    "        num_distributions : int\n",
    "            the number of target distributions (including prior and posterior); must be >=2\n",
    "    \n",
    "    returns \n",
    "        hls_M : list(torch.tensor (shape : (2, N_M))) of length (num_distributions-1)\n",
    "            parameters defining invariant target distribution for M_t\n",
    "        hls_M : list(torch.tensor (shape : (2, N_M))) of length (num_distributions-1)\n",
    "            parameters defining invariant target distribution for M_t\n",
    "        hls_target : list(torch.tensor (shape: (2,target_i))) of length num_distributions \n",
    "            the parameters defining sequence of distributions and \n",
    "    \"\"\"\n",
    "    assert num_distributions >= 2\n",
    "    assert hls_prior.requires_grad==False\n",
    "    assert hls_posterior.requires_grad==False\n",
    "    \n",
    "    hls_target = [hls_prior.clone().detach().requires_grad_(True)]\n",
    "                 \n",
    "    hls_M, hls_L = [], []\n",
    "    _lambdas = np.linspace(0., 1., num_distributions)\n",
    "    for index, _lambda in enumerate(_lambdas[1:]):\n",
    "        hl_target = (_lambda * hls_posterior + (1. - _lambda) * hls_prior).clone().detach().requires_grad_(True)\n",
    "        hl_M = hl_target.clone().detach().requires_grad_(True) # the hl_M parameters target the same target distribution\n",
    "        hl_L = hl_target.clone().detach() # the hl_L parameters target the same target distribution\n",
    "        \n",
    "        #add to the lists\n",
    "        hls_target.append(hl_target)\n",
    "        hls_M.append(hl_M)\n",
    "        hls_L.append(hl_L)\n",
    "    \n",
    "    return hls_M, hls_L, hls_target\n",
    "    "
   ]
  },
  {
   "cell_type": "code",
   "execution_count": 34,
   "metadata": {},
   "outputs": [
    {
     "name": "stderr",
     "output_type": "stream",
     "text": [
      "100%|██████████| 100/100 [00:16<00:00,  6.11it/s]\n",
      "100%|██████████| 100/100 [00:16<00:00,  6.22it/s]\n"
     ]
    }
   ],
   "source": [
    "num_particles, num_distributions = 100, 10\n",
    "hls_prior = torch.tensor([[-1., 0.], [1., 0.]])\n",
    "hls_posterior = torch.tensor([[1., 0.], [1., 0.]])\n",
    "mean0, mean1 = -1., 1.\n",
    "sigma0, sigma1 = torch.tensor(1./np.sqrt(2)), torch.tensor(1./np.sqrt(2))\n",
    "taus_L = [torch.tensor(1e-2, requires_grad=False) for _ in range(num_distributions - 1)]\n",
    "taus_M = [torch.tensor(1e-2, requires_grad=True) for _ in range(num_distributions - 1)]\n",
    "forward_starting_positions = sigma0*torch.randn(num_particles) + mean0\n",
    "backward_starting_positions = sigma1*torch.randn(num_particles) + mean1\n",
    "forward_hls_M, forward_hls_L, forward_hls_targets = generate_AIS_params(hls_prior, \n",
    "                                                                        hls_posterior, \n",
    "                                                                        num_distributions=num_distributions)\n",
    "backward_hls_M, backward_hls_L, backward_hls_targets = generate_AIS_params(hls_posterior, \n",
    "                                                                        hls_prior, \n",
    "                                                                        num_distributions=num_distributions)\n",
    "forward_positions, forward_log_weights = no_resample_generalized_smc(forward_hls_targets, \n",
    "                                                                     forward_hls_M, \n",
    "                                                                     forward_hls_L, \n",
    "                                                                     num_particles, \n",
    "                                                                     taus_L, \n",
    "                                                                     taus_M, \n",
    "                                                                     forward_starting_positions)\n",
    "backward_positions, backward_log_weights = no_resample_generalized_smc(backward_hls_targets, \n",
    "                                                                     backward_hls_M, \n",
    "                                                                     backward_hls_L, \n",
    "                                                                     num_particles, \n",
    "                                                                     taus_L, \n",
    "                                                                     taus_M, \n",
    "                                                                     backward_starting_positions)\n"
   ]
  },
  {
   "cell_type": "code",
   "execution_count": 35,
   "metadata": {},
   "outputs": [
    {
     "data": {
      "text/plain": [
       "<matplotlib.axes._subplots.AxesSubplot at 0x7fa9dc112b00>"
      ]
     },
     "execution_count": 35,
     "metadata": {},
     "output_type": "execute_result"
    },
    {
     "data": {
      "image/png": "[encoded data removed]",
      "text/plain": [
       "<Figure size 432x288 with 1 Axes>"
      ]
     },
     "metadata": {
      "needs_background": "light"
     },
     "output_type": "display_data"
    }
   ],
   "source": [
    "sns.distplot(-forward_log_weights.clone().detach().numpy())\n",
    "sns.distplot(backward_log_weights.clone().detach().numpy())"
   ]
  },
  {
   "cell_type": "code",
   "execution_count": null,
   "metadata": {},
   "outputs": [],
   "source": [
    "min(-forward_log_weights.clone().detach().numpy())"
   ]
  },
  {
   "cell_type": "markdown",
   "metadata": {},
   "source": [
    "so it looks like we can recover the AIS result relatively well..."
   ]
  },
  {
   "cell_type": "code",
   "execution_count": null,
   "metadata": {},
   "outputs": [],
   "source": [
    "hls_M, taus_M, logZs, hls_M_rec, taus_M_rec, log_weights_recorder = vSMC_optimizer(forward_log_weights,\n",
    "                   forward_hls_targets,\n",
    "                   forward_hls_M, \n",
    "                   taus_M, \n",
    "                   forward_hls_L, \n",
    "                   taus_L, \n",
    "                   forward_positions, \n",
    "                   epochs=10, \n",
    "                   learning_rate = 5e-4)"
   ]
  },
  {
   "cell_type": "code",
   "execution_count": null,
   "metadata": {},
   "outputs": [],
   "source": [
    "forward_starting_positions = sigma0*torch.randn(num_particles) + mean0\n",
    "new_forward_positions, new_forward_log_weights = no_resample_generalized_smc(forward_hls_targets, \n",
    "                                                                     hls_M, \n",
    "                                                                     forward_hls_L, \n",
    "                                                                     num_particles, \n",
    "                                                                     taus_L, \n",
    "                                                                     taus_M, \n",
    "                                                                     forward_starting_positions)"
   ]
  },
  {
   "cell_type": "code",
   "execution_count": null,
   "metadata": {},
   "outputs": [],
   "source": [
    "sns.distplot(-new_forward_log_weights.clone().detach().numpy())"
   ]
  },
  {
   "cell_type": "code",
   "execution_count": null,
   "metadata": {},
   "outputs": [],
   "source": [
    "min(-new_forward_log_weights.clone().detach().numpy())"
   ]
  },
  {
   "cell_type": "code",
   "execution_count": null,
   "metadata": {},
   "outputs": [],
   "source": [
    "sns.distplot(new_forward_positions.numpy()[:,0])\n",
    "sns.distplot(new_forward_positions.numpy()[:,-1])"
   ]
  },
  {
   "cell_type": "code",
   "execution_count": null,
   "metadata": {},
   "outputs": [],
   "source": [
    "def vSMC_optimizer(log_weights,\n",
    "                   hls_targets,\n",
    "                   hls_M, \n",
    "                   taus_M, \n",
    "                   hls_L, \n",
    "                   taus_L, \n",
    "                   logged_positions, \n",
    "                   epochs, \n",
    "                   learning_rate = 1e-6):\n",
    "    \"\"\"\n",
    "    in the spirit of variational sequential monte carlo, we can maximize logZ w.r.t. the parameters defining logM\n",
    "    \n",
    "    arguments\n",
    "        log_weights : torch.tensor(shape : 1)\n",
    "            log weights s.t. logZ = logsumexp(log_weights) - log(N) where N is the number of weights\n",
    "        hls_targets : torch.tensor (shape: (2,target_i, Q)))\n",
    "            the parameters defining sequence of distributions and \n",
    "        hls_M : torch.tensor (shape : (2, N_M, Q-1)))\n",
    "            parameters defining invariant target distribution for M_t\n",
    "        taus_M : torch.tensor (shape:Q-1))\n",
    "            taus of euler-maruyama forward kernels\n",
    "        hls_L : torch.tensor (shape : (2, N_M, Q-1)))\n",
    "            parameters defining invariant target distribution for M_t\n",
    "        taus_L : torch.tensor (shape:Q-1))\n",
    "            taus of euler-maruyama forward kernels\n",
    "        logged_positions : torch.tensor(shape : (num_particles, Q))\n",
    "        epochs : int\n",
    "            number of minimizations to do\n",
    "        learning_rate : float\n",
    "            rate of learning\n",
    "    \n",
    "    returns \n",
    "        hls_M_new : list(torch.tensor (shape : (2, N_M))) of length (num_distributions-1)\n",
    "            parameters defining invariant target distribution for M_t (requires_grad=True)\n",
    "        taus_M : list(torch.tensor (float))\n",
    "            taus of euler-maruyama forward kernels (requires_grad=True)\n",
    "    \n",
    "    \"\"\"\n",
    "    log_weights_copy = log_weights.clone().detach()\n",
    "    log_weights_copy_copy = recompute_log_weights([i.clone().detach() for i in hls_targets],\n",
    "                          [i.clone().detach() for i in hls_M], \n",
    "                          [i.clone().detach() for i in taus_M], \n",
    "                          [i.clone().detach() for i in hls_L], \n",
    "                          [i.clone().detach() for i in taus_L], \n",
    "                          logged_positions)\n",
    "    assert np.allclose(log_weights_copy.numpy(), log_weights_copy_copy.numpy())\n",
    "    logZs = []\n",
    "    hls_M_recorder, taus_M_recorder = [[i.clone().detach().numpy() for i in hls_M]], [[i.clone().detach().numpy() for i in taus_M]]\n",
    "    log_weights_recorder = [log_weights_copy]\n",
    "    \n",
    "    for iteration in tqdm.trange(epochs):\n",
    "        if iteration==0:\n",
    "            #log_weights is already defined\n",
    "            pass\n",
    "        else:\n",
    "            log_weights = recompute_log_weights(hls_targets,\n",
    "                          hls_M, \n",
    "                          taus_M, \n",
    "                          hls_L, \n",
    "                          taus_L, \n",
    "                          logged_positions)\n",
    "            \n",
    "            \n",
    "        logZ = torch.logsumexp(log_weights, 0) #we want to maximize this...\n",
    "        logZs.append(logZ)\n",
    "        print(f\"logZ : {logZ}\")\n",
    "        \n",
    "        logZ.backward()\n",
    "#         print(f\"grads hls_M: {[i.grad for i in hls_M]}\")\n",
    "#         print(f\"grads taus: {[i.grad for i in taus_M]}\")\n",
    "        #print(learning_rate * taus_M[0].grad)\n",
    "        for i in range(len(hls_M)):\n",
    "            with torch.no_grad():\n",
    "                taus_M[i] += torch.clamp(learning_rate * taus_M[i].grad, min=1e-6, max = 1e6)\n",
    "                #hls_M[i] += learning_rate * hls_M[i].grad\n",
    "\n",
    "                taus_M[i].grad.zero_()\n",
    "                hls_M[i].grad.zero_()\n",
    "        hls_M_recorder.append([i.clone().detach().numpy() for i in hls_M])\n",
    "        taus_M_recorder.append([i.clone().detach().numpy() for i in taus_M])\n",
    "        log_weights_recorder.append([i.clone().detach() for i in log_weights])\n",
    "    \n",
    "    return hls_M, taus_M, logZs, hls_M_recorder, taus_M_recorder, log_weights_recorder\n",
    "            \n",
    "            \n",
    "def recompute_log_weights(hls_targets,\n",
    "                          hls_M, \n",
    "                          taus_M, \n",
    "                          hls_L, \n",
    "                          taus_L, \n",
    "                          logged_positions):\n",
    "    \"\"\"\n",
    "    \n",
    "    \"\"\"\n",
    "    log_weights = log_weights = torch.zeros(logged_positions.size()[0])\n",
    "    for particle_index in range(logged_positions.size()[0]):\n",
    "        #\n",
    "        cumulative_logGs = torch.zeros(len(hls_targets)-1)\n",
    "        for t in range(1, len(hls_targets)): #we do iteration from t=1 to T\n",
    "            gamma_new = hls_targets[t] #pull current target params\n",
    "            gamma_old = hls_targets[t-1] #pull previous target params\n",
    "            L_params, L_tau = hls_L[t-1], taus_L[t-1] #because index is one less\n",
    "            M_params, M_tau = hls_M[t-1], taus_M[t-1] #because index is one less\n",
    "        \n",
    "            #compute logG_t\n",
    "            logG = compute_logG(hl_L = L_params, \n",
    "                                hl_M = M_params, \n",
    "                                hl_gamma_old = gamma_old, \n",
    "                                hl_gamma_new = gamma_new, \n",
    "                                tau_L = L_tau, \n",
    "                                tau_M = M_tau, \n",
    "                                old_pos = logged_positions[particle_index, t-1], \n",
    "                                new_pos = logged_positions[particle_index, t])\n",
    "            \n",
    "            cumulative_logGs[t-1] = logG\n",
    "        log_weights[particle_index] = cumulative_logGs.sum()\n",
    "    return log_weights\n",
    "            \n",
    "            "
   ]
  },
  {
   "cell_type": "code",
   "execution_count": null,
   "metadata": {},
   "outputs": [],
   "source": []
  },
  {
   "cell_type": "code",
   "execution_count": null,
   "metadata": {},
   "outputs": [],
   "source": []
  }
 ],
 "metadata": {
  "kernelspec": {
   "display_name": "Python 3",
   "language": "python",
   "name": "python3"
  },
  "language_info": {
   "codemirror_mode": {
    "name": "ipython",
    "version": 3
   },
   "file_extension": ".py",
   "mimetype": "text/x-python",
   "name": "python",
   "nbconvert_exporter": "python",
   "pygments_lexer": "ipython3",
   "version": "3.6.7"
  }
 },
 "nbformat": 4,
 "nbformat_minor": 4
}
