{
 "cells": [
  {
   "cell_type": "markdown",
   "metadata": {},
   "source": [
    "# Attempt to generate an `AlchemicalState` and a `CompoundThermodynamicState` with which to manipulate $ \\lambda $ parameters "
   ]
  },
  {
   "cell_type": "code",
   "execution_count": 56,
   "metadata": {},
   "outputs": [],
   "source": [
    "from openmmtools import testsystems\n",
    "from openmmtools.alchemy import AbsoluteAlchemicalFactory, AlchemicalRegion\n",
    "from openmmtools.states import CompoundThermodynamicState, SamplerState, ThermodynamicState\n",
    "from simtk import unit"
   ]
  },
  {
   "cell_type": "code",
   "execution_count": 57,
   "metadata": {},
   "outputs": [],
   "source": [
    "ala_vac_sys = testsystems.AlanineDipeptideVacuum().system\n",
    "factory = AbsoluteAlchemicalFactory(consistent_exceptions = False)\n",
    "alchemical_region = AlchemicalRegion(alchemical_atoms=range(22))\n",
    "alanine_alchemical_system = factory.create_alchemical_system(reference_system=ala_vac_sys,\n",
    "                                                            alchemical_regions = alchemical_region)"
   ]
  },
  {
   "cell_type": "code",
   "execution_count": 58,
   "metadata": {},
   "outputs": [],
   "source": [
    "first_alchemical_state = AlchemicalState.from_system(alanine_alchemical_system)"
   ]
  },
  {
   "cell_type": "code",
   "execution_count": 59,
   "metadata": {},
   "outputs": [
    {
     "data": {
      "text/plain": [
       "{'_function_variables': {},\n",
       " '_parameters': {'lambda_bonds': None,\n",
       "  'lambda_electrostatics': 1.0,\n",
       "  'lambda_sterics': 1.0,\n",
       "  'lambda_angles': None,\n",
       "  'lambda_torsions': None},\n",
       " '_parameters_name_suffix': None}"
      ]
     },
     "execution_count": 59,
     "metadata": {},
     "output_type": "execute_result"
    }
   ],
   "source": [
    "vars(first_alchemical_state)"
   ]
  },
  {
   "cell_type": "code",
   "execution_count": 60,
   "metadata": {},
   "outputs": [],
   "source": [
    "thermodynamic_state = ThermodynamicState(system=alanine_alchemical_system,\n",
    "                                         temperature=300*unit.kelvin)"
   ]
  },
  {
   "cell_type": "code",
   "execution_count": 61,
   "metadata": {},
   "outputs": [],
   "source": [
    "comp = CompoundThermodynamicState(thermodynamic_state, composable_states = [first_alchemical_state])"
   ]
  },
  {
   "cell_type": "code",
   "execution_count": 62,
   "metadata": {},
   "outputs": [
    {
     "data": {
      "text/plain": [
       "{'lambda_bonds': None,\n",
       " 'lambda_electrostatics': 1.0,\n",
       " 'lambda_sterics': 1.0,\n",
       " 'lambda_angles': None,\n",
       " 'lambda_torsions': None}"
      ]
     },
     "execution_count": 62,
     "metadata": {},
     "output_type": "execute_result"
    }
   ],
   "source": [
    "comp._composable_states[0]._parameters\n"
   ]
  },
  {
   "cell_type": "code",
   "execution_count": 63,
   "metadata": {},
   "outputs": [],
   "source": [
    "comp.lambda_sterics = .1\n",
    "\n"
   ]
  },
  {
   "cell_type": "code",
   "execution_count": 64,
   "metadata": {},
   "outputs": [
    {
     "data": {
      "text/plain": [
       "{'lambda_bonds': None,\n",
       " 'lambda_electrostatics': 1.0,\n",
       " 'lambda_sterics': 0.1,\n",
       " 'lambda_angles': None,\n",
       " 'lambda_torsions': None}"
      ]
     },
     "execution_count": 64,
     "metadata": {},
     "output_type": "execute_result"
    }
   ],
   "source": [
    "comp._composable_states[0]._parameters"
   ]
  },
  {
   "cell_type": "code",
   "execution_count": 69,
   "metadata": {},
   "outputs": [],
   "source": [
    "sampler_state = SamplerState(testsystems.AlanineDipeptideVacuum().positions)"
   ]
  },
  {
   "cell_type": "markdown",
   "metadata": {},
   "source": [
    "## let's make an integrator"
   ]
  },
  {
   "cell_type": "code",
   "execution_count": 81,
   "metadata": {},
   "outputs": [],
   "source": [
    "from openmmtools.mcmc import LangevinSplittingDynamicsMove as langevin\n",
    "langevin_move = langevin(timestep = 1. * unit.femtoseconds, collision_rate = 1./unit.picoseconds, n_steps = 1, reassign_velocities = True, measure_heat = True)\n"
   ]
  },
  {
   "cell_type": "code",
   "execution_count": 82,
   "metadata": {},
   "outputs": [],
   "source": [
    "langevin_move.apply(comp, sampler_state)"
   ]
  },
  {
   "cell_type": "code",
   "execution_count": 87,
   "metadata": {},
   "outputs": [
    {
     "data": {
      "text/plain": [
       "['__abstractmethods__',\n",
       " '__class__',\n",
       " '__delattr__',\n",
       " '__dict__',\n",
       " '__dir__',\n",
       " '__doc__',\n",
       " '__eq__',\n",
       " '__format__',\n",
       " '__ge__',\n",
       " '__getattribute__',\n",
       " '__getstate__',\n",
       " '__gt__',\n",
       " '__hash__',\n",
       " '__init__',\n",
       " '__init_subclass__',\n",
       " '__le__',\n",
       " '__lt__',\n",
       " '__module__',\n",
       " '__ne__',\n",
       " '__new__',\n",
       " '__reduce__',\n",
       " '__reduce_ex__',\n",
       " '__repr__',\n",
       " '__setattr__',\n",
       " '__setstate__',\n",
       " '__sizeof__',\n",
       " '__str__',\n",
       " '__subclasshook__',\n",
       " '__weakref__',\n",
       " '_abc_cache',\n",
       " '_abc_negative_cache',\n",
       " '_abc_negative_cache_version',\n",
       " '_abc_registry',\n",
       " '_after_integration',\n",
       " '_before_integration',\n",
       " '_get_integrator',\n",
       " 'apply',\n",
       " 'collision_rate',\n",
       " 'constraint_tolerance',\n",
       " 'context_cache',\n",
       " 'measure_heat',\n",
       " 'measure_shadow_work',\n",
       " 'n_restart_attempts',\n",
       " 'n_steps',\n",
       " 'reassign_velocities',\n",
       " 'splitting',\n",
       " 'timestep']"
      ]
     },
     "execution_count": 87,
     "metadata": {},
     "output_type": "execute_result"
    }
   ],
   "source": [
    "dir(langevin_move)"
   ]
  },
  {
   "cell_type": "code",
   "execution_count": 84,
   "metadata": {},
   "outputs": [
    {
     "data": {
      "text/plain": [
       "Quantity(value=0.0, unit=kilojoule/mole)"
      ]
     },
     "execution_count": 84,
     "metadata": {},
     "output_type": "execute_result"
    }
   ],
   "source": [
    "langevin_move._get_integrator(comp).heat"
   ]
  },
  {
   "cell_type": "code",
   "execution_count": null,
   "metadata": {},
   "outputs": [],
   "source": []
  }
 ],
 "metadata": {
  "kernelspec": {
   "display_name": "Python 3",
   "language": "python",
   "name": "python3"
  },
  "language_info": {
   "codemirror_mode": {
    "name": "ipython",
    "version": 3
   },
   "file_extension": ".py",
   "mimetype": "text/x-python",
   "name": "python",
   "nbconvert_exporter": "python",
   "pygments_lexer": "ipython3",
   "version": "3.6.7"
  }
 },
 "nbformat": 4,
 "nbformat_minor": 4
}
