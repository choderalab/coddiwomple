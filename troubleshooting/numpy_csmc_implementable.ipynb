{
 "cells": [
  {
   "cell_type": "code",
   "execution_count": 1,
   "metadata": {},
   "outputs": [],
   "source": [
    "%matplotlib inline\n",
    "\n",
    "import matplotlib\n",
    "import numpy as np\n",
    "import matplotlib.pyplot as plt\n",
    "import seaborn as sns\n",
    "import time\n",
    "from test_csmc import default_potential, nondefault_potential, test_gmm_ensemble_SIS"
   ]
  },
  {
   "cell_type": "code",
   "execution_count": 2,
   "metadata": {},
   "outputs": [],
   "source": [
    "from csmc import ULAEnsembleCSMC"
   ]
  },
  {
   "cell_type": "markdown",
   "metadata": {},
   "source": [
    "To Do list:\n",
    "1. write a `test_mahalanobis` test\n",
    "2. test brownian motion and plot\n",
    "3. test AIS (with a MALA proposal)\n",
    "4. test ULA\n",
    "5. write and test uncontrolled CSMC\n",
    "    - write function\n",
    "    - assert uncontrolled ULA yields ULA logw with zero twisting potentials\n",
    "6. create a twisted smc class that allows forr custom pytorch module inputs\n",
    "    -test on uncontrolled smc\n",
    "7. write and test a second (and generalizable) twist that adds twists\n",
    "8. test on a 2d test problem\n",
    "9. test on a 3N problem with internal coordinates"
   ]
  },
  {
   "cell_type": "markdown",
   "metadata": {},
   "source": [
    "## 1. `test_mahalonobis`\n",
    "done"
   ]
  },
  {
   "cell_type": "markdown",
   "metadata": {},
   "source": [
    "## 2. `test_brownian motion`\n",
    "done"
   ]
  },
  {
   "cell_type": "markdown",
   "metadata": {},
   "source": [
    "## 3. (and 4.) test AIS (with a MALA proposal) and SIS (ULA)"
   ]
  },
  {
   "cell_type": "markdown",
   "metadata": {},
   "source": [
    "layout of this AIS proposal...\n",
    "1. allow for option to metropolize\n",
    "2. if not metropolized, then we must be able to tally the forward/backward work proposal (a.k.a. shadow work in stat mech literature)\n",
    "3. write a test system in 1d that anneals between two gaussians (with the same $\\mu$ and increases $\\Sigma$)\n",
    "4. add a test for the wrapped ULA logw calculator.\n",
    "\n",
    "### DONE!"
   ]
  },
  {
   "cell_type": "markdown",
   "metadata": {},
   "source": [
    "## 5. write and test uncontrolled CSMC"
   ]
  },
  {
   "cell_type": "markdown",
   "metadata": {},
   "source": [
    "it will have to look like this...\n",
    "### DONE"
   ]
  },
  {
   "cell_type": "code",
   "execution_count": 4,
   "metadata": {},
   "outputs": [
    {
     "name": "stderr",
     "output_type": "stream",
     "text": [
      "100%|██████████| 1000/1000 [00:03<00:00, 257.60it/s]\n",
      "100%|██████████| 1000/1000 [00:03<00:00, 280.78it/s]\n",
      "100%|██████████| 1000/1000 [00:05<00:00, 167.48it/s]"
     ]
    },
    {
     "name": "stdout",
     "output_type": "stream",
     "text": [
      "AIS : F = -0.339291310449628; dF = 0.009357865531732245\n",
      "SIS : F = -0.3608197492547074; dF = 0.012665645977340895\n",
      "uncontrolled smc: F = -0.34022332711807834; dF = 0.010718901687314363\n"
     ]
    },
    {
     "name": "stderr",
     "output_type": "stream",
     "text": [
      "\n"
     ]
    }
   ],
   "source": [
    "test_gmm_ensemble_SIS()  "
   ]
  },
  {
   "cell_type": "markdown",
   "metadata": {},
   "source": [
    "so since we are recovering the correct free energy for a simple system, i am inclined to believe that the uncontrolled SMC is stable and working."
   ]
  },
  {
   "cell_type": "markdown",
   "metadata": {},
   "source": [
    "## 6. create a twisted smc class that allows forr custom pytorch module inputs"
   ]
  },
  {
   "cell_type": "markdown",
   "metadata": {},
   "source": [
    "for every iteration of approximate dynamic programming, i need to input an existing twisting function $\\psi$, $N \\in \\mathbf{N}$ i.i.d. samples from $Q^{\\psi}$ and do the following...\n",
    "1. set the log_k_twisted normalizer to 0.\n",
    "2. iterate backward in time from T to 1 and:\n",
    "    - set V_t_flat to -log_twisted_weight"
   ]
  },
  {
   "cell_type": "markdown",
   "metadata": {},
   "source": [
    "ADP for learning optimal sequences boils down to having a method that can perform MSE regression to find appropriate twisting parameters."
   ]
  },
  {
   "cell_type": "markdown",
   "metadata": {},
   "source": [
    "attempt to run uncontrolled smc"
   ]
  },
  {
   "cell_type": "markdown",
   "metadata": {},
   "source": [
    "fuck yeah! we passed the uncontrolled test."
   ]
  },
  {
   "cell_type": "markdown",
   "metadata": {},
   "source": [
    "### 6.1 write some twisting tests\n",
    "In order to do this, I have to create some simple twisting sequences. for the purpose of this test, it will be a `nn.Sequential` with only a single `nn.Linear` layer"
   ]
  },
  {
   "cell_type": "code",
   "execution_count": 3,
   "metadata": {},
   "outputs": [],
   "source": [
    "import torch.nn as nn\n",
    "import torch"
   ]
  },
  {
   "cell_type": "code",
   "execution_count": 4,
   "metadata": {},
   "outputs": [],
   "source": [
    "class Naught(nn.Module):\n",
    "    def __init__(self):\n",
    "        super().__init__()\n",
    "    def forward(self, x=None):\n",
    "        return torch.zeros(1)\n",
    "class MatrixReshape(nn.Module):\n",
    "    def __init__(self, final_dim):\n",
    "        super().__init__()\n",
    "        self.final_dim = final_dim\n",
    "    def forward(self, x=None):\n",
    "        batch_size = x.size()[0]\n",
    "        return x.reshape(batch_size, self.final_dim, self.final_dim)"
   ]
  },
  {
   "cell_type": "code",
   "execution_count": 5,
   "metadata": {},
   "outputs": [],
   "source": [
    "A0 = nn.Sequential(Naught(), nn.Linear(1,1), MatrixReshape(1))\n",
    "b0 = nn.Sequential(Naught(), nn.Linear(1,1))\n",
    "c0 = nn.Sequential(Naught(), nn.Linear(1,1))"
   ]
  },
  {
   "cell_type": "code",
   "execution_count": 6,
   "metadata": {},
   "outputs": [],
   "source": [
    "A = nn.Sequential(nn.Linear(1,1), MatrixReshape(1))\n",
    "b = nn.Sequential(nn.Linear(1,1))\n",
    "c = nn.Sequential(Naught(), nn.Linear(1,1))"
   ]
  },
  {
   "cell_type": "code",
   "execution_count": 7,
   "metadata": {},
   "outputs": [],
   "source": [
    "input = torch.tensor([[[1.]], [[2.]], [[3.]]])"
   ]
  },
  {
   "cell_type": "code",
   "execution_count": 8,
   "metadata": {},
   "outputs": [
    {
     "data": {
      "text/plain": [
       "torch.Size([3, 1, 1])"
      ]
     },
     "execution_count": 8,
     "metadata": {},
     "output_type": "execute_result"
    }
   ],
   "source": [
    "input.size()"
   ]
  },
  {
   "cell_type": "code",
   "execution_count": 9,
   "metadata": {},
   "outputs": [
    {
     "data": {
      "text/plain": [
       "tensor([[[ 0.2856]],\n",
       "\n",
       "        [[ 0.1059]],\n",
       "\n",
       "        [[-0.0738]]], grad_fn=<ViewBackward>)"
      ]
     },
     "execution_count": 9,
     "metadata": {},
     "output_type": "execute_result"
    }
   ],
   "source": [
    "A(input)"
   ]
  },
  {
   "cell_type": "code",
   "execution_count": 10,
   "metadata": {},
   "outputs": [],
   "source": [
    "csmc = ULAEnsembleCSMC(potential=nondefault_potential,\n",
    "                      parameter_sequence=np.linspace(0,1,10),\n",
    "                      dt=1.,\n",
    "                      gmm_mixing_components=np.array([1.]),\n",
    "                      gmm_means = np.array([[0.]]),\n",
    "                      gmm_covariance_matrices=np.array([[[1.]]]),\n",
    "                      A0_twisting_model=A0,\n",
    "                      b0_twisting_model=b0,\n",
    "                      c0_twisting_model=c0,\n",
    "                      A_twisting_model=A,\n",
    "                      b_twisting_model=b,\n",
    "                      c_twisting_model=c)"
   ]
  },
  {
   "cell_type": "code",
   "execution_count": 11,
   "metadata": {},
   "outputs": [
    {
     "name": "stderr",
     "output_type": "stream",
     "text": [
      "100%|██████████| 20/20 [00:00<00:00, 158.00it/s]\n"
     ]
    }
   ],
   "source": [
    "logws, traj = csmc.run_twisted_smc(20)"
   ]
  },
  {
   "cell_type": "code",
   "execution_count": 12,
   "metadata": {},
   "outputs": [
    {
     "name": "stderr",
     "output_type": "stream",
     "text": [
      "  0%|          | 0/10 [00:00<?, ?it/s]DEBUG:csmc:\ttime iteration 9\n",
      " 10%|█         | 1/10 [00:00<00:01,  5.24it/s]DEBUG:csmc:\ttime iteration 8\n",
      " 20%|██        | 2/10 [00:00<00:01,  5.43it/s]DEBUG:csmc:\ttime iteration 7\n",
      " 30%|███       | 3/10 [00:00<00:01,  5.67it/s]DEBUG:csmc:\ttime iteration 6\n",
      " 40%|████      | 4/10 [00:00<00:01,  5.80it/s]DEBUG:csmc:\ttime iteration 5\n",
      " 50%|█████     | 5/10 [00:00<00:00,  5.86it/s]DEBUG:csmc:\ttime iteration 4\n",
      " 60%|██████    | 6/10 [00:01<00:00,  5.99it/s]DEBUG:csmc:\ttime iteration 3\n",
      " 70%|███████   | 7/10 [00:01<00:00,  5.95it/s]DEBUG:csmc:\ttime iteration 2\n",
      " 80%|████████  | 8/10 [00:01<00:00,  5.87it/s]DEBUG:csmc:\ttime iteration 1\n",
      " 90%|█████████ | 9/10 [00:01<00:00,  5.84it/s]DEBUG:csmc:\ttime iteration 0\n",
      "100%|██████████| 10/10 [00:01<00:00,  5.82it/s]\n"
     ]
    }
   ],
   "source": [
    "csmc.ADP(\n",
    "            twisted_logws = logws,\n",
    "            xs = traj,\n",
    "            train_batch_size = 10,\n",
    "            train_epochs = 100,\n",
    "            compute_optimal_ds=False,\n",
    "            validation_fraction = None,\n",
    "            validation_batch_size = None,\n",
    "            optimizer = torch.optim.SGD,\n",
    "            optimizer_kwargs = {'lr': 1e-3}\n",
    "           )"
   ]
  },
  {
   "cell_type": "code",
   "execution_count": 13,
   "metadata": {},
   "outputs": [],
   "source": [
    "a = torch.randn(23)"
   ]
  },
  {
   "cell_type": "code",
   "execution_count": 11,
   "metadata": {},
   "outputs": [
    {
     "data": {
      "text/plain": [
       "23"
      ]
     },
     "execution_count": 11,
     "metadata": {},
     "output_type": "execute_result"
    }
   ],
   "source": [
    "len(a)"
   ]
  },
  {
   "cell_type": "code",
   "execution_count": 3,
   "metadata": {},
   "outputs": [],
   "source": [
    "from torch_utils import render_dataloaders\n",
    "import torch"
   ]
  },
  {
   "cell_type": "code",
   "execution_count": 4,
   "metadata": {},
   "outputs": [
    {
     "data": {
      "text/plain": [
       "(<torch.utils.data.dataloader.DataLoader at 0x7f027da0da58>,\n",
       " <torch.utils.data.dataloader.DataLoader at 0x7f027da0db00>)"
      ]
     },
     "execution_count": 4,
     "metadata": {},
     "output_type": "execute_result"
    }
   ],
   "source": [
    "render_dataloaders(torch.from_numpy(np.random.randn(100)),torch.from_numpy(np.random.randn(100)), 0.2, 10, 20)"
   ]
  },
  {
   "cell_type": "code",
   "execution_count": 5,
   "metadata": {},
   "outputs": [],
   "source": [
    "a = (1,2,3)"
   ]
  },
  {
   "cell_type": "code",
   "execution_count": 6,
   "metadata": {},
   "outputs": [],
   "source": [
    "one, two, three = a"
   ]
  },
  {
   "cell_type": "code",
   "execution_count": 7,
   "metadata": {},
   "outputs": [],
   "source": [
    "a = torch.tensor([[1., 2.], [3.,4.]])"
   ]
  },
  {
   "cell_type": "code",
   "execution_count": 8,
   "metadata": {},
   "outputs": [
    {
     "data": {
      "text/plain": [
       "array([[1., 2.],\n",
       "       [3., 4.]], dtype=float32)"
      ]
     },
     "execution_count": 8,
     "metadata": {},
     "output_type": "execute_result"
    }
   ],
   "source": [
    "a.numpy()"
   ]
  },
  {
   "cell_type": "code",
   "execution_count": 38,
   "metadata": {},
   "outputs": [
    {
     "data": {
      "text/plain": [
       "tensor([1., 1., 1., 1., 1., 1., 1., 1., 1., 1.])"
      ]
     },
     "execution_count": 38,
     "metadata": {},
     "output_type": "execute_result"
    }
   ],
   "source": [
    "a.repeat(10)"
   ]
  },
  {
   "cell_type": "code",
   "execution_count": 35,
   "metadata": {},
   "outputs": [],
   "source": [
    "a = np.random.randn(3,4).astype('float32')"
   ]
  },
  {
   "cell_type": "code",
   "execution_count": 36,
   "metadata": {},
   "outputs": [],
   "source": [
    "q = torch.from_numpy(a)"
   ]
  },
  {
   "cell_type": "code",
   "execution_count": 37,
   "metadata": {},
   "outputs": [
    {
     "data": {
      "text/plain": [
       "'torch.FloatTensor'"
      ]
     },
     "execution_count": 37,
     "metadata": {},
     "output_type": "execute_result"
    }
   ],
   "source": [
    "q.type()"
   ]
  },
  {
   "cell_type": "code",
   "execution_count": 11,
   "metadata": {},
   "outputs": [],
   "source": [
    "from torch_utils import batch_quadratic"
   ]
  },
  {
   "cell_type": "code",
   "execution_count": 12,
   "metadata": {},
   "outputs": [
    {
     "name": "stdout",
     "output_type": "stream",
     "text": [
      "vshape, Mshape: [10, 1], [10, 1, 1]\n"
     ]
    },
    {
     "data": {
      "text/plain": [
       "tensor([-0.0243, -0.4487, -2.0009, -3.1136,  0.5495,  0.0118,  0.7648,  0.1788,\n",
       "        -0.0768,  0.2280])"
      ]
     },
     "execution_count": 12,
     "metadata": {},
     "output_type": "execute_result"
    }
   ],
   "source": [
    "batch_quadratic(torch.randn(10,1), torch.randn(10, 1, 1)).squeeze()"
   ]
  },
  {
   "cell_type": "code",
   "execution_count": 13,
   "metadata": {},
   "outputs": [],
   "source": [
    "x = torch.randn(10, 1)\n",
    "y = torch.randn(10, 2)\n",
    "z = torch.randn(10)"
   ]
  },
  {
   "cell_type": "code",
   "execution_count": 14,
   "metadata": {},
   "outputs": [
    {
     "ename": "NameError",
     "evalue": "name 'x_kwarg' is not defined",
     "output_type": "error",
     "traceback": [
      "\u001b[0;31m---------------------------------------------------------------------------\u001b[0m",
      "\u001b[0;31mNameError\u001b[0m                                 Traceback (most recent call last)",
      "\u001b[0;32m<ipython-input-14-e283438fee91>\u001b[0m in \u001b[0;36m<module>\u001b[0;34m\u001b[0m\n\u001b[0;32m----> 1\u001b[0;31m \u001b[0mx_kwarg\u001b[0m\u001b[0;34m\u001b[0m\u001b[0;34m\u001b[0m\u001b[0m\n\u001b[0m",
      "\u001b[0;31mNameError\u001b[0m: name 'x_kwarg' is not defined"
     ]
    }
   ],
   "source": [
    "x_kwarg"
   ]
  },
  {
   "cell_type": "code",
   "execution_count": 15,
   "metadata": {},
   "outputs": [
    {
     "ename": "RuntimeError",
     "evalue": "invalid argument 0: Tensors must have same number of dimensions: got 2 and 1 at /opt/conda/conda-bld/pytorch_1579022034529/work/aten/src/TH/generic/THTensor.cpp:603",
     "output_type": "error",
     "traceback": [
      "\u001b[0;31m---------------------------------------------------------------------------\u001b[0m",
      "\u001b[0;31mRuntimeError\u001b[0m                              Traceback (most recent call last)",
      "\u001b[0;32m<ipython-input-15-e6c6844ac2fa>\u001b[0m in \u001b[0;36m<module>\u001b[0;34m\u001b[0m\n\u001b[0;32m----> 1\u001b[0;31m \u001b[0mtorch\u001b[0m\u001b[0;34m.\u001b[0m\u001b[0mcat\u001b[0m\u001b[0;34m(\u001b[0m\u001b[0;34m(\u001b[0m\u001b[0mx\u001b[0m\u001b[0;34m,\u001b[0m \u001b[0my\u001b[0m\u001b[0;34m,\u001b[0m \u001b[0mz\u001b[0m\u001b[0;34m)\u001b[0m\u001b[0;34m,\u001b[0m \u001b[0;36m1\u001b[0m\u001b[0;34m)\u001b[0m\u001b[0;34m\u001b[0m\u001b[0;34m\u001b[0m\u001b[0m\n\u001b[0m",
      "\u001b[0;31mRuntimeError\u001b[0m: invalid argument 0: Tensors must have same number of dimensions: got 2 and 1 at /opt/conda/conda-bld/pytorch_1579022034529/work/aten/src/TH/generic/THTensor.cpp:603"
     ]
    }
   ],
   "source": [
    "torch.cat((x, y, z), 1)"
   ]
  },
  {
   "cell_type": "code",
   "execution_count": 16,
   "metadata": {},
   "outputs": [],
   "source": [
    "for key, val in {}.items():\n",
    "    print(yes)"
   ]
  },
  {
   "cell_type": "code",
   "execution_count": 17,
   "metadata": {},
   "outputs": [
    {
     "data": {
      "text/plain": [
       "False"
      ]
     },
     "execution_count": 17,
     "metadata": {},
     "output_type": "execute_result"
    }
   ],
   "source": [
    "any(item[0] == 1 for item in [])"
   ]
  },
  {
   "cell_type": "code",
   "execution_count": null,
   "metadata": {},
   "outputs": [],
   "source": []
  },
  {
   "cell_type": "code",
   "execution_count": 30,
   "metadata": {},
   "outputs": [],
   "source": [
    "def test_batch_dot():\n",
    "    \"\"\"\n",
    "    test the batch mahalanobis against numpy\n",
    "    \"\"\"\n",
    "    from scipy.spatial.distance import mahalanobis\n",
    "    from torch_utils import batch_dot\n",
    "    torch_v = torch.randn(10,3)\n",
    "    torch_u = torch.randn(10, 3)\n",
    "    batch_out = batch_dot(torch_v, torch_u)\n",
    "    \n",
    "    np_outs = []\n",
    "    for v, u in zip(torch_v, torch_u):\n",
    "        np_v, np_u = v.numpy(), u.numpy()\n",
    "        np_outs.append(np_v.dot(np_u))\n",
    "    assert np.allclose(np.array(np_outs), batch_out.numpy()), f\"failed: {np_outs}, {batch_out}\""
   ]
  },
  {
   "cell_type": "code",
   "execution_count": 31,
   "metadata": {},
   "outputs": [],
   "source": [
    "test_batch_dot()"
   ]
  },
  {
   "cell_type": "code",
   "execution_count": 16,
   "metadata": {},
   "outputs": [],
   "source": [
    "from torch.nn.functional import mse_loss\n",
    "\n"
   ]
  },
  {
   "cell_type": "code",
   "execution_count": 19,
   "metadata": {},
   "outputs": [
    {
     "data": {
      "text/plain": [
       "tensor(1.4550)"
      ]
     },
     "execution_count": 19,
     "metadata": {},
     "output_type": "execute_result"
    }
   ],
   "source": [
    "torch.nn.functional.mse_loss(torch.randn(10), torch.randn(10))"
   ]
  },
  {
   "cell_type": "code",
   "execution_count": null,
   "metadata": {},
   "outputs": [],
   "source": []
  }
 ],
 "metadata": {
  "kernelspec": {
   "display_name": "Python 3",
   "language": "python",
   "name": "python3"
  },
  "language_info": {
   "codemirror_mode": {
    "name": "ipython",
    "version": 3
   },
   "file_extension": ".py",
   "mimetype": "text/x-python",
   "name": "python",
   "nbconvert_exporter": "python",
   "pygments_lexer": "ipython3",
   "version": "3.6.7"
  }
 },
 "nbformat": 4,
 "nbformat_minor": 4
}
