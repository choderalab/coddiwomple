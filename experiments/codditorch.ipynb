{
 "cells": [
  {
   "cell_type": "markdown",
   "metadata": {},
   "source": [
    "# Sandboxing some pytorch and pyro stuff "
   ]
  },
  {
   "cell_type": "code",
   "execution_count": 1,
   "metadata": {},
   "outputs": [],
   "source": [
    "import torch\n",
    "import numpy as np\n",
    "import pyro"
   ]
  },
  {
   "cell_type": "code",
   "execution_count": 2,
   "metadata": {},
   "outputs": [],
   "source": [
    "%matplotlib inline\n",
    "\n",
    "import matplotlib\n",
    "import numpy as np\n",
    "import matplotlib.pyplot as plt"
   ]
  },
  {
   "cell_type": "markdown",
   "metadata": {},
   "source": [
    "## Pytorch Blitz"
   ]
  },
  {
   "cell_type": "markdown",
   "metadata": {},
   "source": [
    "### What is pytorch?"
   ]
  },
  {
   "cell_type": "markdown",
   "metadata": {},
   "source": [
    "let's omit this shit..."
   ]
  },
  {
   "cell_type": "markdown",
   "metadata": {},
   "source": [
    "### AUTOGRAD: Automatic Differentiation"
   ]
  },
  {
   "cell_type": "markdown",
   "metadata": {},
   "source": [
    "scalar function grad"
   ]
  },
  {
   "cell_type": "code",
   "execution_count": 92,
   "metadata": {},
   "outputs": [],
   "source": [
    "x = torch.ones(2, 2, requires_grad=True)"
   ]
  },
  {
   "cell_type": "code",
   "execution_count": 93,
   "metadata": {},
   "outputs": [],
   "source": [
    "y = x + 2"
   ]
  },
  {
   "cell_type": "code",
   "execution_count": 94,
   "metadata": {},
   "outputs": [
    {
     "data": {
      "text/plain": [
       "<AddBackward0 at 0x7fcd52dd5860>"
      ]
     },
     "execution_count": 94,
     "metadata": {},
     "output_type": "execute_result"
    }
   ],
   "source": [
    "y.grad_fn"
   ]
  },
  {
   "cell_type": "code",
   "execution_count": 95,
   "metadata": {},
   "outputs": [],
   "source": [
    "z = y*y*3"
   ]
  },
  {
   "cell_type": "code",
   "execution_count": 96,
   "metadata": {},
   "outputs": [],
   "source": [
    "out=z.mean()"
   ]
  },
  {
   "cell_type": "code",
   "execution_count": 97,
   "metadata": {},
   "outputs": [
    {
     "data": {
      "text/plain": [
       "tensor(27., grad_fn=<MeanBackward0>)"
      ]
     },
     "execution_count": 97,
     "metadata": {},
     "output_type": "execute_result"
    }
   ],
   "source": [
    "out"
   ]
  },
  {
   "cell_type": "code",
   "execution_count": 98,
   "metadata": {},
   "outputs": [],
   "source": [
    "out.backward(torch.tensor(2.))"
   ]
  },
  {
   "cell_type": "code",
   "execution_count": 99,
   "metadata": {},
   "outputs": [
    {
     "name": "stdout",
     "output_type": "stream",
     "text": [
      "tensor([[9., 9.],\n",
      "        [9., 9.]])\n"
     ]
    }
   ],
   "source": [
    "print(x.grad)"
   ]
  },
  {
   "cell_type": "markdown",
   "metadata": {},
   "source": [
    "vector function grad..."
   ]
  },
  {
   "cell_type": "code",
   "execution_count": 29,
   "metadata": {},
   "outputs": [],
   "source": [
    "x=torch.tensor([1., 2., 3.], requires_grad=True)"
   ]
  },
  {
   "cell_type": "code",
   "execution_count": 30,
   "metadata": {},
   "outputs": [],
   "source": [
    "y=2*x*x"
   ]
  },
  {
   "cell_type": "code",
   "execution_count": 31,
   "metadata": {},
   "outputs": [
    {
     "data": {
      "text/plain": [
       "tensor([ 4.,  8., 24.])"
      ]
     },
     "execution_count": 31,
     "metadata": {},
     "output_type": "execute_result"
    }
   ],
   "source": [
    "v = torch.tensor([1., 1., 2.])\n",
    "y.backward(v)\n",
    "x.grad"
   ]
  },
  {
   "cell_type": "code",
   "execution_count": 50,
   "metadata": {},
   "outputs": [],
   "source": [
    "x = torch.tensor([[0., 0.], [1., 0]], requires_grad=True)\n"
   ]
  },
  {
   "cell_type": "code",
   "execution_count": 51,
   "metadata": {},
   "outputs": [],
   "source": [
    "beta=1.\n",
    "u = beta * ((x[0,:] - x[1,:]).norm(p=2) - 1.1)**2"
   ]
  },
  {
   "cell_type": "code",
   "execution_count": 52,
   "metadata": {},
   "outputs": [],
   "source": [
    "u.backward()"
   ]
  },
  {
   "cell_type": "code",
   "execution_count": 53,
   "metadata": {},
   "outputs": [
    {
     "data": {
      "text/plain": [
       "tensor([[ 0.2000,  0.0000],\n",
       "        [-0.2000,  0.0000]])"
      ]
     },
     "execution_count": 53,
     "metadata": {},
     "output_type": "execute_result"
    }
   ],
   "source": [
    "x.grad"
   ]
  },
  {
   "cell_type": "markdown",
   "metadata": {},
   "source": [
    "for simplicity's sake, let's create a 1-dimensional potential..."
   ]
  },
  {
   "cell_type": "code",
   "execution_count": 32,
   "metadata": {},
   "outputs": [],
   "source": [
    "x = torch.tensor([[0., 0.], [1., 0.], [0., 1.]], requires_grad=True)"
   ]
  },
  {
   "cell_type": "code",
   "execution_count": null,
   "metadata": {},
   "outputs": [],
   "source": [
    "u = ()"
   ]
  },
  {
   "cell_type": "markdown",
   "metadata": {},
   "source": [
    "## Intro to Pyro"
   ]
  },
  {
   "cell_type": "code",
   "execution_count": 2,
   "metadata": {},
   "outputs": [],
   "source": [
    "import pyro\n",
    "pyro.set_rng_seed(101)"
   ]
  },
  {
   "cell_type": "code",
   "execution_count": 12,
   "metadata": {},
   "outputs": [
    {
     "name": "stdout",
     "output_type": "stream",
     "text": [
      "tensor(-0.2520) tensor(0.9507)\n"
     ]
    }
   ],
   "source": [
    "#draw a sample from a standard normal\n",
    "loc=0; scale=1.\n",
    "normal=torch.distributions.Normal(loc, scale)\n",
    "x=normal.rsample()\n",
    "energy=-normal.log_prob(x)\n",
    "print(x, energy)"
   ]
  },
  {
   "cell_type": "code",
   "execution_count": 13,
   "metadata": {},
   "outputs": [],
   "source": [
    "def weather():\n",
    "    cloudy=pyro.sample('cloudy', pyro.distributions.Bernoulli(0.3))\n",
    "    cloudy='cloudy' if cloudy.item()==1. else 'sunny'\n",
    "    mean_temp={'cloudy':55., 'sunny': 75.}['cloudy']\n",
    "    scale_temp = {'cloudy': 10.0, 'sunny': 15.0}[cloudy]\n",
    "    temp = pyro.sample('temp', pyro.distributions.Normal(mean_temp, scale_temp))\n",
    "    return cloudy, temp.item()"
   ]
  },
  {
   "cell_type": "code",
   "execution_count": 14,
   "metadata": {},
   "outputs": [
    {
     "data": {
      "text/plain": [
       "('sunny', 48.44023513793945)"
      ]
     },
     "execution_count": 14,
     "metadata": {},
     "output_type": "execute_result"
    }
   ],
   "source": [
    "weather()"
   ]
  },
  {
   "cell_type": "code",
   "execution_count": 7,
   "metadata": {},
   "outputs": [
    {
     "name": "stdout",
     "output_type": "stream",
     "text": [
      "tensor(0.4867)\n"
     ]
    }
   ],
   "source": [
    "def normal_product(loc, scale):\n",
    "    z1 = pyro.sample(\"z1\", pyro.distributions.Normal(loc, scale))\n",
    "    z2 = pyro.sample(\"z2\", pyro.distributions.Normal(loc, scale))\n",
    "    y = z1 * z2\n",
    "    return y\n",
    "\n",
    "def make_normal_normal():\n",
    "    mu_latent = pyro.sample(\"mu_latent\", pyro.distributions.Normal(0, 1))\n",
    "    fn = lambda scale: normal_product(mu_latent, scale)\n",
    "    return fn\n",
    "\n",
    "print(make_normal_normal()(1.))\n"
   ]
  },
  {
   "cell_type": "markdown",
   "metadata": {},
   "source": [
    "### SVI part 1: an intro to stochastic variational inference in pyro"
   ]
  },
  {
   "cell_type": "markdown",
   "metadata": {},
   "source": [
    "we define a joint distribution $$p(x, z | \\theta) = p(x|z, \\theta)p(z|\\theta)$$\n",
    "where we want to maximize the log evidence (i.e. $\\log p(x|\\theta)$"
   ]
  },
  {
   "cell_type": "markdown",
   "metadata": {},
   "source": [
    "`model` is the posterior, whereas `guide` is a family of distributions $q_{\\phi}(z)$ that can be optimized w.r.t. $\\phi$ (i.e. the variational parameters).  To be concrete, we need to be able to compute the distribution of the latent variables given the data (aka the posterior)\n",
    "$$p(z|x, \\theta) = \\frac {p(x, z | \\theta)}  {\\int dz p(x, z | \\theta)}$$"
   ]
  },
  {
   "cell_type": "markdown",
   "metadata": {},
   "source": [
    "#### ELBO (Evidence Lower Bound)"
   ]
  },
  {
   "cell_type": "markdown",
   "metadata": {},
   "source": [
    "$$\n",
    "ELBO =\n",
    "\\langle\n",
    "\\log p(x, z | \\theta) - \\log q_{\\phi}(z)\n",
    "\\rangle\n",
    "_{q_{\\phi}(z)}\n",
    "$$"
   ]
  },
  {
   "cell_type": "markdown",
   "metadata": {},
   "source": [
    "### Class"
   ]
  },
  {
   "cell_type": "markdown",
   "metadata": {},
   "source": [
    "in order to do VI, we use `SVI`, which supports ELBO optimization.<br>\n",
    "The user needs to provide the model, the guide, and the optimizer..."
   ]
  },
  {
   "cell_type": "markdown",
   "metadata": {},
   "source": [
    "```\n",
    "import pyro\n",
    "from pyro.infer import SVI, Trace_ELBO\n",
    "svi = SVI(model, guide, optimizer, loss=Trace_ELBO())\n",
    "```"
   ]
  },
  {
   "cell_type": "markdown",
   "metadata": {},
   "source": [
    "### Simple Coin Example"
   ]
  },
  {
   "cell_type": "markdown",
   "metadata": {},
   "source": [
    "you have a 2 sided coin and you want to determine whether it's fair; really, you are trying to determine the latent bias parameter;<br>\n",
    "- encode heads and tails as 1 ,0 <br>\n",
    "- the fairness is $f$, where $f \\in \\left[ 0.0, 1.0 \\right]$\n",
    "- our prior $p(f) = \\text{Beta}(10, 10)$"
   ]
  },
  {
   "cell_type": "code",
   "execution_count": 3,
   "metadata": {},
   "outputs": [],
   "source": [
    "xs = torch.linspace(0,1)\n",
    "beta = pyro.distributions.Beta(10, 10)\n",
    "log_probs = torch.tensor([beta.log_prob(x) for x in xs[1:-1]])"
   ]
  },
  {
   "cell_type": "code",
   "execution_count": 4,
   "metadata": {},
   "outputs": [
    {
     "data": {
      "text/plain": [
       "Text(0.5, 1.0, 'prior')"
      ]
     },
     "execution_count": 4,
     "metadata": {},
     "output_type": "execute_result"
    },
    {
     "data": {
      "image/png": "[encoded data removed]",
      "text/plain": [
       "<Figure size 432x288 with 1 Axes>"
      ]
     },
     "metadata": {
      "needs_background": "light"
     },
     "output_type": "display_data"
    }
   ],
   "source": [
    "xs = torch.linspace(0,1)\n",
    "beta = pyro.distributions.Beta(10, 10)\n",
    "log_probs = torch.tensor([beta.log_prob(x) for x in xs[1:-1]])\n",
    "plt.plot(xs[1:-1], np.exp(log_probs))\n",
    "plt.xlabel('f')\n",
    "plt.ylabel(\"p(f)\")\n",
    "plt.title(f\"prior\")"
   ]
  },
  {
   "cell_type": "markdown",
   "metadata": {},
   "source": [
    "- let's say we have collected the data in a list; let's write the corresponding model.."
   ]
  },
  {
   "cell_type": "code",
   "execution_count": 5,
   "metadata": {},
   "outputs": [],
   "source": [
    "import pyro.distributions as dist\n",
    "import torch.distributions.constraints as constraints"
   ]
  },
  {
   "cell_type": "code",
   "execution_count": 6,
   "metadata": {},
   "outputs": [],
   "source": [
    "def model(data):\n",
    "    \"\"\"\n",
    "    the model is the product of the likelihood and the prior;\n",
    "    define samples of the likelihood with `obs` arg for all of the data\n",
    "    \"\"\"\n",
    "    alpha0 = torch.tensor(10.) #alpha hyperparam\n",
    "    beta0 = torch.tensor(10.) #beta hyperparam\n",
    "    \n",
    "    #sample an f from the prior given prior hyperparams\n",
    "    f = pyro.sample('latent fairness', dist.Beta(alpha0, beta0))\n",
    "    \n",
    "    for i in range(len(data)):\n",
    "        pyro.sample(f\"obs_{i}\", dist.Bernoulli(f), obs=data[i])\n",
    "    "
   ]
  },
  {
   "cell_type": "code",
   "execution_count": 7,
   "metadata": {},
   "outputs": [],
   "source": [
    "def guide(data):\n",
    "    \"\"\"\n",
    "    define a guide, which is a family of distributions on the latent variables\n",
    "    that is parameterized by `\\phi` variables\n",
    "    \"\"\"\n",
    "    #in this case, we are going to optimize 2 parameters: alpha_q and beta_q\n",
    "    #and the parameters will parameterize a family of distributions of the beta form\n",
    "    \n",
    "    alpha_q = pyro.param('alpha_q', torch.tensor(15.), constraint=constraints.positive)\n",
    "    beta_q = pyro.param('beta_q', torch.tensor(15.), constraint=constraints.positive)\n",
    "    \n",
    "    #and just sample the latent fairness from the distribution\n",
    "    pyro.sample('latent_fairness', dist.Beta(alpha_q, beta_q))\n",
    "    "
   ]
  },
  {
   "cell_type": "markdown",
   "metadata": {},
   "source": [
    "Note:\n",
    "- the model and the guide have the same latent variable names\n",
    "- the model is not an explicit function of the latent variable, but instead set by data\n",
    "- the guide also holds `data` arguments\n",
    "- the variational parameters are torch tensors, and `pyro.param` automatically sets `requires_grad` to `True`\n",
    "- we put positive constraints on the variational parameters"
   ]
  },
  {
   "cell_type": "markdown",
   "metadata": {},
   "source": [
    "now we can to Stochastic Variational Inference (SVI)"
   ]
  },
  {
   "cell_type": "code",
   "execution_count": 8,
   "metadata": {},
   "outputs": [],
   "source": [
    "from pyro.optim import Adam\n",
    "from pyro.infer import SVI, Trace_ELBO\n",
    "import tqdm"
   ]
  },
  {
   "cell_type": "markdown",
   "metadata": {},
   "source": [
    "we just need to add some data first..."
   ]
  },
  {
   "cell_type": "code",
   "execution_count": 9,
   "metadata": {},
   "outputs": [],
   "source": [
    "data = []\n",
    "for _ in range(6):\n",
    "    data.append(torch.tensor(1.))\n",
    "for _ in range(4):\n",
    "    data.append(torch.tensor(0.))\n"
   ]
  },
  {
   "cell_type": "code",
   "execution_count": 33,
   "metadata": {},
   "outputs": [
    {
     "name": "stderr",
     "output_type": "stream",
     "text": [
      "100%|██████████| 5000/5000 [00:27<00:00, 179.61it/s]\n"
     ]
    }
   ],
   "source": [
    "adam_params = {'lr': 5e-4, 'betas': (0.9, 0.999)}\n",
    "optimizer=Adam(adam_params)\n",
    "\n",
    "svi=SVI(model, guide, optimizer, loss=Trace_ELBO())\n",
    "\n",
    "n_steps=5000\n",
    "for step in tqdm.trange(n_steps):\n",
    "    svi.step(data)"
   ]
  },
  {
   "cell_type": "code",
   "execution_count": 38,
   "metadata": {},
   "outputs": [
    {
     "name": "stdout",
     "output_type": "stream",
     "text": [
      "\n",
      "based on the data and our prior belief, the fairness of the coin is 0.502 +- 0.258\n"
     ]
    }
   ],
   "source": [
    "alpha_q = pyro.param('alpha_q').item()\n",
    "beta_q = pyro.param('beta_q').item()\n",
    "# here we use some facts about the beta distribution\n",
    "# compute the inferred mean of the coin's fairness\n",
    "inferred_mean = alpha_q / (alpha_q + beta_q)\n",
    "# compute inferred standard deviation\n",
    "factor = beta_q / (alpha_q * (1.0 + alpha_q + beta_q))\n",
    "inferred_std = inferred_mean * np.sqrt(factor)\n",
    "\n",
    "print(\"\\nbased on the data and our prior belief, the fairness \" +\n",
    "      \"of the coin is %.3f +- %.3f\" % (inferred_mean, inferred_std))"
   ]
  },
  {
   "cell_type": "markdown",
   "metadata": {},
   "source": [
    "### SVI part 2: conditional independence, subsampling, and amortization"
   ]
  },
  {
   "cell_type": "markdown",
   "metadata": {},
   "source": [
    "for models with N observables, running `model` and `guide` requires `ELBO` estimates that scales poorly with N; but we can subsample in batches provided that there are some conditional independencies that we can take advantage of.  <br>\n",
    "\n",
    "For example, if the observations are conditionally independent given latent variables, the log likelihood can be approximated as\n",
    "$$\n",
    "\\sum_{i=1}^{N}\\ln p(x_i|z) \\approx \\frac{N}{M} \\sum_{i \\in I_M} \\ln p(x_i|z)\n",
    "$$\n",
    "where $I_M$ is a minibatch of the N data points"
   ]
  },
  {
   "cell_type": "markdown",
   "metadata": {},
   "source": [
    "for some reason in pyro, it is necessary to explcitly replace the `for` loop in `model` (the one that adds the data as `obs`)"
   ]
  },
  {
   "cell_type": "code",
   "execution_count": 10,
   "metadata": {},
   "outputs": [],
   "source": [
    "def model(data):\n",
    "    \"\"\"\n",
    "    the model is the product of the likelihood and the prior;\n",
    "    define samples of the likelihood with `obs` arg for all of the data\n",
    "    \"\"\"\n",
    "    alpha0 = torch.tensor(10.) #alpha hyperparam\n",
    "    beta0 = torch.tensor(10.) #beta hyperparam\n",
    "    \n",
    "    #sample an f from the prior given prior hyperparams\n",
    "    f = pyro.sample('latent fairness', dist.Beta(alpha0, beta0))\n",
    "    \n",
    "#     for i in range(len(data)):\n",
    "#         pyro.sample(f\"obs_{i}\", dist.Bernoulli(f), obs=data[i])\n",
    "\n",
    "    #the above code has to be replaced with \n",
    "    for i in pyro.plate('data_loop', len(data)):\n",
    "        pyro.sample(f\"obs_{i}\", dist.Bernoulli(f), obs=data[i])"
   ]
  },
  {
   "cell_type": "markdown",
   "metadata": {},
   "source": [
    "as a note, you can also vectorize `plate` like such:<br>\n",
    "```\n",
    "data=torch.zeros(10)\n",
    "data[:6]=torch.ones()\n",
    "with plate('observed_data'):\n",
    "    pyro.sample('obs', dist.Bernoulli(f), obs=data)\n",
    "```"
   ]
  },
  {
   "cell_type": "markdown",
   "metadata": {},
   "source": [
    "#### subsamping"
   ]
  },
  {
   "cell_type": "markdown",
   "metadata": {},
   "source": [
    "subsample to run on large datasets...<br>\n",
    "simply put, we can just subsample in the plate...<br>\n",
    "```\n",
    "for i in pyro.plate(\"data_loop\", len(data), subsample_size=5):\n",
    "    pyro.sample(\"obs_{}\".format(i), dist.Bernoulli(f), obs=data[i])\n",
    "```\n",
    "which,by the way, does automatic scaling;<br>\n",
    "this can also be vectorized...<br>\n",
    "```\n",
    "with plate('observe_data', size=10, subsample_size=5) as ind:\n",
    "    pyro.sample('obs', dist.Bernoulli(f),\n",
    "                obs=data.index_select(0, ind))\n",
    "```\n",
    "However, if the data size is really big, theres a nonnegligible probability tat some dat apoints will never have been subsampled; you can use the `subsample` argument in `plate`"
   ]
  }
 ],
 "metadata": {
  "kernelspec": {
   "display_name": "Python 3",
   "language": "python",
   "name": "python3"
  },
  "language_info": {
   "codemirror_mode": {
    "name": "ipython",
    "version": 3
   },
   "file_extension": ".py",
   "mimetype": "text/x-python",
   "name": "python",
   "nbconvert_exporter": "python",
   "pygments_lexer": "ipython3",
   "version": "3.6.7"
  }
 },
 "nbformat": 4,
 "nbformat_minor": 4
}
