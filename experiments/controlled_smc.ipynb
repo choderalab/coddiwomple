{
 "cells": [
  {
   "cell_type": "markdown",
   "metadata": {},
   "source": [
    "# Controlled Sequental Monte Carlo Notes and Toys"
   ]
  },
  {
   "cell_type": "markdown",
   "metadata": {},
   "source": [
    "## Notation\n",
    "\n",
    "1. $(\\text{E}, \\mathcal{E})$ is an arbitrary measurable space\n",
    "2. all finite signed measures are $\\mathcal{S}(\\text{E})$ and all probability measures are $\\mathcal{P}(\\text{E}) \\subset \\mathcal{S}(\\text{E})$\n",
    "3. all Markov transition kernels are $\\mathcal{M}(\\text{E})$\n",
    "4. set of all real-valued, $\\mathcal{E}$-measurable, lower bounded, bounded, or continuous functions on $\\text{E}$ are $\\mathcal{L}(\\text{E})$,  $\\mathcal{B}(\\text{E})$, and $\\mathcal{C}(\\text{E})$\n",
    "5. given $\\gamma \\in \\mathcal{S}(\\text{E})$,  $M \\in \\mathcal{M}(\\text{E})$, define $(\\gamma \\otimes M)(dx, dy) = \\gamma(dx)M(x, dy)$ and $(M \\otimes \\gamma)(dx, dy) = M(y, dx)\\gamma(dy)$ as finite, signed measures on the product space $\\text{E} \\times \\text{E}$ equipped with the product $\\sigma$-algebra $\\mathcal{E} \\times \\mathcal{E}$.\n",
    "6. given $\\gamma \\in \\mathcal{S}(\\text{E})$,  $M \\in \\mathcal{M}(\\text{E})$, $\\varphi \\in \\mathcal{B}(\\text{E})$, $\\xi \\in \\mathcal{B}(\\text{E} \\times {E})$, define the integral $\\gamma(\\varphi) = \\int_{\\text{E}} \\varphi(x) \\gamma(dx)$, $\\gamma M(\\cdot) = \\int_{\\text{E}} \\gamma(dx) M(x, \\cdot) \\in \\mathcal{S}(\\text{E})$ and functions $M(\\varphi)(\\cdot) = \\int_{\\text{E}} \\varphi(y)M(\\cdot, dy) \\in \\mathcal{B}(\\text{E})$\n",
    "7. given $\\mu,  \\nu \\in \\mathcal{P}(\\text{E})$, write $\\mu, \\ll \\nu$ if $\\mu$ is continuous w.r.t $\\nu$ and we denote the corresponding Radon-Nikodym derivative as $d\\mu / d\\nu$; for clarity, $\\mu (\\text{X}) = \\int_{\\text{X}} f d \\nu$ for $\\text{X} \\in \\text{E}$ where  $\\mu$ is a p.d.f. w.r.t. the Lebesgue measure $\\nu$ and $f \\equiv d \\mu / d \\nu$"
   ]
  },
  {
   "cell_type": "markdown",
   "metadata": {},
   "source": [
    "## Feynman-Kac models"
   ]
  },
  {
   "cell_type": "markdown",
   "metadata": {},
   "source": [
    "a non-homogeneneous Markov chain of length $T + 1 \\in \\mathbb{N}$ lives on a measurable space $(\\text{X}, \\mathcal{X})$ with an initial distribution $\\mu \\in \\mathcal{P}(\\text{X})$, a bunch of Markov transition kernels $M_t \\in \\mathcal{M}(\\text{X})$ for $t \\in [1:T]$. The law of the Markov chain on a path space $\\text{X}^{T+1}$ is \n",
    "$$\n",
    "\\mathbb{Q}(dx_{0:T}) = \\mu(dx_0) \\prod_{t=1}^T M_t(x_{t-1}, x_t)\n",
    "$$\n",
    "with expectations that look like $\\mathbb{E}_{\\mathbb{Q}}$ and conditional expectations that look like $\\mathbb{E}^{t,x}_{\\mathbb{Q}}$ on the event $X_t = x \\in \\text{X}$. <br>\n",
    "\n",
    "If we have a sequence of strictly positive functions $G_0 \\in \\mathcal{B}(\\text{X})$ and $G_t \\in \\mathcal{B}(\\text{X} \\times \\text{X})$ for $t \\in [1:T]$, then we can define a Feynman-Kac path measure w.r.t. the Markov chain like\n",
    "$$\n",
    "\\mathbb{P}(dx_{0:T}) = Z^{-1} G_0(x_0) \\prod_{t=1}^T G_t(x_{t-1}, x_t) \\mathbb{Q}(dx_{0:T})\n",
    "$$\n",
    "where $Z \\equiv \\mathbb{E}_{\\mathbb{Q}} \\left[ G_0(x_0) \\prod_{t=1}^T G_t(x_{t-1}, x_t) \\right]$ is the normalizing constant. $\\mathbb{P}(dx_{0:T})$ is like the probability measure obtained if we were to 'repartition' probability density of $\\mathbb{Q}(dx_{0:T})$ with 'potential' functions $G_{t | t \\in [0:T]}$. <br>\n",
    "\n",
    "We can also define a sequence of positive signed measures $\\gamma_t \\in \\mathcal{S}(\\text{X})$ for $t \\in [0:T]$ by \n",
    "$$\n",
    "\\gamma_t(\\varphi) = \\mathbb{E}_{\\mathbb{Q}} \\left[\n",
    "\\varphi(X_t) G_0(X_0) \\prod_{s=1}^t G_s(X_{s-1}, X_s) \\right]\n",
    "$$\n",
    "with $\\eta_t{\\varphi} = \\gamma_t(\\varphi)/Z_t$ $(\\text{i.e.} \\: \\eta_t \\in \\mathcal{P}( \\text{X}))$ for $\\varphi_t \\in \\mathcal{B}(\\text{X})$, $t \\in \\left[ 0:T \\right]$ such that $Z_t \\equiv \\gamma_t (\\text{X})$. We'll also define a terminal time marginal as $\\eta_T$ and $Z = Z_T$"
   ]
  },
  {
   "cell_type": "markdown",
   "metadata": {},
   "source": [
    "### State space models\n",
    "In the spirit of the paper and the potential application to some cool HMM stuff, I'll introduce state space models in the context of Feynman-Kac path measures. <br>\n",
    "\n",
    "If we have an $\\text{X}$-valued hidden Markov Chain $(X_t)_{t \\in [0:T]}$ with a law (on the measure space defined above) given by \n",
    "$$\n",
    "\\mathbb{H}(dx_{0:T}) = \\nu (dx_0) \\prod_{t=1}^T f_t(x_{t-1}, dx_t)\n",
    "$$\n",
    "where $\\nu \\in \\mathcal{P}(\\text{X})$ and $f_t \\in \\mathcal{M}(\\text{X})$. The observations $Y_{t | t \\in [0:T]}$ are conditionally independent given $X_{t | t \\in [0:T]}$ and have a strictly positive density $g_t(X_t, \\cdot)$ with $g_t \\in \\mathcal{B}(\\text{X} \\times \\text{Y})$ for $t \\in [0:T]$.  The marginal likelihood of $y_{0:T} \\in \\text{Y}^{T+1}$ is given by \n",
    "$$\n",
    "Z(y_{0:T}) = \\mathbb{E}_{\\mathbb{H}} \\left[ \\prod_{t=0}^T g_t(X_t, y_t) \\right]\n",
    "$$.\n",
    "Likewise, the conditional distribution of $X_{0:T} | Y_{0:T}$ is \n",
    "$$\n",
    "\\mathbb{P}(dx_{0:T} | y_{0:T}) = Z(y_{0:T})^{-1} \\prod_{t=0}^T g_t(x_t, y_t) \n",
    "$$\n",
    "Now, here's the connection with the Feynman-Kac measure: if we set $\\mathbb{Q}$ equal to $\\mathbb{H}$, we can recover the path metric so long as we let $G_t(x_{t-1}, x_t) = g_t(x_t, y_t)$ for all $t \\in [0:T]$; showing this is trivial. This setting is often called a bootstrap particle filter (BPF). I will omit a discussion on the 'fully adapted' auxiliary particle filter (APF) since it is not immediately obvious how to adapt this to the static models that I am primarily interested in."
   ]
  },
  {
   "cell_type": "markdown",
   "metadata": {},
   "source": [
    "### Static models\n",
    "The motivation for static models usually involves sampling from a target distribution (i.e. $\\eta(dx) = Z^{-1} \\gamma(dx) \\in \\mathcal{P}(\\text{X})$ ) and/or estimating the normalization constant $Z = \\gamma(\\text{X})$; to make this a non-homogeneous Markov process, define a sequence of probability measures ($ \\eta_{t | t \\in [0:T]}$) that bridges a simple distribution $\\eta_0 = \\mu$ to a target $\\eta_T = \\eta$ such that $\\eta \\ll \\mu$. <br>\n",
    "A common way to make a sequence of bridges is to define $\\gamma_t(dx) = \\mu(dx) \\left( \\frac{d \\gamma}{d \\mu} (x) \\right)^{\\lambda_t}$ where $\\eta_t(dx) \\equiv \\gamma_t(dx)/Z_t$, $\\lambda_{t} \\in [0,1]$, $\\lambda_0=0, \\lambda_T = 1$ for $t \\in [0:T]$. To define $\\mathbb{Q}$, we define a bunch of 'forward' kernels $M_t \\in \\mathcal{M}(\\text{X})$ where $\\eta_{t-1}M_t$ approximates $\\eta_t$. It is expected that the distribution $\\hat{\\eta} = \\eta_0 M_1 ... M_T$ will be close to $\\eta_T = \\eta$, but importance sampling cannot be employed to correct this discrepancy since $\\hat{\\eta}$ is usually intractable.<br>\n",
    "Instead, we can perform importance sampling on the path space $(\\text{X}^{T+1}, \\mathcal{X}^{T+1})$ be creating a distribution of the form\n",
    "$$\n",
    "\\mathbb{P}(dx_{0:T}) = \\eta(dx_T) \\prod_{t=1}^{T} L_{t-1}(x_t, x_{t-1})\n",
    "$$\n",
    "where $L_t \\in \\mathcal{M}(\\text{X})$ is a sequence of auxiliary 'backward' kernels. If $L_{t-1} \\otimes \\gamma_t \\ll \\gamma_{t-1} \\otimes M_t$ that satisfy the Radon-Nikodym criteria, then the Feynman-Kac path measure can be recovered by defining $G_0(x_0) = 1$ and $G_t(x_{t-1}, x_t) = \\frac{d\\left( L_{t-1} \\otimes \\gamma_t \\right)}{d \\left( \\gamma_{t-1} \\otimes M_t \\right)}(x_{t-1}, x_t)$. This is also easy to show.<br>\n",
    "\n",
    "Most interestingly, however, if we use Markov Chain Monte Carlo transition kernels $M_t$ that is $\\eta_t$-invariant, and $L_{t-1}$ as its time reversal, (i.e. $L_{t-1} \\otimes \\eta_t = \\eta_t \\otimes M_t$), then we recover $G_0(x_0) = 1$ and $G_t(x_{t-1}) = \\frac{\\gamma_t(x_{t-1})}{\\gamma_{t-1}(x_{t-1})}$, which is precisely the sequential sampler proposed in Radford Neal's _Annealed Importance Sampling_. <br>\n",
    "`TODO: express this derivation explicitly in terms of the Feynman-Kac measure`"
   ]
  },
  {
   "cell_type": "markdown",
   "metadata": {},
   "source": [
    "## Twisted Feynman-Kac Model\n",
    "__Definition 1.__ Let's define a sequence of functions $\\psi = (\\psi)_{t \\in [0:T]}$ as an admissible policy if the functions are positive and satisfy $\\psi_0 \\in \\mathcal{B}(\\text{X})$, $\\psi_t \\in \\mathcal{B}(\\text{X} \\times \\text{X})$; the set of all admissible policies is $\\Psi$. <br>\n",
    "__Definition 2.__ Given a policy $\\psi \\in \\Psi$ and a path measure $\\mathbb{F} \\in \\mathcal{P}(\\text{X}^{T+1})$ of the form $\\mathcal{F}(dx_{0:T}) = \\nu(dx_0) \\prod_{t=1}^T K_t(x_{t-1}, dx_t)$ for some $\\nu \\in \\mathcal{P}(\\text{X})$, $K_t \\in \\mathcal{M}(\\text{X})$, the $\\psi$-twisted path measure is $F^{\\psi}(dx_{0:T}) = \\nu^{\\psi}(dx_0) \\prod_{t=1}^{T}K_t^{\\psi}(x_{t-1}, dx_t)$ where $\\nu^{\\psi}(dx_0) \\equiv \\frac{\\nu(dx_0) \\psi_0(x_0)}{\\nu(\\psi_0)}$ and $K_t^{\\psi}(x_{t-1}, dx_t) = \\frac{K_t(x_{t-1}, dx_t) \\psi_t(x_{t-1}, x_t)}{K_t(\\psi_t)(x_{t-1})}$. The Feynman-Kac measure can be rewritten as \n",
    "$$\n",
    "\\mathbb{P} (dx_{0:T}) = Z^{-1} G_0^{\\psi}(x_0) \\prod_{t=1}^{T} G_t^{\\psi} (x_{t-1}, x_t) \\mathbb{Q}^{\\psi} (dx_{0:T})\n",
    "$$\n",
    "with the twisted potentials given by\n",
    "$$\n",
    "G_0^{\\psi}(x_0) \\equiv \\frac{\\mu(\\psi_0) G_0(x_0) M_1(\\psi_1)(x_0)} {\\psi_0(x_0)}\n",
    "$$\n",
    "$$\n",
    "G_t^{\\psi}(x_{t-1}, x_t) \\equiv \\frac{G_t(x_{t-1}, x_t)M_{t+1}(\\psi_{t+1})(x_t)}{\\psi_t({x_{t-1}, x_t})}\n",
    "$$\n",
    "$$\n",
    "G_T^{\\psi}(x_{T-1}, x_T) \\equiv \\frac{G_T(x_{T-1}, x_T)}{\\psi_T(x_{T-1}, x_T)}\n",
    "$$\n",
    "and we can recover $Z = Z_{T}^{\\psi} = \\mu^{\\psi}(G_0^{\\psi}) \\prod_{t=1}^{T} \\eta_{t-1}^{\\psi}(M_t^{\\psi}(G_t^{\\psi}))$.<br>\n",
    "\n",
    "For static models, \n",
    "$$\n",
    "G_0^{\\psi}(x_0) = \\frac{d \\eta_0^{\\psi}}{d \\mu^{\\psi}}(x_0)\n",
    "$$\n",
    "and \n",
    "$$\n",
    "G_t^{\\psi}\n",
    "$$\n"
   ]
  },
  {
   "cell_type": "code",
   "execution_count": 1,
   "metadata": {},
   "outputs": [],
   "source": [
    "from autograd import numpy as np\n",
    "from autograd import grad\n",
    "from scipy.optimize import minimize"
   ]
  },
  {
   "cell_type": "code",
   "execution_count": null,
   "metadata": {},
   "outputs": [],
   "source": [
    "class Propagator()"
   ]
  }
 ],
 "metadata": {
  "kernelspec": {
   "display_name": "Python 3",
   "language": "python",
   "name": "python3"
  },
  "language_info": {
   "codemirror_mode": {
    "name": "ipython",
    "version": 3
   },
   "file_extension": ".py",
   "mimetype": "text/x-python",
   "name": "python",
   "nbconvert_exporter": "python",
   "pygments_lexer": "ipython3",
   "version": "3.6.7"
  }
 },
 "nbformat": 4,
 "nbformat_minor": 4
}
